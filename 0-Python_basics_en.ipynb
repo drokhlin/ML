{
 "cells": [
  {
   "cell_type": "markdown",
   "metadata": {},
   "source": [
    "Python deals with *objects*, having a *type*, or, equivalently, a *class*. An object is said to be an *instance* of the class.\n",
    "\n",
    "*Data type is a set of values and operations on these values (IEEE Std 1320.2-1998).* \n",
    "\n",
    "One can imagine that *type* is a set whose elements have some prescribed properties. Objects is a point in such set.\n",
    "\n",
    "An object can be called by the name of a *variable* (a label of the object), connected with it.\n",
    "\n",
    "## Primitive data types\n",
    "An object of the **logical type** ```bool``` can take the values ```True``` or false ```False```:"
   ]
  },
  {
   "cell_type": "code",
   "execution_count": null,
   "metadata": {
    "scrolled": true
   },
   "outputs": [],
   "source": [
    "x = 2+2 == 5   \n",
    "print(type(x),x)"
   ]
  },
  {
   "cell_type": "markdown",
   "metadata": {},
   "source": [
    "Python calculates the value on the right-hand side of the equality ```=``` and assigns the name ```x``` to the result. \n",
    "We print the type (class) of the object with the name ```x``` and its content."
   ]
  },
  {
   "cell_type": "markdown",
   "metadata": {},
   "source": [
    "The most common numerical data types are: **integer** ```int``` and **real** ```float```: "
   ]
  },
  {
   "cell_type": "code",
   "execution_count": null,
   "metadata": {},
   "outputs": [],
   "source": [
    "x, y = 1, 2\n",
    "z=1.5\n",
    "print('x:',x,type(x)) \n",
    "print('x/y:',x/y,type(x/y))\n",
    "print('x*z:', x*z, type(x*z))"
   ]
  },
  {
   "cell_type": "markdown",
   "metadata": {},
   "source": [
    "*Data type transformation was executed automatically.*"
   ]
  },
  {
   "cell_type": "markdown",
   "metadata": {},
   "source": [
    "The **string** type ```str``` has already appeared:"
   ]
  },
  {
   "cell_type": "code",
   "execution_count": null,
   "metadata": {},
   "outputs": [],
   "source": [
    "x = 'bear'\n",
    "y = 'big'\n",
    "print(y+x) "
   ]
  },
  {
   "cell_type": "markdown",
   "metadata": {},
   "source": [
    "The summation, applies to the strings means concatenation. The strings can be indexed:"
   ]
  },
  {
   "cell_type": "code",
   "execution_count": null,
   "metadata": {},
   "outputs": [],
   "source": [
    "print(x[0])\n",
    "print(x[-1])\n",
    "print(x[1:3])\n",
    "print(x[0:5:2])\n",
    "print(x[::-1])"
   ]
  },
  {
   "cell_type": "markdown",
   "metadata": {},
   "source": [
    "But they cannot be changed:"
   ]
  },
  {
   "cell_type": "code",
   "execution_count": null,
   "metadata": {},
   "outputs": [],
   "source": [
    "x[0]='c'"
   ]
  },
  {
   "cell_type": "markdown",
   "metadata": {},
   "source": [
    "Such objects are called *immutable*."
   ]
  },
  {
   "cell_type": "markdown",
   "metadata": {},
   "source": [
    "There exists only one object `None` of the type **NoneType**."
   ]
  },
  {
   "cell_type": "code",
   "execution_count": null,
   "metadata": {},
   "outputs": [],
   "source": [
    "type(None)"
   ]
  },
  {
   "cell_type": "markdown",
   "metadata": {},
   "source": [
    "Each type assumes availability of several *methods* (= functions):"
   ]
  },
  {
   "cell_type": "markdown",
   "metadata": {},
   "source": [
    "## Containers"
   ]
  },
  {
   "cell_type": "markdown",
   "metadata": {},
   "source": [
    "Such objects contain other objects. \n",
    "An object of the **list** type is an ordered mutable set of elements of arbitrary types:"
   ]
  },
  {
   "cell_type": "code",
   "execution_count": null,
   "metadata": {},
   "outputs": [],
   "source": [
    "x = [1,2,3.5,'big','bear','s']\n",
    "print(type(x))\n",
    "print(x[1],x[3]+' '+x[4]+x[5])\n",
    "x[3]='small'\n",
    "print(x[1],x[3]+' '+x[4]+x[5])"
   ]
  },
  {
   "cell_type": "markdown",
   "metadata": {},
   "source": [
    "*Similar to strings, lists and other containers are numbered from ```0```.*"
   ]
  },
  {
   "cell_type": "markdown",
   "metadata": {},
   "source": [
    "In contrast to a list, a **tuple** is immutable (is protected from changes):"
   ]
  },
  {
   "cell_type": "code",
   "execution_count": null,
   "metadata": {},
   "outputs": [],
   "source": [
    "x = (1,2,3.5,'big','bear','s')\n",
    "x[2]='small'"
   ]
  },
  {
   "cell_type": "markdown",
   "metadata": {},
   "source": [
    "The immutability property affects the behavior of an object under assingments:"
   ]
  },
  {
   "cell_type": "code",
   "execution_count": null,
   "metadata": {},
   "outputs": [],
   "source": [
    "a=[1,1]\n",
    "b=a\n",
    "a[1]=10\n",
    "print(b)"
   ]
  },
  {
   "cell_type": "markdown",
   "metadata": {},
   "source": [
    "The value of ```b``` has changed, altough there were no explicit assignmnets. The point is that the object with the name ```b``` has changed. In a similar situation an object of a numerical type does not changes:"
   ]
  },
  {
   "cell_type": "code",
   "execution_count": null,
   "metadata": {},
   "outputs": [],
   "source": [
    "a=1\n",
    "b=a\n",
    "a=10\n",
    "print(b)"
   ]
  },
  {
   "cell_type": "markdown",
   "metadata": {},
   "source": [
    "**Dictionaries** look like lists, but its elements are accesed by the key:"
   ]
  },
  {
   "cell_type": "code",
   "execution_count": null,
   "metadata": {},
   "outputs": [],
   "source": [
    "x = {'Russia':['Moscow',11.5,2011],'United Kingdom':['London',8.6,2015],'France':['Paris',2.2,2014]}\n",
    "print(type(x))\n",
    "print('Population of',x['Russia'][0],'in',x['Russia'][2],\n",
    "'according to the official data was',x['Russia'][1],'millions')"
   ]
  },
  {
   "cell_type": "code",
   "execution_count": null,
   "metadata": {},
   "outputs": [],
   "source": [
    "x.keys()"
   ]
  },
  {
   "cell_type": "code",
   "execution_count": null,
   "metadata": {},
   "outputs": [],
   "source": [
    "x.values()"
   ]
  },
  {
   "cell_type": "markdown",
   "metadata": {},
   "source": [
    "A **set** can contain only different elements:"
   ]
  },
  {
   "cell_type": "code",
   "execution_count": null,
   "metadata": {},
   "outputs": [],
   "source": [
    "x = {1,2,2,3.5,'bear'}\n",
    "print(type(x))\n",
    "print(x)"
   ]
  },
  {
   "cell_type": "markdown",
   "metadata": {},
   "source": [
    "A duplicated item was automatically deleted"
   ]
  },
  {
   "cell_type": "code",
   "execution_count": null,
   "metadata": {},
   "outputs": [],
   "source": [
    "x.add(8)\n",
    "print(x)\n",
    "x.discard('bear')\n",
    "print(x)\n",
    "y={5,8}\n",
    "print(x&y)\n",
    "print(x.union(y))"
   ]
  },
  {
   "cell_type": "markdown",
   "metadata": {},
   "source": [
    "## Conditions and loops"
   ]
  },
  {
   "cell_type": "code",
   "execution_count": null,
   "metadata": {},
   "outputs": [],
   "source": [
    "x=5\n",
    "if x<4:\n",
    "    print('this instruction is not executed')\n",
    "y=6\n",
    "if y>=4: \n",
    "    print('y is really greater than 4') \n",
    "    print('this instruction is also executed, since it is in the idented block')     \n",
    "else:  \n",
    "    print('this instruction is not executed')\n",
    "    print('similarly for this one')"
   ]
  },
  {
   "cell_type": "markdown",
   "metadata": {},
   "source": [
    "Thus, Python uses indentation (of 4 spaces) to define blocks. The block header is ended by the colon. Without identation in the last line, the related instruction will be executed, since the ```else``` block will be finished earlier:"
   ]
  },
  {
   "cell_type": "code",
   "execution_count": null,
   "metadata": {},
   "outputs": [],
   "source": [
    "y=6\n",
    "if y>=4: \n",
    "    print('y is really greater than 4') \n",
    "    print('this instruction is also executed, since it is in the idented block')     \n",
    "else:  \n",
    "    print('this instruction is not executed')\n",
    "print('now this instruction is not in the else block')"
   ]
  },
  {
   "cell_type": "markdown",
   "metadata": {},
   "source": [
    "After ```if``` there can be arbitrary many ```elif``` blocks. If the condition of ```if``` is not satisfied, then the conditions of ```elif``` blocks will be checked sequentially until one of them is satisfied:"
   ]
  },
  {
   "cell_type": "code",
   "execution_count": null,
   "metadata": {},
   "outputs": [],
   "source": [
    "y=6\n",
    "if y<=4: \n",
    "    print('this instruction is not executed')\n",
    "elif 4<y<=5:\n",
    "    print('this instruction is not executed')\n",
    "elif 5<y<=6:\n",
    "    print('this instruction is executed')\n",
    "elif 6<=y:\n",
    "    print('this condition will not be checked')     "
   ]
  },
  {
   "cell_type": "markdown",
   "metadata": {},
   "source": [
    "Instructions of ```while```block will be executed *while* its condition is satisfied:"
   ]
  },
  {
   "cell_type": "code",
   "execution_count": null,
   "metadata": {},
   "outputs": [],
   "source": [
    "i=0\n",
    "while i<3:\n",
    "    i=i+1\n",
    "    print(i)\n",
    "print('This instruction is not related to while loop')"
   ]
  },
  {
   "cell_type": "markdown",
   "metadata": {},
   "source": [
    "```for``` loop can iterate over an *iterable* object: list, tuple, dictionary, etc. For example,"
   ]
  },
  {
   "cell_type": "code",
   "execution_count": null,
   "metadata": {},
   "outputs": [],
   "source": [
    "x=['w','o','r','d']\n",
    "z=''\n",
    "for i in x:\n",
    "    z=z+i\n",
    "    print(z)    "
   ]
  },
  {
   "cell_type": "markdown",
   "metadata": {},
   "source": [
    "*Here the letters, taken from the list ```x```, are sequentially added to the empty string.*"
   ]
  },
  {
   "cell_type": "markdown",
   "metadata": {},
   "source": [
    "The string type is also iterable:"
   ]
  },
  {
   "cell_type": "code",
   "execution_count": null,
   "metadata": {},
   "outputs": [],
   "source": [
    "x='word'\n",
    "z=''\n",
    "for i in x:\n",
    "    z=z+i\n",
    "    print(z) "
   ]
  },
  {
   "cell_type": "code",
   "execution_count": null,
   "metadata": {},
   "outputs": [],
   "source": [
    "print(range(10),range(2,5))"
   ]
  },
  {
   "cell_type": "code",
   "execution_count": null,
   "metadata": {},
   "outputs": [],
   "source": [
    "print(range(10)[4],range(2,5)[1])"
   ]
  },
  {
   "cell_type": "code",
   "execution_count": null,
   "metadata": {},
   "outputs": [],
   "source": [
    "for i in range(5):\n",
    "    print(i)"
   ]
  },
  {
   "cell_type": "markdown",
   "metadata": {},
   "source": [
    "## Dynamical typization\n",
    "Python supports the dynamical typization:"
   ]
  },
  {
   "cell_type": "code",
   "execution_count": null,
   "metadata": {},
   "outputs": [],
   "source": [
    "x='word'\n",
    "print(x)\n",
    "x=25\n",
    "print(x)\n",
    "x={2,5}\n",
    "print(2 in x)"
   ]
  },
  {
   "cell_type": "markdown",
   "metadata": {},
   "source": [
    "## Functions\n",
    "Function is an object, recieving arguments and returning a value. Python has a set of built-in functions, e.g., ```max, abs, round, type, print```: "
   ]
  },
  {
   "cell_type": "code",
   "execution_count": 7,
   "metadata": {},
   "outputs": [
    {
     "name": "stdout",
     "output_type": "stream",
     "text": [
      "1.5 10\n"
     ]
    }
   ],
   "source": [
    "y=-10\n",
    "z=1.5\n",
    "x1=max(y,z)\n",
    "x2=abs(y)\n",
    "print(x1,x2)"
   ]
  },
  {
   "cell_type": "code",
   "execution_count": 8,
   "metadata": {},
   "outputs": [
    {
     "name": "stdout",
     "output_type": "stream",
     "text": [
      "2 <class 'int'>\n"
     ]
    }
   ],
   "source": [
    "x3=round(z)\n",
    "print(x3,type(x3))"
   ]
  },
  {
   "cell_type": "markdown",
   "metadata": {},
   "source": [
    "A user defined funcion begins from the word ```def``` followed by the function name and a set of parameters in parentheses. The body of a function should has the standard indentation. Usually it contains the keyword ```return```, interrupting the function. After ```return``` the returned value is indicated. "
   ]
  },
  {
   "cell_type": "code",
   "execution_count": 9,
   "metadata": {},
   "outputs": [
    {
     "name": "stdout",
     "output_type": "stream",
     "text": [
      "-1 0 1\n"
     ]
    }
   ],
   "source": [
    "def sgn(x):\n",
    "    if x < 0:\n",
    "        return -1\n",
    "    elif x==0:\n",
    "        return 0\n",
    "    else:\n",
    "        return 1\n",
    "\n",
    "print(sgn(-10),sgn(0),sgn(5))"
   ]
  },
  {
   "cell_type": "markdown",
   "metadata": {},
   "source": [
    "Python also allows anonymous *lambda-functions*:"
   ]
  },
  {
   "cell_type": "code",
   "execution_count": 10,
   "metadata": {},
   "outputs": [
    {
     "data": {
      "text/plain": [
       "5"
      ]
     },
     "execution_count": 10,
     "metadata": {},
     "output_type": "execute_result"
    }
   ],
   "source": [
    "f = lambda x,y: x+y\n",
    "f(2,3)"
   ]
  },
  {
   "cell_type": "markdown",
   "metadata": {},
   "source": [
    "Here the anonymous lambda-function gets the name ```f```. This definition is equivalent to the following:"
   ]
  },
  {
   "cell_type": "code",
   "execution_count": 11,
   "metadata": {},
   "outputs": [
    {
     "data": {
      "text/plain": [
       "5"
      ]
     },
     "execution_count": 11,
     "metadata": {},
     "output_type": "execute_result"
    }
   ],
   "source": [
    "def f(x,y):\n",
    "    return x+y\n",
    "f(2,3)"
   ]
  },
  {
   "cell_type": "markdown",
   "metadata": {},
   "source": [
    "Arguments of a function can be either *positional* or *keyword* (`key=the value`):"
   ]
  },
  {
   "cell_type": "code",
   "execution_count": 12,
   "metadata": {},
   "outputs": [
    {
     "name": "stdout",
     "output_type": "stream",
     "text": [
      "5\n",
      "5\n",
      "12\n"
     ]
    }
   ],
   "source": [
    "def f(x,y=7,z=5):\n",
    "    return x+y-z   \n",
    "print(f(10,y=5,z=10))\n",
    "print(f(10,z=10,y=5))\n",
    "print(f(10)) "
   ]
  },
  {
   "cell_type": "markdown",
   "metadata": {},
   "source": [
    "Keyword arguments are ```y, z``` passed by their names. The order is not important.  If no such argument is passed, the function will take the default value, given in the definition. It is possible to pass keyword arguments without name. In this case the order is important:"
   ]
  },
  {
   "cell_type": "code",
   "execution_count": 13,
   "metadata": {},
   "outputs": [
    {
     "name": "stdout",
     "output_type": "stream",
     "text": [
      "1 -1\n"
     ]
    }
   ],
   "source": [
    "print(f(0,3,2),f(0,2,3))"
   ]
  },
  {
   "cell_type": "markdown",
   "metadata": {},
   "source": [
    "The presence of a positional argument is mandatory:"
   ]
  },
  {
   "cell_type": "code",
   "execution_count": 14,
   "metadata": {},
   "outputs": [
    {
     "ename": "TypeError",
     "evalue": "f() missing 1 required positional argument: 'x'",
     "output_type": "error",
     "traceback": [
      "\u001b[1;31m---------------------------------------------------------------------------\u001b[0m",
      "\u001b[1;31mTypeError\u001b[0m                                 Traceback (most recent call last)",
      "\u001b[1;32m<ipython-input-14-3356833a7688>\u001b[0m in \u001b[0;36m<module>\u001b[1;34m\u001b[0m\n\u001b[1;32m----> 1\u001b[1;33m \u001b[0mprint\u001b[0m\u001b[1;33m(\u001b[0m\u001b[0mf\u001b[0m\u001b[1;33m(\u001b[0m\u001b[0my\u001b[0m\u001b[1;33m=\u001b[0m\u001b[1;36m5\u001b[0m\u001b[1;33m,\u001b[0m\u001b[0mz\u001b[0m\u001b[1;33m=\u001b[0m\u001b[1;36m10\u001b[0m\u001b[1;33m)\u001b[0m\u001b[1;33m)\u001b[0m\u001b[1;33m\u001b[0m\u001b[1;33m\u001b[0m\u001b[0m\n\u001b[0m",
      "\u001b[1;31mTypeError\u001b[0m: f() missing 1 required positional argument: 'x'"
     ]
    }
   ],
   "source": [
    "print(f(y=5,z=10))"
   ]
  },
  {
   "cell_type": "markdown",
   "metadata": {},
   "source": [
    "If ```return``` is absent, the function returns ```None```. For example, the built-in function```print``` is of this sort: "
   ]
  },
  {
   "cell_type": "code",
   "execution_count": 15,
   "metadata": {},
   "outputs": [
    {
     "name": "stdout",
     "output_type": "stream",
     "text": [
      "Text\n"
     ]
    },
    {
     "data": {
      "text/plain": [
       "True"
      ]
     },
     "execution_count": 15,
     "metadata": {},
     "output_type": "execute_result"
    }
   ],
   "source": [
    "pr=print('Text')\n",
    "pr==None"
   ]
  },
  {
   "cell_type": "markdown",
   "metadata": {},
   "source": [
    "**Functions with arbitrary number of positional arguments**"
   ]
  },
  {
   "cell_type": "code",
   "execution_count": null,
   "metadata": {},
   "outputs": [],
   "source": [
    "def my_sum(*args):\n",
    "# The function considers args as a tuple    \n",
    "    s=0\n",
    "    for x in args:\n",
    "        s=s+x\n",
    "    return(s)\n",
    "print(my_sum(10,-9,7))        "
   ]
  },
  {
   "cell_type": "code",
   "execution_count": 16,
   "metadata": {},
   "outputs": [
    {
     "ename": "NameError",
     "evalue": "name 'my_sum' is not defined",
     "output_type": "error",
     "traceback": [
      "\u001b[1;31m---------------------------------------------------------------------------\u001b[0m",
      "\u001b[1;31mNameError\u001b[0m                                 Traceback (most recent call last)",
      "\u001b[1;32m<ipython-input-16-b1920a2b537f>\u001b[0m in \u001b[0;36m<module>\u001b[1;34m\u001b[0m\n\u001b[1;32m----> 1\u001b[1;33m \u001b[0mmy_sum\u001b[0m\u001b[1;33m(\u001b[0m\u001b[1;33m)\u001b[0m\u001b[1;33m\u001b[0m\u001b[1;33m\u001b[0m\u001b[0m\n\u001b[0m",
      "\u001b[1;31mNameError\u001b[0m: name 'my_sum' is not defined"
     ]
    }
   ],
   "source": [
    "my_sum()"
   ]
  },
  {
   "cell_type": "code",
   "execution_count": 17,
   "metadata": {},
   "outputs": [],
   "source": [
    "def my_sum(a,*args):\n",
    "    s=a\n",
    "    for x in args:\n",
    "        s=s+x\n",
    "    return(s)"
   ]
  },
  {
   "cell_type": "code",
   "execution_count": 18,
   "metadata": {},
   "outputs": [
    {
     "ename": "TypeError",
     "evalue": "my_sum() missing 1 required positional argument: 'a'",
     "output_type": "error",
     "traceback": [
      "\u001b[1;31m---------------------------------------------------------------------------\u001b[0m",
      "\u001b[1;31mTypeError\u001b[0m                                 Traceback (most recent call last)",
      "\u001b[1;32m<ipython-input-18-b1920a2b537f>\u001b[0m in \u001b[0;36m<module>\u001b[1;34m\u001b[0m\n\u001b[1;32m----> 1\u001b[1;33m \u001b[0mmy_sum\u001b[0m\u001b[1;33m(\u001b[0m\u001b[1;33m)\u001b[0m\u001b[1;33m\u001b[0m\u001b[1;33m\u001b[0m\u001b[0m\n\u001b[0m",
      "\u001b[1;31mTypeError\u001b[0m: my_sum() missing 1 required positional argument: 'a'"
     ]
    }
   ],
   "source": [
    "my_sum()"
   ]
  },
  {
   "cell_type": "code",
   "execution_count": 19,
   "metadata": {},
   "outputs": [
    {
     "data": {
      "text/plain": [
       "5"
      ]
     },
     "execution_count": 19,
     "metadata": {},
     "output_type": "execute_result"
    }
   ],
   "source": [
    "my_sum(2,3)"
   ]
  },
  {
   "cell_type": "markdown",
   "metadata": {},
   "source": [
    "A collection can be unpacked:"
   ]
  },
  {
   "cell_type": "code",
   "execution_count": 20,
   "metadata": {},
   "outputs": [
    {
     "name": "stdout",
     "output_type": "stream",
     "text": [
      "1 2 5\n"
     ]
    }
   ],
   "source": [
    "x={1,2,5}\n",
    "print(*x)"
   ]
  },
  {
   "cell_type": "code",
   "execution_count": 21,
   "metadata": {},
   "outputs": [
    {
     "ename": "SyntaxError",
     "evalue": "can't use starred expression here (<ipython-input-21-cf76eabc8cba>, line 4)",
     "output_type": "error",
     "traceback": [
      "\u001b[1;36m  File \u001b[1;32m\"<ipython-input-21-cf76eabc8cba>\"\u001b[1;36m, line \u001b[1;32m4\u001b[0m\n\u001b[1;31mSyntaxError\u001b[0m\u001b[1;31m:\u001b[0m can't use starred expression here\n"
     ]
    }
   ],
   "source": [
    "z=*x"
   ]
  },
  {
   "cell_type": "code",
   "execution_count": 22,
   "metadata": {},
   "outputs": [
    {
     "data": {
      "text/plain": [
       "8"
      ]
     },
     "execution_count": 22,
     "metadata": {},
     "output_type": "execute_result"
    }
   ],
   "source": [
    "my_sum(*x)"
   ]
  },
  {
   "cell_type": "markdown",
   "metadata": {},
   "source": [
    "A function perceives `x` as a tuple. Note that the order of elements after unpacking can be arbitrary."
   ]
  },
  {
   "cell_type": "markdown",
   "metadata": {},
   "source": [
    "**Functions with arbitrary number of keyword arguments**"
   ]
  },
  {
   "cell_type": "code",
   "execution_count": 23,
   "metadata": {},
   "outputs": [
    {
     "data": {
      "text/plain": [
       "'bigbear'"
      ]
     },
     "execution_count": 23,
     "metadata": {},
     "output_type": "execute_result"
    }
   ],
   "source": [
    "def concat_words(**kwargs):\n",
    "# The function considers kwargs as a dictionary    \n",
    "    w=''\n",
    "    for x in kwargs.values():\n",
    "        w=w+x\n",
    "    return(w)\n",
    "concat_words(a='big',b='bear')"
   ]
  },
  {
   "cell_type": "code",
   "execution_count": 26,
   "metadata": {},
   "outputs": [
    {
     "name": "stdout",
     "output_type": "stream",
     "text": [
      "(8, 3, 5) : tuple\n",
      "{'red': 5, 'black': 8} : dictionary\n"
     ]
    },
    {
     "data": {
      "text/plain": [
       "(8, 5)"
      ]
     },
     "execution_count": 26,
     "metadata": {},
     "output_type": "execute_result"
    }
   ],
   "source": [
    "def red(*args,**kwargs):\n",
    "    print(args,': tuple')\n",
    "    print(kwargs,': dictionary')\n",
    "    if 'red' in kwargs:\n",
    "        return(args[0], kwargs['red'])\n",
    "    else:\n",
    "        print('No red color')\n",
    "red(8,3,5,red=5,black=8)"
   ]
  },
  {
   "cell_type": "code",
   "execution_count": 27,
   "metadata": {},
   "outputs": [
    {
     "name": "stdout",
     "output_type": "stream",
     "text": [
      "(8, 3, 5) : tuple\n",
      "{'black': 8} : dictionary\n",
      "No red color\n"
     ]
    }
   ],
   "source": [
    "red(8,3,5,black=8)"
   ]
  },
  {
   "cell_type": "code",
   "execution_count": 28,
   "metadata": {},
   "outputs": [
    {
     "name": "stdout",
     "output_type": "stream",
     "text": [
      "(8, 3, 5, 8) : tuple\n",
      "{} : dictionary\n",
      "No red color\n"
     ]
    }
   ],
   "source": [
    "red(8,3,5,8)"
   ]
  },
  {
   "cell_type": "markdown",
   "metadata": {},
   "source": [
    "## Classes, methods and attributes\n",
    "In the object-oriented programming, which Python adheres to, in the *objects* the data and functions are brought together. The struture of the object is described in a *class*. It indicates what type of variables can be used and by what functions they can be processed. The variables are called *attributes*, and the functions are called *methods*. An object is an instance of a class."
   ]
  },
  {
   "cell_type": "code",
   "execution_count": 29,
   "metadata": {},
   "outputs": [],
   "source": [
    "class smartphone:\n",
    "    def __init__(self):\n",
    "        self.name='iphone11'\n",
    "        self.price=60000\n",
    "    def change_price(self,x):\n",
    "        self.price+=x\n",
    "        return "
   ]
  },
  {
   "cell_type": "markdown",
   "metadata": {},
   "source": [
    "The special function ```__init__``` (constructor) will be called will be called when an instance of the class ```smartphone``` is created. The attributes ```name, price``` will be assigned the values, mentioned in this function. The ```self``` parameter corresponds to the class instance. It is the first parameter of any method of the class. The attributes and methods can be accessed via the following syntax: ```object.attribute, object.method```.  \n",
    "\n",
    "Instantiating a class:"
   ]
  },
  {
   "cell_type": "code",
   "execution_count": 30,
   "metadata": {},
   "outputs": [
    {
     "name": "stdout",
     "output_type": "stream",
     "text": [
      "iphone11 60000\n",
      "Price is reduced: 55000\n",
      "red\n"
     ]
    }
   ],
   "source": [
    "ph=smartphone()   \n",
    "print(ph.name,ph.price)\n",
    "ph.change_price(-5000)\n",
    "print('Price is reduced:',ph.price)\n",
    "smartphone.color='red'\n",
    "print(ph.color)"
   ]
  },
  {
   "cell_type": "markdown",
   "metadata": {},
   "source": [
    "The ```color``` attribute was added after the ```phone``` class was described. It is available to all instances of the  ```smartphone``` class:"
   ]
  },
  {
   "cell_type": "code",
   "execution_count": null,
   "metadata": {},
   "outputs": [],
   "source": [
    "ph_1=smartphone()\n",
    "ph_1.color='white'\n",
    "print(ph_1,ph_1.color)"
   ]
  },
  {
   "cell_type": "markdown",
   "metadata": {},
   "source": [
    "You can create classes based on existing ones. The new class inherits everything from its parent. When attributes or methods match, the newly created replace the parent ones."
   ]
  },
  {
   "cell_type": "code",
   "execution_count": 31,
   "metadata": {},
   "outputs": [
    {
     "name": "stdout",
     "output_type": "stream",
     "text": [
      "galaxy_s20 68000\n"
     ]
    }
   ],
   "source": [
    "class samsung(smartphone):\n",
    "    def __init__(self):\n",
    "        self.name='galaxy_s20'\n",
    "        self.price=70000\n",
    "ph1=samsung()\n",
    "ph1.change_price(-2000)\n",
    "print(ph1.name,ph1.price)          "
   ]
  },
  {
   "cell_type": "markdown",
   "metadata": {},
   "source": [
    "## Modules and namespaces\n",
    "\n",
    "*Module* is a file, containing  only the definitions of variables, functions and classes. It is imported by the ```import``` operator. The are several modules, extending the Python kernel. Their methods and attributes can be accessed in the same way as for other objects."
   ]
  },
  {
   "cell_type": "code",
   "execution_count": 32,
   "metadata": {},
   "outputs": [
    {
     "name": "stdout",
     "output_type": "stream",
     "text": [
      "1.0 24\n"
     ]
    }
   ],
   "source": [
    "import math\n",
    "print(math.sin(math.pi/2),math.factorial(4))"
   ]
  },
  {
   "cell_type": "markdown",
   "metadata": {},
   "source": [
    "*Namespace (scope)* is a dictionary that maps names to corresponding objects in memory. When a module is loaded, the corresponding namespace is immediately created. It can be viewed using the '__dict__' attribute."
   ]
  },
  {
   "cell_type": "code",
   "execution_count": 33,
   "metadata": {},
   "outputs": [
    {
     "name": "stdout",
     "output_type": "stream",
     "text": [
      "{'__name__': 'math', '__doc__': 'This module is always available.  It provides access to the\\nmathematical functions defined by the C standard.', '__package__': '', '__loader__': <class '_frozen_importlib.BuiltinImporter'>, '__spec__': ModuleSpec(name='math', loader=<class '_frozen_importlib.BuiltinImporter'>, origin='built-in'), 'acos': <built-in function acos>, 'acosh': <built-in function acosh>, 'asin': <built-in function asin>, 'asinh': <built-in function asinh>, 'atan': <built-in function atan>, 'atan2': <built-in function atan2>, 'atanh': <built-in function atanh>, 'ceil': <built-in function ceil>, 'copysign': <built-in function copysign>, 'cos': <built-in function cos>, 'cosh': <built-in function cosh>, 'degrees': <built-in function degrees>, 'erf': <built-in function erf>, 'erfc': <built-in function erfc>, 'exp': <built-in function exp>, 'expm1': <built-in function expm1>, 'fabs': <built-in function fabs>, 'factorial': <built-in function factorial>, 'floor': <built-in function floor>, 'fmod': <built-in function fmod>, 'frexp': <built-in function frexp>, 'fsum': <built-in function fsum>, 'gamma': <built-in function gamma>, 'gcd': <built-in function gcd>, 'hypot': <built-in function hypot>, 'isclose': <built-in function isclose>, 'isfinite': <built-in function isfinite>, 'isinf': <built-in function isinf>, 'isnan': <built-in function isnan>, 'ldexp': <built-in function ldexp>, 'lgamma': <built-in function lgamma>, 'log': <built-in function log>, 'log1p': <built-in function log1p>, 'log10': <built-in function log10>, 'log2': <built-in function log2>, 'modf': <built-in function modf>, 'pow': <built-in function pow>, 'radians': <built-in function radians>, 'remainder': <built-in function remainder>, 'sin': <built-in function sin>, 'sinh': <built-in function sinh>, 'sqrt': <built-in function sqrt>, 'tan': <built-in function tan>, 'tanh': <built-in function tanh>, 'trunc': <built-in function trunc>, 'pi': 3.141592653589793, 'e': 2.718281828459045, 'tau': 6.283185307179586, 'inf': inf, 'nan': nan}\n"
     ]
    }
   ],
   "source": [
    "print(math.__dict__)"
   ]
  },
  {
   "cell_type": "markdown",
   "metadata": {},
   "source": [
    "When the program is called, a *global* namespace is created. It disappears after the program finishes. When a function is called, a *local* namespace is created, which disappears when the function ends. Along with this, there is a *built-in* namespace. It contains, for example, the names of all built-in functions: ``` max, abs, \\ dots```. \n",
    "\n",
    "At any given time, there are at least two namespaces directly accessible, i.e. without \"dot use\": global and built-in. When the function is executed, the corresponding local namespace is added to them. When calling a function from another function, there will already be 4 such namespaces.\n",
    "\n",
    "The Python interpreter searches sequentially for names \n",
    "* in the local scope of the currently executing function (if there is such space),\n",
    "* in the hierarchy of enclosing namespaces (if any),\n",
    "* in the global namespace,\n",
    "* in the built-in namespace.\n",
    "\n",
    "This structure is called *LEGB* (local, enclosing, global, builtin). Two variables with the same name can exist simultaneously if they are in different scopes."
   ]
  },
  {
   "cell_type": "code",
   "execution_count": 34,
   "metadata": {},
   "outputs": [
    {
     "name": "stdout",
     "output_type": "stream",
     "text": [
      "20 2 1\n"
     ]
    }
   ],
   "source": [
    "a=2\n",
    "def f(x):\n",
    "    a=10\n",
    "    x=x+1\n",
    "    return a*x\n",
    "x=1\n",
    "print(f(x),a,x)"
   ]
  },
  {
   "cell_type": "markdown",
   "metadata": {},
   "source": [
    "This code is executed as follows:\n",
    "1. the global variable ```a``` is created, tied to the object ```2```,\n",
    "2. in the global namespace, the name ```f``` is created, tied to the corresponding function,\n",
    "3. a *global* variable ```x``` is created, tied to the object ```1```,\n",
    "4. the built-in function ```print``` is called,\n",
    "5. the function ```f``` is called with the argument ```1```,\n",
    "6. the local namespace of the function ```f``` is created,\n",
    "7. the local variable ```a``` is associated with object ```10``` and the *local* variable ```x``` is associated with object ```2```,\n",
    "8. the function ```f``` returns the value ```20```, the local namespace disappears,\n",
    "9. along with the value ```20```, the values of the global variables ```a```, ```x```, which have not changed, are printed.\n",
    "\n",
    "Interestingly, if in a similar situation you use a list that is a mutable object, the result will be different:"
   ]
  },
  {
   "cell_type": "code",
   "execution_count": 35,
   "metadata": {},
   "outputs": [
    {
     "name": "stdout",
     "output_type": "stream",
     "text": [
      "['a', 'y']\n",
      "{'y': [2], 'a': 10}\n",
      "20 2 [2]\n"
     ]
    }
   ],
   "source": [
    "a=2\n",
    "b=2\n",
    "def f(y):\n",
    "    a=10\n",
    "    y[0]+=1\n",
    "    print(dir())\n",
    "    print(locals())\n",
    "    return a*y[0]\n",
    "x=[1]\n",
    "#print(dir())\n",
    "#print(x)\n",
    "print(f(x),a,x)"
   ]
  },
  {
   "cell_type": "markdown",
   "metadata": {},
   "source": [
    "The ```dir()``` function returns a list of names defined in the local scope. The ```locals()``` function returns a dictionary of the local scope. \n",
    "\n",
    "When calling the function ```f```, the local variables ```a```, ```y``` were created. The assignment always creates variables in the local scope. Through the argument of the function ```f```, the variable ```y``` is passed a **reference** to the mutable object (list) to which the global variable ```x``` is bound. The operation ```y[0] + = 1``` modifies the list as an object. This can be seen when referring to it by the name of the global variable ```x```."
   ]
  },
  {
   "cell_type": "markdown",
   "metadata": {},
   "source": [
    "An unpleasant subtlety. The following program works successfully:"
   ]
  },
  {
   "cell_type": "code",
   "execution_count": 36,
   "metadata": {},
   "outputs": [
    {
     "name": "stdout",
     "output_type": "stream",
     "text": [
      "2\n",
      "4\n"
     ]
    }
   ],
   "source": [
    "def f():\n",
    "    print(x+1)\n",
    "   # x=x+1\n",
    "    return 4*x\n",
    "x=1\n",
    "print(f())"
   ]
  },
  {
   "cell_type": "markdown",
   "metadata": {},
   "source": [
    "But if you try to change the ```x``` inside the function, you get an error:"
   ]
  },
  {
   "cell_type": "code",
   "execution_count": 37,
   "metadata": {},
   "outputs": [
    {
     "ename": "UnboundLocalError",
     "evalue": "local variable 'x' referenced before assignment",
     "output_type": "error",
     "traceback": [
      "\u001b[1;31m---------------------------------------------------------------------------\u001b[0m",
      "\u001b[1;31mUnboundLocalError\u001b[0m                         Traceback (most recent call last)",
      "\u001b[1;32m<ipython-input-37-13bd803e18ea>\u001b[0m in \u001b[0;36m<module>\u001b[1;34m\u001b[0m\n\u001b[0;32m      4\u001b[0m     \u001b[1;32mreturn\u001b[0m \u001b[1;36m4\u001b[0m\u001b[1;33m*\u001b[0m\u001b[0mx\u001b[0m\u001b[1;33m\u001b[0m\u001b[1;33m\u001b[0m\u001b[0m\n\u001b[0;32m      5\u001b[0m \u001b[0mx\u001b[0m\u001b[1;33m=\u001b[0m\u001b[1;36m1\u001b[0m\u001b[1;33m\u001b[0m\u001b[1;33m\u001b[0m\u001b[0m\n\u001b[1;32m----> 6\u001b[1;33m \u001b[0mprint\u001b[0m\u001b[1;33m(\u001b[0m\u001b[0mf\u001b[0m\u001b[1;33m(\u001b[0m\u001b[1;33m)\u001b[0m\u001b[1;33m)\u001b[0m\u001b[1;33m\u001b[0m\u001b[1;33m\u001b[0m\u001b[0m\n\u001b[0m",
      "\u001b[1;32m<ipython-input-37-13bd803e18ea>\u001b[0m in \u001b[0;36mf\u001b[1;34m()\u001b[0m\n\u001b[0;32m      1\u001b[0m \u001b[1;32mdef\u001b[0m \u001b[0mf\u001b[0m\u001b[1;33m(\u001b[0m\u001b[1;33m)\u001b[0m\u001b[1;33m:\u001b[0m\u001b[1;33m\u001b[0m\u001b[1;33m\u001b[0m\u001b[0m\n\u001b[1;32m----> 2\u001b[1;33m     \u001b[0mprint\u001b[0m\u001b[1;33m(\u001b[0m\u001b[0mx\u001b[0m\u001b[1;33m+\u001b[0m\u001b[1;36m1\u001b[0m\u001b[1;33m)\u001b[0m\u001b[1;33m\u001b[0m\u001b[1;33m\u001b[0m\u001b[0m\n\u001b[0m\u001b[0;32m      3\u001b[0m     \u001b[0mx\u001b[0m\u001b[1;33m=\u001b[0m\u001b[0mx\u001b[0m\u001b[1;33m+\u001b[0m\u001b[1;36m1\u001b[0m\u001b[1;33m\u001b[0m\u001b[1;33m\u001b[0m\u001b[0m\n\u001b[0;32m      4\u001b[0m     \u001b[1;32mreturn\u001b[0m \u001b[1;36m4\u001b[0m\u001b[1;33m*\u001b[0m\u001b[0mx\u001b[0m\u001b[1;33m\u001b[0m\u001b[1;33m\u001b[0m\u001b[0m\n\u001b[0;32m      5\u001b[0m \u001b[0mx\u001b[0m\u001b[1;33m=\u001b[0m\u001b[1;36m1\u001b[0m\u001b[1;33m\u001b[0m\u001b[1;33m\u001b[0m\u001b[0m\n",
      "\u001b[1;31mUnboundLocalError\u001b[0m: local variable 'x' referenced before assignment"
     ]
    }
   ],
   "source": [
    "def f():\n",
    "    print(x+1)\n",
    "    x=x+1\n",
    "    return 4*x\n",
    "x=1\n",
    "print(f())"
   ]
  },
  {
   "cell_type": "markdown",
   "metadata": {},
   "source": [
    "The global variable ```x``` is detected and the value of ```x + 1``` is evaluated, but when trying to write it to ```x```, the Python interpreter creates a local variable ```x```, since there is an assignment. On the other hand, the above variable with the same name has already been used in the ```print(x)``` statement.\n",
    "\n",
    "What if we remove print?"
   ]
  },
  {
   "cell_type": "code",
   "execution_count": 38,
   "metadata": {},
   "outputs": [
    {
     "ename": "UnboundLocalError",
     "evalue": "local variable 'x' referenced before assignment",
     "output_type": "error",
     "traceback": [
      "\u001b[1;31m---------------------------------------------------------------------------\u001b[0m",
      "\u001b[1;31mUnboundLocalError\u001b[0m                         Traceback (most recent call last)",
      "\u001b[1;32m<ipython-input-38-67f4b02197f1>\u001b[0m in \u001b[0;36m<module>\u001b[1;34m\u001b[0m\n\u001b[0;32m      3\u001b[0m     \u001b[1;32mreturn\u001b[0m \u001b[1;36m4\u001b[0m\u001b[1;33m*\u001b[0m\u001b[0mx\u001b[0m\u001b[1;33m\u001b[0m\u001b[1;33m\u001b[0m\u001b[0m\n\u001b[0;32m      4\u001b[0m \u001b[0mx\u001b[0m\u001b[1;33m=\u001b[0m\u001b[1;36m1\u001b[0m\u001b[1;33m\u001b[0m\u001b[1;33m\u001b[0m\u001b[0m\n\u001b[1;32m----> 5\u001b[1;33m \u001b[0mprint\u001b[0m\u001b[1;33m(\u001b[0m\u001b[0mf\u001b[0m\u001b[1;33m(\u001b[0m\u001b[1;33m)\u001b[0m\u001b[1;33m)\u001b[0m\u001b[1;33m\u001b[0m\u001b[1;33m\u001b[0m\u001b[0m\n\u001b[0m",
      "\u001b[1;32m<ipython-input-38-67f4b02197f1>\u001b[0m in \u001b[0;36mf\u001b[1;34m()\u001b[0m\n\u001b[0;32m      1\u001b[0m \u001b[1;32mdef\u001b[0m \u001b[0mf\u001b[0m\u001b[1;33m(\u001b[0m\u001b[1;33m)\u001b[0m\u001b[1;33m:\u001b[0m\u001b[1;33m\u001b[0m\u001b[1;33m\u001b[0m\u001b[0m\n\u001b[1;32m----> 2\u001b[1;33m     \u001b[0mx\u001b[0m\u001b[1;33m=\u001b[0m\u001b[0mx\u001b[0m\u001b[1;33m+\u001b[0m\u001b[1;36m1\u001b[0m\u001b[1;33m\u001b[0m\u001b[1;33m\u001b[0m\u001b[0m\n\u001b[0m\u001b[0;32m      3\u001b[0m     \u001b[1;32mreturn\u001b[0m \u001b[1;36m4\u001b[0m\u001b[1;33m*\u001b[0m\u001b[0mx\u001b[0m\u001b[1;33m\u001b[0m\u001b[1;33m\u001b[0m\u001b[0m\n\u001b[0;32m      4\u001b[0m \u001b[0mx\u001b[0m\u001b[1;33m=\u001b[0m\u001b[1;36m1\u001b[0m\u001b[1;33m\u001b[0m\u001b[1;33m\u001b[0m\u001b[0m\n\u001b[0;32m      5\u001b[0m \u001b[0mprint\u001b[0m\u001b[1;33m(\u001b[0m\u001b[0mf\u001b[0m\u001b[1;33m(\u001b[0m\u001b[1;33m)\u001b[0m\u001b[1;33m)\u001b[0m\u001b[1;33m\u001b[0m\u001b[1;33m\u001b[0m\u001b[0m\n",
      "\u001b[1;31mUnboundLocalError\u001b[0m: local variable 'x' referenced before assignment"
     ]
    }
   ],
   "source": [
    "def f():\n",
    "    x=x+1\n",
    "    return 4*x\n",
    "x=1\n",
    "print(f())"
   ]
  },
  {
   "cell_type": "markdown",
   "metadata": {},
   "source": [
    "Now it turns out that the variable ```x``` was used to the right of the assignment operator before it was created by the assignment operator itself.\n",
    "\n",
    "One way to get rid of this error is to explicitly indicate that the variable ```x``` is global:"
   ]
  },
  {
   "cell_type": "code",
   "execution_count": null,
   "metadata": {},
   "outputs": [],
   "source": [
    "def f():\n",
    "    global x\n",
    "    x=x+1\n",
    "    return 4*x\n",
    "x=1\n",
    "print(f())"
   ]
  },
  {
   "cell_type": "markdown",
   "metadata": {},
   "source": [
    "## Working with files\n",
    "\n",
    "The files are accessed using the `` os '' module. Current working directory:"
   ]
  },
  {
   "cell_type": "code",
   "execution_count": 39,
   "metadata": {},
   "outputs": [
    {
     "data": {
      "text/plain": [
       "'C:\\\\Users\\\\rokhl\\\\ML_2020'"
      ]
     },
     "execution_count": 39,
     "metadata": {},
     "output_type": "execute_result"
    }
   ],
   "source": [
    "import os\n",
    "os.getcwd()"
   ]
  },
  {
   "cell_type": "markdown",
   "metadata": {},
   "source": [
    "Смена текущего рабочего каталога:"
   ]
  },
  {
   "cell_type": "code",
   "execution_count": 40,
   "metadata": {},
   "outputs": [
    {
     "data": {
      "text/plain": [
       "'D:\\\\Python_projects'"
      ]
     },
     "execution_count": 40,
     "metadata": {},
     "output_type": "execute_result"
    }
   ],
   "source": [
    "os.chdir('D:\\\\Python_projects')\n",
    "os.getcwd()"
   ]
  },
  {
   "cell_type": "markdown",
   "metadata": {},
   "source": [
    "Checking for file existence (```D:\\\\Python_projects``` is the current directory):"
   ]
  },
  {
   "cell_type": "code",
   "execution_count": 41,
   "metadata": {},
   "outputs": [
    {
     "name": "stdout",
     "output_type": "stream",
     "text": [
      "True\n",
      "True\n"
     ]
    }
   ],
   "source": [
    "print(os.path.exists('D:\\\\Python_projects\\\\1.py'))\n",
    "print(os.path.exists('1.py'))"
   ]
  },
  {
   "cell_type": "markdown",
   "metadata": {},
   "source": [
    "The list of all files in the folder:"
   ]
  },
  {
   "cell_type": "code",
   "execution_count": 42,
   "metadata": {},
   "outputs": [
    {
     "data": {
      "text/plain": [
       "['.spyderworkspace',\n",
       " '1.py',\n",
       " '2.py',\n",
       " '2020_deepxde',\n",
       " '2020_Geron',\n",
       " '2020_Machine_learning',\n",
       " '3.py',\n",
       " '4.py',\n",
       " 'Call option.py',\n",
       " 'cvxpy',\n",
       " 'data_1.txt',\n",
       " 'DFS.py',\n",
       " 'Dp.py',\n",
       " 'em.txt',\n",
       " 'EulerRats1.py',\n",
       " 'f1.pdf',\n",
       " 'finite_dp_og_example.py',\n",
       " 'formula dlya zadachi ekzamena magistrov.py',\n",
       " 'For_Machine_learning_Nadolin',\n",
       " 'for_oop',\n",
       " 'for_Stochastic_analysis',\n",
       " 'From Colab',\n",
       " 'from_users_Dmitry',\n",
       " 'game_of_thrones_eda.ipynb',\n",
       " 'Introduction to Computer Science and Programming in Python',\n",
       " 'ipynb',\n",
       " 'Issues with python',\n",
       " 'LinPr.py',\n",
       " 'Machine_learning_2019',\n",
       " 'MDP',\n",
       " 'MDP1.py',\n",
       " 'ML',\n",
       " 'ML_2019',\n",
       " 'mo1.py',\n",
       " 'MullerGuido',\n",
       " 'Ng2019',\n",
       " 'Nielsen',\n",
       " 'normality_test_variant_1.pdf',\n",
       " 'normality_test_variant_2.pdf',\n",
       " 'normality_variant_1.py',\n",
       " 'normality_variant_2.py',\n",
       " 'Probability and Statistics in Data Science using Python',\n",
       " 'PyTeX',\n",
       " 'Python for Data Science',\n",
       " 'Python_checkpoints_from_old_computer',\n",
       " 'Python_checkpoints_from_old_computer.zip',\n",
       " 'Reinforcement',\n",
       " 'reinforcement_q_learning.ipynb',\n",
       " 't81_558_deep_learning-master',\n",
       " 'tab_delimited_stock_prices.txt',\n",
       " 'temp.py',\n",
       " 'tf_ex_1.py',\n",
       " 'time.py',\n",
       " 'Tutorial',\n",
       " 'Untitled-1.ipynb',\n",
       " 'Untitled-1.py',\n",
       " 'untitled0.py',\n",
       " 'untitled1.py',\n",
       " 'writing_file.txt',\n",
       " '__pycache__',\n",
       " 'Новая папка',\n",
       " 'Новая папка (2)',\n",
       " 'Новый текстовый документ 0.txt',\n",
       " 'Погружение в Python']"
      ]
     },
     "execution_count": 42,
     "metadata": {},
     "output_type": "execute_result"
    }
   ],
   "source": [
    "os.listdir('D:\\\\Python_projects')"
   ]
  },
  {
   "cell_type": "markdown",
   "metadata": {},
   "source": [
    "## Working with text files\n",
    "\n",
    "To open a file, use the built-in function ```open``` with parameters \n",
    "```r```: read only,\n",
    "```w```: write only,\n",
    "```a```: append (text to the end of the file), \n",
    "```r+```: read and write. "
   ]
  },
  {
   "cell_type": "code",
   "execution_count": null,
   "metadata": {},
   "outputs": [],
   "source": [
    "os.chdir('D:\\\\Python_projects\\\\2020_Machine_learning')\n",
    "os.getcwd()\n",
    "#os.listdir()"
   ]
  },
  {
   "cell_type": "markdown",
   "metadata": {},
   "source": [
    "syntax for working with files: ```File_object = open('File_Name,'Access_Mode')```\n",
    "\n",
    "Modes:\n",
    "- `r`: read only, \n",
    "- `w`: write only (ovewrites the existing file or creates new), \n",
    "- `a`: append (text to the end of the file), \n",
    "- `r+`: read and write\n",
    "- `w+`: write and read, (ovewrites the existing file or creates new), "
   ]
  },
  {
   "cell_type": "code",
   "execution_count": null,
   "metadata": {},
   "outputs": [],
   "source": [
    "my_file=open('test_file.txt','w')\n",
    "for i in range(3):\n",
    "    my_file.write(str(i)+'\\n')\n",
    "my_file.close()"
   ]
  },
  {
   "cell_type": "markdown",
   "metadata": {},
   "source": [
    "A new file with several symbols was created."
   ]
  },
  {
   "cell_type": "code",
   "execution_count": null,
   "metadata": {},
   "outputs": [],
   "source": [
    "my_file=open('test_file.txt')\n",
    "my_file.read()"
   ]
  },
  {
   "cell_type": "markdown",
   "metadata": {},
   "source": [
    "The string, containing all symbols in the file was returned."
   ]
  },
  {
   "cell_type": "code",
   "execution_count": null,
   "metadata": {},
   "outputs": [],
   "source": [
    "my_file.close()"
   ]
  },
  {
   "cell_type": "code",
   "execution_count": null,
   "metadata": {},
   "outputs": [],
   "source": [
    "my_file=open('test_file.txt','a')\n",
    "for i in range(3):\n",
    "    my_file.write(str(i+3)+'\\n')\n",
    "my_file.close()\n",
    "my_file=open('test_file.txt','r')\n",
    "print(my_file.read())\n",
    "my_file.close()"
   ]
  },
  {
   "cell_type": "code",
   "execution_count": null,
   "metadata": {},
   "outputs": [],
   "source": [
    "with open('test_file.txt','w+') as my_file:\n",
    "    for i in range(3):\n",
    "        my_file.write(str(i)+'\\n')\n",
    "    my_file.seek(0)  # Important: return to the top of the file before reading, otherwise you'll just read an empty string    \n",
    "    print(my_file.read())"
   ]
  },
  {
   "cell_type": "code",
   "execution_count": null,
   "metadata": {},
   "outputs": [],
   "source": [
    "# with open('test_file.txt','w+') as my_file:"
   ]
  },
  {
   "cell_type": "markdown",
   "metadata": {},
   "source": [
    "The file is automatically closed after the end of `with` block."
   ]
  },
  {
   "cell_type": "code",
   "execution_count": null,
   "metadata": {},
   "outputs": [],
   "source": [
    "f = open('NYSE.txt','r')\n",
    "data=[]\n",
    "for line in f:\n",
    "    data.append([float(x) for x in line.split()])\n",
    "f.close()\n",
    "data[1]"
   ]
  },
  {
   "cell_type": "markdown",
   "metadata": {},
   "source": [
    "## Print formatting"
   ]
  },
  {
   "cell_type": "markdown",
   "metadata": {},
   "source": [
    "### First method"
   ]
  },
  {
   "cell_type": "code",
   "execution_count": 43,
   "metadata": {},
   "outputs": [
    {
     "name": "stdout",
     "output_type": "stream",
     "text": [
      "Place my text here\n"
     ]
    }
   ],
   "source": [
    "a='my text'\n",
    "print('Place %s here' %a) # %s: string"
   ]
  },
  {
   "cell_type": "code",
   "execution_count": 44,
   "metadata": {},
   "outputs": [
    {
     "name": "stdout",
     "output_type": "stream",
     "text": [
      "Place my text here and there\n"
     ]
    }
   ],
   "source": [
    "b='and there'\n",
    "print('Place %s here %s' %(a,b))"
   ]
  },
  {
   "cell_type": "code",
   "execution_count": 45,
   "metadata": {},
   "outputs": [
    {
     "name": "stdout",
     "output_type": "stream",
     "text": [
      "5+5=10\n"
     ]
    }
   ],
   "source": [
    "a=10\n",
    "print('5+5=%s' %a)"
   ]
  },
  {
   "cell_type": "code",
   "execution_count": 46,
   "metadata": {},
   "outputs": [
    {
     "name": "stdout",
     "output_type": "stream",
     "text": [
      "pi:3.14\n",
      "pi:      3.14\n",
      "pi: 3.14159\n"
     ]
    }
   ],
   "source": [
    "import math\n",
    "a=math.pi\n",
    "print('pi:%1.2f' %a)\n",
    "print('pi:%10.2f' %a)\n",
    "print('pi:%8.5f' %a) # mimimal_total_number_of_digits.number_of_digits_after_the_decimal_point"
   ]
  },
  {
   "cell_type": "markdown",
   "metadata": {},
   "source": [
    "### Second method"
   ]
  },
  {
   "cell_type": "code",
   "execution_count": 47,
   "metadata": {},
   "outputs": [
    {
     "name": "stdout",
     "output_type": "stream",
     "text": [
      "Place my text here and there\n"
     ]
    }
   ],
   "source": [
    "a='my text'\n",
    "b='and there'\n",
    "print('Place {x1} here {x2}'.format(x1=a,x2=b))"
   ]
  },
  {
   "cell_type": "markdown",
   "metadata": {},
   "source": [
    "### Third method"
   ]
  },
  {
   "cell_type": "code",
   "execution_count": 48,
   "metadata": {},
   "outputs": [
    {
     "name": "stdout",
     "output_type": "stream",
     "text": [
      "a+b=12\n"
     ]
    }
   ],
   "source": [
    "a=5\n",
    "b=7\n",
    "print(f'a+b={a+b}')"
   ]
  }
 ],
 "metadata": {
  "kernelspec": {
   "display_name": "Python 3",
   "language": "python",
   "name": "python3"
  },
  "language_info": {
   "codemirror_mode": {
    "name": "ipython",
    "version": 3
   },
   "file_extension": ".py",
   "mimetype": "text/x-python",
   "name": "python",
   "nbconvert_exporter": "python",
   "pygments_lexer": "ipython3",
   "version": "3.7.3"
  }
 },
 "nbformat": 4,
 "nbformat_minor": 2
}
