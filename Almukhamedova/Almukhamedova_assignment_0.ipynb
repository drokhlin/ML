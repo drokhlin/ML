{
  "nbformat": 4,
  "nbformat_minor": 0,
  "metadata": {
    "kernelspec": {
      "display_name": "Python 3",
      "language": "python",
      "name": "python3"
    },
    "language_info": {
      "codemirror_mode": {
        "name": "ipython",
        "version": 3
      },
      "file_extension": ".py",
      "mimetype": "text/x-python",
      "name": "python",
      "nbconvert_exporter": "python",
      "pygments_lexer": "ipython3",
      "version": "3.8.8"
    },
    "colab": {
      "name": "Almukhamedova_assignment_0.ipynb",
      "provenance": [],
      "collapsed_sections": []
    }
  },
  "cells": [
    {
      "cell_type": "code",
      "metadata": {
        "colab": {
          "base_uri": "https://localhost:8080/"
        },
        "id": "9vZObl9DbUqM",
        "outputId": "7a3e252c-1447-4c16-e7f4-b5aebb722b28"
      },
      "source": [
        "s = \"Curiosity killed the cat.\"\n",
        "print(s.split())"
      ],
      "execution_count": null,
      "outputs": [
        {
          "output_type": "stream",
          "name": "stdout",
          "text": [
            "['Curiosity', 'killed', 'the', 'cat.']\n"
          ]
        }
      ]
    },
    {
      "cell_type": "markdown",
      "metadata": {
        "id": "8DJ-hxfmbUp_"
      },
      "source": [
        "**Split this string:**\n",
        "\n",
        "s = \"Curiosity killed the cat.\"\n",
        "\n",
        "**into a list.**"
      ]
    },
    {
      "cell_type": "code",
      "metadata": {
        "id": "h8boD2dGbUqO",
        "outputId": "33d741de-81aa-4e26-8107-e31ae2a28eb7"
      },
      "source": [
        ""
      ],
      "execution_count": null,
      "outputs": [
        {
          "data": {
            "text/plain": [
              "['Curiosity', 'killed', 'the', 'cat.']"
            ]
          },
          "execution_count": 4,
          "metadata": {},
          "output_type": "execute_result"
        }
      ]
    },
    {
      "cell_type": "markdown",
      "metadata": {
        "id": "LBgJHynzbUqR"
      },
      "source": [
        "**Given the variables:**\n",
        "\n",
        "    country = \"Russia\"\n",
        "    population = 147\n",
        "\n",
        "**Use .format() to print the following string:**\n",
        "\n",
        "    The number of citizen in Russia is approximately 147 millions."
      ]
    },
    {
      "cell_type": "code",
      "metadata": {
        "id": "Sezshlo9bUqT",
        "colab": {
          "base_uri": "https://localhost:8080/"
        },
        "outputId": "de63c378-4795-4acc-dacc-6647b4879c50"
      },
      "source": [
        "print(\"The number of citizen in {country} is approximately {population} millions.\".format(country=\"Russia\", population=147))"
      ],
      "execution_count": null,
      "outputs": [
        {
          "output_type": "stream",
          "name": "stdout",
          "text": [
            "The number of citizen in Russia is approximately 147 millions.\n"
          ]
        }
      ]
    },
    {
      "cell_type": "markdown",
      "metadata": {
        "id": "l6vcBNbobUqW"
      },
      "source": [
        "**Given this nested list, use indexing to get the word \"hidden\"**"
      ]
    },
    {
      "cell_type": "code",
      "metadata": {
        "id": "1E0SfOvTbUqX"
      },
      "source": [
        "lst = [1,2,[3,4],[5,[100,200,['hidden']],23,11],1,7]"
      ],
      "execution_count": null,
      "outputs": []
    },
    {
      "cell_type": "code",
      "metadata": {
        "id": "vPYlSkrLbUqY",
        "colab": {
          "base_uri": "https://localhost:8080/"
        },
        "outputId": "1acb5d97-554d-48b9-f420-11f70254d3b7"
      },
      "source": [
        "lst = [1,2,[3,4],[5,[100,200,['hidden']],23,11],1,7]\n",
        "lst [-3][-3][-1]"
      ],
      "execution_count": null,
      "outputs": [
        {
          "output_type": "execute_result",
          "data": {
            "text/plain": [
              "['hidden']"
            ]
          },
          "metadata": {},
          "execution_count": 66
        }
      ]
    },
    {
      "cell_type": "markdown",
      "metadata": {
        "id": "JhwQjgL3bUqa"
      },
      "source": [
        "**Create a function that grabs the domain name from a string in the form:**\n",
        "\n",
        "    nobody@sfedu.ru\n",
        "    \n",
        "**So for example, passing \"nobody@sfedu.ru\" would return: sfedu.ru**"
      ]
    },
    {
      "cell_type": "code",
      "metadata": {
        "id": "WGQe65ic1YZh",
        "colab": {
          "base_uri": "https://localhost:8080/",
          "height": 35
        },
        "outputId": "412ffe89-9663-4426-f39b-e0d9f5a38479"
      },
      "source": [
        "def domainGet(x):\n",
        "    return(x.split('@')[1])\n",
        "\n",
        "domainGet('nobody@sfedu.ru')"
      ],
      "execution_count": null,
      "outputs": [
        {
          "output_type": "execute_result",
          "data": {
            "application/vnd.google.colaboratory.intrinsic+json": {
              "type": "string"
            },
            "text/plain": [
              "'sfedu.ru'"
            ]
          },
          "metadata": {},
          "execution_count": 69
        }
      ]
    },
    {
      "cell_type": "markdown",
      "metadata": {
        "id": "9GvVLvTcbUqc"
      },
      "source": [
        "**Create a function that returns `True` if the word 'cat' (lowercase) is contained in the input string.**"
      ]
    },
    {
      "cell_type": "code",
      "metadata": {
        "id": "xaDB83UUbUqd"
      },
      "source": [
        "def find_cat (x):\n",
        "  return ('cat' in x.lower())"
      ],
      "execution_count": null,
      "outputs": []
    },
    {
      "cell_type": "code",
      "metadata": {
        "id": "jPQZPycsbUqe",
        "colab": {
          "base_uri": "https://localhost:8080/"
        },
        "outputId": "c3237fb3-295a-435a-9144-3720dc2fd4af"
      },
      "source": [
        "print(find_cat('fDog'))\n",
        "print(find_cat('Black_dog.'))\n",
        "print(find_cat('fCat'))"
      ],
      "execution_count": null,
      "outputs": [
        {
          "output_type": "stream",
          "name": "stdout",
          "text": [
            "False\n",
            "False\n",
            "True\n"
          ]
        }
      ]
    },
    {
      "cell_type": "markdown",
      "metadata": {
        "id": "sTl3yTqwbUqg"
      },
      "source": [
        "**Create a function that counts the number of times the word \"cat\" occurs in a string. You can use text without punctuation.**"
      ]
    },
    {
      "cell_type": "code",
      "metadata": {
        "id": "ulcdigiHbUqh"
      },
      "source": [
        "def count_cat (x):\n",
        "  return(x.count('cat'))"
      ],
      "execution_count": null,
      "outputs": []
    },
    {
      "cell_type": "code",
      "metadata": {
        "id": "0sXtNoPlbUqi",
        "outputId": "7f73dd59-5811-4b98-8ae7-85e996a62467"
      },
      "source": [
        "count_cat('Black cat runs faster than the white cat')"
      ],
      "execution_count": null,
      "outputs": [
        {
          "data": {
            "text/plain": [
              "2"
            ]
          },
          "execution_count": 49,
          "metadata": {},
          "output_type": "execute_result"
        }
      ]
    },
    {
      "cell_type": "markdown",
      "metadata": {
        "id": "ztkDvx6zbUqj"
      },
      "source": [
        "**Given a list `a`, containing integers, transform it to a new list `b`, containing all elements, that are lower, than 5.** Try to do it in one line, using the *list comprehension*. A list comprehension behaves like this: \n",
        "\n",
        "`[[output] for [item] in [list] if [filter]]`."
      ]
    },
    {
      "cell_type": "code",
      "metadata": {
        "id": "ZhQYRud3bUqk",
        "colab": {
          "base_uri": "https://localhost:8080/"
        },
        "outputId": "83dd4f85-5706-4cf8-86e9-c28b7fbcf700"
      },
      "source": [
        "a = [16, 3, 1, -3, 5, 8, 13, 21, 4, 55, 89]\n",
        "b = [i for i in a if i < 5]\n",
        "print (b)\n",
        "\n"
      ],
      "execution_count": null,
      "outputs": [
        {
          "output_type": "stream",
          "name": "stdout",
          "text": [
            "[3, 1, -3, 4]\n"
          ]
        }
      ]
    },
    {
      "cell_type": "markdown",
      "metadata": {
        "id": "fKnccMrQbUql"
      },
      "source": [
        "**Generate a string (password), containing 3 digits and 3 lower case letters in random order (the symbols need not be different).** Hint:\n",
        "1. Import `random` and `string modules`.\n",
        "2. Use `random.sample` to generate 3 digits from the string `string.digits` and write them to the list `password`.\n",
        "3. Use `random.sample` to generate 3 letters from the string `string.ascii_lowercase` and extend the list `password`.\n",
        "4. Shuffle `password` with `random.shuffle`.\n",
        "5. Use `join` to convert `password` to a string."
      ]
    },
    {
      "cell_type": "code",
      "metadata": {
        "id": "Q68dnv9QbUqm",
        "colab": {
          "base_uri": "https://localhost:8080/"
        },
        "outputId": "e1211947-6b8e-4669-a07c-4a8f758eee61"
      },
      "source": [
        "import random\n",
        "import string\n",
        "password = (random.sample(string.digits,3))\n",
        "password += (random.sample(string.ascii_lowercase,3))\n",
        "random.shuffle(password)\n",
        "print(''.join(password))\n",
        "\n",
        "\n",
        "\n"
      ],
      "execution_count": null,
      "outputs": [
        {
          "output_type": "stream",
          "name": "stdout",
          "text": [
            "c2p91r\n"
          ]
        }
      ]
    },
    {
      "cell_type": "markdown",
      "metadata": {
        "id": "f67f6RHHbUqn"
      },
      "source": [
        "**In one experiment 6-sided dice is rolled $r$ times.  Use `random.sample` to obtain the sum of points. Write the related function which has one keyword argument - the number of rolls: `def dice_sum(r=3)`.**"
      ]
    },
    {
      "cell_type": "code",
      "metadata": {
        "id": "iANMeWwu1YZo",
        "colab": {
          "base_uri": "https://localhost:8080/"
        },
        "outputId": "eb33a807-39a3-4663-b02d-b8416c3e37cf"
      },
      "source": [
        "import random\n",
        "def dice_sum(r=3):\n",
        "    sum = 0\n",
        "    for i in range(r):\n",
        "        point = random.sample([1,2,3,4,5,6],1)\n",
        "        sum = sum + point [0]\n",
        "    return sum\n",
        "\n",
        "dice_sum()"
      ],
      "execution_count": null,
      "outputs": [
        {
          "output_type": "execute_result",
          "data": {
            "text/plain": [
              "14"
            ]
          },
          "metadata": {},
          "execution_count": 106
        }
      ]
    },
    {
      "cell_type": "code",
      "metadata": {
        "id": "efooUZULbUqp",
        "colab": {
          "base_uri": "https://localhost:8080/"
        },
        "outputId": "e339c50d-f974-454a-da80-9b1f5f185824"
      },
      "source": [
        "dice_sum(1000)"
      ],
      "execution_count": null,
      "outputs": [
        {
          "output_type": "execute_result",
          "data": {
            "text/plain": [
              "3589"
            ]
          },
          "metadata": {},
          "execution_count": 107
        }
      ]
    },
    {
      "cell_type": "markdown",
      "metadata": {
        "id": "p7BsWifUbUqq"
      },
      "source": [
        "**For $r=3$ let $s$ be the nuber of points in one experiment. Consider a very large number of experiments. Obtain the frequences of the events $s=11$ and $s=12$. Which value is larger?**"
      ]
    },
    {
      "cell_type": "code",
      "metadata": {
        "id": "l7fff95pbUqr",
        "colab": {
          "base_uri": "https://localhost:8080/"
        },
        "outputId": "a1a4585d-6b07-4288-fca6-e924fdb1d467"
      },
      "source": [
        "n=100000\n",
        "n_11=0\n",
        "n_12=0\n",
        "for i in range (n):\n",
        "  a=dice_sum()\n",
        "  if a==11:\n",
        "    n_11=n_11+1\n",
        "  if a==12:\n",
        "    n_12=n_12+1\n",
        "    \n",
        "print('n_11={a:5.4f}; n_12={b:5.4f}'.format(a=n_11/n,b=n_12/n))  "
      ],
      "execution_count": null,
      "outputs": [
        {
          "output_type": "stream",
          "name": "stdout",
          "text": [
            "n_11=0.1233; n_12=0.1158\n"
          ]
        }
      ]
    },
    {
      "cell_type": "markdown",
      "metadata": {
        "id": "VnZNHgLXbUqs"
      },
      "source": [
        "**Write the class point, which should have two attributes: x and y coordinates and two methods:** \n",
        "1. `move`, which get a tuple or a list $z$ and shifts the point: $(x,y)\\mapsto (x,y)+(z[0],z[1])$. \n",
        "2. `distance`, which computes the Euclidian distance from the point $(x,y)$ to a given point $z=(z[0],z[1])$.\n",
        "Make two instance of thic class, move one of them to $(3,4)$, and another to $(1,2)$ and compute the distance between them, using the methods `move` and `distance`."
      ]
    },
    {
      "cell_type": "code",
      "metadata": {
        "id": "OpeZQsxYbUqu"
      },
      "source": [
        "class point():\n",
        "    def __init__(self):\n",
        "        self.x = 0\n",
        "        self.y = 0\n",
        "        \n",
        "    def move(self,z):\n",
        "       self.x=self.x+z[0]\n",
        "       self.y=self.y+z[1]\n",
        "    \n",
        "    def distance(self,z):\n",
        "        return ((self.x-z[0])**2+(self.y-z[1])**2)**(1/2)"
      ],
      "execution_count": null,
      "outputs": []
    },
    {
      "cell_type": "code",
      "metadata": {
        "id": "6ggu8NQMbUqv",
        "colab": {
          "base_uri": "https://localhost:8080/"
        },
        "outputId": "0db26b95-8f7c-4924-a9b6-7b68e58cf0a2"
      },
      "source": [
        "Y=point()\n",
        "Z=point()\n",
        "Y.move([3,4])\n",
        "Z.move([1,2])\n",
        "import math\n",
        "Y.distance([Z.x,Z.y])"
      ],
      "execution_count": null,
      "outputs": [
        {
          "output_type": "execute_result",
          "data": {
            "text/plain": [
              "2.8284271247461903"
            ]
          },
          "metadata": {},
          "execution_count": 119
        }
      ]
    }
  ]
}