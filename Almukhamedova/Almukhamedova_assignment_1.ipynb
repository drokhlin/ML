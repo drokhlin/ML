{
  "nbformat": 4,
  "nbformat_minor": 0,
  "metadata": {
    "kernelspec": {
      "display_name": "Python 3",
      "language": "python",
      "name": "python3"
    },
    "language_info": {
      "codemirror_mode": {
        "name": "ipython",
        "version": 3
      },
      "file_extension": ".py",
      "mimetype": "text/x-python",
      "name": "python",
      "nbconvert_exporter": "python",
      "pygments_lexer": "ipython3",
      "version": "3.8.8"
    },
    "colab": {
      "name": "Almukhamedova_assignment_1.ipynb",
      "provenance": [],
      "collapsed_sections": []
    }
  },
  "cells": [
    {
      "cell_type": "code",
      "metadata": {
        "id": "ngWlcC585pE7"
      },
      "source": [
        "import numpy as np"
      ],
      "execution_count": 26,
      "outputs": []
    },
    {
      "cell_type": "markdown",
      "metadata": {
        "id": "9rHQ4Yf65pFA"
      },
      "source": [
        "1. Put $m=5$ and create an $m\\times m$-marix $A$ and $m$-dimensional vector $b$ with random entries. Use standard normal distribution and random seed 42: `np.random.seed(42)`. Print $A$ and $b$."
      ]
    },
    {
      "cell_type": "code",
      "metadata": {
        "colab": {
          "base_uri": "https://localhost:8080/"
        },
        "id": "rcEqsCtS5pFD",
        "outputId": "371e4c96-0d09-401a-e545-33189c06a3f1"
      },
      "source": [
        "# CODE HERE\n",
        "\n",
        "m=5\n",
        "A = np.random.seed(42)\n",
        "b = np.random.seed(42)\n",
        "A = np.random.rand(m,m)\n",
        "A\n",
        "b = np.random.rand (m)\n",
        "b"
      ],
      "execution_count": 27,
      "outputs": [
        {
          "output_type": "execute_result",
          "data": {
            "text/plain": [
              "array([0.78517596, 0.19967378, 0.51423444, 0.59241457, 0.04645041])"
            ]
          },
          "metadata": {},
          "execution_count": 27
        }
      ]
    },
    {
      "cell_type": "code",
      "metadata": {
        "id": "cuqPPD-05pFE"
      },
      "source": [
        "# DON'T WRITE HERE\n",
        "np.random.seed(42)\n"
      ],
      "execution_count": 28,
      "outputs": []
    },
    {
      "cell_type": "markdown",
      "metadata": {
        "id": "wWqL90mz5pFG"
      },
      "source": [
        "2. Print the dimensions of $A$, $b$, using `np.shape`."
      ]
    },
    {
      "cell_type": "code",
      "metadata": {
        "id": "dGZGMN5r5pFH",
        "colab": {
          "base_uri": "https://localhost:8080/"
        },
        "outputId": "96d89f99-cb26-4da8-c647-20841676968c"
      },
      "source": [
        "# CODE HERE\n",
        "C = np.shape(A)\n",
        "\n",
        "D = np.shape(b)\n",
        "\n",
        "C,D"
      ],
      "execution_count": 30,
      "outputs": [
        {
          "output_type": "execute_result",
          "data": {
            "text/plain": [
              "((5, 5), (5,))"
            ]
          },
          "metadata": {},
          "execution_count": 30
        }
      ]
    },
    {
      "cell_type": "code",
      "metadata": {
        "id": "QZcJa5E05pFH"
      },
      "source": [
        "# DON'T WRITE HERE\n"
      ],
      "execution_count": null,
      "outputs": []
    },
    {
      "cell_type": "markdown",
      "metadata": {
        "id": "kfTBuEvW5pFI"
      },
      "source": [
        "3. Solve the linear system of equations $Ax=b$ and print the result. Use `np.linalg.solve`."
      ]
    },
    {
      "cell_type": "code",
      "metadata": {
        "colab": {
          "base_uri": "https://localhost:8080/"
        },
        "id": "5KZY4Q6D5pFJ",
        "outputId": "a657911e-dd95-49f0-cf3c-266ea9be223f"
      },
      "source": [
        "# CODE HERE\n",
        "\n",
        "X = np.linalg.solve(A,b)\n",
        "X"
      ],
      "execution_count": 31,
      "outputs": [
        {
          "output_type": "execute_result",
          "data": {
            "text/plain": [
              "array([-226.17808981,  218.48756735, -362.56506531,  147.90541493,\n",
              "        350.14590691])"
            ]
          },
          "metadata": {},
          "execution_count": 31
        }
      ]
    },
    {
      "cell_type": "code",
      "metadata": {
        "id": "2ZF_nsSD5pFK",
        "outputId": "b29f2d09-81e7-4a71-de65-8dd635ae246c"
      },
      "source": [
        "# DON'T WRITE HERE\n"
      ],
      "execution_count": null,
      "outputs": [
        {
          "data": {
            "text/plain": [
              "array([ 0.33950798,  1.86215687, -2.9397798 ,  1.01930545, -2.35479429])"
            ]
          },
          "execution_count": 7,
          "metadata": {},
          "output_type": "execute_result"
        }
      ]
    },
    {
      "cell_type": "markdown",
      "metadata": {
        "id": "Pplilv-M5pFL"
      },
      "source": [
        "4. Find the transpose matrix $A^T$ and the inverse matrix $A^{-1}$."
      ]
    },
    {
      "cell_type": "code",
      "metadata": {
        "colab": {
          "base_uri": "https://localhost:8080/"
        },
        "id": "U_X_Hc1C5pFM",
        "outputId": "1e0ae3eb-af2d-4eaf-f574-f74b264891eb"
      },
      "source": [
        "# CODE HERE\n",
        "temp = np.transpose(A)\n",
        "print(temp)"
      ],
      "execution_count": 32,
      "outputs": [
        {
          "output_type": "stream",
          "name": "stdout",
          "text": [
            "[[0.37454012 0.15599452 0.02058449 0.18340451 0.61185289]\n",
            " [0.95071431 0.05808361 0.96990985 0.30424224 0.13949386]\n",
            " [0.73199394 0.86617615 0.83244264 0.52475643 0.29214465]\n",
            " [0.59865848 0.60111501 0.21233911 0.43194502 0.36636184]\n",
            " [0.15601864 0.70807258 0.18182497 0.29122914 0.45606998]]\n"
          ]
        }
      ]
    },
    {
      "cell_type": "code",
      "metadata": {
        "id": "Wqzjd7SF5pFM",
        "outputId": "801ee4ed-5f3b-4bf1-b093-28fa87d2638f"
      },
      "source": [
        "# DON'T WRITE HERE\n"
      ],
      "execution_count": null,
      "outputs": [
        {
          "data": {
            "text/plain": [
              "array([[ 0.49671415, -0.23413696, -0.46341769, -0.56228753,  1.46564877],\n",
              "       [-0.1382643 ,  1.57921282, -0.46572975, -1.01283112, -0.2257763 ],\n",
              "       [ 0.64768854,  0.76743473,  0.24196227,  0.31424733,  0.0675282 ],\n",
              "       [ 1.52302986, -0.46947439, -1.91328024, -0.90802408, -1.42474819],\n",
              "       [-0.23415337,  0.54256004, -1.72491783, -1.4123037 , -0.54438272]])"
            ]
          },
          "execution_count": 9,
          "metadata": {},
          "output_type": "execute_result"
        }
      ]
    },
    {
      "cell_type": "code",
      "metadata": {
        "colab": {
          "base_uri": "https://localhost:8080/"
        },
        "id": "qe-Dq5of5pFN",
        "outputId": "7d85bcd1-e3c9-4e4f-b293-1ec989296e5a"
      },
      "source": [
        "# CODE HERE\n",
        "temp = np.linalg.inv(A)\n",
        "print(temp)"
      ],
      "execution_count": null,
      "outputs": [
        {
          "output_type": "stream",
          "name": "stdout",
          "text": [
            "[[  364.60350483   334.16789204   -91.41631021  -895.54602541\n",
            "    -35.23406016]\n",
            " [ -351.86538626  -323.93604372    89.07808984   864.20754679\n",
            "     35.93471989]\n",
            " [  584.80763977   538.00659297  -146.16417479 -1436.8998493\n",
            "    -59.51982157]\n",
            " [ -234.80558669  -217.08098236    57.15090649   582.66687482\n",
            "     22.50116178]\n",
            " [ -567.51216365  -519.48181002   143.11544206  1389.49392418\n",
            "     58.52220068]]\n"
          ]
        }
      ]
    },
    {
      "cell_type": "code",
      "metadata": {
        "id": "91l58Po_5pFN",
        "outputId": "2f289850-00b5-4c50-fc4a-d64fe3d19d4c"
      },
      "source": [
        "# DON'T WRITE HERE\n"
      ],
      "execution_count": null,
      "outputs": [
        {
          "data": {
            "text/plain": [
              "array([[ 0.27160427, -0.13802315,  0.1068986 , -0.40131296,  0.44803328],\n",
              "       [ 0.43517254, -0.07793672,  1.47897661, -1.76590496, -0.36977934],\n",
              "       [ 0.00734044,  0.90858841, -1.49597684,  2.00568236,  0.43912026],\n",
              "       [ 0.49145763, -0.27331144,  0.46849253, -0.64008524, -0.30765249],\n",
              "       [-0.734562  ,  0.48873361, -1.7372825 ,  1.57594284,  0.38231772]])"
            ]
          },
          "execution_count": 11,
          "metadata": {},
          "output_type": "execute_result"
        }
      ]
    },
    {
      "cell_type": "markdown",
      "metadata": {
        "id": "cco6ruA15pFO"
      },
      "source": [
        "5. Choose an elementary function ($exp$, $sin$, etc.), apply it elementwise to $A$ and print the result."
      ]
    },
    {
      "cell_type": "code",
      "metadata": {
        "id": "WdcbvPH95pFO",
        "colab": {
          "base_uri": "https://localhost:8080/"
        },
        "outputId": "26e1234f-ee3f-4c5d-eaf4-ae60a2bc41b9"
      },
      "source": [
        "# CODE HERE\n",
        "np.tan(A)"
      ],
      "execution_count": 33,
      "outputs": [
        {
          "output_type": "execute_result",
          "data": {
            "text/plain": [
              "array([[0.39309554, 1.40049581, 0.8985148 , 0.68216921, 0.15729701],\n",
              "       [0.1572723 , 0.05814902, 1.17616996, 0.68577494, 0.85618282],\n",
              "       [0.0205874 , 1.45891907, 1.09881034, 0.21558904, 0.18385555],\n",
              "       [0.18548897, 0.31399056, 0.57889484, 0.46097725, 0.29975187],\n",
              "       [0.70168045, 0.14040574, 0.30074992, 0.38368357, 0.49056354]])"
            ]
          },
          "metadata": {},
          "execution_count": 33
        }
      ]
    },
    {
      "cell_type": "code",
      "metadata": {
        "id": "okOT-ps85pFO",
        "outputId": "bb1b8ae7-1e5b-41b9-c068-991438895ce1"
      },
      "source": [
        "# DON'T WRITE HERE\n"
      ],
      "execution_count": null,
      "outputs": [
        {
          "data": {
            "text/plain": [
              "array([[1.64331272, 0.87086849, 1.91111824, 4.58609939, 0.79124045],\n",
              "       [0.79125344, 4.85113557, 2.15423297, 0.62533086, 1.72040554],\n",
              "       [0.62912979, 0.62767689, 1.27374614, 0.14759544, 0.17818769],\n",
              "       [0.5699039 , 0.36318929, 1.36922835, 0.40332037, 0.2435815 ],\n",
              "       [4.33035173, 0.79789657, 1.06986043, 0.24056903, 0.58019982]])"
            ]
          },
          "execution_count": 13,
          "metadata": {},
          "output_type": "execute_result"
        }
      ]
    },
    {
      "cell_type": "markdown",
      "metadata": {
        "id": "t_A6GIx05pFP"
      },
      "source": [
        "6. Find $A+b$, using the broadcating."
      ]
    },
    {
      "cell_type": "code",
      "metadata": {
        "colab": {
          "base_uri": "https://localhost:8080/"
        },
        "id": "wNhgdbJ95pFP",
        "outputId": "be9de56f-6347-412e-f4fe-a3965a526574"
      },
      "source": [
        "# CODE HERE\n",
        "A + b"
      ],
      "execution_count": 34,
      "outputs": [
        {
          "output_type": "execute_result",
          "data": {
            "text/plain": [
              "array([[1.15971608, 1.15038809, 1.24622838, 1.19107305, 0.20246905],\n",
              "       [0.94117048, 0.25775739, 1.38041058, 1.19352958, 0.75452299],\n",
              "       [0.80576046, 1.16958363, 1.34667708, 0.80475368, 0.22827538],\n",
              "       [0.96858047, 0.50391603, 1.03899087, 1.02435959, 0.33767955],\n",
              "       [1.39702886, 0.33916764, 0.80637909, 0.95877641, 0.5025204 ]])"
            ]
          },
          "metadata": {},
          "execution_count": 34
        }
      ]
    },
    {
      "cell_type": "code",
      "metadata": {
        "id": "8tzmcqQ_5pFQ",
        "outputId": "e1ee8cd7-eb0d-4022-92e7-474dc042722d"
      },
      "source": [
        "# DON'T WRITE HERE\n"
      ],
      "execution_count": null,
      "outputs": [
        {
          "data": {
            "text/plain": [
              "array([[ 0.60763674, -1.28925788,  1.02338656,  0.92239117, -0.52584712],\n",
              "       [-0.12321437,  0.42821924,  1.14313275, -1.07011308,  0.25086629],\n",
              "       [-0.3524951 , -1.61672333,  0.61766029, -2.51391893, -2.01661158],\n",
              "       [-0.45136494, -2.1638247 ,  0.68994535, -1.50866277, -1.70399745],\n",
              "       [ 1.57657136, -1.37676988,  0.44322622, -2.02538688, -0.83607647]])"
            ]
          },
          "execution_count": 15,
          "metadata": {},
          "output_type": "execute_result"
        }
      ]
    },
    {
      "cell_type": "markdown",
      "metadata": {
        "id": "rHzknAQk5pFQ"
      },
      "source": [
        "7. Find the sum of all rows of $A$."
      ]
    },
    {
      "cell_type": "code",
      "metadata": {
        "colab": {
          "base_uri": "https://localhost:8080/"
        },
        "id": "0kIdlQiq5pFR",
        "outputId": "7284c844-db0e-4969-9fc7-24a0a01a85b8"
      },
      "source": [
        "# CODE HERE\n",
        "Е=sum(A,0)\n",
        "print (Е)"
      ],
      "execution_count": 35,
      "outputs": [
        {
          "output_type": "stream",
          "name": "stdout",
          "text": [
            "[1.34637654 2.42244387 3.24751381 2.21041947 1.79321531]\n"
          ]
        }
      ]
    },
    {
      "cell_type": "code",
      "metadata": {
        "id": "put5-5tb5pFR",
        "outputId": "0bc76341-15c7-4e99-d94c-6ea31e8c18f3"
      },
      "source": [
        "# DON'T WRITE HERE\n"
      ],
      "execution_count": null,
      "outputs": [
        {
          "name": "stdout",
          "output_type": "stream",
          "text": [
            "[ 2.29501487  2.18559625 -4.32538325 -3.58119909 -0.66173024]\n"
          ]
        }
      ]
    },
    {
      "cell_type": "markdown",
      "metadata": {
        "id": "eKE3qb2N5pFR"
      },
      "source": [
        "8. Find the sum of all columns of $A$."
      ]
    },
    {
      "cell_type": "code",
      "metadata": {
        "colab": {
          "base_uri": "https://localhost:8080/"
        },
        "id": "SpYGPCnt5pFS",
        "outputId": "f40f91a2-28bd-4a1c-e350-3aeccddfb862"
      },
      "source": [
        "# CODE HERE\n",
        "K=sum(A,1)\n",
        "print (K)"
      ],
      "execution_count": 36,
      "outputs": [
        {
          "output_type": "stream",
          "name": "stdout",
          "text": [
            "[2.34637654 3.42244387 4.24751381 3.21041947 2.79321531]\n"
          ]
        }
      ]
    },
    {
      "cell_type": "code",
      "metadata": {
        "id": "64Nyt4oP5pFS",
        "outputId": "a04a4e54-00ee-44b3-bc2c-d1912bc28aad"
      },
      "source": [
        "# DON'T WRITE HERE\n"
      ],
      "execution_count": null,
      "outputs": [
        {
          "name": "stdout",
          "output_type": "stream",
          "text": [
            "[ 0.70252074 -0.26338866  2.03886108 -3.19249704 -3.37319759]\n"
          ]
        }
      ]
    },
    {
      "cell_type": "markdown",
      "metadata": {
        "id": "VUidiQXd5pFS"
      },
      "source": [
        "9. Create a vector $v=(10,11,\\dots,10+m)$. Use `np.arange`."
      ]
    },
    {
      "cell_type": "code",
      "metadata": {
        "colab": {
          "base_uri": "https://localhost:8080/"
        },
        "id": "eZpQ3LQ15pFT",
        "outputId": "b40b30b5-b6b1-45c9-c267-fd4b595fdccc"
      },
      "source": [
        "# CODE HERE\n",
        "m=35\n",
        "From=10\n",
        "To=11+m\n",
        "Step=1\n",
        "v=np.arange(From,To,Step)\n",
        "v"
      ],
      "execution_count": 37,
      "outputs": [
        {
          "output_type": "execute_result",
          "data": {
            "text/plain": [
              "array([10, 11, 12, 13, 14, 15, 16, 17, 18, 19, 20, 21, 22, 23, 24, 25, 26,\n",
              "       27, 28, 29, 30, 31, 32, 33, 34, 35, 36, 37, 38, 39, 40, 41, 42, 43,\n",
              "       44, 45])"
            ]
          },
          "metadata": {},
          "execution_count": 37
        }
      ]
    },
    {
      "cell_type": "code",
      "metadata": {
        "id": "DQUtjYgq5pFT",
        "outputId": "6232bfcf-820c-445e-a1c9-7b2f793b7156"
      },
      "source": [
        "# DON'T WRITE HERE\n"
      ],
      "execution_count": null,
      "outputs": [
        {
          "data": {
            "text/plain": [
              "array([10, 11, 12, 13, 14, 15])"
            ]
          },
          "execution_count": 21,
          "metadata": {},
          "output_type": "execute_result"
        }
      ]
    },
    {
      "cell_type": "markdown",
      "metadata": {
        "id": "wH4Z2-tm5pFT"
      },
      "source": [
        "10. Create a vector $v=(0,0.1,\\dots,1)\\in\\mathbb R^{11}$. Use `np.linspace`."
      ]
    },
    {
      "cell_type": "code",
      "metadata": {
        "colab": {
          "base_uri": "https://localhost:8080/"
        },
        "id": "laFLDazl5pFU",
        "outputId": "d461569d-3744-4ae6-9c23-9dadba805f4f"
      },
      "source": [
        "# CODE HERE\n",
        "np.linspace(0, 1, num=11)"
      ],
      "execution_count": 38,
      "outputs": [
        {
          "output_type": "execute_result",
          "data": {
            "text/plain": [
              "array([0. , 0.1, 0.2, 0.3, 0.4, 0.5, 0.6, 0.7, 0.8, 0.9, 1. ])"
            ]
          },
          "metadata": {},
          "execution_count": 38
        }
      ]
    },
    {
      "cell_type": "code",
      "metadata": {
        "id": "H8oOvLc45pFU",
        "outputId": "6464ddc3-3a11-46ac-d66f-0500f7a67f93"
      },
      "source": [
        "# DON'T WRITE HERE\n"
      ],
      "execution_count": null,
      "outputs": [
        {
          "data": {
            "text/plain": [
              "array([0. , 0.1, 0.2, 0.3, 0.4, 0.5, 0.6, 0.7, 0.8, 0.9, 1. ])"
            ]
          },
          "execution_count": 23,
          "metadata": {},
          "output_type": "execute_result"
        }
      ]
    },
    {
      "cell_type": "markdown",
      "metadata": {
        "id": "n4Hp5nBq5pFU"
      },
      "source": [
        "11. Create a vector $v\\in\\mathbb R^{100}$ with random elements sampled from the uniform distribution on $\\{0,1,2\\}$. Use `np.random.seed(42)`."
      ]
    },
    {
      "cell_type": "code",
      "metadata": {
        "id": "6WVIJWDZ5pFU",
        "colab": {
          "base_uri": "https://localhost:8080/"
        },
        "outputId": "e2b18a18-e7ff-4514-c6cd-62986c76d04d"
      },
      "source": [
        "# CODE HERE\n",
        "v = np.random.seed (42)\n",
        "v = np.random.randint(0,3,100)\n",
        "v"
      ],
      "execution_count": 39,
      "outputs": [
        {
          "output_type": "execute_result",
          "data": {
            "text/plain": [
              "array([2, 0, 2, 2, 0, 0, 2, 1, 2, 2, 2, 2, 0, 2, 1, 0, 1, 1, 1, 1, 0, 0,\n",
              "       1, 1, 0, 0, 0, 2, 2, 2, 1, 2, 1, 1, 2, 1, 2, 2, 0, 2, 0, 2, 2, 0,\n",
              "       0, 2, 1, 0, 1, 1, 1, 0, 1, 0, 1, 2, 2, 0, 2, 2, 1, 0, 1, 1, 1, 1,\n",
              "       1, 1, 1, 0, 2, 1, 1, 1, 1, 1, 1, 2, 2, 1, 2, 0, 1, 0, 0, 1, 2, 0,\n",
              "       1, 0, 0, 0, 0, 2, 0, 0, 0, 2, 0, 0])"
            ]
          },
          "metadata": {},
          "execution_count": 39
        }
      ]
    },
    {
      "cell_type": "code",
      "metadata": {
        "id": "Wcg2OiW35pFV",
        "outputId": "80e8a3bf-8dd7-43d8-b5f2-6646aaa2f5c2"
      },
      "source": [
        "# DON'T WRITE HERE\n"
      ],
      "execution_count": null,
      "outputs": [
        {
          "data": {
            "text/plain": [
              "array([2, 0, 2, 2, 0, 0, 2, 1, 2, 2, 2, 2, 0, 2, 1, 0, 1, 1, 1, 1, 0, 0,\n",
              "       1, 1, 0, 0, 0, 2, 2, 2, 1, 2, 1, 1, 2, 1, 2, 2, 0, 2, 0, 2, 2, 0,\n",
              "       0, 2, 1, 0, 1, 1, 1, 0, 1, 0, 1, 2, 2, 0, 2, 2, 1, 0, 1, 1, 1, 1,\n",
              "       1, 1, 1, 0, 2, 1, 1, 1, 1, 1, 1, 2, 2, 1, 2, 0, 1, 0, 0, 1, 2, 0,\n",
              "       1, 0, 0, 0, 0, 2, 0, 0, 0, 2, 0, 0])"
            ]
          },
          "execution_count": 25,
          "metadata": {},
          "output_type": "execute_result"
        }
      ]
    },
    {
      "cell_type": "markdown",
      "metadata": {
        "id": "EN0vcCav5pFV"
      },
      "source": [
        "12. Find the number of appearence of each element $0,1,2$ in $v$. Use `np.bincount`."
      ]
    },
    {
      "cell_type": "code",
      "metadata": {
        "id": "Tqe2DF5G5pFV",
        "colab": {
          "base_uri": "https://localhost:8080/"
        },
        "outputId": "13b217c6-f1ec-4ca1-fe7e-0801c668d6f5"
      },
      "source": [
        "# CODE HERE\n",
        "np.bincount(v)"
      ],
      "execution_count": 40,
      "outputs": [
        {
          "output_type": "execute_result",
          "data": {
            "text/plain": [
              "array([33, 36, 31])"
            ]
          },
          "metadata": {},
          "execution_count": 40
        }
      ]
    },
    {
      "cell_type": "code",
      "metadata": {
        "id": "caVM2iRe5pFW",
        "outputId": "a94b1c1c-28ea-4801-a92c-9a58cbbffb99"
      },
      "source": [
        "# DON'T WRITE HERE\n"
      ],
      "execution_count": null,
      "outputs": [
        {
          "data": {
            "text/plain": [
              "array([33, 36, 31], dtype=int64)"
            ]
          },
          "execution_count": 27,
          "metadata": {},
          "output_type": "execute_result"
        }
      ]
    },
    {
      "cell_type": "markdown",
      "metadata": {
        "id": "l2OZi-cW5pFW"
      },
      "source": [
        "13. Fix $\\mu$, $\\sigma$. Create a vector $v\\in\\mathbb R^{100}$ with random elements sampled from the normal random distribution with parameters $(\\mu,\\sigma^2)$. Use `np.random.randn` and `np.random.seed(42)`."
      ]
    },
    {
      "cell_type": "code",
      "metadata": {
        "id": "MysAxkiA5pFW",
        "colab": {
          "base_uri": "https://localhost:8080/"
        },
        "outputId": "d85576a0-9906-4c89-9f34-3d449dbe8d09"
      },
      "source": [
        "# CODE HERE\n",
        "Mu = 10\n",
        "Sigma = 10\n",
        "v = np.random.seed(42)\n",
        "v = np.random.randn(100)*Sigma+Mu\n",
        "v"
      ],
      "execution_count": 41,
      "outputs": [
        {
          "output_type": "execute_result",
          "data": {
            "text/plain": [
              "array([ 14.96714153,   8.61735699,  16.47688538,  25.23029856,\n",
              "         7.65846625,   7.65863043,  25.79212816,  17.67434729,\n",
              "         5.30525614,  15.42560044,   5.36582307,   5.34270246,\n",
              "        12.41962272,  -9.13280245,  -7.24917833,   4.37712471,\n",
              "        -0.1283112 ,  13.14247333,   0.91975924,  -4.12303701,\n",
              "        24.65648769,   7.742237  ,  10.67528205,  -4.24748186,\n",
              "         4.55617275,  11.1092259 ,  -1.50993577,  13.75698018,\n",
              "         3.9936131 ,   7.0830625 ,   3.98293388,  28.52278185,\n",
              "         9.86502775,  -0.57710929,  18.22544912,  -2.2084365 ,\n",
              "        12.08863595,  -9.59670124,  -3.28186049,  11.96861236,\n",
              "        17.3846658 ,  11.71368281,   8.84351718,   6.98896304,\n",
              "        -4.7852199 ,   2.80155792,   5.39361229,  20.57122226,\n",
              "        13.4361829 ,  -7.63040155,  13.24083969,   6.1491772 ,\n",
              "         3.23078   ,  16.11676289,  20.30999522,  19.31280119,\n",
              "         1.60782477,   6.90787624,  13.31263431,  19.75545127,\n",
              "         5.20825762,   8.14341023,  -1.06334974,  -1.96206624,\n",
              "        18.12525822,  23.56240029,   9.27989878,  20.03532898,\n",
              "        13.61636025,   3.54880245,  13.61395606,  25.38036566,\n",
              "         9.64173961,  25.64643656, -16.19745104,  18.21902504,\n",
              "        10.87047068,   7.0099265 ,  10.91760777,  -9.87568915,\n",
              "         7.80328112,  13.57112572,  24.77894045,   4.81729782,\n",
              "         1.91506397,   4.98242956,  19.15402118,  13.2875111 ,\n",
              "         4.70239796,  15.13267433,  10.97077549,  19.68644991,\n",
              "         2.97946906,   6.72337853,   6.07891847,  -4.63514948,\n",
              "        12.96120277,  12.61055272,  10.05113457,   7.65412867])"
            ]
          },
          "metadata": {},
          "execution_count": 41
        }
      ]
    },
    {
      "cell_type": "code",
      "metadata": {
        "id": "QBSJBTYI5pFW",
        "outputId": "93365223-265f-4d15-f0af-a43d2c5de719"
      },
      "source": [
        " # DON'T WRITE HERE"
      ],
      "execution_count": null,
      "outputs": [
        {
          "data": {
            "text/plain": [
              "array([ 1.99342831e+00,  7.23471398e-01,  2.29537708e+00,  4.04605971e+00,\n",
              "        5.31693251e-01,  5.31726086e-01,  4.15842563e+00,  2.53486946e+00,\n",
              "        6.10512281e-02,  2.08512009e+00,  7.31646144e-02,  6.85404929e-02,\n",
              "        1.48392454e+00, -2.82656049e+00, -2.44983567e+00, -1.24575058e-01,\n",
              "       -1.02566224e+00,  1.62849467e+00, -8.16048151e-01, -1.82460740e+00,\n",
              "        3.93129754e+00,  5.48447399e-01,  1.13505641e+00, -1.84949637e+00,\n",
              "       -8.87654491e-02,  1.22184518e+00, -1.30198715e+00,  1.75139604e+00,\n",
              "       -2.01277380e-01,  4.16612500e-01, -2.03413224e-01,  4.70455637e+00,\n",
              "        9.73005551e-01, -1.11542186e+00,  2.64508982e+00, -1.44168730e+00,\n",
              "        1.41772719e+00, -2.91934025e+00, -1.65637210e+00,  1.39372247e+00,\n",
              "        2.47693316e+00,  1.34273656e+00,  7.68703435e-01,  3.97792609e-01,\n",
              "       -1.95704398e+00, -4.39688417e-01,  7.87224581e-02,  3.11424445e+00,\n",
              "        1.68723658e+00, -2.52608031e+00,  1.64816794e+00,  2.29835439e-01,\n",
              "       -3.53844001e-01,  2.22335258e+00,  3.06199904e+00,  2.86256024e+00,\n",
              "       -6.78435046e-01,  3.81575248e-01,  1.66252686e+00,  2.95109025e+00,\n",
              "        4.16515243e-02,  6.28682047e-01, -1.21266995e+00, -1.39241325e+00,\n",
              "        2.62505164e+00,  3.71248006e+00,  8.55979757e-01,  3.00706580e+00,\n",
              "        1.72327205e+00, -2.90239509e-01,  1.72279121e+00,  4.07607313e+00,\n",
              "        9.28347922e-01,  4.12928731e+00, -4.23949021e+00,  2.64380501e+00,\n",
              "        1.17409414e+00,  4.01985299e-01,  1.18352155e+00, -2.97513783e+00,\n",
              "        5.60656224e-01,  1.71422514e+00,  3.95578809e+00, -3.65404365e-02,\n",
              "       -6.16987206e-01, -3.51408717e-03,  2.83080424e+00,  1.65750222e+00,\n",
              "       -5.95204075e-02,  2.02653487e+00,  1.19415510e+00,  2.93728998e+00,\n",
              "       -4.04106188e-01,  3.44675707e-01,  2.15783694e-01, -1.92702990e+00,\n",
              "        1.59224055e+00,  1.52211054e+00,  1.01022691e+00,  5.30825733e-01])"
            ]
          },
          "execution_count": 29,
          "metadata": {},
          "output_type": "execute_result"
        }
      ]
    },
    {
      "cell_type": "markdown",
      "metadata": {
        "id": "-8gmOdDB5pFW"
      },
      "source": [
        "14. Find all elements that are larger than $1$ and collect them to another array $u$. "
      ]
    },
    {
      "cell_type": "code",
      "metadata": {
        "id": "hJyL6k9p5pFX",
        "colab": {
          "base_uri": "https://localhost:8080/"
        },
        "outputId": "68866fcf-9d56-4ed1-ca1f-9d8c3a635a5c"
      },
      "source": [
        "# CODE HERE\n",
        "u = v[v>1]\n",
        "print(u)"
      ],
      "execution_count": 42,
      "outputs": [
        {
          "output_type": "stream",
          "name": "stdout",
          "text": [
            "[14.96714153  8.61735699 16.47688538 25.23029856  7.65846625  7.65863043\n",
            " 25.79212816 17.67434729  5.30525614 15.42560044  5.36582307  5.34270246\n",
            " 12.41962272  4.37712471 13.14247333 24.65648769  7.742237   10.67528205\n",
            "  4.55617275 11.1092259  13.75698018  3.9936131   7.0830625   3.98293388\n",
            " 28.52278185  9.86502775 18.22544912 12.08863595 11.96861236 17.3846658\n",
            " 11.71368281  8.84351718  6.98896304  2.80155792  5.39361229 20.57122226\n",
            " 13.4361829  13.24083969  6.1491772   3.23078    16.11676289 20.30999522\n",
            " 19.31280119  1.60782477  6.90787624 13.31263431 19.75545127  5.20825762\n",
            "  8.14341023 18.12525822 23.56240029  9.27989878 20.03532898 13.61636025\n",
            "  3.54880245 13.61395606 25.38036566  9.64173961 25.64643656 18.21902504\n",
            " 10.87047068  7.0099265  10.91760777  7.80328112 13.57112572 24.77894045\n",
            "  4.81729782  1.91506397  4.98242956 19.15402118 13.2875111   4.70239796\n",
            " 15.13267433 10.97077549 19.68644991  2.97946906  6.72337853  6.07891847\n",
            " 12.96120277 12.61055272 10.05113457  7.65412867]\n"
          ]
        }
      ]
    },
    {
      "cell_type": "code",
      "metadata": {
        "id": "VwjtkrFH5pFX",
        "outputId": "7e06f217-5e5f-45c1-efbf-73eeee7e34bd"
      },
      "source": [
        "# DON'T WRITE HERE\n"
      ],
      "execution_count": null,
      "outputs": [
        {
          "name": "stdout",
          "output_type": "stream",
          "text": [
            "[1.99342831 2.29537708 4.04605971 4.15842563 2.53486946 2.08512009\n",
            " 1.48392454 1.62849467 3.93129754 1.13505641 1.22184518 1.75139604\n",
            " 4.70455637 2.64508982 1.41772719 1.39372247 2.47693316 1.34273656\n",
            " 3.11424445 1.68723658 1.64816794 2.22335258 3.06199904 2.86256024\n",
            " 1.66252686 2.95109025 2.62505164 3.71248006 3.0070658  1.72327205\n",
            " 1.72279121 4.07607313 4.12928731 2.64380501 1.17409414 1.18352155\n",
            " 1.71422514 3.95578809 2.83080424 1.65750222 2.02653487 1.1941551\n",
            " 2.93728998 1.59224055 1.52211054 1.01022691]\n"
          ]
        }
      ]
    },
    {
      "cell_type": "markdown",
      "metadata": {
        "id": "T1ugF1rc5pFX"
      },
      "source": [
        "15. Find and print the positions of the mentioned elements in $v$. Use `np.where`."
      ]
    },
    {
      "cell_type": "code",
      "metadata": {
        "colab": {
          "base_uri": "https://localhost:8080/"
        },
        "id": "EbVTxsEP5pFX",
        "outputId": "5b423544-3b24-4e56-fcd2-b68a10b62a6b"
      },
      "source": [
        "# CODE HERE\n",
        "ut=np.where (v>1)\n",
        "ut"
      ],
      "execution_count": 43,
      "outputs": [
        {
          "output_type": "execute_result",
          "data": {
            "text/plain": [
              "(array([ 0,  1,  2,  3,  4,  5,  6,  7,  8,  9, 10, 11, 12, 15, 17, 20, 21,\n",
              "        22, 24, 25, 27, 28, 29, 30, 31, 32, 34, 36, 39, 40, 41, 42, 43, 45,\n",
              "        46, 47, 48, 50, 51, 52, 53, 54, 55, 56, 57, 58, 59, 60, 61, 64, 65,\n",
              "        66, 67, 68, 69, 70, 71, 72, 73, 75, 76, 77, 78, 80, 81, 82, 83, 84,\n",
              "        85, 86, 87, 88, 89, 90, 91, 92, 93, 94, 96, 97, 98, 99]),)"
            ]
          },
          "metadata": {},
          "execution_count": 43
        }
      ]
    },
    {
      "cell_type": "code",
      "metadata": {
        "id": "Ln6pTm7l5pFX",
        "outputId": "6a6146e9-8b6b-4a34-86ad-f4eb351e05ad"
      },
      "source": [
        "# DON'T WRITE HERE\n"
      ],
      "execution_count": null,
      "outputs": [
        {
          "data": {
            "text/plain": [
              "(array([ 0,  2,  3,  6,  7,  9, 12, 17, 20, 22, 25, 27, 31, 34, 36, 39, 40,\n",
              "        41, 47, 48, 50, 53, 54, 55, 58, 59, 64, 65, 67, 68, 70, 71, 73, 75,\n",
              "        76, 78, 81, 82, 86, 87, 89, 90, 91, 96, 97, 98], dtype=int64),)"
            ]
          },
          "execution_count": 33,
          "metadata": {},
          "output_type": "execute_result"
        }
      ]
    },
    {
      "cell_type": "markdown",
      "metadata": {
        "id": "VqKnNDRY5pFY"
      },
      "source": [
        "16. Find the mean, minimum, maximum, standard deviation for the sample $v$. "
      ]
    },
    {
      "cell_type": "code",
      "metadata": {
        "id": "8mMuiyMY5pFY",
        "colab": {
          "base_uri": "https://localhost:8080/"
        },
        "outputId": "adf0b2ff-21ef-4efe-ff41-8e0f44902201"
      },
      "source": [
        "# CODE HERE\n",
        "print(np.mean(v),np.min(v),np.max(v),np.std(v))\n"
      ],
      "execution_count": 44,
      "outputs": [
        {
          "output_type": "stream",
          "name": "stdout",
          "text": [
            "8.961534826059061 -16.197451040897445 28.522781845089376 9.036161766446297\n"
          ]
        }
      ]
    },
    {
      "cell_type": "code",
      "metadata": {
        "id": "Jl5V_HGw5pFY",
        "outputId": "1b1c20a0-24a3-4703-fdfd-9040691ebd2e"
      },
      "source": [
        "# DON'T WRITE HERE\n"
      ],
      "execution_count": null,
      "outputs": [
        {
          "name": "stdout",
          "output_type": "stream",
          "text": [
            "0.7923069652118122 -4.239490208179489 4.704556369017876 1.8072323532892594\n"
          ]
        }
      ]
    },
    {
      "cell_type": "markdown",
      "metadata": {
        "id": "kQ8GVrKe5pFY"
      },
      "source": [
        "17. Create the following matrix:"
      ]
    },
    {
      "cell_type": "code",
      "metadata": {
        "colab": {
          "base_uri": "https://localhost:8080/"
        },
        "id": "sThrEBtP5pFY",
        "outputId": "53c29454-ae91-4603-bdcd-fee71c77fe83"
      },
      "source": [
        "# CODE HERE\n",
        "I = np.arange(0.01, 1.01, 0.01)\n",
        "I = np.reshape(I, (10, 10))\n",
        "I"
      ],
      "execution_count": 45,
      "outputs": [
        {
          "output_type": "execute_result",
          "data": {
            "text/plain": [
              "array([[0.01, 0.02, 0.03, 0.04, 0.05, 0.06, 0.07, 0.08, 0.09, 0.1 ],\n",
              "       [0.11, 0.12, 0.13, 0.14, 0.15, 0.16, 0.17, 0.18, 0.19, 0.2 ],\n",
              "       [0.21, 0.22, 0.23, 0.24, 0.25, 0.26, 0.27, 0.28, 0.29, 0.3 ],\n",
              "       [0.31, 0.32, 0.33, 0.34, 0.35, 0.36, 0.37, 0.38, 0.39, 0.4 ],\n",
              "       [0.41, 0.42, 0.43, 0.44, 0.45, 0.46, 0.47, 0.48, 0.49, 0.5 ],\n",
              "       [0.51, 0.52, 0.53, 0.54, 0.55, 0.56, 0.57, 0.58, 0.59, 0.6 ],\n",
              "       [0.61, 0.62, 0.63, 0.64, 0.65, 0.66, 0.67, 0.68, 0.69, 0.7 ],\n",
              "       [0.71, 0.72, 0.73, 0.74, 0.75, 0.76, 0.77, 0.78, 0.79, 0.8 ],\n",
              "       [0.81, 0.82, 0.83, 0.84, 0.85, 0.86, 0.87, 0.88, 0.89, 0.9 ],\n",
              "       [0.91, 0.92, 0.93, 0.94, 0.95, 0.96, 0.97, 0.98, 0.99, 1.  ]])"
            ]
          },
          "metadata": {},
          "execution_count": 45
        }
      ]
    },
    {
      "cell_type": "code",
      "metadata": {
        "id": "MXbWVSsk5pFZ",
        "outputId": "cc864a70-3327-4024-f3cc-c0837832eea4"
      },
      "source": [
        "# DON'T WRITE HERE\n"
      ],
      "execution_count": null,
      "outputs": [
        {
          "data": {
            "text/plain": [
              "array([[0.01, 0.02, 0.03, 0.04, 0.05, 0.06, 0.07, 0.08, 0.09, 0.1 ],\n",
              "       [0.11, 0.12, 0.13, 0.14, 0.15, 0.16, 0.17, 0.18, 0.19, 0.2 ],\n",
              "       [0.21, 0.22, 0.23, 0.24, 0.25, 0.26, 0.27, 0.28, 0.29, 0.3 ],\n",
              "       [0.31, 0.32, 0.33, 0.34, 0.35, 0.36, 0.37, 0.38, 0.39, 0.4 ],\n",
              "       [0.41, 0.42, 0.43, 0.44, 0.45, 0.46, 0.47, 0.48, 0.49, 0.5 ],\n",
              "       [0.51, 0.52, 0.53, 0.54, 0.55, 0.56, 0.57, 0.58, 0.59, 0.6 ],\n",
              "       [0.61, 0.62, 0.63, 0.64, 0.65, 0.66, 0.67, 0.68, 0.69, 0.7 ],\n",
              "       [0.71, 0.72, 0.73, 0.74, 0.75, 0.76, 0.77, 0.78, 0.79, 0.8 ],\n",
              "       [0.81, 0.82, 0.83, 0.84, 0.85, 0.86, 0.87, 0.88, 0.89, 0.9 ],\n",
              "       [0.91, 0.92, 0.93, 0.94, 0.95, 0.96, 0.97, 0.98, 0.99, 1.  ]])"
            ]
          },
          "execution_count": 37,
          "metadata": {},
          "output_type": "execute_result"
        }
      ]
    },
    {
      "cell_type": "markdown",
      "metadata": {
        "id": "WQRbULfW5pFZ"
      },
      "source": [
        "18. Run this cell - this is our starting matrix"
      ]
    },
    {
      "cell_type": "code",
      "metadata": {
        "id": "WwNVeyRc5pFZ",
        "colab": {
          "base_uri": "https://localhost:8080/"
        },
        "outputId": "18292c92-e6e3-44ca-9223-399dcd98e9b3"
      },
      "source": [
        "M = np.arange(1,26).reshape(5,5)\n",
        "M"
      ],
      "execution_count": 46,
      "outputs": [
        {
          "output_type": "execute_result",
          "data": {
            "text/plain": [
              "array([[ 1,  2,  3,  4,  5],\n",
              "       [ 6,  7,  8,  9, 10],\n",
              "       [11, 12, 13, 14, 15],\n",
              "       [16, 17, 18, 19, 20],\n",
              "       [21, 22, 23, 24, 25]])"
            ]
          },
          "metadata": {},
          "execution_count": 46
        }
      ]
    },
    {
      "cell_type": "markdown",
      "metadata": {
        "id": "QFcaR4fG5pFZ"
      },
      "source": [
        "18.1. Write code that reproduces the output shown below"
      ]
    },
    {
      "cell_type": "code",
      "metadata": {
        "id": "CgFu_Kd25pFZ",
        "colab": {
          "base_uri": "https://localhost:8080/"
        },
        "outputId": "11296912-1a20-46b9-8d04-99999eaaeb39"
      },
      "source": [
        "# CODE HERE\n",
        "M[2:5, 1:5] "
      ],
      "execution_count": 47,
      "outputs": [
        {
          "output_type": "execute_result",
          "data": {
            "text/plain": [
              "array([[12, 13, 14, 15],\n",
              "       [17, 18, 19, 20],\n",
              "       [22, 23, 24, 25]])"
            ]
          },
          "metadata": {},
          "execution_count": 47
        }
      ]
    },
    {
      "cell_type": "code",
      "metadata": {
        "id": "_B_-F3RQ5pFa",
        "outputId": "28cbf2ab-5dce-4c98-f3a2-a43c76548713"
      },
      "source": [
        "# DON'T WRITE HERE\n"
      ],
      "execution_count": null,
      "outputs": [
        {
          "data": {
            "text/plain": [
              "array([[12, 13, 14, 15],\n",
              "       [17, 18, 19, 20],\n",
              "       [22, 23, 24, 25]])"
            ]
          },
          "execution_count": 40,
          "metadata": {},
          "output_type": "execute_result"
        }
      ]
    },
    {
      "cell_type": "markdown",
      "metadata": {
        "id": "yTldQd_M5pFa"
      },
      "source": [
        "18.2. Write code that reproduces the output shown below"
      ]
    },
    {
      "cell_type": "code",
      "metadata": {
        "id": "NZlhUP6I5pFa",
        "colab": {
          "base_uri": "https://localhost:8080/"
        },
        "outputId": "56623033-fd90-4a70-9281-b1d0c87648dc"
      },
      "source": [
        "# CODE HERE\n",
        "M[0:3, 1:2] "
      ],
      "execution_count": 48,
      "outputs": [
        {
          "output_type": "execute_result",
          "data": {
            "text/plain": [
              "array([[ 2],\n",
              "       [ 7],\n",
              "       [12]])"
            ]
          },
          "metadata": {},
          "execution_count": 48
        }
      ]
    },
    {
      "cell_type": "code",
      "metadata": {
        "id": "7KjCAokQ5pFa",
        "colab": {
          "base_uri": "https://localhost:8080/"
        },
        "outputId": "33c9a7c1-cdf9-45e9-dabe-0ba867c8b0e5"
      },
      "source": [
        "# DON'T WRITE HERE"
      ],
      "execution_count": 17,
      "outputs": [
        {
          "output_type": "execute_result",
          "data": {
            "text/plain": [
              "array([[ 2],\n",
              "       [ 7],\n",
              "       [12]])"
            ]
          },
          "metadata": {},
          "execution_count": 17
        }
      ]
    },
    {
      "cell_type": "markdown",
      "metadata": {
        "id": "6zVr3fQq5pFb"
      },
      "source": [
        "19. Use `np.genfromtxt` to read the data from the file PopulationWorld.txt. Print this data."
      ]
    },
    {
      "cell_type": "code",
      "metadata": {
        "id": "6-lWj4dR5pFb",
        "colab": {
          "base_uri": "https://localhost:8080/"
        },
        "outputId": "0ce98d4e-e93f-4b99-b771-f8edb73a3f9a"
      },
      "source": [
        "# CODE HERE\n",
        "#np.genfromtxt('PopulationWorld.txt')\n",
        "print(np.genfromtxt('PopulationWorld.txt'))"
      ],
      "execution_count": 49,
      "outputs": [
        {
          "output_type": "stream",
          "name": "stdout",
          "text": [
            "[[        nan         nan]\n",
            " [1950.       2556.518868]\n",
            " [1951.       2594.286218]\n",
            " [1952.       2636.327569]\n",
            " [1953.       2681.6453  ]\n",
            " [1954.       2729.59137 ]\n",
            " [1955.       2781.022728]\n",
            " [1956.       2833.96217 ]\n",
            " [1957.       2889.768544]\n",
            " [1958.       2946.25365 ]\n",
            " [1959.       2998.566597]\n",
            " [1960.       3040.617096]\n",
            " [1961.       3081.357914]\n",
            " [1962.       3137.310049]\n",
            " [1963.       3206.784546]\n",
            " [1964.       3277.857333]\n",
            " [1965.       3346.78614 ]\n",
            " [1966.       3416.915657]\n",
            " [1967.       3486.554554]\n",
            " [1968.       3558.296344]\n",
            " [1969.       3632.820863]\n",
            " [1970.       3707.918808]\n",
            " [1971.       3785.251387]\n",
            " [1972.       3861.303852]\n",
            " [1973.       3936.832808]\n",
            " [1974.       4011.259221]\n",
            " [1975.       4083.741137]\n",
            " [1976.       4154.714573]\n",
            " [1977.       4226.260173]\n",
            " [1978.       4297.721618]\n",
            " [1979.       4371.992258]\n",
            " [1980.       4447.081447]\n",
            " [1981.       4522.496861]\n",
            " [1982.       4601.642622]\n",
            " [1983.       4682.718718]\n",
            " [1984.       4762.510938]\n",
            " [1985.       4843.719785]\n",
            " [1986.       4926.769119]\n",
            " [1987.       5012.704927]\n",
            " [1988.       5099.256557]\n",
            " [1989.       5185.74304 ]\n",
            " [1990.       5273.414884]\n",
            " [1991.       5357.220459]\n",
            " [1992.       5440.496027]\n",
            " [1993.       5521.312756]\n",
            " [1994.       5601.033178]\n",
            " [1995.       5681.678196]\n",
            " [1996.       5761.608971]\n",
            " [1997.       5840.574905]\n",
            " [1998.       5918.716088]\n",
            " [1999.       5995.599889]\n",
            " [2000.       6071.710896]\n",
            " [2001.       6147.535997]\n",
            " [2002.       6222.551715]\n",
            " [2003.       6297.4459  ]\n",
            " [2004.       6372.929801]\n",
            " [2005.       6449.137123]\n",
            " [2006.       6525.55921 ]\n",
            " [2007.       6602.274812]\n",
            " [2008.       6679.532264]\n",
            " [2009.       6757.06276 ]\n",
            " [2010.       6834.934808]\n",
            " [2011.       6913.263561]\n",
            " [2012.       6991.796293]\n",
            " [2013.       7070.248599]\n",
            " [2014.       7148.361369]\n",
            " [2015.       7225.918656]\n",
            " [2016.       7302.863077]\n",
            " [2017.       7379.190049]\n",
            " [2018.       7454.795039]]\n"
          ]
        }
      ]
    },
    {
      "cell_type": "code",
      "metadata": {
        "id": "8EaoSVG45pFb",
        "outputId": "5861e86e-7603-40de-c466-e6a6cee623a5"
      },
      "source": [
        "# DON'T WRITE HERE\n"
      ],
      "execution_count": null,
      "outputs": [
        {
          "data": {
            "text/plain": [
              "array([(1950., 2556.518868), (1951., 2594.286218), (1952., 2636.327569),\n",
              "       (1953., 2681.6453  ), (1954., 2729.59137 ), (1955., 2781.022728),\n",
              "       (1956., 2833.96217 ), (1957., 2889.768544), (1958., 2946.25365 ),\n",
              "       (1959., 2998.566597), (1960., 3040.617096), (1961., 3081.357914),\n",
              "       (1962., 3137.310049), (1963., 3206.784546), (1964., 3277.857333),\n",
              "       (1965., 3346.78614 ), (1966., 3416.915657), (1967., 3486.554554),\n",
              "       (1968., 3558.296344), (1969., 3632.820863), (1970., 3707.918808),\n",
              "       (1971., 3785.251387), (1972., 3861.303852), (1973., 3936.832808),\n",
              "       (1974., 4011.259221), (1975., 4083.741137), (1976., 4154.714573),\n",
              "       (1977., 4226.260173), (1978., 4297.721618), (1979., 4371.992258),\n",
              "       (1980., 4447.081447), (1981., 4522.496861), (1982., 4601.642622),\n",
              "       (1983., 4682.718718), (1984., 4762.510938), (1985., 4843.719785),\n",
              "       (1986., 4926.769119), (1987., 5012.704927), (1988., 5099.256557),\n",
              "       (1989., 5185.74304 ), (1990., 5273.414884), (1991., 5357.220459),\n",
              "       (1992., 5440.496027), (1993., 5521.312756), (1994., 5601.033178),\n",
              "       (1995., 5681.678196), (1996., 5761.608971), (1997., 5840.574905),\n",
              "       (1998., 5918.716088), (1999., 5995.599889), (2000., 6071.710896),\n",
              "       (2001., 6147.535997), (2002., 6222.551715), (2003., 6297.4459  ),\n",
              "       (2004., 6372.929801), (2005., 6449.137123), (2006., 6525.55921 ),\n",
              "       (2007., 6602.274812), (2008., 6679.532264), (2009., 6757.06276 ),\n",
              "       (2010., 6834.934808), (2011., 6913.263561), (2012., 6991.796293),\n",
              "       (2013., 7070.248599), (2014., 7148.361369), (2015., 7225.918656),\n",
              "       (2016., 7302.863077), (2017., 7379.190049), (2018., 7454.795039)],\n",
              "      dtype=[('Year', '<f8'), ('Population', '<f8')])"
            ]
          },
          "execution_count": 44,
          "metadata": {},
          "output_type": "execute_result"
        }
      ]
    }
  ]
}