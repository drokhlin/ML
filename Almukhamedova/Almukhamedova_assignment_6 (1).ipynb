{
  "cells": [
    {
      "cell_type": "code",
      "execution_count": 2,
      "metadata": {
        "colab": {
          "base_uri": "https://localhost:8080/"
        },
        "id": "RtPLS-I3MLtP",
        "outputId": "ff0f10d0-7b85-4727-9229-994287258143"
      },
      "outputs": [
        {
          "output_type": "stream",
          "name": "stdout",
          "text": [
            "Requirement already satisfied: mglearn in /usr/local/lib/python3.7/dist-packages (0.1.9)\n",
            "Requirement already satisfied: pillow in /usr/local/lib/python3.7/dist-packages (from mglearn) (7.1.2)\n",
            "Requirement already satisfied: numpy in /usr/local/lib/python3.7/dist-packages (from mglearn) (1.19.5)\n",
            "Requirement already satisfied: cycler in /usr/local/lib/python3.7/dist-packages (from mglearn) (0.11.0)\n",
            "Requirement already satisfied: joblib in /usr/local/lib/python3.7/dist-packages (from mglearn) (1.1.0)\n",
            "Requirement already satisfied: imageio in /usr/local/lib/python3.7/dist-packages (from mglearn) (2.4.1)\n",
            "Requirement already satisfied: pandas in /usr/local/lib/python3.7/dist-packages (from mglearn) (1.1.5)\n",
            "Requirement already satisfied: matplotlib in /usr/local/lib/python3.7/dist-packages (from mglearn) (3.2.2)\n",
            "Requirement already satisfied: scikit-learn in /usr/local/lib/python3.7/dist-packages (from mglearn) (1.0.1)\n",
            "Requirement already satisfied: pyparsing!=2.0.4,!=2.1.2,!=2.1.6,>=2.0.1 in /usr/local/lib/python3.7/dist-packages (from matplotlib->mglearn) (3.0.6)\n",
            "Requirement already satisfied: kiwisolver>=1.0.1 in /usr/local/lib/python3.7/dist-packages (from matplotlib->mglearn) (1.3.2)\n",
            "Requirement already satisfied: python-dateutil>=2.1 in /usr/local/lib/python3.7/dist-packages (from matplotlib->mglearn) (2.8.2)\n",
            "Requirement already satisfied: six>=1.5 in /usr/local/lib/python3.7/dist-packages (from python-dateutil>=2.1->matplotlib->mglearn) (1.15.0)\n",
            "Requirement already satisfied: pytz>=2017.2 in /usr/local/lib/python3.7/dist-packages (from pandas->mglearn) (2018.9)\n",
            "Requirement already satisfied: threadpoolctl>=2.0.0 in /usr/local/lib/python3.7/dist-packages (from scikit-learn->mglearn) (3.0.0)\n",
            "Requirement already satisfied: scipy>=1.1.0 in /usr/local/lib/python3.7/dist-packages (from scikit-learn->mglearn) (1.4.1)\n"
          ]
        }
      ],
      "source": [
        "import numpy as np\n",
        "import matplotlib.pyplot as plt\n",
        "import pandas as pd\n",
        "from sklearn.model_selection import train_test_split, GridSearchCV\n",
        "from sklearn.neighbors import KNeighborsClassifier\n",
        "from sklearn import neighbors\n",
        "from matplotlib.colors import ListedColormap\n",
        "!pip install mglearn\n",
        "import mglearn\n",
        "from sklearn.svm import SVC"
      ]
    },
    {
      "cell_type": "markdown",
      "metadata": {
        "id": "ZOsyFR8mMLtR"
      },
      "source": [
        "Create $n\\times 2$-dimensional array $X$  by sampling from $2$-dimensional Gaussian distribution with zero mean and covariance matrix $\\Sigma$: $N(0,\\Sigma)$. \n",
        "\n",
        "Label the examples $X_i\\in\\mathbb R^2$ as follows: if $\\|X_i\\|_2>1$, then $y_i=1$ with probability $q$ and $y_i=0$ with probabilty $1-q$. Otherwise, $y_i=0$ with probability $q$ and $y_i=1$ with probabilty $1-q$.\n",
        "\n",
        "(Take, e.g., $n=1000$, $q=0.9$)\n",
        "\n",
        "Hint: use `np.random.multivariate_normal`, `np.random.choice`, `np.linalg.norm`."
      ]
    },
    {
      "cell_type": "code",
      "execution_count": 4,
      "metadata": {
        "colab": {
          "base_uri": "https://localhost:8080/"
        },
        "id": "Dscq34F5MLtU",
        "outputId": "82968813-9633-4f46-e6fb-cc32a28db367"
      },
      "outputs": [
        {
          "output_type": "stream",
          "name": "stdout",
          "text": [
            "[[ 0.49671415 -0.1382643 ]\n",
            " [ 0.64768854  1.52302986]\n",
            " [-0.23415337 -0.23413696]\n",
            " ...\n",
            " [ 0.35144821  1.07015024]\n",
            " [-0.02652126 -0.88187465]\n",
            " [-0.16306696 -0.74490264]]\n",
            "[0 1 0 1 0 0 1 0 1 1 1 1 0 1 1 1 1 1 1 1 0 0 1 0 1 0 0 1 0 1 0 1 1 1 0 1 1\n",
            " 1 0 1 0 1 0 0 0 0 0 1 0 0 1 0 0 1 0 1 1 0 1 1 1 1 1 1 0 1 1 1 0 1 1 1 0 1\n",
            " 0 0 0 0 1 1 1 1 1 1 0 1 1 0 0 1 0 1 0 0 1 0 1 0 0 1 0 1 1 0 1 1 1 0 0 0 1\n",
            " 1 1 1 1 1 0 1 1 1 1 1 1 1 1 1 1 1 1 0 0 1 1 1 0 1 1 1 0 0 1 1 1 0 0 0 0 1\n",
            " 0 1 1 0 0 0 0 1 1 1 0 0 0 1 1 1 0 0 0 0 0 1 0 0 0 1 0 1 0 1 1 1 1 0 0 0 0\n",
            " 0 0 1 0 1 0 1 0 1 1 1 1 1 1 1 1 0 0 1 0 1 0 0 1 1 1 1 1 1 1 1 0 0 1 1 0 1\n",
            " 1 1 1 0 1 0 1 1 1 0 0 0 1 1 1 1 0 1 0 0 1 0 1 1 1 1 1 1 0 1 0 0 0 0 0 0 1\n",
            " 0 1 1 1 1 0 1 1 0 0 1 1 1 0 0 0 0 1 1 0 0 1 0 1 1 1 1 0 0 0 1 0 1 0 1 0 0\n",
            " 0 1 1 0 1 1 1 1 1 0 1 1 0 0 0 1 1 0 0 1 0 1 0 1 1 1 0 0 0 1 1 1 0 0 0 0 0\n",
            " 1 1 1 0 0 1 1 1 0 1 0 0 1 1 0 1 0 1 1 1 1 1 0 0 1 0 0 1 1 1 0 1 0 1 1 1 1\n",
            " 1 0 0 0 1 1 1 0 0 0 0 1 1 1 1 0 1 1 0 0 0 0 1 0 1 0 1 1 0 0 1 0 1 0 1 0 0\n",
            " 1 0 1 1 1 1 1 1 0 1 0 1 1 0 1 0 1 0 0 1 1 0 0 1 0 0 0 1 0 1 0 1 1 1 1 1 0\n",
            " 1 1 1 1 0 1 0 1 0 1 1 0 1 0 0 0 1 1 1 0 1 1 1 0 1 0 1 0 1 1 0 0 1 1 0 0 1\n",
            " 0 1 1 1 0 1 1 1 0 0 0 1 0 0 1 0 1 1 0 1 0 0 1 1 1 1 0 0 1 0 0 1 0 1 1 0 1\n",
            " 1 0 1 1 0 1 1 0 0 0 0 0 1 0 1 1 0 0 1 1 1 1 0 1 0 0 0 0 0 0 0 1 1 1 1 1 0\n",
            " 0 1 0 1 1 1 1 1 0 1 1 1 0 1 0 1 0 0 1 1 1 1 1 1 1 0 1 1 1 0 0 0 1 1 1 1 1\n",
            " 1 0 1 1 0 1 0 1 0 0 0 1 1 1 1 1 0 1 1 0 0 1 1 1 1 1 0 1 0 1 1 0 1 0 1 1 1\n",
            " 0 0 1 1 0 1 1 1 1 1 0 0 1 1 0 0 1 0 0 1 0 1 0 1 0 1 0 1 1 1 0 1 1 1 0 1 1\n",
            " 1 0 1 0 0 1 1 1 1 1 0 1 0 1 0 0 1 0 0 1 1 1 1 0 0 1 0 1 0 0 1 0 1 1 1 1 1\n",
            " 1 0 1 1 1 0 1 1 0 1 1 0 0 1 0 1 1 1 1 0 0 1 1 1 1 0 1 1 0 0 1 1 1 0 1 0 0\n",
            " 0 1 0 1 1 1 0 1 1 1 0 0 1 0 1 1 1 1 1 1 1 0 1 1 1 1 0 1 0 1 1 1 0 1 1 0 1\n",
            " 0 1 1 1 1 0 0 1 1 1 1 0 1 1 1 0 1 0 1 1 1 1 0 1 1 1 1 0 1 0 1 0 1 1 1 1 1\n",
            " 0 0 0 0 1 1 1 0 1 1 1 0 0 0 1 1 1 1 1 1 1 0 1 1 1 1 1 1 1 0 0 1 0 0 1 1 0\n",
            " 1 0 1 0 1 1 0 0 0 0 0 1 1 1 0 0 1 1 1 0 1 1 1 1 1 1 1 0 1 1 1 0 0 0 1 1 1\n",
            " 0 0 0 0 1 0 1 0 0 0 0 1 1 1 1 0 1 0 0 1 1 1 0 0 0 1 0 0 0 0 1 0 1 0 1 1 1\n",
            " 1 1 1 0 0 0 1 1 1 1 0 0 1 1 1 1 1 0 0 0 0 0 0 1 0 0 1 0 1 0 1 0 1 0 1 1 1\n",
            " 1 1 0 1 0 0 0 1 0 1 0 0 1 1 1 1 0 1 0 0 0 0 1 1 0 0 1 0 1 1 1 0 0 1 1 1 1\n",
            " 0]\n"
          ]
        }
      ],
      "source": [
        "np.random.seed(42)\n",
        "mean=[0,0]\n",
        "cov=[[1,0],[0,1]]\n",
        "n=1000\n",
        "q=0.9\n",
        "# CODE HERE\n",
        "\n",
        "x = np.random.multivariate_normal(mean, cov, n)\n",
        "mean2 = np.linalg.norm(x,axis=1)\n",
        "y = (mean2>1)*np.random.choice([1, 0],size = n, p = [q, 1-q]) + (mean2<=1)*np.random.choice([1, 0],size = n, p = [1-q, q])\n",
        "print(x)\n",
        "print(y)"
      ]
    },
    {
      "cell_type": "code",
      "execution_count": null,
      "metadata": {
        "id": "jDPVcuIlMLtV",
        "outputId": "fab2f29e-d6c9-4073-ed62-04097f019196"
      },
      "outputs": [
        {
          "data": {
            "text/plain": [
              "array([[-0.41675785, -0.05626683],\n",
              "       [-2.1361961 ,  1.64027081],\n",
              "       [-1.79343559, -0.84174737],\n",
              "       ...,\n",
              "       [ 0.86196115,  0.22402915],\n",
              "       [ 0.0106053 ,  0.86851322],\n",
              "       [-0.12185276,  0.75622156]])"
            ]
          },
          "execution_count": 3,
          "metadata": {},
          "output_type": "execute_result"
        }
      ],
      "source": [
        ""
      ]
    },
    {
      "cell_type": "markdown",
      "metadata": {
        "id": "0ZNce4J1MLtW"
      },
      "source": [
        "Make the scatter plot for the components of $X$. Select different markers for the labels $0$ and $1$."
      ]
    },
    {
      "cell_type": "code",
      "execution_count": 5,
      "metadata": {
        "colab": {
          "base_uri": "https://localhost:8080/",
          "height": 282
        },
        "id": "Z-gskL3ZMLtX",
        "outputId": "cdac572c-805f-4856-8871-847195c6f2ac"
      },
      "outputs": [
        {
          "output_type": "execute_result",
          "data": {
            "text/plain": [
              "<matplotlib.collections.PathCollection at 0x7f942d0a4c10>"
            ]
          },
          "metadata": {},
          "execution_count": 5
        },
        {
          "output_type": "display_data",
          "data": {
            "image/png": "[encoded data removed]",
            "text/plain": [
              "<Figure size 432x288 with 1 Axes>"
            ]
          },
          "metadata": {
            "needs_background": "light"
          }
        }
      ],
      "source": [
        "# CODE HERE\n",
        "plt.scatter(x[:,0],x[:,1], c = y, cmap='winter')"
      ]
    },
    {
      "cell_type": "code",
      "execution_count": null,
      "metadata": {
        "id": "1duVc5LHMLtY",
        "outputId": "a92baaf4-8fab-44e1-d117-f635e064b0e6"
      },
      "outputs": [
        {
          "data": {
            "text/plain": [
              "<matplotlib.collections.PathCollection at 0x1f4c50d3908>"
            ]
          },
          "execution_count": 5,
          "metadata": {},
          "output_type": "execute_result"
        },
        {
          "data": {
            "image/png": "[encoded data removed]",
            "text/plain": [
              "<Figure size 432x288 with 1 Axes>"
            ]
          },
          "metadata": {
            "needs_background": "light"
          },
          "output_type": "display_data"
        }
      ],
      "source": [
        ""
      ]
    },
    {
      "cell_type": "markdown",
      "metadata": {
        "id": "JT-IR4S7MLtY"
      },
      "source": [
        "What is the proportion of examples, belonging to the positive class?"
      ]
    },
    {
      "cell_type": "code",
      "execution_count": 6,
      "metadata": {
        "colab": {
          "base_uri": "https://localhost:8080/"
        },
        "id": "J5d1FFDYMLtZ",
        "outputId": "0c9c4577-e5a4-4c3b-d9dd-c0a14c170e04"
      },
      "outputs": [
        {
          "output_type": "execute_result",
          "data": {
            "text/plain": [
              "0.583"
            ]
          },
          "metadata": {},
          "execution_count": 6
        }
      ],
      "source": [
        "# CODE HERE\n",
        "sum(y==1)/n"
      ]
    },
    {
      "cell_type": "code",
      "execution_count": null,
      "metadata": {
        "id": "O8vhSetoMLta",
        "outputId": "c371368e-a2bf-477a-8c75-f1cdea7d48cd"
      },
      "outputs": [
        {
          "data": {
            "text/plain": [
              "0.559"
            ]
          },
          "execution_count": 7,
          "metadata": {},
          "output_type": "execute_result"
        }
      ],
      "source": [
        ""
      ]
    },
    {
      "cell_type": "markdown",
      "metadata": {
        "id": "rwr2ZausMLta"
      },
      "source": [
        "Make a train-test split, using `train_test_split` with `random_state=1`. "
      ]
    },
    {
      "cell_type": "code",
      "execution_count": 7,
      "metadata": {
        "id": "W7wJ_jtfMLtb"
      },
      "outputs": [],
      "source": [
        "# CODE HERE\n",
        "x_train, x_test, y_train, y_test = train_test_split(x, y, test_size=0.25, random_state=1)"
      ]
    },
    {
      "cell_type": "code",
      "execution_count": null,
      "metadata": {
        "id": "zHbgF40aMLtb"
      },
      "outputs": [],
      "source": [
        ""
      ]
    },
    {
      "cell_type": "markdown",
      "metadata": {
        "id": "Hr_uHjZUMLtc"
      },
      "source": [
        "Define the lists `training_accuracy`, `test_accuracy` (you can use arrays instead).\n",
        "\n",
        "For the number of neighbors in $\\{1,\\dots,\\max_n\\}$ (e.g., $\\max_n=200$)\n",
        "\n",
        "1. Train the KNeighborsClassifier on the training set by using the `fit` method.\n",
        "2. Make prediction for the training and validation sets and append the scores (accuracies) to the lists `training_accuracy`, `test_accuracy`.\n",
        "3. Print the first 10 entries of these lists."
      ]
    },
    {
      "cell_type": "code",
      "execution_count": 9,
      "metadata": {
        "colab": {
          "base_uri": "https://localhost:8080/"
        },
        "id": "2bSVmBaRMLtc",
        "outputId": "bb0147ab-d9e0-47ad-df09-9e4a37d8c4c0"
      },
      "outputs": [
        {
          "output_type": "stream",
          "name": "stdout",
          "text": [
            "[1.0, 0.8826666666666667, 0.888, 0.872, 0.876, 0.8706666666666667, 0.8773333333333333, 0.8706666666666667, 0.8746666666666667, 0.868]\n",
            "[0.812, 0.8, 0.844, 0.844, 0.86, 0.868, 0.876, 0.868, 0.868, 0.88]\n"
          ]
        }
      ],
      "source": [
        "num_neighbors = range(1, 200)\n",
        "training_accuracy = []\n",
        "test_accuracy = []\n",
        "# CODE HERE\n",
        "\n",
        "for n in num_neighbors:\n",
        "    clf = KNeighborsClassifier(n_neighbors = n)\n",
        "    model = clf.fit(x_train, y_train)\n",
        "    training_accuracy.append(model.score(x_train, y_train))\n",
        "    test_accuracy.append(model.score(x_test, y_test))\n",
        "print(training_accuracy[:10])\n",
        "print(test_accuracy[:10])"
      ]
    },
    {
      "cell_type": "code",
      "execution_count": null,
      "metadata": {
        "id": "TuisDRtnMLtd",
        "outputId": "6519cfd2-3473-4e1b-af68-c58cdb7f41ef"
      },
      "outputs": [
        {
          "name": "stdout",
          "output_type": "stream",
          "text": [
            "training_accuracy:\n",
            " [1.0, 0.896, 0.9026666666666666, 0.888, 0.8853333333333333, 0.884, 0.8893333333333333, 0.88, 0.88, 0.876]\n",
            "test_accuracy:\n",
            " [0.84, 0.836, 0.868, 0.852, 0.88, 0.88, 0.888, 0.896, 0.9, 0.888]\n"
          ]
        }
      ],
      "source": [
        ""
      ]
    },
    {
      "cell_type": "markdown",
      "metadata": {
        "id": "oRd6HtKJMLtd"
      },
      "source": [
        "Plot the graphs of the training and test accuracies against the number of neighbors (use `.xlabel`, `.ylabel`, `legend`). Do you see underfitting and overfitting?"
      ]
    },
    {
      "cell_type": "code",
      "execution_count": 10,
      "metadata": {
        "colab": {
          "base_uri": "https://localhost:8080/",
          "height": 280
        },
        "id": "cMzJaPe_MLtd",
        "outputId": "9ae42716-8ad6-449f-a1ad-1512346cea92"
      },
      "outputs": [
        {
          "output_type": "display_data",
          "data": {
            "image/png": "[encoded data removed]",
            "text/plain": [
              "<Figure size 432x288 with 1 Axes>"
            ]
          },
          "metadata": {
            "needs_background": "light"
          }
        }
      ],
      "source": [
        "# CODE HERE\n",
        "plt.plot(num_neighbors, training_accuracy, 'dodgerblue')\n",
        "plt.plot(num_neighbors, test_accuracy, 'darkorange')\n",
        "plt.xlabel('num_neighbors')\n",
        "plt.ylabel('accuracy')\n",
        "plt.legend(['training accuracy','test accuracy'])\n",
        "plt.show()"
      ]
    },
    {
      "cell_type": "code",
      "execution_count": null,
      "metadata": {
        "id": "CxyAz3mbMLte",
        "outputId": "eed52032-b0d5-42d0-c7ec-f0d6f18b8aa1"
      },
      "outputs": [
        {
          "data": {
            "text/plain": [
              "<matplotlib.legend.Legend at 0x1f4c7780470>"
            ]
          },
          "execution_count": 13,
          "metadata": {},
          "output_type": "execute_result"
        },
        {
          "data": {
            "image/png": "[encoded data removed]",
            "text/plain": [
              "<Figure size 432x288 with 1 Axes>"
            ]
          },
          "metadata": {
            "needs_background": "light"
          },
          "output_type": "display_data"
        }
      ],
      "source": [
        ""
      ]
    },
    {
      "cell_type": "markdown",
      "metadata": {
        "id": "6xlhSMv6MLte"
      },
      "source": [
        "Print the maximal training and test accuracies."
      ]
    },
    {
      "cell_type": "code",
      "execution_count": 11,
      "metadata": {
        "colab": {
          "base_uri": "https://localhost:8080/"
        },
        "id": "CrrDuiBuMLte",
        "outputId": "b67104a2-4308-4b9e-f9d5-1dce75d47f0c"
      },
      "outputs": [
        {
          "output_type": "stream",
          "name": "stdout",
          "text": [
            "max_training accuracy  1.0\n",
            "max_test accuracyy  0.884\n"
          ]
        }
      ],
      "source": [
        "# CODE HERE\n",
        "print(\"max_training accuracy \", np.max(training_accuracy))\n",
        "print(\"max_test accuracyy \", np.max(test_accuracy))"
      ]
    },
    {
      "cell_type": "code",
      "execution_count": null,
      "metadata": {
        "id": "vHeNmxa6MLtf",
        "outputId": "cd35eb81-cf2b-405a-efd8-25a78974c6f2"
      },
      "outputs": [
        {
          "name": "stdout",
          "output_type": "stream",
          "text": [
            "maximal training accuracy 1.0 \n",
            "maximal test accuracy 0.9\n"
          ]
        }
      ],
      "source": [
        ""
      ]
    },
    {
      "cell_type": "markdown",
      "metadata": {
        "id": "hL-3ezoEMLtf"
      },
      "source": [
        "Find the best predictor and print its training and test scores (use `np.asarray(test_accuracy)` to convert list to array if needed). "
      ]
    },
    {
      "cell_type": "code",
      "execution_count": 12,
      "metadata": {
        "colab": {
          "base_uri": "https://localhost:8080/"
        },
        "id": "qlIQqVj2MLtf",
        "outputId": "89ee821b-ef8b-4d30-fe10-ee361698277a"
      },
      "outputs": [
        {
          "output_type": "stream",
          "name": "stdout",
          "text": [
            "best neighbor  11\n",
            "training accuracy  0.8733333333333333\n",
            "test accuracy  0.884\n"
          ]
        }
      ],
      "source": [
        "# CODE HERE\n",
        "number = np.argmax(test_accuracy)\n",
        "print(\"best neighbor \", num_neighbors[number])\n",
        "print(\"training accuracy \", training_accuracy[number])\n",
        "print(\"test accuracy \", test_accuracy[number])"
      ]
    },
    {
      "cell_type": "code",
      "execution_count": null,
      "metadata": {
        "id": "Pz1G7JksMLtg",
        "outputId": "0303878b-38d6-45e0-a7b8-ca86b29a1ac3"
      },
      "outputs": [
        {
          "name": "stdout",
          "output_type": "stream",
          "text": [
            "best number of neighbors 8 \n",
            "training accuracy 0.88 \n",
            "test accuracy 0.9\n"
          ]
        }
      ],
      "source": [
        ""
      ]
    },
    {
      "cell_type": "markdown",
      "metadata": {
        "id": "zTw78IvxMLtg"
      },
      "source": [
        "Plot the decision boundaries for the number of neighbors = 1, 3, 8, 200. The following code is due to Muller & Guido. However, you should import the module plots.plot_2d_separator from the module mglearn, created by Muller & Guido."
      ]
    },
    {
      "cell_type": "code",
      "execution_count": 13,
      "metadata": {
        "colab": {
          "base_uri": "https://localhost:8080/",
          "height": 224
        },
        "id": "SATPjAQYMLtg",
        "outputId": "f6daa3b9-bcb3-4fbd-8d76-018c6c61edb2"
      },
      "outputs": [
        {
          "output_type": "display_data",
          "data": {
            "image/png": "[encoded data removed]",
            "text/plain": [
              "<Figure size 720x216 with 4 Axes>"
            ]
          },
          "metadata": {}
        }
      ],
      "source": [
        "import sys\n",
        "sys.path.append('C:\\\\Users\\\\rokhl\\\\ML_2020\\\\mglearn')\n",
        "fig, axes = plt.subplots(1, 4, figsize=(10, 3))\n",
        "for n_neighbors, ax in zip([1, 3, 8, 200], axes):\n",
        "    # the fit method returns the object self, so we can instantiate\n",
        "    # and fit in one line:\n",
        "    clf = KNeighborsClassifier(n_neighbors=n_neighbors).fit(x_train, y_train)\n",
        "    mglearn.plots.plot_2d_separator(clf, x_train, fill=True, ax=ax, alpha=.4)\n",
        "    ax.set_title(\"{} neighbor(s)\".format(n_neighbors))\n",
        "    ax.set_xlabel('feature 1')\n",
        "    ax.set_ylabel('feature 2')"
      ]
    },
    {
      "cell_type": "code",
      "execution_count": 14,
      "metadata": {
        "colab": {
          "base_uri": "https://localhost:8080/"
        },
        "id": "xMWfn6HCMLth",
        "outputId": "c3b41828-6b5a-4225-c9f2-2861d95f4af6"
      },
      "outputs": [
        {
          "output_type": "stream",
          "name": "stdout",
          "text": [
            "array of the first coordinates of all points of the grid:\n",
            " [[0 1 2]\n",
            " [0 1 2]\n",
            " [0 1 2]\n",
            " [0 1 2]]\n",
            "array of the second coordinates o all points of the grid:\n",
            " [[0 0 0]\n",
            " [2 2 2]\n",
            " [4 4 4]\n",
            " [6 6 6]]\n"
          ]
        },
        {
          "output_type": "execute_result",
          "data": {
            "text/plain": [
              "array([[0, 1, 2],\n",
              "       [2, 3, 4],\n",
              "       [4, 5, 6],\n",
              "       [6, 7, 8]])"
            ]
          },
          "metadata": {},
          "execution_count": 14
        }
      ],
      "source": [
        "# Recall, how the meshgrid works\n",
        "a=np.array([0,1,2])\n",
        "b=np.array([0,2,4,6])\n",
        "za,zb=np.meshgrid(a,b)\n",
        "print('array of the first coordinates of all points of the grid:\\n',za)\n",
        "print('array of the second coordinates o all points of the grid:\\n',zb)\n",
        "# some function\n",
        "def f(x,y):\n",
        "    return x+y\n",
        "# computing the function on the grid\n",
        "f(za,zb)"
      ]
    },
    {
      "cell_type": "markdown",
      "metadata": {
        "id": "ZVy7JXboMLth"
      },
      "source": [
        "Using meshgrid and pcolormesh make plot the decision boundaries by yourself. Similar examples can be found in the `scikit-learn` documentation."
      ]
    },
    {
      "cell_type": "code",
      "execution_count": 15,
      "metadata": {
        "colab": {
          "base_uri": "https://localhost:8080/",
          "height": 857
        },
        "id": "ZQJcQMyZMLti",
        "outputId": "b207c15c-9b49-44f2-d5ca-64e5659ae414"
      },
      "outputs": [
        {
          "output_type": "display_data",
          "data": {
            "image/png": "[encoded data removed]",
            "text/plain": [
              "<Figure size 216x216 with 1 Axes>"
            ]
          },
          "metadata": {
            "needs_background": "light"
          }
        },
        {
          "output_type": "display_data",
          "data": {
            "image/png": "[encoded data removed]",
            "text/plain": [
              "<Figure size 216x216 with 1 Axes>"
            ]
          },
          "metadata": {
            "needs_background": "light"
          }
        },
        {
          "output_type": "display_data",
          "data": {
            "image/png": "[encoded data removed]",
            "text/plain": [
              "<Figure size 216x216 with 1 Axes>"
            ]
          },
          "metadata": {
            "needs_background": "light"
          }
        },
        {
          "output_type": "display_data",
          "data": {
            "image/png": "[encoded data removed]",
            "text/plain": [
              "<Figure size 216x216 with 1 Axes>"
            ]
          },
          "metadata": {
            "needs_background": "light"
          }
        }
      ],
      "source": [
        "#CODE HERE\n",
        "np.random.seed(42)\n",
        "mean=[0,0]\n",
        "cov=[[1,0],[0,1]]\n",
        "n=1000\n",
        "q=0.9\n",
        "\n",
        "x = np.random.multivariate_normal(mean, cov, n)\n",
        "mean2 = np.linalg.norm(x,axis=1)\n",
        "y = (mean2>1)*np.random.choice([1, 0],size = n, p = [q, 1-q]) + (mean2<=1)*np.random.choice([1, 0],size = n, p = [1-q, q])\n",
        "x_train, x_test, y_train, y_test = train_test_split(x, y, test_size=0.25, random_state=1)\n",
        "\n",
        "# https://scikit-learn.org/stable/auto_examples/neighbors/plot_classification.html\n",
        "\n",
        "h = 0.02  # step size in the mesh\n",
        "\n",
        "# Create color maps\n",
        "cmap_light = ListedColormap([\"purple\", \"yellow\"])\n",
        "\n",
        "for n_neighbors in [1, 3, 8, 200]:\n",
        "    # we create an instance of Neighbours Classifier and fit the data.\n",
        "    clf = neighbors.KNeighborsClassifier(n_neighbors=n_neighbors)\n",
        "    clf.fit(x_train, y_train)\n",
        "\n",
        "    # Plot the decision boundary. For that, we will assign a color to each\n",
        "    # point in the mesh [x_min, x_max]x[y_min, y_max].\n",
        "    x_min, x_max = x[:, 0].min() - 1, x[:, 0].max() + 1\n",
        "    y_min, y_max = x[:, 1].min() - 1, x[:, 1].max() + 1\n",
        "    xx, yy = np.meshgrid(np.arange(x_min, x_max, h), np.arange(y_min, y_max, h))\n",
        "    Z = clf.predict(np.c_[xx.ravel(), yy.ravel()])\n",
        "\n",
        "    # Put the result into a color plot\n",
        "    Z = Z.reshape(xx.shape)\n",
        "    plt.figure(figsize=(3, 3))\n",
        "    plt.contourf(xx, yy, Z, cmap=cmap_light)\n",
        "    plt.title(\"%i neighbour(s)\" % (n_neighbors))\n",
        "\n",
        "    # Plot also the training points\n",
        "    plt.xlim(xx.min(), xx.max())\n",
        "    plt.ylim(yy.min(), yy.max())\n",
        "    plt.title\n",
        "\n",
        "plt.show()"
      ]
    },
    {
      "cell_type": "code",
      "execution_count": null,
      "metadata": {
        "id": "Ea1skm1MMLti",
        "outputId": "75651106-50fe-47b3-d350-ec3fc22a0a8c"
      },
      "outputs": [
        {
          "data": {
            "image/png": "[encoded data removed]",
            "text/plain": [
              "<Figure size 864x216 with 4 Axes>"
            ]
          },
          "metadata": {
            "needs_background": "light"
          },
          "output_type": "display_data"
        }
      ],
      "source": [
        ""
      ]
    },
    {
      "cell_type": "markdown",
      "metadata": {
        "id": "LnKVLQGuMLti"
      },
      "source": [
        "## Part 2."
      ]
    },
    {
      "cell_type": "markdown",
      "metadata": {
        "id": "qsjgnKoIMLti"
      },
      "source": [
        "Select the best number of neighbors by cross validation.\n",
        "\n",
        "1. Import `GrigSearch` from `sklearn.model_selection`\n",
        "2. Print possible hyperparameters for `KNeighborsClassifier()` by the method `.get_params().keys())`\n",
        "3. Perform `GridSearchCV` with `cv=10` folds for the number of neighbors in $\\{1,\\dots,50\\}$.\n",
        "4. Print the best number of neighbors, and the scores of the respected KNN classifier."
      ]
    },
    {
      "cell_type": "code",
      "execution_count": 16,
      "metadata": {
        "colab": {
          "base_uri": "https://localhost:8080/"
        },
        "id": "eBOaTkt1MLtj",
        "outputId": "ecdca0f5-850f-4727-e38d-c09927399267"
      },
      "outputs": [
        {
          "output_type": "execute_result",
          "data": {
            "text/plain": [
              "0.8626666666666667"
            ]
          },
          "metadata": {},
          "execution_count": 16
        }
      ],
      "source": [
        "#CODE HERE\n",
        "clf = KNeighborsClassifier()\n",
        "clf.get_params().keys()\n",
        "parameters = {\n",
        "    'n_neighbors': [i for i in range(1,51)],\n",
        "    'weights': ['uniform', 'distance'],\n",
        "    'metric': ['euclidean', 'manhattan'],\n",
        "    'n_jobs': [-1]\n",
        "}\n",
        "GS = GridSearchCV(clf, parameters, cv = 10)\n",
        "GS.fit(x_train, y_train)\n",
        "GS.best_score_"
      ]
    },
    {
      "cell_type": "code",
      "execution_count": 17,
      "metadata": {
        "colab": {
          "base_uri": "https://localhost:8080/"
        },
        "id": "xwh_J5Y6MLtj",
        "outputId": "b159abae-8a6b-4ba2-f75c-d2a2abec6ae0"
      },
      "outputs": [
        {
          "output_type": "stream",
          "name": "stdout",
          "text": [
            "dict_keys:  KNeighborsClassifier(metric='euclidean', n_jobs=-1, n_neighbors=11)\n",
            "train score:  0.8733333333333333\n",
            "test score:  0.884\n"
          ]
        }
      ],
      "source": [
        "print(\"dict_keys: \",GS.best_estimator_)\n",
        "print(\"train score: \", GS.score(x_train,y_train))\n",
        "print(\"test score: \", GS.score(x_test,y_test))"
      ]
    },
    {
      "cell_type": "markdown",
      "metadata": {
        "id": "qSj8sjdQMLtj"
      },
      "source": [
        "For more information on the next exersize see *Albon 11.11*. \n",
        "\n",
        "Evaluate the effect of the number of observations in the training set on the learning process, using `learning_curve` from the module `sklearn.model_selection`. For 20 neighbors call it with `train_sizes=np.linspace(0.1, 1.0, 100)`\n",
        "and fill the arrays `train_sizes`, `train_scores`, `validation_scores`."
      ]
    },
    {
      "cell_type": "code",
      "execution_count": 18,
      "metadata": {
        "id": "nYDrAoPLMLtj"
      },
      "outputs": [],
      "source": [
        "from sklearn.model_selection import learning_curve"
      ]
    },
    {
      "cell_type": "code",
      "execution_count": 19,
      "metadata": {
        "colab": {
          "base_uri": "https://localhost:8080/"
        },
        "id": "7KQVc67IMLtk",
        "outputId": "8c5d4b4d-67a7-4a3d-daf7-0ed23c33ffc9"
      },
      "outputs": [
        {
          "output_type": "stream",
          "name": "stdout",
          "text": [
            "[ 67  73  79  85  92  98 104 110 116 122 128 135 141 147 153 159 165 171\n",
            " 177 184 190 196 202 208 214 220 227 233 239 245 251 257 263 270 276 282\n",
            " 288 294 300 306 312 319 325 331 337 343 349 355 362 368 374 380 386 392\n",
            " 398 405 411 417 423 429 435 441 447 454 460 466 472 478 484 490 497 503\n",
            " 509 515 521 527 533 540 546 552 558 564 570 576 582 589 595 601 607 613\n",
            " 619 625 632 638 644 650 656 662 668 675]\n",
            "\n",
            "[[-0.25373134 -0.29850746 -0.34328358 -0.34328358 -0.34328358 -0.34328358\n",
            "  -0.34328358 -0.34328358 -0.34328358 -0.34328358]\n",
            " [-0.34246575 -0.2739726  -0.31506849 -0.31506849 -0.31506849 -0.31506849\n",
            "  -0.31506849 -0.31506849 -0.31506849 -0.31506849]\n",
            " [-0.29113924 -0.3164557  -0.35443038 -0.35443038 -0.35443038 -0.35443038\n",
            "  -0.35443038 -0.35443038 -0.35443038 -0.35443038]\n",
            " [-0.28235294 -0.30588235 -0.34117647 -0.34117647 -0.34117647 -0.34117647\n",
            "  -0.34117647 -0.34117647 -0.34117647 -0.34117647]\n",
            " [-0.23913043 -0.31521739 -0.30434783 -0.30434783 -0.30434783 -0.30434783\n",
            "  -0.30434783 -0.30434783 -0.30434783 -0.30434783]\n",
            " [-0.2244898  -0.26530612 -0.23469388 -0.23469388 -0.23469388 -0.23469388\n",
            "  -0.23469388 -0.23469388 -0.23469388 -0.23469388]\n",
            " [-0.20192308 -0.26923077 -0.21153846 -0.21153846 -0.21153846 -0.21153846\n",
            "  -0.21153846 -0.21153846 -0.21153846 -0.21153846]\n",
            " [-0.2        -0.23636364 -0.18181818 -0.18181818 -0.18181818 -0.18181818\n",
            "  -0.18181818 -0.18181818 -0.18181818 -0.18181818]\n",
            " [-0.21551724 -0.25       -0.21551724 -0.21551724 -0.21551724 -0.21551724\n",
            "  -0.21551724 -0.21551724 -0.21551724 -0.21551724]\n",
            " [-0.18032787 -0.17213115 -0.21311475 -0.21311475 -0.21311475 -0.21311475\n",
            "  -0.21311475 -0.21311475 -0.21311475 -0.21311475]\n",
            " [-0.1796875  -0.1796875  -0.2265625  -0.2265625  -0.2265625  -0.2265625\n",
            "  -0.2265625  -0.2265625  -0.2265625  -0.2265625 ]\n",
            " [-0.17037037 -0.17037037 -0.2        -0.2        -0.2        -0.2\n",
            "  -0.2        -0.2        -0.2        -0.2       ]\n",
            " [-0.16312057 -0.15602837 -0.20567376 -0.20567376 -0.20567376 -0.20567376\n",
            "  -0.20567376 -0.20567376 -0.20567376 -0.20567376]\n",
            " [-0.14965986 -0.15646259 -0.21088435 -0.2244898  -0.2244898  -0.2244898\n",
            "  -0.2244898  -0.2244898  -0.2244898  -0.2244898 ]\n",
            " [-0.1372549  -0.15686275 -0.20261438 -0.21568627 -0.21568627 -0.21568627\n",
            "  -0.21568627 -0.21568627 -0.21568627 -0.21568627]\n",
            " [-0.13836478 -0.1509434  -0.20754717 -0.20754717 -0.20754717 -0.20754717\n",
            "  -0.20754717 -0.20754717 -0.20754717 -0.20754717]\n",
            " [-0.13333333 -0.13333333 -0.18787879 -0.21212121 -0.21212121 -0.21212121\n",
            "  -0.21212121 -0.21212121 -0.21212121 -0.21212121]\n",
            " [-0.15204678 -0.13450292 -0.1871345  -0.19883041 -0.19883041 -0.19883041\n",
            "  -0.19883041 -0.19883041 -0.19883041 -0.19883041]\n",
            " [-0.16949153 -0.14689266 -0.20338983 -0.19774011 -0.19774011 -0.19774011\n",
            "  -0.19774011 -0.19774011 -0.19774011 -0.19774011]\n",
            " [-0.16304348 -0.1576087  -0.20652174 -0.20108696 -0.20108696 -0.20108696\n",
            "  -0.20108696 -0.20108696 -0.20108696 -0.20108696]\n",
            " [-0.15789474 -0.15263158 -0.20526316 -0.2        -0.2        -0.2\n",
            "  -0.2        -0.2        -0.2        -0.2       ]\n",
            " [-0.16326531 -0.1377551  -0.20918367 -0.18367347 -0.18367347 -0.18367347\n",
            "  -0.18367347 -0.18367347 -0.18367347 -0.18367347]\n",
            " [-0.14356436 -0.12871287 -0.2029703  -0.16336634 -0.16336634 -0.16336634\n",
            "  -0.16336634 -0.16336634 -0.16336634 -0.16336634]\n",
            " [-0.13461538 -0.125      -0.17788462 -0.15384615 -0.15384615 -0.15384615\n",
            "  -0.15384615 -0.15384615 -0.15384615 -0.15384615]\n",
            " [-0.13084112 -0.12149533 -0.17757009 -0.1728972  -0.1728972  -0.1728972\n",
            "  -0.1728972  -0.1728972  -0.1728972  -0.1728972 ]\n",
            " [-0.12727273 -0.13181818 -0.17272727 -0.17727273 -0.16363636 -0.16363636\n",
            "  -0.16363636 -0.16363636 -0.16363636 -0.16363636]\n",
            " [-0.1277533  -0.14096916 -0.16740088 -0.17180617 -0.15859031 -0.15859031\n",
            "  -0.15859031 -0.15859031 -0.15859031 -0.15859031]\n",
            " [-0.12875536 -0.15450644 -0.15879828 -0.15021459 -0.15450644 -0.15450644\n",
            "  -0.15450644 -0.15450644 -0.15450644 -0.15450644]\n",
            " [-0.14225941 -0.15899582 -0.16736402 -0.14644351 -0.14644351 -0.14644351\n",
            "  -0.14644351 -0.14644351 -0.14644351 -0.14644351]\n",
            " [-0.14693878 -0.15102041 -0.16734694 -0.13877551 -0.14285714 -0.14285714\n",
            "  -0.14285714 -0.14285714 -0.14285714 -0.14285714]\n",
            " [-0.15537849 -0.15537849 -0.16733068 -0.13944223 -0.14342629 -0.14342629\n",
            "  -0.14342629 -0.14342629 -0.14342629 -0.14342629]\n",
            " [-0.15175097 -0.14396887 -0.16342412 -0.14007782 -0.14396887 -0.14396887\n",
            "  -0.14396887 -0.14396887 -0.14396887 -0.14396887]\n",
            " [-0.15969582 -0.14828897 -0.16730038 -0.14828897 -0.15969582 -0.15969582\n",
            "  -0.15969582 -0.15969582 -0.15969582 -0.15969582]\n",
            " [-0.15555556 -0.15555556 -0.17777778 -0.14814815 -0.16666667 -0.16666667\n",
            "  -0.16666667 -0.16666667 -0.16666667 -0.16666667]\n",
            " [-0.15217391 -0.15217391 -0.16666667 -0.14492754 -0.1557971  -0.1557971\n",
            "  -0.1557971  -0.1557971  -0.1557971  -0.1557971 ]\n",
            " [-0.15602837 -0.14893617 -0.17021277 -0.15248227 -0.14539007 -0.14539007\n",
            "  -0.14539007 -0.14539007 -0.14539007 -0.14539007]\n",
            " [-0.15972222 -0.15277778 -0.17708333 -0.15625    -0.14583333 -0.14583333\n",
            "  -0.14583333 -0.14583333 -0.14583333 -0.14583333]\n",
            " [-0.16326531 -0.16666667 -0.18367347 -0.15986395 -0.13945578 -0.12585034\n",
            "  -0.12585034 -0.12585034 -0.12585034 -0.12585034]\n",
            " [-0.16333333 -0.17333333 -0.18333333 -0.16333333 -0.14666667 -0.12666667\n",
            "  -0.12666667 -0.12666667 -0.12666667 -0.12666667]\n",
            " [-0.16993464 -0.18300654 -0.18954248 -0.17320261 -0.1503268  -0.12745098\n",
            "  -0.12745098 -0.12745098 -0.12745098 -0.12745098]\n",
            " [-0.16666667 -0.17628205 -0.17307692 -0.16666667 -0.1474359  -0.13461538\n",
            "  -0.13461538 -0.13461538 -0.13461538 -0.13461538]\n",
            " [-0.169279   -0.17868339 -0.17554859 -0.1661442  -0.15360502 -0.13479624\n",
            "  -0.13479624 -0.13479624 -0.13479624 -0.13479624]\n",
            " [-0.17230769 -0.18461538 -0.18153846 -0.16       -0.15076923 -0.14769231\n",
            "  -0.14769231 -0.14769231 -0.14769231 -0.14769231]\n",
            " [-0.17220544 -0.18126888 -0.17522659 -0.16012085 -0.14501511 -0.14501511\n",
            "  -0.14501511 -0.14501511 -0.14501511 -0.14501511]\n",
            " [-0.16617211 -0.17804154 -0.17210682 -0.15727003 -0.14243323 -0.14836795\n",
            "  -0.14836795 -0.14836795 -0.14836795 -0.14836795]\n",
            " [-0.16034985 -0.18367347 -0.17784257 -0.16034985 -0.14868805 -0.1516035\n",
            "  -0.1516035  -0.1516035  -0.1516035  -0.1516035 ]\n",
            " [-0.17191977 -0.19197708 -0.18051576 -0.15759312 -0.15472779 -0.14899713\n",
            "  -0.14899713 -0.14899713 -0.14899713 -0.14899713]\n",
            " [-0.16901408 -0.18873239 -0.18028169 -0.15774648 -0.15492958 -0.14647887\n",
            "  -0.14647887 -0.14647887 -0.14647887 -0.14647887]\n",
            " [-0.17127072 -0.19060773 -0.17127072 -0.15745856 -0.15469613 -0.14917127\n",
            "  -0.14917127 -0.14917127 -0.14917127 -0.14917127]\n",
            " [-0.17663043 -0.19293478 -0.16847826 -0.15217391 -0.1548913  -0.1576087\n",
            "  -0.1576087  -0.1576087  -0.1576087  -0.1576087 ]\n",
            " [-0.17112299 -0.18983957 -0.1657754  -0.14973262 -0.15240642 -0.1631016\n",
            "  -0.15508021 -0.15508021 -0.15508021 -0.15508021]\n",
            " [-0.16315789 -0.18684211 -0.16578947 -0.15263158 -0.15526316 -0.16052632\n",
            "  -0.16578947 -0.16578947 -0.16578947 -0.16578947]\n",
            " [-0.16839378 -0.18911917 -0.16580311 -0.15803109 -0.16321244 -0.15803109\n",
            "  -0.16321244 -0.16321244 -0.16321244 -0.16321244]\n",
            " [-0.16071429 -0.17857143 -0.17091837 -0.15306122 -0.15306122 -0.15561224\n",
            "  -0.16326531 -0.16326531 -0.16326531 -0.16326531]\n",
            " [-0.15829146 -0.17839196 -0.16582915 -0.15829146 -0.15577889 -0.15829146\n",
            "  -0.16331658 -0.16331658 -0.16331658 -0.16331658]\n",
            " [-0.15555556 -0.17283951 -0.16049383 -0.14567901 -0.15308642 -0.15308642\n",
            "  -0.15802469 -0.15802469 -0.15802469 -0.15802469]\n",
            " [-0.15571776 -0.17274939 -0.15815085 -0.14841849 -0.15085158 -0.15085158\n",
            "  -0.15571776 -0.15571776 -0.15571776 -0.15571776]\n",
            " [-0.15347722 -0.16786571 -0.15827338 -0.14628297 -0.14868106 -0.15107914\n",
            "  -0.15827338 -0.15827338 -0.15827338 -0.15827338]\n",
            " [-0.15839243 -0.1678487  -0.15602837 -0.15130024 -0.14420804 -0.15130024\n",
            "  -0.15839243 -0.15839243 -0.15839243 -0.15839243]\n",
            " [-0.15617716 -0.16783217 -0.15384615 -0.14219114 -0.14219114 -0.15151515\n",
            "  -0.15617716 -0.15617716 -0.15617716 -0.15617716]\n",
            " [-0.15632184 -0.16551724 -0.15632184 -0.14252874 -0.14252874 -0.15172414\n",
            "  -0.15862069 -0.15862069 -0.15862069 -0.15862069]\n",
            " [-0.15419501 -0.16326531 -0.15419501 -0.14058957 -0.14058957 -0.14965986\n",
            "  -0.16099773 -0.15646259 -0.15646259 -0.15646259]\n",
            " [-0.14988814 -0.16331096 -0.15659955 -0.1409396  -0.13870246 -0.14765101\n",
            "  -0.16331096 -0.15659955 -0.15659955 -0.15659955]\n",
            " [-0.14317181 -0.16299559 -0.15418502 -0.14317181 -0.14096916 -0.14977974\n",
            "  -0.16960352 -0.16299559 -0.16299559 -0.16299559]\n",
            " [-0.14565217 -0.16521739 -0.15217391 -0.14347826 -0.14347826 -0.14782609\n",
            "  -0.16956522 -0.1673913  -0.1673913  -0.1673913 ]\n",
            " [-0.14592275 -0.16523605 -0.15236052 -0.14377682 -0.14377682 -0.14806867\n",
            "  -0.16738197 -0.16738197 -0.16738197 -0.16738197]\n",
            " [-0.1440678  -0.16313559 -0.15042373 -0.13983051 -0.13983051 -0.1440678\n",
            "  -0.16313559 -0.16737288 -0.16737288 -0.16737288]\n",
            " [-0.14435146 -0.16108787 -0.14644351 -0.13807531 -0.13807531 -0.14225941\n",
            "  -0.16108787 -0.16527197 -0.16527197 -0.16527197]\n",
            " [-0.1446281  -0.15082645 -0.14256198 -0.13636364 -0.13636364 -0.14256198\n",
            "  -0.16115702 -0.15909091 -0.15909091 -0.15909091]\n",
            " [-0.14285714 -0.14897959 -0.14081633 -0.13673469 -0.13469388 -0.14081633\n",
            "  -0.15714286 -0.15918367 -0.15918367 -0.15918367]\n",
            " [-0.14084507 -0.14688129 -0.14084507 -0.13279678 -0.13480885 -0.138833\n",
            "  -0.15492958 -0.15694165 -0.15694165 -0.15694165]\n",
            " [-0.13916501 -0.1471173  -0.14115308 -0.13518887 -0.13518887 -0.13916501\n",
            "  -0.15109344 -0.15705765 -0.15705765 -0.15705765]\n",
            " [-0.14145383 -0.14341847 -0.13948919 -0.13359528 -0.13555992 -0.13752456\n",
            "  -0.14931238 -0.15520629 -0.15520629 -0.15520629]\n",
            " [-0.13786408 -0.14563107 -0.13592233 -0.13398058 -0.13786408 -0.13398058\n",
            "  -0.14951456 -0.15533981 -0.15533981 -0.15533981]\n",
            " [-0.14011516 -0.14395393 -0.13627639 -0.13243762 -0.13243762 -0.13627639\n",
            "  -0.14587332 -0.15738964 -0.15547025 -0.15547025]\n",
            " [-0.13851992 -0.14041746 -0.13662239 -0.13282732 -0.13092979 -0.13472486\n",
            "  -0.14231499 -0.15749526 -0.15559772 -0.15559772]\n",
            " [-0.13508443 -0.1369606  -0.1369606  -0.13320826 -0.12570356 -0.1369606\n",
            "  -0.13883677 -0.15384615 -0.15384615 -0.15384615]\n",
            " [-0.13518519 -0.13703704 -0.14074074 -0.13703704 -0.12592593 -0.14074074\n",
            "  -0.1462963  -0.15555556 -0.1537037  -0.1537037 ]\n",
            " [-0.13369963 -0.13736264 -0.14102564 -0.13553114 -0.12454212 -0.13736264\n",
            "  -0.14652015 -0.15201465 -0.14835165 -0.14835165]\n",
            " [-0.13224638 -0.13224638 -0.13949275 -0.13224638 -0.12318841 -0.13586957\n",
            "  -0.13586957 -0.14673913 -0.14492754 -0.14492754]\n",
            " [-0.13620072 -0.1344086  -0.14157706 -0.13978495 -0.13082437 -0.13978495\n",
            "  -0.13620072 -0.14695341 -0.14336918 -0.14336918]\n",
            " [-0.14361702 -0.13652482 -0.14007092 -0.14184397 -0.13475177 -0.14184397\n",
            "  -0.13652482 -0.14539007 -0.14184397 -0.14184397]\n",
            " [-0.14561404 -0.14035088 -0.14385965 -0.14385965 -0.13859649 -0.14561404\n",
            "  -0.14210526 -0.14912281 -0.14035088 -0.14035088]\n",
            " [-0.14236111 -0.14236111 -0.14756944 -0.13888889 -0.140625   -0.14236111\n",
            "  -0.14236111 -0.15104167 -0.13888889 -0.13888889]\n",
            " [-0.14261168 -0.13745704 -0.14604811 -0.13917526 -0.13917526 -0.1443299\n",
            "  -0.1443299  -0.15292096 -0.13745704 -0.13745704]\n",
            " [-0.1426146  -0.13582343 -0.14431239 -0.13582343 -0.13752122 -0.14431239\n",
            "  -0.1426146  -0.15110357 -0.13582343 -0.13582343]\n",
            " [-0.1394958  -0.13445378 -0.1394958  -0.13445378 -0.13445378 -0.14285714\n",
            "  -0.14117647 -0.14789916 -0.13781513 -0.13781513]\n",
            " [-0.13477537 -0.13144759 -0.13643927 -0.13144759 -0.1281198  -0.14143095\n",
            "  -0.13976705 -0.14642263 -0.13311148 -0.13810316]\n",
            " [-0.13179572 -0.13344316 -0.1383855  -0.13344316 -0.13014827 -0.14003295\n",
            "  -0.14003295 -0.14662273 -0.12520593 -0.13344316]\n",
            " [-0.13050571 -0.137031   -0.14029364 -0.13539967 -0.13213703 -0.14355628\n",
            "  -0.14029364 -0.14845024 -0.1223491  -0.13213703]\n",
            " [-0.12924071 -0.13408724 -0.13731826 -0.13408724 -0.13085622 -0.14216478\n",
            "  -0.13893376 -0.14862682 -0.12116317 -0.13247173]\n",
            " [-0.1296     -0.1344     -0.1376     -0.1344     -0.1312     -0.1424\n",
            "  -0.1376     -0.1504     -0.12       -0.1296    ]\n",
            " [-0.13132911 -0.13607595 -0.13765823 -0.13449367 -0.13132911 -0.13924051\n",
            "  -0.13607595 -0.15189873 -0.12025316 -0.13607595]\n",
            " [-0.13479624 -0.13793103 -0.13949843 -0.13636364 -0.13479624 -0.14106583\n",
            "  -0.13949843 -0.15360502 -0.12539185 -0.13949843]\n",
            " [-0.13509317 -0.13664596 -0.13975155 -0.13664596 -0.13509317 -0.13975155\n",
            "  -0.14130435 -0.15217391 -0.12267081 -0.13975155]\n",
            " [-0.13538462 -0.13846154 -0.14       -0.13692308 -0.13692308 -0.14\n",
            "  -0.14153846 -0.15384615 -0.12615385 -0.14307692]\n",
            " [-0.13871951 -0.13871951 -0.14176829 -0.1402439  -0.13567073 -0.14176829\n",
            "  -0.14176829 -0.1554878  -0.125      -0.14329268]\n",
            " [-0.13897281 -0.13595166 -0.14048338 -0.13897281 -0.12990937 -0.14350453\n",
            "  -0.14199396 -0.15407855 -0.12688822 -0.14350453]\n",
            " [-0.13922156 -0.13622754 -0.14071856 -0.14071856 -0.13023952 -0.14221557\n",
            "  -0.14221557 -0.15568862 -0.12874251 -0.14071856]\n",
            " [-0.13925926 -0.13333333 -0.13925926 -0.13925926 -0.12888889 -0.13925926\n",
            "  -0.14074074 -0.15407407 -0.12740741 -0.14222222]]\n",
            "\n",
            "[[-0.34666667 -0.36       -0.4        -0.48       -0.38666667 -0.33333333\n",
            "  -0.36       -0.33333333 -0.36       -0.37333333]\n",
            " [-0.45333333 -0.29333333 -0.36       -0.49333333 -0.37333333 -0.30666667\n",
            "  -0.32       -0.29333333 -0.36       -0.32      ]\n",
            " [-0.37333333 -0.29333333 -0.33333333 -0.46666667 -0.4        -0.29333333\n",
            "  -0.30666667 -0.29333333 -0.32       -0.34666667]\n",
            " [-0.32       -0.22666667 -0.32       -0.46666667 -0.4        -0.29333333\n",
            "  -0.34666667 -0.29333333 -0.34666667 -0.38666667]\n",
            " [-0.28       -0.22666667 -0.26666667 -0.4        -0.37333333 -0.26666667\n",
            "  -0.25333333 -0.22666667 -0.32       -0.32      ]\n",
            " [-0.26666667 -0.21333333 -0.22666667 -0.33333333 -0.30666667 -0.18666667\n",
            "  -0.22666667 -0.17333333 -0.32       -0.24      ]\n",
            " [-0.30666667 -0.21333333 -0.22666667 -0.30666667 -0.24       -0.22666667\n",
            "  -0.21333333 -0.14666667 -0.30666667 -0.25333333]\n",
            " [-0.29333333 -0.2        -0.22666667 -0.25333333 -0.24       -0.2\n",
            "  -0.18666667 -0.14666667 -0.30666667 -0.25333333]\n",
            " [-0.26666667 -0.16       -0.22666667 -0.26666667 -0.24       -0.21333333\n",
            "  -0.17333333 -0.17333333 -0.29333333 -0.26666667]\n",
            " [-0.24       -0.13333333 -0.21333333 -0.28       -0.24       -0.22666667\n",
            "  -0.17333333 -0.14666667 -0.28       -0.24      ]\n",
            " [-0.28       -0.14666667 -0.21333333 -0.28       -0.22666667 -0.25333333\n",
            "  -0.13333333 -0.16       -0.26666667 -0.21333333]\n",
            " [-0.24       -0.10666667 -0.16       -0.22666667 -0.17333333 -0.18666667\n",
            "  -0.09333333 -0.12       -0.25333333 -0.2       ]\n",
            " [-0.21333333 -0.13333333 -0.17333333 -0.21333333 -0.16       -0.21333333\n",
            "  -0.10666667 -0.12       -0.26666667 -0.2       ]\n",
            " [-0.2        -0.13333333 -0.2        -0.26666667 -0.2        -0.24\n",
            "  -0.12       -0.13333333 -0.28       -0.22666667]\n",
            " [-0.21333333 -0.12       -0.18666667 -0.28       -0.2        -0.22666667\n",
            "  -0.09333333 -0.16       -0.28       -0.22666667]\n",
            " [-0.18666667 -0.10666667 -0.18666667 -0.28       -0.17333333 -0.22666667\n",
            "  -0.08       -0.14666667 -0.28       -0.22666667]\n",
            " [-0.18666667 -0.10666667 -0.17333333 -0.26666667 -0.2        -0.21333333\n",
            "  -0.06666667 -0.16       -0.26666667 -0.21333333]\n",
            " [-0.2        -0.09333333 -0.17333333 -0.25333333 -0.2        -0.18666667\n",
            "  -0.08       -0.16       -0.26666667 -0.2       ]\n",
            " [-0.18666667 -0.12       -0.14666667 -0.24       -0.22666667 -0.17333333\n",
            "  -0.06666667 -0.14666667 -0.21333333 -0.2       ]\n",
            " [-0.21333333 -0.12       -0.14666667 -0.21333333 -0.2        -0.18666667\n",
            "  -0.06666667 -0.09333333 -0.22666667 -0.2       ]\n",
            " [-0.22666667 -0.12       -0.14666667 -0.22666667 -0.18666667 -0.18666667\n",
            "  -0.06666667 -0.09333333 -0.2        -0.2       ]\n",
            " [-0.18666667 -0.12       -0.14666667 -0.24       -0.18666667 -0.18666667\n",
            "  -0.08       -0.10666667 -0.22666667 -0.21333333]\n",
            " [-0.18666667 -0.16       -0.14666667 -0.25333333 -0.18666667 -0.18666667\n",
            "  -0.08       -0.10666667 -0.22666667 -0.22666667]\n",
            " [-0.17333333 -0.14666667 -0.13333333 -0.25333333 -0.18666667 -0.18666667\n",
            "  -0.08       -0.10666667 -0.22666667 -0.22666667]\n",
            " [-0.18666667 -0.14666667 -0.13333333 -0.25333333 -0.2        -0.18666667\n",
            "  -0.08       -0.12       -0.24       -0.21333333]\n",
            " [-0.18666667 -0.12       -0.13333333 -0.24       -0.2        -0.18666667\n",
            "  -0.08       -0.13333333 -0.24       -0.21333333]\n",
            " [-0.18666667 -0.10666667 -0.13333333 -0.24       -0.2        -0.18666667\n",
            "  -0.10666667 -0.13333333 -0.24       -0.21333333]\n",
            " [-0.21333333 -0.08       -0.12       -0.22666667 -0.2        -0.18666667\n",
            "  -0.09333333 -0.12       -0.22666667 -0.21333333]\n",
            " [-0.21333333 -0.08       -0.12       -0.22666667 -0.2        -0.18666667\n",
            "  -0.09333333 -0.12       -0.21333333 -0.21333333]\n",
            " [-0.21333333 -0.08       -0.12       -0.21333333 -0.2        -0.17333333\n",
            "  -0.09333333 -0.10666667 -0.22666667 -0.2       ]\n",
            " [-0.22666667 -0.09333333 -0.13333333 -0.21333333 -0.2        -0.17333333\n",
            "  -0.09333333 -0.10666667 -0.24       -0.21333333]\n",
            " [-0.21333333 -0.09333333 -0.13333333 -0.21333333 -0.2        -0.17333333\n",
            "  -0.08       -0.10666667 -0.22666667 -0.22666667]\n",
            " [-0.21333333 -0.09333333 -0.13333333 -0.21333333 -0.21333333 -0.14666667\n",
            "  -0.10666667 -0.10666667 -0.22666667 -0.2       ]\n",
            " [-0.21333333 -0.09333333 -0.13333333 -0.21333333 -0.2        -0.13333333\n",
            "  -0.09333333 -0.10666667 -0.22666667 -0.2       ]\n",
            " [-0.21333333 -0.10666667 -0.13333333 -0.22666667 -0.2        -0.13333333\n",
            "  -0.09333333 -0.09333333 -0.22666667 -0.17333333]\n",
            " [-0.18666667 -0.09333333 -0.13333333 -0.22666667 -0.2        -0.13333333\n",
            "  -0.09333333 -0.09333333 -0.24       -0.17333333]\n",
            " [-0.2        -0.13333333 -0.14666667 -0.22666667 -0.2        -0.14666667\n",
            "  -0.09333333 -0.09333333 -0.22666667 -0.17333333]\n",
            " [-0.2        -0.13333333 -0.14666667 -0.22666667 -0.21333333 -0.14666667\n",
            "  -0.10666667 -0.06666667 -0.24       -0.16      ]\n",
            " [-0.2        -0.14666667 -0.14666667 -0.22666667 -0.21333333 -0.13333333\n",
            "  -0.10666667 -0.08       -0.22666667 -0.14666667]\n",
            " [-0.21333333 -0.14666667 -0.14666667 -0.22666667 -0.24       -0.10666667\n",
            "  -0.10666667 -0.05333333 -0.21333333 -0.16      ]\n",
            " [-0.21333333 -0.14666667 -0.14666667 -0.22666667 -0.24       -0.14666667\n",
            "  -0.10666667 -0.08       -0.21333333 -0.18666667]\n",
            " [-0.21333333 -0.13333333 -0.14666667 -0.22666667 -0.22666667 -0.16\n",
            "  -0.10666667 -0.08       -0.24       -0.2       ]\n",
            " [-0.21333333 -0.13333333 -0.13333333 -0.22666667 -0.2        -0.16\n",
            "  -0.12       -0.09333333 -0.24       -0.2       ]\n",
            " [-0.21333333 -0.13333333 -0.13333333 -0.21333333 -0.2        -0.16\n",
            "  -0.10666667 -0.09333333 -0.24       -0.2       ]\n",
            " [-0.21333333 -0.13333333 -0.13333333 -0.21333333 -0.18666667 -0.16\n",
            "  -0.10666667 -0.09333333 -0.24       -0.18666667]\n",
            " [-0.21333333 -0.12       -0.13333333 -0.21333333 -0.21333333 -0.16\n",
            "  -0.10666667 -0.09333333 -0.24       -0.18666667]\n",
            " [-0.21333333 -0.12       -0.13333333 -0.21333333 -0.22666667 -0.17333333\n",
            "  -0.10666667 -0.09333333 -0.24       -0.2       ]\n",
            " [-0.21333333 -0.12       -0.13333333 -0.21333333 -0.21333333 -0.17333333\n",
            "  -0.09333333 -0.08       -0.24       -0.2       ]\n",
            " [-0.21333333 -0.10666667 -0.13333333 -0.21333333 -0.21333333 -0.16\n",
            "  -0.09333333 -0.09333333 -0.21333333 -0.2       ]\n",
            " [-0.21333333 -0.10666667 -0.13333333 -0.22666667 -0.21333333 -0.13333333\n",
            "  -0.09333333 -0.09333333 -0.22666667 -0.18666667]\n",
            " [-0.21333333 -0.13333333 -0.13333333 -0.22666667 -0.21333333 -0.13333333\n",
            "  -0.09333333 -0.09333333 -0.22666667 -0.18666667]\n",
            " [-0.21333333 -0.13333333 -0.13333333 -0.22666667 -0.21333333 -0.14666667\n",
            "  -0.09333333 -0.09333333 -0.2        -0.16      ]\n",
            " [-0.2        -0.13333333 -0.13333333 -0.22666667 -0.21333333 -0.17333333\n",
            "  -0.09333333 -0.09333333 -0.2        -0.14666667]\n",
            " [-0.2        -0.10666667 -0.13333333 -0.24       -0.21333333 -0.17333333\n",
            "  -0.09333333 -0.09333333 -0.2        -0.14666667]\n",
            " [-0.2        -0.10666667 -0.13333333 -0.24       -0.21333333 -0.17333333\n",
            "  -0.08       -0.09333333 -0.2        -0.14666667]\n",
            " [-0.2        -0.10666667 -0.13333333 -0.22666667 -0.21333333 -0.17333333\n",
            "  -0.08       -0.09333333 -0.2        -0.14666667]\n",
            " [-0.2        -0.10666667 -0.13333333 -0.22666667 -0.21333333 -0.17333333\n",
            "  -0.09333333 -0.09333333 -0.21333333 -0.14666667]\n",
            " [-0.21333333 -0.10666667 -0.13333333 -0.22666667 -0.21333333 -0.17333333\n",
            "  -0.09333333 -0.08       -0.21333333 -0.14666667]\n",
            " [-0.2        -0.09333333 -0.13333333 -0.22666667 -0.2        -0.17333333\n",
            "  -0.08       -0.08       -0.2        -0.14666667]\n",
            " [-0.18666667 -0.09333333 -0.13333333 -0.21333333 -0.2        -0.17333333\n",
            "  -0.08       -0.08       -0.2        -0.14666667]\n",
            " [-0.18666667 -0.10666667 -0.13333333 -0.21333333 -0.2        -0.17333333\n",
            "  -0.08       -0.08       -0.2        -0.14666667]\n",
            " [-0.18666667 -0.10666667 -0.13333333 -0.21333333 -0.2        -0.17333333\n",
            "  -0.08       -0.08       -0.2        -0.16      ]\n",
            " [-0.17333333 -0.10666667 -0.13333333 -0.21333333 -0.2        -0.17333333\n",
            "  -0.10666667 -0.08       -0.21333333 -0.14666667]\n",
            " [-0.18666667 -0.10666667 -0.13333333 -0.21333333 -0.2        -0.17333333\n",
            "  -0.10666667 -0.08       -0.22666667 -0.14666667]\n",
            " [-0.17333333 -0.10666667 -0.14666667 -0.21333333 -0.2        -0.17333333\n",
            "  -0.10666667 -0.08       -0.21333333 -0.14666667]\n",
            " [-0.17333333 -0.10666667 -0.14666667 -0.21333333 -0.2        -0.17333333\n",
            "  -0.10666667 -0.08       -0.2        -0.14666667]\n",
            " [-0.17333333 -0.10666667 -0.14666667 -0.21333333 -0.2        -0.16\n",
            "  -0.10666667 -0.08       -0.2        -0.14666667]\n",
            " [-0.16       -0.10666667 -0.14666667 -0.21333333 -0.21333333 -0.17333333\n",
            "  -0.09333333 -0.08       -0.2        -0.14666667]\n",
            " [-0.16       -0.12       -0.14666667 -0.21333333 -0.21333333 -0.17333333\n",
            "  -0.08       -0.06666667 -0.2        -0.14666667]\n",
            " [-0.16       -0.12       -0.14666667 -0.21333333 -0.21333333 -0.17333333\n",
            "  -0.08       -0.06666667 -0.2        -0.14666667]\n",
            " [-0.17333333 -0.12       -0.14666667 -0.22666667 -0.2        -0.16\n",
            "  -0.08       -0.06666667 -0.2        -0.14666667]\n",
            " [-0.17333333 -0.12       -0.14666667 -0.22666667 -0.2        -0.16\n",
            "  -0.08       -0.06666667 -0.2        -0.14666667]\n",
            " [-0.17333333 -0.13333333 -0.14666667 -0.22666667 -0.2        -0.16\n",
            "  -0.08       -0.06666667 -0.2        -0.14666667]\n",
            " [-0.18666667 -0.13333333 -0.14666667 -0.22666667 -0.2        -0.16\n",
            "  -0.06666667 -0.06666667 -0.2        -0.14666667]\n",
            " [-0.18666667 -0.13333333 -0.14666667 -0.22666667 -0.2        -0.14666667\n",
            "  -0.06666667 -0.06666667 -0.2        -0.14666667]\n",
            " [-0.18666667 -0.13333333 -0.14666667 -0.22666667 -0.2        -0.14666667\n",
            "  -0.06666667 -0.06666667 -0.2        -0.14666667]\n",
            " [-0.2        -0.13333333 -0.13333333 -0.21333333 -0.2        -0.14666667\n",
            "  -0.06666667 -0.06666667 -0.2        -0.14666667]\n",
            " [-0.2        -0.13333333 -0.13333333 -0.21333333 -0.2        -0.16\n",
            "  -0.06666667 -0.06666667 -0.2        -0.14666667]\n",
            " [-0.21333333 -0.14666667 -0.14666667 -0.21333333 -0.2        -0.16\n",
            "  -0.06666667 -0.06666667 -0.2        -0.14666667]\n",
            " [-0.21333333 -0.14666667 -0.14666667 -0.21333333 -0.2        -0.16\n",
            "  -0.06666667 -0.06666667 -0.21333333 -0.14666667]\n",
            " [-0.21333333 -0.14666667 -0.13333333 -0.21333333 -0.2        -0.16\n",
            "  -0.06666667 -0.06666667 -0.21333333 -0.14666667]\n",
            " [-0.21333333 -0.16       -0.13333333 -0.21333333 -0.18666667 -0.14666667\n",
            "  -0.06666667 -0.06666667 -0.21333333 -0.14666667]\n",
            " [-0.21333333 -0.16       -0.13333333 -0.21333333 -0.2        -0.14666667\n",
            "  -0.06666667 -0.06666667 -0.21333333 -0.14666667]\n",
            " [-0.2        -0.16       -0.13333333 -0.21333333 -0.2        -0.16\n",
            "  -0.06666667 -0.08       -0.21333333 -0.14666667]\n",
            " [-0.18666667 -0.16       -0.13333333 -0.2        -0.2        -0.16\n",
            "  -0.06666667 -0.08       -0.22666667 -0.14666667]\n",
            " [-0.18666667 -0.16       -0.14666667 -0.2        -0.2        -0.16\n",
            "  -0.06666667 -0.08       -0.22666667 -0.14666667]\n",
            " [-0.18666667 -0.14666667 -0.14666667 -0.2        -0.2        -0.16\n",
            "  -0.06666667 -0.08       -0.22666667 -0.14666667]\n",
            " [-0.18666667 -0.13333333 -0.14666667 -0.2        -0.2        -0.14666667\n",
            "  -0.06666667 -0.08       -0.21333333 -0.14666667]\n",
            " [-0.18666667 -0.13333333 -0.16       -0.17333333 -0.2        -0.14666667\n",
            "  -0.06666667 -0.08       -0.21333333 -0.14666667]\n",
            " [-0.18666667 -0.13333333 -0.16       -0.17333333 -0.2        -0.14666667\n",
            "  -0.06666667 -0.06666667 -0.21333333 -0.14666667]\n",
            " [-0.18666667 -0.13333333 -0.16       -0.17333333 -0.2        -0.14666667\n",
            "  -0.06666667 -0.06666667 -0.2        -0.14666667]\n",
            " [-0.2        -0.13333333 -0.16       -0.17333333 -0.2        -0.13333333\n",
            "  -0.06666667 -0.05333333 -0.2        -0.14666667]\n",
            " [-0.2        -0.13333333 -0.16       -0.18666667 -0.18666667 -0.13333333\n",
            "  -0.06666667 -0.06666667 -0.2        -0.14666667]\n",
            " [-0.2        -0.14666667 -0.16       -0.18666667 -0.18666667 -0.14666667\n",
            "  -0.06666667 -0.06666667 -0.2        -0.14666667]\n",
            " [-0.2        -0.13333333 -0.16       -0.17333333 -0.18666667 -0.13333333\n",
            "  -0.06666667 -0.06666667 -0.18666667 -0.14666667]\n",
            " [-0.2        -0.13333333 -0.16       -0.18666667 -0.18666667 -0.13333333\n",
            "  -0.08       -0.06666667 -0.2        -0.14666667]\n",
            " [-0.2        -0.13333333 -0.14666667 -0.2        -0.18666667 -0.14666667\n",
            "  -0.08       -0.06666667 -0.21333333 -0.14666667]\n",
            " [-0.2        -0.13333333 -0.14666667 -0.18666667 -0.18666667 -0.13333333\n",
            "  -0.08       -0.06666667 -0.2        -0.14666667]\n",
            " [-0.21333333 -0.13333333 -0.16       -0.18666667 -0.18666667 -0.13333333\n",
            "  -0.08       -0.06666667 -0.2        -0.14666667]\n",
            " [-0.21333333 -0.13333333 -0.16       -0.18666667 -0.18666667 -0.13333333\n",
            "  -0.08       -0.06666667 -0.2        -0.14666667]]\n"
          ]
        }
      ],
      "source": [
        "#CODE HERE\n",
        "train_sizes, train_scores, validation_scores = learning_curve(\n",
        "estimator = KNeighborsClassifier(n_neighbors = 20),\n",
        "X = x_train,\n",
        "y = y_train, \n",
        "train_sizes = np.linspace(0.1, 1.0, 100), \n",
        "cv = 10,\n",
        "scoring = 'neg_mean_squared_error')\n",
        "print(train_sizes)\n",
        "print()\n",
        "print(train_scores)\n",
        "print()\n",
        "print(validation_scores)"
      ]
    },
    {
      "cell_type": "code",
      "execution_count": null,
      "metadata": {
        "id": "DvXwM15aMLtk"
      },
      "outputs": [],
      "source": [
        ""
      ]
    },
    {
      "cell_type": "markdown",
      "metadata": {
        "id": "y0vTSea1MLtk"
      },
      "source": [
        "Number of scores in each row of `train_scores`, `validation_scores` coincides with the number of folds in cross validation. So form the arrays of means `train_mean`, `validation_mean`."
      ]
    },
    {
      "cell_type": "code",
      "execution_count": 20,
      "metadata": {
        "colab": {
          "base_uri": "https://localhost:8080/"
        },
        "id": "vKifds6pMLtk",
        "outputId": "23ad48d6-3403-4887-acfc-470e17c0101c"
      },
      "outputs": [
        {
          "output_type": "stream",
          "name": "stdout",
          "text": [
            "(100,) (100, 10) (100, 10)\n",
            "(100,) (100,)\n"
          ]
        }
      ],
      "source": [
        "#CODE HERE\n",
        "train_mean = np.mean(train_scores,axis=1)\n",
        "validation_mean = np.mean(validation_scores,axis=1)\n",
        "print(train_sizes.shape,train_scores.shape,validation_scores.shape)\n",
        "print(train_mean.shape, validation_mean.shape)"
      ]
    },
    {
      "cell_type": "code",
      "execution_count": 21,
      "metadata": {
        "colab": {
          "base_uri": "https://localhost:8080/"
        },
        "id": "AGJYb0dTMLtk",
        "outputId": "91e0d506-2b9a-4a58-c79b-07f569dcbbca"
      },
      "outputs": [
        {
          "output_type": "stream",
          "name": "stdout",
          "text": [
            "(100,) (100, 10) (100, 10)\n"
          ]
        }
      ],
      "source": [
        "print(train_sizes.shape,train_scores.shape,validation_scores.shape)"
      ]
    },
    {
      "cell_type": "markdown",
      "metadata": {
        "id": "DlxS_i8BMLtk"
      },
      "source": [
        "Plot `train_mean`, `validation_mean` against `train_sizes`. "
      ]
    },
    {
      "cell_type": "code",
      "execution_count": 22,
      "metadata": {
        "colab": {
          "base_uri": "https://localhost:8080/",
          "height": 295
        },
        "id": "AF2wkfSZMLtk",
        "outputId": "6c9708b5-217b-4896-fab3-95cf7fffbc23"
      },
      "outputs": [
        {
          "output_type": "display_data",
          "data": {
            "image/png": "[encoded data removed]",
            "text/plain": [
              "<Figure size 432x288 with 1 Axes>"
            ]
          },
          "metadata": {
            "needs_background": "light"
          }
        }
      ],
      "source": [
        "#CODE HERE\n",
        "plt.plot(train_sizes,train_mean, 'g')\n",
        "plt.plot(train_sizes,validation_mean, 'r')\n",
        "plt.title ('Learning curve for 20 neighbor(s)')\n",
        "plt.xlabel('number of samples')\n",
        "plt.ylabel('score')\n",
        "plt.legend(['training score','cv score'])\n",
        "plt.show()"
      ]
    },
    {
      "cell_type": "code",
      "execution_count": null,
      "metadata": {
        "scrolled": true,
        "id": "8aQttlBAMLtl",
        "outputId": "7781f560-1ea4-4255-a3c5-3279fc3613ed"
      },
      "outputs": [
        {
          "data": {
            "text/plain": [
              "<matplotlib.legend.Legend at 0x1f4c779e898>"
            ]
          },
          "execution_count": 37,
          "metadata": {},
          "output_type": "execute_result"
        },
        {
          "data": {
            "image/png": "[encoded data removed]",
            "text/plain": [
              "<Figure size 432x288 with 1 Axes>"
            ]
          },
          "metadata": {
            "needs_background": "light"
          },
          "output_type": "display_data"
        }
      ],
      "source": [
        ""
      ]
    },
    {
      "cell_type": "markdown",
      "metadata": {
        "id": "SwoUF8mNMLtl"
      },
      "source": [
        "Tune the parameters of the SVC, using GridSearchfor for 10 folds and\n",
        "\n",
        "`hyperparameters = {'C' : [0.001, 0.01, 0.1, 1, 10, 100],  'gamma' : [0.001, 0.01, 0.1, 1, 10, 100]}`\n",
        "\n",
        "Print the best parameter values and the scores of the respected SVC classifier."
      ]
    },
    {
      "cell_type": "code",
      "execution_count": 23,
      "metadata": {
        "colab": {
          "base_uri": "https://localhost:8080/"
        },
        "id": "1CEHqCK9MLtl",
        "outputId": "24a1e0cd-b8f6-4fa0-94ca-370f05a50876"
      },
      "outputs": [
        {
          "output_type": "stream",
          "name": "stdout",
          "text": [
            "dict_keys(['C', 'break_ties', 'cache_size', 'class_weight', 'coef0', 'decision_function_shape', 'degree', 'gamma', 'kernel', 'max_iter', 'probability', 'random_state', 'shrinking', 'tol', 'verbose'])\n",
            "Best parameters:  {'C': 10, 'gamma': 1}\n",
            "train score:  0.884\n",
            "test score: 0.88\n"
          ]
        }
      ],
      "source": [
        "#CODE HERE\n",
        "clf = SVC()\n",
        "hyperparameters = {\n",
        "    'C' : [0.001, 0.01, 0.1, 1, 10, 100],  \n",
        "    'gamma' : [0.001, 0.01, 0.1, 1, 10, 100]\n",
        "}\n",
        "GS = GridSearchCV(clf, hyperparameters, cv = 10)\n",
        "GS.fit(x_train, y_train)\n",
        "print(clf.get_params().keys())\n",
        "print(\"Best parameters: \", GS.best_params_)\n",
        "print(\"train score: \", GS.score(x_train,y_train))\n",
        "print(\"test score:\", GS.score(x_test,y_test))\n"
      ]
    },
    {
      "cell_type": "code",
      "execution_count": null,
      "metadata": {
        "id": "jyUXA9wKMLtl",
        "outputId": "ff0bda90-edd2-4b81-ef2d-e6bd58aebfac"
      },
      "outputs": [
        {
          "name": "stdout",
          "output_type": "stream",
          "text": [
            "dict_keys(['C', 'cache_size', 'class_weight', 'coef0', 'decision_function_shape', 'degree', 'gamma', 'kernel', 'max_iter', 'probability', 'random_state', 'shrinking', 'tol', 'verbose'])\n",
            "Best parameters: {'C': 1, 'gamma': 1}\n",
            "train score: 0.8866666666666667\n",
            "test score: 0.9\n"
          ]
        },
        {
          "name": "stderr",
          "output_type": "stream",
          "text": [
            "D:\\Anaconda3\\lib\\site-packages\\sklearn\\model_selection\\_search.py:813: DeprecationWarning: The default of the `iid` parameter will change from True to False in version 0.22 and will be removed in 0.24. This will change numeric results when test-set sizes are unequal.\n",
            "  DeprecationWarning)\n"
          ]
        }
      ],
      "source": [
        ""
      ]
    },
    {
      "cell_type": "code",
      "execution_count": null,
      "metadata": {
        "id": "5lX2-94FMLtl"
      },
      "outputs": [],
      "source": [
        ""
      ]
    }
  ],
  "metadata": {
    "kernelspec": {
      "display_name": "Python 3",
      "language": "python",
      "name": "python3"
    },
    "language_info": {
      "codemirror_mode": {
        "name": "ipython",
        "version": 3
      },
      "file_extension": ".py",
      "mimetype": "text/x-python",
      "name": "python",
      "nbconvert_exporter": "python",
      "pygments_lexer": "ipython3",
      "version": "3.8.8"
    },
    "colab": {
      "name": "Almukhamedova_assignment_6.ipynb",
      "provenance": [],
      "collapsed_sections": []
    }
  },
  "nbformat": 4,
  "nbformat_minor": 0
}