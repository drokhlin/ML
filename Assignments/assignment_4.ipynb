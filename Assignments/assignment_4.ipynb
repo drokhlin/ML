{
 "cells": [
  {
   "cell_type": "markdown",
   "id": "bfa7a9fa",
   "metadata": {},
   "source": [
    "1. Sample $10^4$ points uniformly over the hypercube $[0,1]^d$ (denote this set by $\\mathcal X$).\n",
    "2. For $d\\in\\{1,2,3,5,10,20,50,100,500\\}$ and for the Euclidean distance $\\rho$ find\n",
    "- $\\min d(x,\\tilde x)$: minimum over $x,\\tilde x\\in \\mathcal X$\n",
    "- $\\overline{d(x,\\tilde x)}$: average over $x,\\tilde x\\in \\mathcal X$\n",
    "- $\\max d(x,\\tilde x)$: maximum over $x,\\tilde x\\in \\mathcal X$\n",
    "- $\\overline{d_{NN1}(x)}$: average distance to the nearest neighbor\n",
    "- $ \\max d_{NN1}(x)$: maximal distance to the nearest neigbor \n",
    "\n",
    "Collect the results in a table"
   ]
  },
  {
   "cell_type": "markdown",
   "id": "1e249e9d",
   "metadata": {},
   "source": [
    "3. Generate $10^4$ point such that each point with probability $1/2$\n",
    "- is sampled from $N(\\mu,I)$, $\\mu=(a,\\dots,a)\\in\\mathbb R^d$ and gets label $0$\n",
    "- is sampled from $N(\\mu,I)$, $\\mu=(-a,\\dots,-a)\\in\\mathbb R^d$ and gets label $1$\n",
    "\n",
    "Put $a=\\frac{2}{\\sqrt{d}}$ (the Bayes error will be $\\approx 0.023$ for all $d$). \n",
    "\n",
    "For $k = 3, 7, 15$  train a $k$-NN classifier for increasing dimensions $1\\le d\\le 500$ and monitor its performance evaluated by 10 times repeated 10-fold CV. For each $k$ draw the graphs of the mean  missclassification error as a function of $d$."
   ]
  }
 ],
 "metadata": {
  "kernelspec": {
   "display_name": "Python 3",
   "language": "python",
   "name": "python3"
  },
  "language_info": {
   "codemirror_mode": {
    "name": "ipython",
    "version": 3
   },
   "file_extension": ".py",
   "mimetype": "text/x-python",
   "name": "python",
   "nbconvert_exporter": "python",
   "pygments_lexer": "ipython3",
   "version": "3.8.8"
  }
 },
 "nbformat": 4,
 "nbformat_minor": 5
}
