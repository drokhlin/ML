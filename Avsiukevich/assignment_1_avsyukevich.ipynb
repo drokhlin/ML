{
 "cells": [
  {
   "cell_type": "code",
   "execution_count": 2,
   "metadata": {},
   "outputs": [],
   "source": [
    "import numpy as np"
   ]
  },
  {
   "cell_type": "markdown",
   "metadata": {},
   "source": [
    "1. Put $m=5$ and create an $m\\times m$-marix $A$ and $m$-dimensional vector $b$ with random entries. Use standard normal distribution and random seed 42: `np.random.seed(42)`. Print $A$ and $b$."
   ]
  },
  {
   "cell_type": "code",
   "execution_count": 46,
   "metadata": {},
   "outputs": [
    {
     "name": "stdout",
     "output_type": "stream",
     "text": [
      "[[ 0.49671415 -0.1382643   0.64768854  1.52302986 -0.23415337]\n",
      " [-0.23413696  1.57921282  0.76743473 -0.46947439  0.54256004]\n",
      " [-0.46341769 -0.46572975  0.24196227 -1.91328024 -1.72491783]\n",
      " [-0.56228753 -1.01283112  0.31424733 -0.90802408 -1.4123037 ]\n",
      " [ 1.46564877 -0.2257763   0.0675282  -1.42474819 -0.54438272]]\n",
      "[ 0.11092259 -1.15099358  0.37569802 -0.60063869 -0.29169375]\n"
     ]
    }
   ],
   "source": [
    "# CODE HERE\n",
    "m = 5\n",
    "np.random.seed(42)\n",
    "A = np.random.normal(0,1,(m,m))\n",
    "b = np.random.normal(0,1,(m))\n",
    "print(A)\n",
    "print(b)"
   ]
  },
  {
   "cell_type": "code",
   "execution_count": 3,
   "metadata": {},
   "outputs": [
    {
     "name": "stdout",
     "output_type": "stream",
     "text": [
      "A: [[ 0.49671415 -0.1382643   0.64768854  1.52302986 -0.23415337]\n",
      " [-0.23413696  1.57921282  0.76743473 -0.46947439  0.54256004]\n",
      " [-0.46341769 -0.46572975  0.24196227 -1.91328024 -1.72491783]\n",
      " [-0.56228753 -1.01283112  0.31424733 -0.90802408 -1.4123037 ]\n",
      " [ 1.46564877 -0.2257763   0.0675282  -1.42474819 -0.54438272]]\n",
      "b: [ 0.11092259 -1.15099358  0.37569802 -0.60063869 -0.29169375]\n"
     ]
    }
   ],
   "source": [
    "# DON'T WRITE HERE\n",
    "np.random.seed(42)\n"
   ]
  },
  {
   "cell_type": "markdown",
   "metadata": {},
   "source": [
    "2. Print the dimensions of $A$, $b$, using `np.shape`."
   ]
  },
  {
   "cell_type": "code",
   "execution_count": 25,
   "metadata": {},
   "outputs": [
    {
     "name": "stdout",
     "output_type": "stream",
     "text": [
      "(5, 5)\n",
      "(5,)\n"
     ]
    }
   ],
   "source": [
    "# CODE HERE\n",
    "print(np.shape(A))\n",
    "print(np.shape(b))"
   ]
  },
  {
   "cell_type": "code",
   "execution_count": 5,
   "metadata": {},
   "outputs": [
    {
     "name": "stdout",
     "output_type": "stream",
     "text": [
      "(5, 5) (5,)\n"
     ]
    }
   ],
   "source": [
    "# DON'T WRITE HERE\n"
   ]
  },
  {
   "cell_type": "markdown",
   "metadata": {},
   "source": [
    "3. Solve the linear system of equations $Ax=b$ and print the result. Use `np.linalg.solve`."
   ]
  },
  {
   "cell_type": "code",
   "execution_count": 27,
   "metadata": {},
   "outputs": [
    {
     "data": {
      "text/plain": [
       "array([ 0.33950798,  1.86215687, -2.9397798 ,  1.01930545, -2.35479429])"
      ]
     },
     "execution_count": 27,
     "metadata": {},
     "output_type": "execute_result"
    }
   ],
   "source": [
    "# CODE HERE\n",
    "np.linalg.solve(A,b)"
   ]
  },
  {
   "cell_type": "code",
   "execution_count": 7,
   "metadata": {},
   "outputs": [
    {
     "data": {
      "text/plain": [
       "array([ 0.33950798,  1.86215687, -2.9397798 ,  1.01930545, -2.35479429])"
      ]
     },
     "execution_count": 7,
     "metadata": {},
     "output_type": "execute_result"
    }
   ],
   "source": [
    "# DON'T WRITE HERE\n"
   ]
  },
  {
   "cell_type": "markdown",
   "metadata": {},
   "source": [
    "4. Find the transpose matrix $A^T$ and the inverse matrix $A^{-1}$."
   ]
  },
  {
   "cell_type": "code",
   "execution_count": 36,
   "metadata": {},
   "outputs": [
    {
     "name": "stdout",
     "output_type": "stream",
     "text": [
      "[[ 0.49671415 -0.23413696 -0.46341769 -0.56228753  1.46564877]\n",
      " [-0.1382643   1.57921282 -0.46572975 -1.01283112 -0.2257763 ]\n",
      " [ 0.64768854  0.76743473  0.24196227  0.31424733  0.0675282 ]\n",
      " [ 1.52302986 -0.46947439 -1.91328024 -0.90802408 -1.42474819]\n",
      " [-0.23415337  0.54256004 -1.72491783 -1.4123037  -0.54438272]]\n"
     ]
    }
   ],
   "source": [
    "# CODE HERE\n",
    "print(A.transpose())"
   ]
  },
  {
   "cell_type": "code",
   "execution_count": 9,
   "metadata": {},
   "outputs": [
    {
     "data": {
      "text/plain": [
       "array([[ 0.49671415, -0.23413696, -0.46341769, -0.56228753,  1.46564877],\n",
       "       [-0.1382643 ,  1.57921282, -0.46572975, -1.01283112, -0.2257763 ],\n",
       "       [ 0.64768854,  0.76743473,  0.24196227,  0.31424733,  0.0675282 ],\n",
       "       [ 1.52302986, -0.46947439, -1.91328024, -0.90802408, -1.42474819],\n",
       "       [-0.23415337,  0.54256004, -1.72491783, -1.4123037 , -0.54438272]])"
      ]
     },
     "execution_count": 9,
     "metadata": {},
     "output_type": "execute_result"
    }
   ],
   "source": [
    "# DON'T WRITE HERE\n"
   ]
  },
  {
   "cell_type": "code",
   "execution_count": 37,
   "metadata": {},
   "outputs": [
    {
     "name": "stdout",
     "output_type": "stream",
     "text": [
      "[[ 0.27160427 -0.13802315  0.1068986  -0.40131296  0.44803328]\n",
      " [ 0.43517254 -0.07793672  1.47897661 -1.76590496 -0.36977934]\n",
      " [ 0.00734044  0.90858841 -1.49597684  2.00568236  0.43912026]\n",
      " [ 0.49145763 -0.27331144  0.46849253 -0.64008524 -0.30765249]\n",
      " [-0.734562    0.48873361 -1.7372825   1.57594284  0.38231772]]\n"
     ]
    }
   ],
   "source": [
    "# CODE HERE\n",
    "print(np.linalg.inv(A))"
   ]
  },
  {
   "cell_type": "code",
   "execution_count": 11,
   "metadata": {},
   "outputs": [
    {
     "data": {
      "text/plain": [
       "array([[ 0.27160427, -0.13802315,  0.1068986 , -0.40131296,  0.44803328],\n",
       "       [ 0.43517254, -0.07793672,  1.47897661, -1.76590496, -0.36977934],\n",
       "       [ 0.00734044,  0.90858841, -1.49597684,  2.00568236,  0.43912026],\n",
       "       [ 0.49145763, -0.27331144,  0.46849253, -0.64008524, -0.30765249],\n",
       "       [-0.734562  ,  0.48873361, -1.7372825 ,  1.57594284,  0.38231772]])"
      ]
     },
     "execution_count": 11,
     "metadata": {},
     "output_type": "execute_result"
    }
   ],
   "source": [
    "# DON'T WRITE HERE\n"
   ]
  },
  {
   "cell_type": "markdown",
   "metadata": {},
   "source": [
    "5. Choose an elementary function ($exp$, $sin$, etc.), apply it elementwise to $A$ and print the result."
   ]
  },
  {
   "cell_type": "code",
   "execution_count": 52,
   "metadata": {},
   "outputs": [
    {
     "name": "stdout",
     "output_type": "stream",
     "text": [
      "[[1.64331272 0.87086849 1.91111824 4.58609939 0.79124045]\n",
      " [0.79125344 4.85113557 2.15423297 0.62533086 1.72040554]\n",
      " [0.62912979 0.62767689 1.27374614 0.14759544 0.17818769]\n",
      " [0.5699039  0.36318929 1.36922835 0.40332037 0.2435815 ]\n",
      " [4.33035173 0.79789657 1.06986043 0.24056903 0.58019982]]\n"
     ]
    }
   ],
   "source": [
    "# CODE HERE\n",
    "print(np.exp(A))"
   ]
  },
  {
   "cell_type": "code",
   "execution_count": 13,
   "metadata": {},
   "outputs": [
    {
     "data": {
      "text/plain": [
       "array([[1.64331272, 0.87086849, 1.91111824, 4.58609939, 0.79124045],\n",
       "       [0.79125344, 4.85113557, 2.15423297, 0.62533086, 1.72040554],\n",
       "       [0.62912979, 0.62767689, 1.27374614, 0.14759544, 0.17818769],\n",
       "       [0.5699039 , 0.36318929, 1.36922835, 0.40332037, 0.2435815 ],\n",
       "       [4.33035173, 0.79789657, 1.06986043, 0.24056903, 0.58019982]])"
      ]
     },
     "execution_count": 13,
     "metadata": {},
     "output_type": "execute_result"
    }
   ],
   "source": [
    "# DON'T WRITE HERE\n"
   ]
  },
  {
   "cell_type": "markdown",
   "metadata": {},
   "source": [
    "6. Find $A+b$, using the broadcating."
   ]
  },
  {
   "cell_type": "code",
   "execution_count": 54,
   "metadata": {},
   "outputs": [
    {
     "name": "stdout",
     "output_type": "stream",
     "text": [
      "[[ 0.60763674 -1.28925788  1.02338656  0.92239117 -0.52584712]\n",
      " [-0.12321437  0.42821924  1.14313275 -1.07011308  0.25086629]\n",
      " [-0.3524951  -1.61672333  0.61766029 -2.51391893 -2.01661158]\n",
      " [-0.45136494 -2.1638247   0.68994535 -1.50866277 -1.70399745]\n",
      " [ 1.57657136 -1.37676988  0.44322622 -2.02538688 -0.83607647]]\n"
     ]
    }
   ],
   "source": [
    "# CODE HERE\n",
    "print(A+b)"
   ]
  },
  {
   "cell_type": "code",
   "execution_count": 15,
   "metadata": {},
   "outputs": [
    {
     "data": {
      "text/plain": [
       "array([[ 0.60763674, -1.28925788,  1.02338656,  0.92239117, -0.52584712],\n",
       "       [-0.12321437,  0.42821924,  1.14313275, -1.07011308,  0.25086629],\n",
       "       [-0.3524951 , -1.61672333,  0.61766029, -2.51391893, -2.01661158],\n",
       "       [-0.45136494, -2.1638247 ,  0.68994535, -1.50866277, -1.70399745],\n",
       "       [ 1.57657136, -1.37676988,  0.44322622, -2.02538688, -0.83607647]])"
      ]
     },
     "execution_count": 15,
     "metadata": {},
     "output_type": "execute_result"
    }
   ],
   "source": [
    "# DON'T WRITE HERE\n"
   ]
  },
  {
   "cell_type": "markdown",
   "metadata": {},
   "source": [
    "7. Find the sum of all rows of $A$."
   ]
  },
  {
   "cell_type": "code",
   "execution_count": 56,
   "metadata": {},
   "outputs": [
    {
     "name": "stdout",
     "output_type": "stream",
     "text": [
      "[ 2.29501487  2.18559625 -4.32538325 -3.58119909 -0.66173024]\n"
     ]
    }
   ],
   "source": [
    "# CODE HERE\n",
    "print(np.sum(A,axis=1))"
   ]
  },
  {
   "cell_type": "code",
   "execution_count": 17,
   "metadata": {},
   "outputs": [
    {
     "name": "stdout",
     "output_type": "stream",
     "text": [
      "[ 2.29501487  2.18559625 -4.32538325 -3.58119909 -0.66173024]\n"
     ]
    }
   ],
   "source": [
    "# DON'T WRITE HERE\n"
   ]
  },
  {
   "cell_type": "markdown",
   "metadata": {},
   "source": [
    "8. Find the sum of all columns of $A$."
   ]
  },
  {
   "cell_type": "code",
   "execution_count": 58,
   "metadata": {},
   "outputs": [
    {
     "name": "stdout",
     "output_type": "stream",
     "text": [
      "[ 0.70252074 -0.26338866  2.03886108 -3.19249704 -3.37319759]\n"
     ]
    }
   ],
   "source": [
    "# CODE HERE\n",
    "print(np.sum(A,axis=0))"
   ]
  },
  {
   "cell_type": "code",
   "execution_count": 19,
   "metadata": {},
   "outputs": [
    {
     "name": "stdout",
     "output_type": "stream",
     "text": [
      "[ 0.70252074 -0.26338866  2.03886108 -3.19249704 -3.37319759]\n"
     ]
    }
   ],
   "source": [
    "# DON'T WRITE HERE\n"
   ]
  },
  {
   "cell_type": "markdown",
   "metadata": {},
   "source": [
    "9. Create a vector $v=(10,11,\\dots,10+m)$. Use `np.arange`."
   ]
  },
  {
   "cell_type": "code",
   "execution_count": 80,
   "metadata": {},
   "outputs": [
    {
     "name": "stdout",
     "output_type": "stream",
     "text": [
      "[10 11 12 13 14 15]\n"
     ]
    }
   ],
   "source": [
    "# CODE HERE\n",
    "v = np.arange(10,10+m+1)\n",
    "print(v)"
   ]
  },
  {
   "cell_type": "code",
   "execution_count": 21,
   "metadata": {},
   "outputs": [
    {
     "data": {
      "text/plain": [
       "array([10, 11, 12, 13, 14, 15])"
      ]
     },
     "execution_count": 21,
     "metadata": {},
     "output_type": "execute_result"
    }
   ],
   "source": [
    "# DON'T WRITE HERE\n"
   ]
  },
  {
   "cell_type": "markdown",
   "metadata": {},
   "source": [
    "10. Create a vector $v=(0,0.1,\\dots,1)\\in\\mathbb R^{11}$. Use `np.linspace`."
   ]
  },
  {
   "cell_type": "code",
   "execution_count": 81,
   "metadata": {},
   "outputs": [
    {
     "name": "stdout",
     "output_type": "stream",
     "text": [
      "[0.  0.1 0.2 0.3 0.4 0.5 0.6 0.7 0.8 0.9 1. ]\n"
     ]
    }
   ],
   "source": [
    "# CODE HERE\n",
    "v = np.linspace(0, 1, 11)\n",
    "print(v)"
   ]
  },
  {
   "cell_type": "code",
   "execution_count": 23,
   "metadata": {},
   "outputs": [
    {
     "data": {
      "text/plain": [
       "array([0. , 0.1, 0.2, 0.3, 0.4, 0.5, 0.6, 0.7, 0.8, 0.9, 1. ])"
      ]
     },
     "execution_count": 23,
     "metadata": {},
     "output_type": "execute_result"
    }
   ],
   "source": [
    "# DON'T WRITE HERE\n"
   ]
  },
  {
   "cell_type": "markdown",
   "metadata": {},
   "source": [
    "11. Create a vector $v\\in\\mathbb R^{100}$ with random elements sampled from the uniform distribution on $\\{0,1,2\\}$. Use `np.random.seed(42)`."
   ]
  },
  {
   "cell_type": "code",
   "execution_count": 83,
   "metadata": {},
   "outputs": [
    {
     "name": "stdout",
     "output_type": "stream",
     "text": [
      "[2 0 2 2 0 0 2 1 2 2 2 2 0 2 1 0 1 1 1 1 0 0 1 1 0 0 0 2 2 2 1 2 1 1 2 1 2\n",
      " 2 0 2 0 2 2 0 0 2 1 0 1 1 1 0 1 0 1 2 2 0 2 2 1 0 1 1 1 1 1 1 1 0 2 1 1 1\n",
      " 1 1 1 2 2 1 2 0 1 0 0 1 2 0 1 0 0 0 0 2 0 0 0 2 0 0]\n"
     ]
    }
   ],
   "source": [
    "# CODE HERE\n",
    "np.random.seed(42)\n",
    "v = np.random.randint(0,3,100)\n",
    "print(v)"
   ]
  },
  {
   "cell_type": "code",
   "execution_count": 25,
   "metadata": {},
   "outputs": [
    {
     "data": {
      "text/plain": [
       "array([2, 0, 2, 2, 0, 0, 2, 1, 2, 2, 2, 2, 0, 2, 1, 0, 1, 1, 1, 1, 0, 0,\n",
       "       1, 1, 0, 0, 0, 2, 2, 2, 1, 2, 1, 1, 2, 1, 2, 2, 0, 2, 0, 2, 2, 0,\n",
       "       0, 2, 1, 0, 1, 1, 1, 0, 1, 0, 1, 2, 2, 0, 2, 2, 1, 0, 1, 1, 1, 1,\n",
       "       1, 1, 1, 0, 2, 1, 1, 1, 1, 1, 1, 2, 2, 1, 2, 0, 1, 0, 0, 1, 2, 0,\n",
       "       1, 0, 0, 0, 0, 2, 0, 0, 0, 2, 0, 0])"
      ]
     },
     "execution_count": 25,
     "metadata": {},
     "output_type": "execute_result"
    }
   ],
   "source": [
    "# DON'T WRITE HERE\n"
   ]
  },
  {
   "cell_type": "markdown",
   "metadata": {},
   "source": [
    "12. Find the number of appearence of each element $0,1,2$ in $v$. Use `np.bincount`."
   ]
  },
  {
   "cell_type": "code",
   "execution_count": 111,
   "metadata": {},
   "outputs": [
    {
     "data": {
      "text/plain": [
       "array([33, 36, 31], dtype=int64)"
      ]
     },
     "execution_count": 111,
     "metadata": {},
     "output_type": "execute_result"
    }
   ],
   "source": [
    "# CODE HERE\n",
    "np.bincount(v)"
   ]
  },
  {
   "cell_type": "code",
   "execution_count": 27,
   "metadata": {},
   "outputs": [
    {
     "data": {
      "text/plain": [
       "array([33, 36, 31], dtype=int64)"
      ]
     },
     "execution_count": 27,
     "metadata": {},
     "output_type": "execute_result"
    }
   ],
   "source": [
    "# DON'T WRITE HERE\n"
   ]
  },
  {
   "cell_type": "markdown",
   "metadata": {},
   "source": [
    "13. Fix $\\mu$, $\\sigma$. Create a vector $v\\in\\mathbb R^{100}$ with random elements sampled from the normal random distribution with parameters $(\\mu,\\sigma^2)$. Use `np.random.randn` and `np.random.seed(42)`."
   ]
  },
  {
   "cell_type": "code",
   "execution_count": 136,
   "metadata": {},
   "outputs": [
    {
     "name": "stdout",
     "output_type": "stream",
     "text": [
      "[ 1.99342831e+00  7.23471398e-01  2.29537708e+00  4.04605971e+00\n",
      "  5.31693251e-01  5.31726086e-01  4.15842563e+00  2.53486946e+00\n",
      "  6.10512281e-02  2.08512009e+00  7.31646144e-02  6.85404929e-02\n",
      "  1.48392454e+00 -2.82656049e+00 -2.44983567e+00 -1.24575058e-01\n",
      " -1.02566224e+00  1.62849467e+00 -8.16048151e-01 -1.82460740e+00\n",
      "  3.93129754e+00  5.48447399e-01  1.13505641e+00 -1.84949637e+00\n",
      " -8.87654491e-02  1.22184518e+00 -1.30198715e+00  1.75139604e+00\n",
      " -2.01277380e-01  4.16612500e-01 -2.03413224e-01  4.70455637e+00\n",
      "  9.73005551e-01 -1.11542186e+00  2.64508982e+00 -1.44168730e+00\n",
      "  1.41772719e+00 -2.91934025e+00 -1.65637210e+00  1.39372247e+00\n",
      "  2.47693316e+00  1.34273656e+00  7.68703435e-01  3.97792609e-01\n",
      " -1.95704398e+00 -4.39688417e-01  7.87224581e-02  3.11424445e+00\n",
      "  1.68723658e+00 -2.52608031e+00  1.64816794e+00  2.29835439e-01\n",
      " -3.53844001e-01  2.22335258e+00  3.06199904e+00  2.86256024e+00\n",
      " -6.78435046e-01  3.81575248e-01  1.66252686e+00  2.95109025e+00\n",
      "  4.16515243e-02  6.28682047e-01 -1.21266995e+00 -1.39241325e+00\n",
      "  2.62505164e+00  3.71248006e+00  8.55979757e-01  3.00706580e+00\n",
      "  1.72327205e+00 -2.90239509e-01  1.72279121e+00  4.07607313e+00\n",
      "  9.28347922e-01  4.12928731e+00 -4.23949021e+00  2.64380501e+00\n",
      "  1.17409414e+00  4.01985299e-01  1.18352155e+00 -2.97513783e+00\n",
      "  5.60656224e-01  1.71422514e+00  3.95578809e+00 -3.65404365e-02\n",
      " -6.16987206e-01 -3.51408717e-03  2.83080424e+00  1.65750222e+00\n",
      " -5.95204075e-02  2.02653487e+00  1.19415510e+00  2.93728998e+00\n",
      " -4.04106188e-01  3.44675707e-01  2.15783694e-01 -1.92702990e+00\n",
      "  1.59224055e+00  1.52211054e+00  1.01022691e+00  5.30825733e-01]\n"
     ]
    }
   ],
   "source": [
    "# CODE HERE\n",
    "np.random.seed(42)\n",
    "mu, sigma = 1, 2\n",
    "v = sigma * np.random.randn(100) + mu\n",
    "print(v)"
   ]
  },
  {
   "cell_type": "code",
   "execution_count": 29,
   "metadata": {},
   "outputs": [
    {
     "data": {
      "text/plain": [
       "array([ 1.99342831e+00,  7.23471398e-01,  2.29537708e+00,  4.04605971e+00,\n",
       "        5.31693251e-01,  5.31726086e-01,  4.15842563e+00,  2.53486946e+00,\n",
       "        6.10512281e-02,  2.08512009e+00,  7.31646144e-02,  6.85404929e-02,\n",
       "        1.48392454e+00, -2.82656049e+00, -2.44983567e+00, -1.24575058e-01,\n",
       "       -1.02566224e+00,  1.62849467e+00, -8.16048151e-01, -1.82460740e+00,\n",
       "        3.93129754e+00,  5.48447399e-01,  1.13505641e+00, -1.84949637e+00,\n",
       "       -8.87654491e-02,  1.22184518e+00, -1.30198715e+00,  1.75139604e+00,\n",
       "       -2.01277380e-01,  4.16612500e-01, -2.03413224e-01,  4.70455637e+00,\n",
       "        9.73005551e-01, -1.11542186e+00,  2.64508982e+00, -1.44168730e+00,\n",
       "        1.41772719e+00, -2.91934025e+00, -1.65637210e+00,  1.39372247e+00,\n",
       "        2.47693316e+00,  1.34273656e+00,  7.68703435e-01,  3.97792609e-01,\n",
       "       -1.95704398e+00, -4.39688417e-01,  7.87224581e-02,  3.11424445e+00,\n",
       "        1.68723658e+00, -2.52608031e+00,  1.64816794e+00,  2.29835439e-01,\n",
       "       -3.53844001e-01,  2.22335258e+00,  3.06199904e+00,  2.86256024e+00,\n",
       "       -6.78435046e-01,  3.81575248e-01,  1.66252686e+00,  2.95109025e+00,\n",
       "        4.16515243e-02,  6.28682047e-01, -1.21266995e+00, -1.39241325e+00,\n",
       "        2.62505164e+00,  3.71248006e+00,  8.55979757e-01,  3.00706580e+00,\n",
       "        1.72327205e+00, -2.90239509e-01,  1.72279121e+00,  4.07607313e+00,\n",
       "        9.28347922e-01,  4.12928731e+00, -4.23949021e+00,  2.64380501e+00,\n",
       "        1.17409414e+00,  4.01985299e-01,  1.18352155e+00, -2.97513783e+00,\n",
       "        5.60656224e-01,  1.71422514e+00,  3.95578809e+00, -3.65404365e-02,\n",
       "       -6.16987206e-01, -3.51408717e-03,  2.83080424e+00,  1.65750222e+00,\n",
       "       -5.95204075e-02,  2.02653487e+00,  1.19415510e+00,  2.93728998e+00,\n",
       "       -4.04106188e-01,  3.44675707e-01,  2.15783694e-01, -1.92702990e+00,\n",
       "        1.59224055e+00,  1.52211054e+00,  1.01022691e+00,  5.30825733e-01])"
      ]
     },
     "execution_count": 29,
     "metadata": {},
     "output_type": "execute_result"
    }
   ],
   "source": [
    "# DON'T WRITE HERE\n"
   ]
  },
  {
   "cell_type": "markdown",
   "metadata": {},
   "source": [
    "14. Find all elements that are larger than $1$ and collect them to another array $u$. "
   ]
  },
  {
   "cell_type": "code",
   "execution_count": 137,
   "metadata": {},
   "outputs": [
    {
     "name": "stdout",
     "output_type": "stream",
     "text": [
      "[1.99342831 2.29537708 4.04605971 4.15842563 2.53486946 2.08512009\n",
      " 1.48392454 1.62849467 3.93129754 1.13505641 1.22184518 1.75139604\n",
      " 4.70455637 2.64508982 1.41772719 1.39372247 2.47693316 1.34273656\n",
      " 3.11424445 1.68723658 1.64816794 2.22335258 3.06199904 2.86256024\n",
      " 1.66252686 2.95109025 2.62505164 3.71248006 3.0070658  1.72327205\n",
      " 1.72279121 4.07607313 4.12928731 2.64380501 1.17409414 1.18352155\n",
      " 1.71422514 3.95578809 2.83080424 1.65750222 2.02653487 1.1941551\n",
      " 2.93728998 1.59224055 1.52211054 1.01022691]\n"
     ]
    }
   ],
   "source": [
    "# CODE HERE\n",
    "u = v[v>1]\n",
    "print(u)"
   ]
  },
  {
   "cell_type": "code",
   "execution_count": 31,
   "metadata": {},
   "outputs": [
    {
     "name": "stdout",
     "output_type": "stream",
     "text": [
      "[1.99342831 2.29537708 4.04605971 4.15842563 2.53486946 2.08512009\n",
      " 1.48392454 1.62849467 3.93129754 1.13505641 1.22184518 1.75139604\n",
      " 4.70455637 2.64508982 1.41772719 1.39372247 2.47693316 1.34273656\n",
      " 3.11424445 1.68723658 1.64816794 2.22335258 3.06199904 2.86256024\n",
      " 1.66252686 2.95109025 2.62505164 3.71248006 3.0070658  1.72327205\n",
      " 1.72279121 4.07607313 4.12928731 2.64380501 1.17409414 1.18352155\n",
      " 1.71422514 3.95578809 2.83080424 1.65750222 2.02653487 1.1941551\n",
      " 2.93728998 1.59224055 1.52211054 1.01022691]\n"
     ]
    }
   ],
   "source": [
    "# DON'T WRITE HERE\n"
   ]
  },
  {
   "cell_type": "markdown",
   "metadata": {},
   "source": [
    "15. Find and print the positions of the mentioned elements in $v$. Use `np.where`."
   ]
  },
  {
   "cell_type": "code",
   "execution_count": 146,
   "metadata": {},
   "outputs": [
    {
     "data": {
      "text/plain": [
       "(array([ 0,  2,  3,  6,  7,  9, 12, 17, 20, 22, 25, 27, 31, 34, 36, 39, 40,\n",
       "        41, 47, 48, 50, 53, 54, 55, 58, 59, 64, 65, 67, 68, 70, 71, 73, 75,\n",
       "        76, 78, 81, 82, 86, 87, 89, 90, 91, 96, 97, 98], dtype=int64),)"
      ]
     },
     "execution_count": 146,
     "metadata": {},
     "output_type": "execute_result"
    }
   ],
   "source": [
    "# CODE HERE\n",
    "np.where(v > 1)"
   ]
  },
  {
   "cell_type": "code",
   "execution_count": 33,
   "metadata": {},
   "outputs": [
    {
     "data": {
      "text/plain": [
       "(array([ 0,  2,  3,  6,  7,  9, 12, 17, 20, 22, 25, 27, 31, 34, 36, 39, 40,\n",
       "        41, 47, 48, 50, 53, 54, 55, 58, 59, 64, 65, 67, 68, 70, 71, 73, 75,\n",
       "        76, 78, 81, 82, 86, 87, 89, 90, 91, 96, 97, 98], dtype=int64),)"
      ]
     },
     "execution_count": 33,
     "metadata": {},
     "output_type": "execute_result"
    }
   ],
   "source": [
    "# DON'T WRITE HERE\n"
   ]
  },
  {
   "cell_type": "markdown",
   "metadata": {},
   "source": [
    "16. Find the mean, minimum, maximum, standard deviation for the sample $v$. "
   ]
  },
  {
   "cell_type": "code",
   "execution_count": 150,
   "metadata": {},
   "outputs": [
    {
     "name": "stdout",
     "output_type": "stream",
     "text": [
      "0.7923069652118122 -4.239490208179489 4.704556369017876 1.8072323532892594\n"
     ]
    }
   ],
   "source": [
    "# CODE HERE\n",
    "print (np.mean(v), np.min(v), np.max(v), np.std(v))"
   ]
  },
  {
   "cell_type": "code",
   "execution_count": 35,
   "metadata": {},
   "outputs": [
    {
     "name": "stdout",
     "output_type": "stream",
     "text": [
      "0.7923069652118122 -4.239490208179489 4.704556369017876 1.8072323532892594\n"
     ]
    }
   ],
   "source": [
    "# DON'T WRITE HERE\n"
   ]
  },
  {
   "cell_type": "markdown",
   "metadata": {},
   "source": [
    "17. Create the following matrix:"
   ]
  },
  {
   "cell_type": "code",
   "execution_count": 174,
   "metadata": {},
   "outputs": [
    {
     "data": {
      "text/plain": [
       "array([[0.01, 0.02, 0.03, 0.04, 0.05, 0.06, 0.07, 0.08, 0.09, 0.1 ],\n",
       "       [0.11, 0.12, 0.13, 0.14, 0.15, 0.16, 0.17, 0.18, 0.19, 0.2 ],\n",
       "       [0.21, 0.22, 0.23, 0.24, 0.25, 0.26, 0.27, 0.28, 0.29, 0.3 ],\n",
       "       [0.31, 0.32, 0.33, 0.34, 0.35, 0.36, 0.37, 0.38, 0.39, 0.4 ],\n",
       "       [0.41, 0.42, 0.43, 0.44, 0.45, 0.46, 0.47, 0.48, 0.49, 0.5 ],\n",
       "       [0.51, 0.52, 0.53, 0.54, 0.55, 0.56, 0.57, 0.58, 0.59, 0.6 ],\n",
       "       [0.61, 0.62, 0.63, 0.64, 0.65, 0.66, 0.67, 0.68, 0.69, 0.7 ],\n",
       "       [0.71, 0.72, 0.73, 0.74, 0.75, 0.76, 0.77, 0.78, 0.79, 0.8 ],\n",
       "       [0.81, 0.82, 0.83, 0.84, 0.85, 0.86, 0.87, 0.88, 0.89, 0.9 ],\n",
       "       [0.91, 0.92, 0.93, 0.94, 0.95, 0.96, 0.97, 0.98, 0.99, 1.  ]])"
      ]
     },
     "execution_count": 174,
     "metadata": {},
     "output_type": "execute_result"
    }
   ],
   "source": [
    "# CODE HERE\n",
    "np.arange(1,101).reshape(10,10)/100"
   ]
  },
  {
   "cell_type": "code",
   "execution_count": 37,
   "metadata": {},
   "outputs": [
    {
     "data": {
      "text/plain": [
       "array([[0.01, 0.02, 0.03, 0.04, 0.05, 0.06, 0.07, 0.08, 0.09, 0.1 ],\n",
       "       [0.11, 0.12, 0.13, 0.14, 0.15, 0.16, 0.17, 0.18, 0.19, 0.2 ],\n",
       "       [0.21, 0.22, 0.23, 0.24, 0.25, 0.26, 0.27, 0.28, 0.29, 0.3 ],\n",
       "       [0.31, 0.32, 0.33, 0.34, 0.35, 0.36, 0.37, 0.38, 0.39, 0.4 ],\n",
       "       [0.41, 0.42, 0.43, 0.44, 0.45, 0.46, 0.47, 0.48, 0.49, 0.5 ],\n",
       "       [0.51, 0.52, 0.53, 0.54, 0.55, 0.56, 0.57, 0.58, 0.59, 0.6 ],\n",
       "       [0.61, 0.62, 0.63, 0.64, 0.65, 0.66, 0.67, 0.68, 0.69, 0.7 ],\n",
       "       [0.71, 0.72, 0.73, 0.74, 0.75, 0.76, 0.77, 0.78, 0.79, 0.8 ],\n",
       "       [0.81, 0.82, 0.83, 0.84, 0.85, 0.86, 0.87, 0.88, 0.89, 0.9 ],\n",
       "       [0.91, 0.92, 0.93, 0.94, 0.95, 0.96, 0.97, 0.98, 0.99, 1.  ]])"
      ]
     },
     "execution_count": 37,
     "metadata": {},
     "output_type": "execute_result"
    }
   ],
   "source": [
    "# DON'T WRITE HERE\n"
   ]
  },
  {
   "cell_type": "markdown",
   "metadata": {},
   "source": [
    "18. Run this cell - this is our starting matrix"
   ]
  },
  {
   "cell_type": "code",
   "execution_count": 169,
   "metadata": {},
   "outputs": [
    {
     "data": {
      "text/plain": [
       "array([[ 1,  2,  3,  4,  5],\n",
       "       [ 6,  7,  8,  9, 10],\n",
       "       [11, 12, 13, 14, 15],\n",
       "       [16, 17, 18, 19, 20],\n",
       "       [21, 22, 23, 24, 25]])"
      ]
     },
     "execution_count": 169,
     "metadata": {},
     "output_type": "execute_result"
    }
   ],
   "source": [
    "M = np.arange(1,26).reshape(5,5)\n",
    "M"
   ]
  },
  {
   "cell_type": "markdown",
   "metadata": {},
   "source": [
    "18.1. Write code that reproduces the output shown below"
   ]
  },
  {
   "cell_type": "code",
   "execution_count": 176,
   "metadata": {},
   "outputs": [
    {
     "data": {
      "text/plain": [
       "array([[12, 13, 14, 15],\n",
       "       [17, 18, 19, 20],\n",
       "       [22, 23, 24, 25]])"
      ]
     },
     "execution_count": 176,
     "metadata": {},
     "output_type": "execute_result"
    }
   ],
   "source": [
    "# CODE HERE\n",
    "M[2:,1:]"
   ]
  },
  {
   "cell_type": "code",
   "execution_count": 40,
   "metadata": {},
   "outputs": [
    {
     "data": {
      "text/plain": [
       "array([[12, 13, 14, 15],\n",
       "       [17, 18, 19, 20],\n",
       "       [22, 23, 24, 25]])"
      ]
     },
     "execution_count": 40,
     "metadata": {},
     "output_type": "execute_result"
    }
   ],
   "source": [
    "# DON'T WRITE HERE\n"
   ]
  },
  {
   "cell_type": "markdown",
   "metadata": {},
   "source": [
    "18.2. Write code that reproduces the output shown below"
   ]
  },
  {
   "cell_type": "code",
   "execution_count": 177,
   "metadata": {},
   "outputs": [
    {
     "data": {
      "text/plain": [
       "array([[ 2],\n",
       "       [ 7],\n",
       "       [12]])"
      ]
     },
     "execution_count": 177,
     "metadata": {},
     "output_type": "execute_result"
    }
   ],
   "source": [
    "# CODE HERE\n",
    "M[0:3,1].reshape(3,1)"
   ]
  },
  {
   "cell_type": "code",
   "execution_count": 42,
   "metadata": {},
   "outputs": [
    {
     "data": {
      "text/plain": [
       "array([[ 2],\n",
       "       [ 7],\n",
       "       [12]])"
      ]
     },
     "execution_count": 42,
     "metadata": {},
     "output_type": "execute_result"
    }
   ],
   "source": [
    "# DON'T WRITE HERE\n"
   ]
  },
  {
   "cell_type": "markdown",
   "metadata": {},
   "source": [
    "19. Use `np.genfromtxt` to read the data from the file PopulationWorld.txt. Print this data."
   ]
  },
  {
   "cell_type": "code",
   "execution_count": 183,
   "metadata": {},
   "outputs": [
    {
     "data": {
      "text/plain": [
       "array([(1950., 2556.518868), (1951., 2594.286218), (1952., 2636.327569),\n",
       "       (1953., 2681.6453  ), (1954., 2729.59137 ), (1955., 2781.022728),\n",
       "       (1956., 2833.96217 ), (1957., 2889.768544), (1958., 2946.25365 ),\n",
       "       (1959., 2998.566597), (1960., 3040.617096), (1961., 3081.357914),\n",
       "       (1962., 3137.310049), (1963., 3206.784546), (1964., 3277.857333),\n",
       "       (1965., 3346.78614 ), (1966., 3416.915657), (1967., 3486.554554),\n",
       "       (1968., 3558.296344), (1969., 3632.820863), (1970., 3707.918808),\n",
       "       (1971., 3785.251387), (1972., 3861.303852), (1973., 3936.832808),\n",
       "       (1974., 4011.259221), (1975., 4083.741137), (1976., 4154.714573),\n",
       "       (1977., 4226.260173), (1978., 4297.721618), (1979., 4371.992258),\n",
       "       (1980., 4447.081447), (1981., 4522.496861), (1982., 4601.642622),\n",
       "       (1983., 4682.718718), (1984., 4762.510938), (1985., 4843.719785),\n",
       "       (1986., 4926.769119), (1987., 5012.704927), (1988., 5099.256557),\n",
       "       (1989., 5185.74304 ), (1990., 5273.414884), (1991., 5357.220459),\n",
       "       (1992., 5440.496027), (1993., 5521.312756), (1994., 5601.033178),\n",
       "       (1995., 5681.678196), (1996., 5761.608971), (1997., 5840.574905),\n",
       "       (1998., 5918.716088), (1999., 5995.599889), (2000., 6071.710896),\n",
       "       (2001., 6147.535997), (2002., 6222.551715), (2003., 6297.4459  ),\n",
       "       (2004., 6372.929801), (2005., 6449.137123), (2006., 6525.55921 ),\n",
       "       (2007., 6602.274812), (2008., 6679.532264), (2009., 6757.06276 ),\n",
       "       (2010., 6834.934808), (2011., 6913.263561), (2012., 6991.796293),\n",
       "       (2013., 7070.248599), (2014., 7148.361369), (2015., 7225.918656),\n",
       "       (2016., 7302.863077), (2017., 7379.190049), (2018., 7454.795039)],\n",
       "      dtype=[('Year', '<f8'), ('Population', '<f8')])"
      ]
     },
     "execution_count": 183,
     "metadata": {},
     "output_type": "execute_result"
    }
   ],
   "source": [
    "# CODE HERE\n",
    "np.genfromtxt('PopulationWorld.txt', dtype=[('Year','<f8'),('Population','<f8')], skip_header=1)"
   ]
  },
  {
   "cell_type": "code",
   "execution_count": 44,
   "metadata": {},
   "outputs": [
    {
     "data": {
      "text/plain": [
       "array([(1950., 2556.518868), (1951., 2594.286218), (1952., 2636.327569),\n",
       "       (1953., 2681.6453  ), (1954., 2729.59137 ), (1955., 2781.022728),\n",
       "       (1956., 2833.96217 ), (1957., 2889.768544), (1958., 2946.25365 ),\n",
       "       (1959., 2998.566597), (1960., 3040.617096), (1961., 3081.357914),\n",
       "       (1962., 3137.310049), (1963., 3206.784546), (1964., 3277.857333),\n",
       "       (1965., 3346.78614 ), (1966., 3416.915657), (1967., 3486.554554),\n",
       "       (1968., 3558.296344), (1969., 3632.820863), (1970., 3707.918808),\n",
       "       (1971., 3785.251387), (1972., 3861.303852), (1973., 3936.832808),\n",
       "       (1974., 4011.259221), (1975., 4083.741137), (1976., 4154.714573),\n",
       "       (1977., 4226.260173), (1978., 4297.721618), (1979., 4371.992258),\n",
       "       (1980., 4447.081447), (1981., 4522.496861), (1982., 4601.642622),\n",
       "       (1983., 4682.718718), (1984., 4762.510938), (1985., 4843.719785),\n",
       "       (1986., 4926.769119), (1987., 5012.704927), (1988., 5099.256557),\n",
       "       (1989., 5185.74304 ), (1990., 5273.414884), (1991., 5357.220459),\n",
       "       (1992., 5440.496027), (1993., 5521.312756), (1994., 5601.033178),\n",
       "       (1995., 5681.678196), (1996., 5761.608971), (1997., 5840.574905),\n",
       "       (1998., 5918.716088), (1999., 5995.599889), (2000., 6071.710896),\n",
       "       (2001., 6147.535997), (2002., 6222.551715), (2003., 6297.4459  ),\n",
       "       (2004., 6372.929801), (2005., 6449.137123), (2006., 6525.55921 ),\n",
       "       (2007., 6602.274812), (2008., 6679.532264), (2009., 6757.06276 ),\n",
       "       (2010., 6834.934808), (2011., 6913.263561), (2012., 6991.796293),\n",
       "       (2013., 7070.248599), (2014., 7148.361369), (2015., 7225.918656),\n",
       "       (2016., 7302.863077), (2017., 7379.190049), (2018., 7454.795039)],\n",
       "      dtype=[('Year', '<f8'), ('Population', '<f8')])"
      ]
     },
     "execution_count": 44,
     "metadata": {},
     "output_type": "execute_result"
    }
   ],
   "source": [
    "# DON'T WRITE HERE\n"
   ]
  }
 ],
 "metadata": {
  "kernelspec": {
   "display_name": "Python 3 (ipykernel)",
   "language": "python",
   "name": "python3"
  },
  "language_info": {
   "codemirror_mode": {
    "name": "ipython",
    "version": 3
   },
   "file_extension": ".py",
   "mimetype": "text/x-python",
   "name": "python",
   "nbconvert_exporter": "python",
   "pygments_lexer": "ipython3",
   "version": "3.7.9"
  }
 },
 "nbformat": 4,
 "nbformat_minor": 2
}
