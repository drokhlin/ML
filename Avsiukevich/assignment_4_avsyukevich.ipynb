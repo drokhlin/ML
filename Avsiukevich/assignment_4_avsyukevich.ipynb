{
 "cells": [
  {
   "cell_type": "markdown",
   "id": "bfa7a9fa",
   "metadata": {},
   "source": [
    "1. Sample $10^4$ points uniformly over the hypercube $[0,1]^d$ (denote this set by $\\mathcal X$).\n",
    "2. For $d\\in\\{1,2,3,5,10,20,50,100,500\\}$ and for the Euclidean distance $\\rho$ find\n",
    "- $\\min d(x,\\tilde x)$: minimum over $x,\\tilde x\\in \\mathcal X$\n",
    "- $\\overline{d(x,\\tilde x)}$: average over $x,\\tilde x\\in \\mathcal X$\n",
    "- $\\max d(x,\\tilde x)$: maximum over $x,\\tilde x\\in \\mathcal X$\n",
    "- $\\overline{d_{NN1}(x)}$: average distance to the nearest neighbor\n",
    "- $ \\max d_{NN1}(x)$: maximal distance to the nearest neigbor \n",
    "\n",
    "Collect the results in a table"
   ]
  },
  {
   "cell_type": "code",
   "execution_count": 12,
   "id": "939ebe34",
   "metadata": {},
   "outputs": [
    {
     "name": "stdout",
     "output_type": "stream",
     "text": [
      "       d         min d   average      max d  average distance  max distance\n",
      "0    1.0  2.356080e-08  0.334875   0.999800          0.000051      0.000484\n",
      "1    2.0  2.026486e-05  0.518040   1.393512          0.005071      0.021532\n",
      "2    3.0  1.264493e-03  0.659316   1.676954          0.026118      0.068748\n",
      "3    5.0  2.040686e-02  0.878278   1.957788          0.109564      0.240904\n",
      "4   10.0  1.266138e-01  1.266436   2.492786          0.386520      0.600113\n",
      "5   20.0  5.627184e-01  1.812005   3.052750          0.897503      1.193366\n",
      "6   50.0  1.551161e+00  2.876355   4.180891          1.971040      2.363486\n",
      "7  100.0  2.738319e+00  4.074594   5.406003          3.181919      3.523575\n",
      "8  500.0  7.780282e+00  9.125127  10.470979          8.248755      8.651634\n"
     ]
    }
   ],
   "source": [
    "import matplotlib as mpl\n",
    "import matplotlib.pyplot as plt\n",
    "import numpy as np\n",
    "import pandas as pd\n",
    "from sklearn.metrics.pairwise import euclidean_distances\n",
    "\n",
    "n = 10**4\n",
    "ad = [1, 2, 3, 5, 10, 20, 50, 100, 500]\n",
    "df = pd.DataFrame( columns = ['d', 'min d', 'average', 'max d', 'average distance', 'max distance'] )\n",
    "\n",
    "for d in ad:\n",
    "    x = np.random.uniform( 0, 1, (n, d) )\n",
    "    ed = euclidean_distances( x, x )\n",
    "    ed = np.sort(ed)\n",
    "    ed = ed[ :, 1: ]\n",
    "    \n",
    "    min = ed.min()\n",
    "    max = ed.max()\n",
    "    mean = ed.mean()\n",
    "    near = np.amin(ed, axis=1).mean()\n",
    "    max_near = np.amin(ed, axis=1).max()\n",
    "    \n",
    "    df = df.append ({\n",
    "        'd': d,\n",
    "        'min d': min,\n",
    "        'max d': max,\n",
    "        'average': mean,\n",
    "        'average distance': near, \n",
    "        'max distance': max_near\n",
    "    }, ignore_index = True ) #без игнора индекса почему-то ошибка\n",
    "\n",
    "print(df)"
   ]
  },
  {
   "cell_type": "code",
   "execution_count": null,
   "id": "4c4b749c",
   "metadata": {},
   "outputs": [],
   "source": [
    "#----------------------------------------------------------------------------"
   ]
  },
  {
   "cell_type": "markdown",
   "id": "1e249e9d",
   "metadata": {},
   "source": [
    "3. Generate $10^4$ point such that each point with probability $1/2$\n",
    "- is sampled from $N(\\mu,I)$, $\\mu=(a,\\dots,a)\\in\\mathbb R^d$ and gets label $0$\n",
    "- is sampled from $N(\\mu,I)$, $\\mu=(-a,\\dots,-a)\\in\\mathbb R^d$ and gets label $1$\n",
    "\n",
    "Put $a=\\frac{2}{\\sqrt{d}}$ (the Bayes error will be $\\approx 0.023$ for all $d$). \n",
    "\n",
    "For $k = 3, 7, 15$  train a $k$-NN classifier for increasing dimensions $1\\le d\\le 500$ and monitor its performance evaluated by 10 times repeated 10-fold CV. For each $k$ draw the graphs of the mean  missclassification error as a function of $d$."
   ]
  },
  {
   "cell_type": "code",
   "execution_count": 24,
   "id": "66bd22a5",
   "metadata": {},
   "outputs": [
    {
     "name": "stderr",
     "output_type": "stream",
     "text": [
      "100%|██████████████████████████████████████████████████████| 5/5 [11:12<00:00, 134.48s/it]\n",
      "100%|██████████████████████████████████████████████████████| 5/5 [10:40<00:00, 128.04s/it]\n",
      "100%|██████████████████████████████████████████████████████| 5/5 [10:43<00:00, 128.69s/it]\n"
     ]
    },
    {
     "data": {
      "image/png": "[encoded data removed]",
      "text/plain": [
       "<Figure size 720x720 with 1 Axes>"
      ]
     },
     "metadata": {
      "needs_background": "light"
     },
     "output_type": "display_data"
    }
   ],
   "source": [
    "from tqdm import tqdm\n",
    "from sklearn.neighbors import KNeighborsClassifier\n",
    "from sklearn.model_selection import cross_val_score\n",
    "\n",
    "ak = [3, 7, 15]\n",
    "ad = [100, 200, 300, 400, 500] #при попытке добавить больше пяти элементов вылезает ошибка\n",
    "np.random.seed(42)\n",
    "\n",
    "fig, ax = plt.subplots( 1, 1, figsize = (10, 10) )\n",
    "plt.ylim([0, 0.4])\n",
    "ax.set_xlabel('d')\n",
    "ax.set_ylabel('mean error')\n",
    "\n",
    "for k in ak:\n",
    "    \n",
    "    temp = []\n",
    "    \n",
    "    for d in tqdm( ad ):\n",
    "        \n",
    "        a = [ 2 / np.sqrt(d) for i in range(d) ]\n",
    "        el = np.random.randn(n, d)\n",
    "        x0 = el + a\n",
    "        x1 = el - a\n",
    "        y = np.zeros((n, d)) + np.random.randint( 0, 2, (n, 1) )\n",
    "        x = x0 * ( y == 1 ) + x1 * ( y == 0)\n",
    "        \n",
    "        knc = KNeighborsClassifier( n_neighbors = k )\n",
    "        cvs = cross_val_score( knc, x, y, cv = 10 )\n",
    "        temp.append( np.mean( 1 - cvs ) )\n",
    "    strk = str(k)\n",
    "    ax.plot( ad, temp, label = 'k = ' + strk )\n",
    "    ax.legend( loc = 0 )\n",
    "        \n",
    "        \n",
    "plt.show()"
   ]
  },
  {
   "cell_type": "code",
   "execution_count": null,
   "id": "3887d0c0",
   "metadata": {},
   "outputs": [],
   "source": []
  }
 ],
 "metadata": {
  "kernelspec": {
   "display_name": "Python 3",
   "language": "python",
   "name": "python3"
  },
  "language_info": {
   "codemirror_mode": {
    "name": "ipython",
    "version": 3
   },
   "file_extension": ".py",
   "mimetype": "text/x-python",
   "name": "python",
   "nbconvert_exporter": "python",
   "pygments_lexer": "ipython3",
   "version": "3.8.8"
  }
 },
 "nbformat": 4,
 "nbformat_minor": 5
}
