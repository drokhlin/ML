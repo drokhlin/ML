{
 "cells": [
  {
   "cell_type": "markdown",
   "source": [
    "**Split this string:**\r\n",
    "\r\n",
    "s = \"Curiosity killed the cat.\"\r\n",
    "\r\n",
    "**into a list.**"
   ],
   "metadata": {}
  },
  {
   "cell_type": "code",
   "execution_count": 1,
   "source": [
    "s = \"Curiosity killed the cat.\"\r\n",
    "print(s.split())\r\n"
   ],
   "outputs": [
    {
     "output_type": "stream",
     "name": "stdout",
     "text": [
      "['Curiosity', 'killed', 'the', 'cat.']\n"
     ]
    }
   ],
   "metadata": {}
  },
  {
   "cell_type": "markdown",
   "source": [
    "**Given the variables:**\r\n",
    "\r\n",
    "    country = \"Russia\"\r\n",
    "    population = 147\r\n",
    "\r\n",
    "**Use .format() to print the following string:**\r\n",
    "\r\n",
    "    The number of citizen in Russia is approximately 147 millions."
   ],
   "metadata": {}
  },
  {
   "cell_type": "code",
   "execution_count": 2,
   "source": [
    "country = \"Russia\"\r\n",
    "population = 147\r\n",
    "print(\"The number of citizen in {} is approximately {} millions.\".format(country, population))\r\n",
    "print(f\"The number of citizen in {country} is approximately {population} millions.\")\r\n"
   ],
   "outputs": [
    {
     "output_type": "stream",
     "name": "stdout",
     "text": [
      "The number of citizen in Russia is approximately 147 millions.\n",
      "The number of citizen in Russia is approximately 147 millions.\n"
     ]
    }
   ],
   "metadata": {}
  },
  {
   "cell_type": "markdown",
   "source": [
    "**Given this nested list, use indexing to get the word \"hidden\"**"
   ],
   "metadata": {}
  },
  {
   "cell_type": "code",
   "execution_count": 3,
   "source": [
    "lst = [1,2,[3,4],[5,[100,200,['hidden']],23,11],1,7]"
   ],
   "outputs": [],
   "metadata": {}
  },
  {
   "cell_type": "code",
   "execution_count": 15,
   "source": [
    "lst[3][1][2][0]"
   ],
   "outputs": [
    {
     "output_type": "execute_result",
     "data": {
      "text/plain": [
       "'hidden'"
      ]
     },
     "metadata": {},
     "execution_count": 15
    }
   ],
   "metadata": {}
  },
  {
   "cell_type": "markdown",
   "source": [
    "**Create a function that grabs the domain name from a string in the form:**\r\n",
    "\r\n",
    "    nobody@sfedu.ru\r\n",
    "    \r\n",
    "**So for example, passing \"nobody@sfedu.ru\" would return: sfedu.ru**"
   ],
   "metadata": {}
  },
  {
   "cell_type": "code",
   "execution_count": 1,
   "source": [
    "def domainGet(s: str)->str:\r\n",
    "    return s[s.rfind('@')+1:]\r\n",
    "\r\n",
    "print(domainGet('nob@ody@sfedu.ru'))\r\n",
    "print(domainGet('nobody@sfedu.ru'))"
   ],
   "outputs": [
    {
     "output_type": "stream",
     "name": "stdout",
     "text": [
      "sfedu.ru\n",
      "sfedu.ru\n"
     ]
    }
   ],
   "metadata": {}
  },
  {
   "cell_type": "markdown",
   "source": [
    "**Create a function that returns `True` if the word 'cat' (lowercase) is contained in the input string.**"
   ],
   "metadata": {}
  },
  {
   "cell_type": "code",
   "execution_count": 6,
   "source": [
    "def find_cat(s: str)->bool:\r\n",
    "    if s.find('cat')!=-1:\r\n",
    "        return True\r\n",
    "    return False"
   ],
   "outputs": [],
   "metadata": {}
  },
  {
   "cell_type": "code",
   "execution_count": 7,
   "source": [
    "print(find_cat('fDog'))\r\n",
    "print(find_cat('Black_dog.'))\r\n",
    "print(find_cat('BlacCatk_dog.'))\r\n",
    "print(find_cat('Black_catdog.'))\r\n"
   ],
   "outputs": [
    {
     "output_type": "stream",
     "name": "stdout",
     "text": [
      "False\n",
      "False\n",
      "False\n",
      "True\n"
     ]
    }
   ],
   "metadata": {}
  },
  {
   "cell_type": "markdown",
   "source": [
    "**Create a function that counts the number of times the word \"cat\" occurs in a string. You can use text without punctuation.**"
   ],
   "metadata": {}
  },
  {
   "cell_type": "code",
   "execution_count": 8,
   "source": [
    "def count_cat(s: str)->int:\r\n",
    "    return s.count('cat')\r\n"
   ],
   "outputs": [],
   "metadata": {}
  },
  {
   "cell_type": "code",
   "execution_count": 9,
   "source": [
    "print(count_cat('Black cat runs faster than the white cat'))\r\n",
    "print(count_cat('Black cat and red cats runs faster than the white cat'))"
   ],
   "outputs": [
    {
     "output_type": "stream",
     "name": "stdout",
     "text": [
      "2\n",
      "3\n"
     ]
    }
   ],
   "metadata": {}
  },
  {
   "cell_type": "markdown",
   "source": [
    "**Given a list `a`, containing integers, transform it to a new list `b`, containing all elements, that are lower, than 5.** Try to do it in one line, using the *list comprehension*. A list comprehension behaves like this: \r\n",
    "\r\n",
    "`[[output] for [item] in [list] if [filter]]`."
   ],
   "metadata": {}
  },
  {
   "cell_type": "code",
   "execution_count": 10,
   "source": [
    "a = [16, 3, 1, -3, 5, 8, 13, 21, 4, 55, 89]\r\n",
    "\r\n",
    "[el for el in a if el<5]\r\n",
    "\r\n"
   ],
   "outputs": [
    {
     "output_type": "execute_result",
     "data": {
      "text/plain": [
       "[3, 1, -3, 4]"
      ]
     },
     "metadata": {},
     "execution_count": 10
    }
   ],
   "metadata": {}
  },
  {
   "cell_type": "markdown",
   "source": [
    "**Generate a string (password), containing 3 digits and 3 lower case letters in random order (the symbols need not be different).** Hint:\r\n",
    "1. Import `random` and `string modules`.\r\n",
    "2. Use `random.sample` to generate 3 digits from the string `string.digits` and write them to the list `password`.\r\n",
    "3. Use `random.sample` to generate 3 letters from the string `string.ascii_lowercase` and extend the list `password`.\r\n",
    "4. Shuffle `password` with `random.shuffle`.\r\n",
    "5. Use `join` to convert `password` to a string."
   ],
   "metadata": {}
  },
  {
   "cell_type": "code",
   "execution_count": 2,
   "source": [
    "import random\r\n",
    "import string\r\n",
    "\r\n",
    "arr = random.sample(string.digits, 3) + random.sample(string.ascii_lowercase,3)\r\n",
    "print(arr)\r\n",
    "random.shuffle(arr)\r\n",
    "print(arr)\r\n",
    "print(''.join(arr))\r\n"
   ],
   "outputs": [
    {
     "output_type": "stream",
     "name": "stdout",
     "text": [
      "['3', '1', '7', 'o', 'c', 'b']\n",
      "['3', 'b', '7', 'c', '1', 'o']\n",
      "3b7c1o\n"
     ]
    }
   ],
   "metadata": {}
  },
  {
   "cell_type": "markdown",
   "source": [
    "**In one experiment 6-sided dice is rolled $r$ times.  Use `random.sample` to obtain the sum of points. Write the related function which has one keyword argument - the number of rolls: `def dice_sum(r=3)`.**"
   ],
   "metadata": {}
  },
  {
   "cell_type": "code",
   "execution_count": 34,
   "source": [
    "import random\r\n",
    "\r\n",
    "def dice_sum(r: int)->int:\r\n",
    "    arr=[random.sample(range(1,7),1)[0] for i in range(r)]\r\n",
    "    # print(arr)\r\n",
    "    return sum(arr)\r\n"
   ],
   "outputs": [],
   "metadata": {}
  },
  {
   "cell_type": "code",
   "execution_count": 30,
   "source": [
    "print(dice_sum(4))\r\n",
    "print(dice_sum(10))"
   ],
   "outputs": [
    {
     "output_type": "stream",
     "name": "stdout",
     "text": [
      "[1, 5, 2, 5]\n",
      "13\n",
      "[3, 4, 6, 1, 3, 5, 4, 1, 4, 6]\n",
      "37\n"
     ]
    }
   ],
   "metadata": {}
  },
  {
   "cell_type": "markdown",
   "source": [
    "**For $r=3$ let $s$ be the number of points in one experiment. Consider a very large number of experiments. Obtain the frequences of the events $s=11$ and $s=12$. Which value is larger?**\r\n",
    "\r\n",
    "Answer: $s=11$ is larger than $s=12$ "
   ],
   "metadata": {}
  },
  {
   "cell_type": "code",
   "execution_count": 46,
   "source": [
    "n=100000\r\n",
    "\r\n",
    "res = [dice_sum(3) for i in range(n)]\r\n",
    "n_11 = res.count(11)\r\n",
    "n_12 = res.count(12)\r\n",
    "\r\n",
    "\r\n",
    "print('n_11={a:5.4f}; n_12={b:5.4f}'.format(a=n_11/n,b=n_12/n))  "
   ],
   "outputs": [
    {
     "output_type": "stream",
     "name": "stdout",
     "text": [
      "n_11=0.1232; n_12=0.1165\n"
     ]
    }
   ],
   "metadata": {}
  },
  {
   "cell_type": "markdown",
   "source": [
    "**Write the class point, which should have two attributes: x and y coordinates and two methods:** \r\n",
    "1. `move`, which get a tuple or a list $z$ and shifts the point: $(x,y)\\mapsto (x,y)+(z[0],z[1])$. \r\n",
    "2. `distance`, which computes the Euclidian distance from the point $(x,y)$ to a given point $z=(z[0],z[1])$.\r\n",
    "Make two instance of thic class, move one of them to $(3,4)$, and another to $(1,2)$ and compute the distance between them, using the methods `move` and `distance`."
   ],
   "metadata": {}
  },
  {
   "cell_type": "code",
   "execution_count": 49,
   "source": [
    "import math\r\n",
    "class point():\r\n",
    "    def __init__(self):\r\n",
    "        self.x = 0\r\n",
    "        self.y = 0\r\n",
    "\r\n",
    "    def move(self, xy):\r\n",
    "        self.x = xy[0]\r\n",
    "        self.y = xy[1]\r\n",
    "\r\n",
    "    def distance(self, xy):\r\n",
    "        return math.sqrt(math.pow(self.x-xy[0],2)+math.pow(self.y-xy[1],2))"
   ],
   "outputs": [],
   "metadata": {}
  },
  {
   "cell_type": "code",
   "execution_count": 53,
   "source": [
    "Y=point()\r\n",
    "Z=point()\r\n",
    "Y.move([3,4])\r\n",
    "Z.move([1,2])\r\n",
    "import math\r\n",
    "Y.distance([Z.x,Z.y])"
   ],
   "outputs": [
    {
     "output_type": "execute_result",
     "data": {
      "text/plain": [
       "2.8284271247461903"
      ]
     },
     "metadata": {},
     "execution_count": 53
    }
   ],
   "metadata": {}
  }
 ],
 "metadata": {
  "kernelspec": {
   "name": "python3",
   "display_name": "Python 3.9.4 64-bit"
  },
  "language_info": {
   "codemirror_mode": {
    "name": "ipython",
    "version": 3
   },
   "file_extension": ".py",
   "mimetype": "text/x-python",
   "name": "python",
   "nbconvert_exporter": "python",
   "pygments_lexer": "ipython3",
   "version": "3.9.4"
  },
  "interpreter": {
   "hash": "ac59ebe37160ed0dfa835113d9b8498d9f09ceb179beaac4002f036b9467c963"
  }
 },
 "nbformat": 4,
 "nbformat_minor": 2
}