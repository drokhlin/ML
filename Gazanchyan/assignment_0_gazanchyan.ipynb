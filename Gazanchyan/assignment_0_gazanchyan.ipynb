{
 "cells": [
  {
   "cell_type": "markdown",
   "metadata": {},
   "source": [
    "**Split this string:**\n",
    "\n",
    "s = \"Curiosity killed the cat.\"\n",
    "\n",
    "**into a list.**"
   ]
  },
  {
   "cell_type": "code",
   "execution_count": 67,
   "metadata": {},
   "outputs": [],
   "source": [
    "s = 'Curiosity killed the cat'"
   ]
  },
  {
   "cell_type": "code",
   "execution_count": 68,
   "metadata": {},
   "outputs": [
    {
     "data": {
      "text/plain": [
       "['Curiosity', 'killed', 'the', 'cat']"
      ]
     },
     "execution_count": 68,
     "metadata": {},
     "output_type": "execute_result"
    }
   ],
   "source": [
    "s.split()"
   ]
  },
  {
   "cell_type": "markdown",
   "metadata": {},
   "source": [
    "**Given the variables:**\n",
    "\n",
    "    country = \"Russia\"\n",
    "    population = 147\n",
    "\n",
    "**Use .format() to print the following string:**\n",
    "\n",
    "    The number of citizen in Russia is approximately 147 millions."
   ]
  },
  {
   "cell_type": "code",
   "execution_count": 69,
   "metadata": {},
   "outputs": [
    {
     "data": {
      "text/plain": [
       "'The number of citizen in Russia is approximately 147 millions'"
      ]
     },
     "execution_count": 69,
     "metadata": {},
     "output_type": "execute_result"
    }
   ],
   "source": [
    "country = \"Russia\"\n",
    "population = 147\n",
    "'The number of citizen in {a} is approximately {b} millions'.format(a = country,b = population)"
   ]
  },
  {
   "cell_type": "markdown",
   "metadata": {},
   "source": [
    "**Given this nested list, use indexing to get the word \"hidden\"**"
   ]
  },
  {
   "cell_type": "code",
   "execution_count": 70,
   "metadata": {},
   "outputs": [],
   "source": [
    "lst = [1,2,[3,4],[5,[100,200,['hidden']],23,11],1,7]"
   ]
  },
  {
   "cell_type": "code",
   "execution_count": 71,
   "metadata": {},
   "outputs": [
    {
     "data": {
      "text/plain": [
       "['hidden']"
      ]
     },
     "execution_count": 71,
     "metadata": {},
     "output_type": "execute_result"
    }
   ],
   "source": [
    "lst[3][1][2]\n"
   ]
  },
  {
   "cell_type": "markdown",
   "metadata": {},
   "source": [
    "**Create a function that grabs the domain name from a string in the form:**\n",
    "\n",
    "    nobody@sfedu.ru\n",
    "    \n",
    "**So for example, passing \"nobody@sfedu.ru\" would return: sfedu.ru**"
   ]
  },
  {
   "cell_type": "code",
   "execution_count": 72,
   "metadata": {},
   "outputs": [
    {
     "data": {
      "text/plain": [
       "'sfedu.ru'"
      ]
     },
     "execution_count": 72,
     "metadata": {},
     "output_type": "execute_result"
    }
   ],
   "source": [
    "def domainGet(s):   \n",
    "    a = s.find('@')\n",
    "    res = s[a+1:]\n",
    "    return res\n",
    "\n",
    "s = 'nobody@sfedu.ru'\n",
    "domainGet(s) \n"
   ]
  },
  {
   "cell_type": "markdown",
   "metadata": {},
   "source": [
    "**Create a function that returns `True` if the word 'cat' (lowercase) is contained in the input string.**"
   ]
  },
  {
   "cell_type": "code",
   "execution_count": 89,
   "metadata": {},
   "outputs": [
    {
     "name": "stdout",
     "output_type": "stream",
     "text": [
      "False\n",
      "True\n"
     ]
    }
   ],
   "source": [
    "def find_cat(st:str):\n",
    "    \n",
    "    temp = st.find('cat')\n",
    "    return st[temp:temp+3].islower()\n",
    "\n",
    "print(find_cat('fDog'))\n",
    "print(find_cat('Black_cat.'))"
   ]
  },
  {
   "cell_type": "markdown",
   "metadata": {},
   "source": [
    "**Create a function that counts the number of times the word \"cat\" occurs in a string. You can use text without punctuation.**"
   ]
  },
  {
   "cell_type": "code",
   "execution_count": 121,
   "metadata": {},
   "outputs": [],
   "source": [
    "s = 'black cat runs faster than the white cat'\n",
    "def count_cat(st):\n",
    "    count = 0\n",
    "    for word in st.lower().split():\n",
    "        if word == 'cat':\n",
    "            count += 1\n",
    "    return count"
   ]
  },
  {
   "cell_type": "code",
   "execution_count": 124,
   "metadata": {},
   "outputs": [
    {
     "data": {
      "text/plain": [
       "2"
      ]
     },
     "execution_count": 124,
     "metadata": {},
     "output_type": "execute_result"
    }
   ],
   "source": [
    "count_cat('Black cat runs faster than the white cat')"
   ]
  },
  {
   "cell_type": "markdown",
   "metadata": {},
   "source": [
    "**Given a list `a`, containing integers, transform it to a new list `b`, containing all elements, that are lower, than 5.** Try to do it in one line, using the *list comprehension*. A list comprehension behaves like this: \n",
    "\n",
    "`[[output] for [item] in [list] if [filter]]`."
   ]
  },
  {
   "cell_type": "code",
   "execution_count": 227,
   "metadata": {},
   "outputs": [
    {
     "data": {
      "text/plain": [
       "[3, 1, -3, 4]"
      ]
     },
     "execution_count": 227,
     "metadata": {},
     "output_type": "execute_result"
    }
   ],
   "source": [
    "a = [16, 3, 1, -3, 5, 8, 13, 21, 4, 55, 89]\n",
    "\n",
    "res = [x for x in a if x < 5]\n",
    "res"
   ]
  },
  {
   "cell_type": "markdown",
   "metadata": {},
   "source": [
    "**Generate a string (password), containing 3 digits and 3 lower case letters in random order (the symbols need not be different).** Hint:\n",
    "1. Import `random` and `string modules`.\n",
    "2. Use `random.sample` to generate 3 digits from the string `string.digits` and write them to the list `password`.\n",
    "3. Use `random.sample` to generate 3 letters from the string `string.ascii_lowercase` and extend the list `password`.\n",
    "4. Shuffle `password` with `random.shuffle`.\n",
    "5. Use `join` to convert `password` to a string."
   ]
  },
  {
   "cell_type": "code",
   "execution_count": 248,
   "metadata": {},
   "outputs": [
    {
     "name": "stdout",
     "output_type": "stream",
     "text": [
      "['6', '2', '9', 'h', 'j', 'u']\n",
      "['6', '2', '9', 'j', 'u', 'h']\n",
      "629juh\n"
     ]
    }
   ],
   "source": [
    "import random as ran\n",
    "import string as st\n",
    "\n",
    "password = ran.sample(st.digits,3) + ran.sample(st.ascii_lowercase,3)\n",
    "\n",
    "print(password)\n",
    "ran.shuffle(password)\n",
    "print(password)\n",
    "\n",
    "res = ''.join(password)\n",
    "print(res)"
   ]
  },
  {
   "cell_type": "markdown",
   "metadata": {},
   "source": [
    "**In one experiment 6-sided dice is rolled $r$ times.  Use `random.sample` to obtain the sum of points. Write the related function which has one keyword argument - the number of rolls: `def dice_sum(r=3)`.**"
   ]
  },
  {
   "cell_type": "code",
   "execution_count": 274,
   "metadata": {},
   "outputs": [
    {
     "name": "stdout",
     "output_type": "stream",
     "text": [
      "3536\n"
     ]
    }
   ],
   "source": [
    "def dice_sum(r=3):\n",
    "    dice = [1,2,3,4,5,6]\n",
    "    s = 0\n",
    "    for i in range(r):\n",
    "        temp = ran.sample(dice,1)\n",
    "        s = s + temp[0]\n",
    "    return s\n",
    "print(dice_sum(1000))"
   ]
  },
  {
   "cell_type": "markdown",
   "metadata": {},
   "source": [
    "**For $r=3$ let $s$ be the nuber of points in one experiment. Consider a very large number of experiments. Obtain the frequences of the events $s=11$ and $s=12$. Which value is larger?**"
   ]
  },
  {
   "cell_type": "code",
   "execution_count": 291,
   "metadata": {},
   "outputs": [
    {
     "name": "stdout",
     "output_type": "stream",
     "text": [
      "n_11=0.1244; n_12=0.1159\n"
     ]
    }
   ],
   "source": [
    "n = 100000\n",
    "\n",
    "res = [dice_sum(3) for i in range(n)]\n",
    "n_11 = res.count(11)\n",
    "n_12 = res.count(12)\n",
    "\n",
    "\n",
    "print('n_11={a:5.4f}; n_12={b:5.4f}'.format(a=n_11/n,b=n_12/n))  "
   ]
  },
  {
   "cell_type": "markdown",
   "metadata": {},
   "source": [
    "**Write the class point, which should have two attributes: x and y coordinates and two methods:** \n",
    "1. `move`, which get a tuple or a list $z$ and shifts the point: $(x,y)\\mapsto (x,y)+(z[0],z[1])$. \n",
    "2. `distance`, which computes the Euclidian distance from the point $(x,y)$ to a given point $z=(z[0],z[1])$.\n",
    "Make two instance of thic class, move one of them to $(3,4)$, and another to $(1,2)$ and compute the distance between them, using the methods `move` and `distance`."
   ]
  },
  {
   "cell_type": "code",
   "execution_count": 307,
   "metadata": {},
   "outputs": [],
   "source": [
    "class point:\n",
    "    \n",
    "    def __init__(self):\n",
    "        self.x = 0\n",
    "        self.y = 0\n",
    "        \n",
    "    def move(self,z):\n",
    "        self.x = self.x + z[0]\n",
    "        self.y = self.y + z[1]\n",
    "        \n",
    "    def distance(self, z):\n",
    "        return math.sqrt(math.pow(self.x-z[0],2)+math.pow(self.y-z[1],2))\n",
    "    def show_me_points(self):\n",
    "        print(self.x,self.y)\n",
    "    "
   ]
  },
  {
   "cell_type": "code",
   "execution_count": 316,
   "metadata": {},
   "outputs": [
    {
     "name": "stdout",
     "output_type": "stream",
     "text": [
      "0 0\n",
      "0 0\n",
      "-1 3\n",
      "5 -9\n"
     ]
    },
    {
     "data": {
      "text/plain": [
       "13.416407864998739"
      ]
     },
     "execution_count": 316,
     "metadata": {},
     "output_type": "execute_result"
    }
   ],
   "source": [
    "Y=point()\n",
    "Z=point()\n",
    "\n",
    "Y.show_me_points()\n",
    "Z.show_me_points()\n",
    "\n",
    "Y.move([-1,3])\n",
    "Y.show_me_points()\n",
    "\n",
    "Z.move([5,-9])\n",
    "Z.show_me_points()\n",
    "\n",
    "import math\n",
    "Z.distance([Y.x,Y.y])"
   ]
  },
  {
   "cell_type": "code",
   "execution_count": 280,
   "metadata": {},
   "outputs": [
    {
     "data": {
      "text/plain": [
       "3"
      ]
     },
     "execution_count": 280,
     "metadata": {},
     "output_type": "execute_result"
    }
   ],
   "source": []
  }
 ],
 "metadata": {
  "kernelspec": {
   "display_name": "Python 3",
   "language": "python",
   "name": "python3"
  },
  "language_info": {
   "codemirror_mode": {
    "name": "ipython",
    "version": 3
   },
   "file_extension": ".py",
   "mimetype": "text/x-python",
   "name": "python",
   "nbconvert_exporter": "python",
   "pygments_lexer": "ipython3",
   "version": "3.7.6"
  }
 },
 "nbformat": 4,
 "nbformat_minor": 2
}
