{
 "cells": [
  {
   "cell_type": "markdown",
   "id": "b70d6178",
   "metadata": {},
   "source": [
    "1. Sample $10^4$ points uniformly over the hypercube $[0,1]^d$ (denote this set by $\\mathcal X$).\n",
    "2. For $d\\in\\{1,2,3,5,10,20,50,100,500\\}$ and for the Euclidean distance $\\rho$ find\n",
    "- $\\min d(x,\\tilde x)$: minimum over $x,\\tilde x\\in \\mathcal X$\n",
    "- $\\overline{d(x,\\tilde x)}$: average over $x,\\tilde x\\in \\mathcal X$\n",
    "- $\\max d(x,\\tilde x)$: maximum over $x,\\tilde x\\in \\mathcal X$\n",
    "- $\\overline{d_{NN1}(x)}$: average distance to the nearest neighbor\n",
    "- $ \\max d_{NN1}(x)$: maximal distance to the nearest neigbor \n",
    "\n",
    "Collect the results in a table"
   ]
  },
  {
   "cell_type": "code",
   "execution_count": 1,
   "id": "2e8e9038",
   "metadata": {},
   "outputs": [],
   "source": [
    "import numpy as np\n",
    "import pandas as pd\n",
    "import matplotlib as mpl\n",
    "import matplotlib.pyplot as plt\n",
    "from tqdm import tqdm\n",
    "from sklearn.metrics.pairwise import euclidean_distances\n",
    "from sklearn.neighbors import KNeighborsClassifier\n",
    "from sklearn.model_selection import cross_val_score\n",
    "from sklearn.naive_bayes import GaussianNB"
   ]
  },
  {
   "cell_type": "code",
   "execution_count": 6,
   "id": "d9050c80",
   "metadata": {},
   "outputs": [
    {
     "name": "stdout",
     "output_type": "stream",
     "text": [
      "     d           min      mean        max  mean_nearest  max_nearest\n",
      "0    1  9.125060e-09  0.335280   0.999810      0.000050     0.000519\n",
      "1    2  7.345879e-05  0.520102   1.409997      0.005040     0.018753\n",
      "2    3  2.469690e-03  0.660299   1.666413      0.026161     0.067109\n",
      "3    5  2.684940e-02  0.879804   1.989374      0.109409     0.222128\n",
      "4   10  1.547094e-01  1.266477   2.466171      0.387627     0.605187\n",
      "5   20  5.042815e-01  1.809002   3.029351      0.897457     1.216573\n",
      "6   50  1.532027e+00  2.877296   4.165015      1.969209     2.301503\n",
      "7  100  2.684460e+00  4.076069   5.347023      3.183656     3.532556\n",
      "8  500  7.694222e+00  9.123948  10.405330      8.248003     8.630919\n"
     ]
    }
   ],
   "source": [
    "n = 10**4\n",
    "arr = [1,2,3,5,10,20,50,100,500]\n",
    "\n",
    "df = pd.DataFrame(columns=['d', 'min', 'mean', 'max', 'mean_nearest', 'max_nearest'])\n",
    "for d in arr:\n",
    "    X = np.random.uniform(0,1,(n,d))\n",
    "    D = euclidean_distances(X, X)\n",
    "    D = np.sort(D)\n",
    "    D = D[:,1:]\n",
    "    \n",
    "    min_value = D.min()\n",
    "    max_value = D.max()\n",
    "    mean_value = D.mean()\n",
    "    \n",
    "    mean_nearest = np.amin(D,axis=1).mean()\n",
    "    max_nearest = np.amin(D,axis=1).max()\n",
    "  \n",
    "    df = df.append({\n",
    "        'd': d, \n",
    "        'min': min_value, \n",
    "        'mean': mean_value, \n",
    "        'max': max_value, \n",
    "        'mean_nearest': mean_nearest, \n",
    "        'max_nearest': max_nearest\n",
    "    }, ignore_index=True)\n",
    "df = df.astype({'d': 'int32'})\n",
    "\n",
    "print(df)"
   ]
  },
  {
   "cell_type": "markdown",
   "id": "0b8ada53",
   "metadata": {},
   "source": [
    "3. Generate $10^4$ point such that each point with probability $1/2$\n",
    "- is sampled from $N(\\mu,I)$, $\\mu=(a,\\dots,a)\\in\\mathbb R^d$ and gets label $0$\n",
    "- is sampled from $N(\\mu,I)$, $\\mu=(-a,\\dots,-a)\\in\\mathbb R^d$ and gets label $1$\n",
    "\n",
    "Put $a=\\frac{2}{\\sqrt{d}}$ (the Bayes error will be $\\approx 0.023$ for all $d$). \n",
    "\n",
    "For $k = 3, 7, 15$  train a $k$-NN classifier for increasing dimensions $1\\le d\\le 500$ and monitor its performance evaluated by 10 times repeated 10-fold CV. For each $k$ draw the graphs of the mean  missclassification error as a function of $d$."
   ]
  },
  {
   "cell_type": "code",
   "execution_count": 7,
   "id": "070f751e",
   "metadata": {},
   "outputs": [
    {
     "name": "stderr",
     "output_type": "stream",
     "text": [
      "100%|██████████| 6/6 [11:51<00:00, 118.55s/it]\n",
      "100%|██████████| 6/6 [09:20<00:00, 93.43s/it] \n",
      "100%|██████████| 6/6 [09:22<00:00, 93.74s/it] \n"
     ]
    },
    {
     "data": {
      "text/plain": [
       "<matplotlib.legend.Legend at 0x1ff144b0988>"
      ]
     },
     "execution_count": 7,
     "metadata": {},
     "output_type": "execute_result"
    },
    {
     "data": {
      "image/png": "[encoded data removed]",
      "text/plain": [
       "<Figure size 720x576 with 1 Axes>"
      ]
     },
     "metadata": {
      "needs_background": "light"
     },
     "output_type": "display_data"
    }
   ],
   "source": [
    "np.random.seed(42)\n",
    "n = 10**4\n",
    "\n",
    "\n",
    "fig, ax = plt.subplots(1,1, figsize=(10, 8))\n",
    "plt.ylim([0, 0.4])\n",
    "ax.set_xlabel('d')\n",
    "ax.set_ylabel('Mean Missclassification Error')\n",
    "\n",
    "arr_k = [3,7,15]\n",
    "arr_d = [2,100,200,300,400,500]\n",
    "for k in arr_k:\n",
    "    res = []\n",
    "    for d in tqdm(arr_d):\n",
    "        a =[ 2.0/np.sqrt(d) for i in range(d)]\n",
    "        XX=np.random.randn(n, d)\n",
    "        X0 = XX + a\n",
    "        X1 = XX - a\n",
    "        Y = np.zeros((n, d))+np.random.randint(0,2,(n,1))\n",
    "        X = X0*(Y==1) + X1*(Y==0)\n",
    "        \n",
    "        clf = KNeighborsClassifier(n_neighbors = k)\n",
    "        scores = cross_val_score(clf, X, Y, cv=10)\n",
    "        res.append(np.mean(1 - scores))\n",
    "    ax.plot(arr_d, res, label='k='+str(k))\n",
    "    ax.legend(loc=0)\n",
    "\n",
    "ax.plot(arr_d, [0.023 for i in range(len(arr_d))], label='Bayes Optimal')\n",
    "ax.legend(loc=0)"
   ]
  }
 ],
 "metadata": {
  "kernelspec": {
   "display_name": "Python 3",
   "language": "python",
   "name": "python3"
  },
  "language_info": {
   "codemirror_mode": {
    "name": "ipython",
    "version": 3
   },
   "file_extension": ".py",
   "mimetype": "text/x-python",
   "name": "python",
   "nbconvert_exporter": "python",
   "pygments_lexer": "ipython3",
   "version": "3.8.8"
  }
 },
 "nbformat": 4,
 "nbformat_minor": 5
}
