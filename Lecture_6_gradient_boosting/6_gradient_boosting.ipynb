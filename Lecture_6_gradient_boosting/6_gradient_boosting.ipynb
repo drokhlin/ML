{
 "cells": [
  {
   "cell_type": "markdown",
   "id": "8386fc4d",
   "metadata": {},
   "source": [
    "### Gradient boosting"
   ]
  },
  {
   "cell_type": "markdown",
   "id": "225e3e2f",
   "metadata": {},
   "source": [
    "[Friedman, 2001]\n",
    "\n",
    "$$ \\sum_{i=1}^n L(y_i,f(x_i))\\to\\min_{f\\in\\mathscr H}$$\n",
    "\n",
    "Idea: look for the approximate solution of the form\n",
    "\n",
    "$$ f=\\sum_{i=1}^m \\alpha_i h(x_i),\\quad h\\in\\mathscr H,\\quad \\alpha_i>0, $$\n",
    "\n",
    "and try obtain this solution recursively:\n",
    "\n",
    "$$ f_k=f_{k-1}+\\alpha_k h_k. $$\n",
    "\n",
    "If $\\hat f_{k-1}$ is already constructed, then\n",
    "\n",
    "$$\\hat h_k\\in\\arg\\min_{\\alpha\\ge 0,\\\\ h\\in\\mathscr H}\\sum_{i=1}^n L(y_i,\\hat f_{k-1}(x_i)+\\alpha h(x_i)).$$\n",
    "\n",
    "Instead of getting the exact solution, we want to make one step of the gradient method in $\\mathbb R^n$ from the point $\\hat f_{k-1}(x_i)$ in the direction of $\\bigl(-L_{\\hat y}(y_i,\\hat f_{k-1}(x_i))\\bigr)_{i=1}^n$. \n",
    "In fact, we first approximate this vector by some $h\\in\\mathcal H$, which solves the OLS problem:\n",
    "\n",
    "$$\\hat h_k\\in\\arg\\min_{h\\in\\mathcal H} \\sum_{i=1}^n\\bigl(L_{\\hat y}(y_i,\\hat f_{k-1}(x_i))+h(x_i)\\bigr)^2 \\tag{1}$$\n",
    "\n",
    "and then make the step in the function space $\\mathscr H$:\n",
    "\n",
    "$$ \\hat f_k:=\\hat f_{k-1}+\\hat \\alpha_k \\hat h_k \\tag{2} $$\n",
    "\n",
    "where the step size $\\widehat\\alpha_k$ is obtained from the one-dimensional optimization problem\n",
    "\n",
    "$$ \\hat\\alpha_k\\in\\arg\\min_{\\alpha\\ge 0}\\sum_{i=1}^n L(y_i,\\hat f_{k-1}(x_i)+\\alpha \\hat h_k(x_i)). \\tag{3}$$\n",
    "\n",
    "For an arbitrary intial guess $\\hat f_0$ the general gradient boosting algorithm is defined by (1), (3), (2):\n",
    "\n",
    "* (1): approximate current anti-gradient\n",
    "* (3): find the best step size by the line search\n",
    "* (2): make the step\n"
   ]
  },
  {
   "cell_type": "markdown",
   "id": "1d0a2d3c",
   "metadata": {},
   "source": [
    "#### Least-squares regression: $L(y,\\hat y)=(y-\\hat y)^2/2$"
   ]
  },
  {
   "cell_type": "markdown",
   "id": "37123430",
   "metadata": {},
   "source": [
    "Since $L_{\\hat y}=2(\\hat y -y)$, we have\n",
    "\n",
    "$$\\hat h_k\\in\\arg\\min_{h\\in\\mathcal H} \\sum_{i=1}^n\\bigl(y_i-f_{k-1}(x_i)-h(x_i)\\bigr)^2$$\n",
    "\n",
    "Thus, at each step the model is refitted to current residuals. The step size:\n",
    "\n",
    "$$ \\hat\\alpha_k\\in\\arg\\min_{\\alpha\\ge 0}\\sum_{i=1}^n \\bigl(y_i-f_{k-1}(x_i)-\\alpha h_k(x_i)\\bigr)^2=\\frac{\\sum_{i=1}^n(y_i-f_{k-1}(x_i))h_k(x_i)}{\\sum_{i=1}^n h_k^2(x_i)}. $$"
   ]
  },
  {
   "cell_type": "markdown",
   "id": "f552833b",
   "metadata": {},
   "source": [
    "#### AdaBoost: $L(y,\\hat y)=e^{-y\\hat y}$, $y\\in \\mathcal Y=\\{-1,1\\}$"
   ]
  },
  {
   "cell_type": "markdown",
   "id": "e67d3b5b",
   "metadata": {},
   "source": [
    "[Freund, Schapire, 1995]\n",
    "\n",
    "The base class $\\mathscr H$ contains contains some set of classifiers $h:\\mathcal X\\to \\{-1,1\\}$. "
   ]
  },
  {
   "cell_type": "markdown",
   "id": "e9a31ebd",
   "metadata": {},
   "source": [
    "Since $L_{\\hat y}(y,\\hat y)=-ye^{-y\\hat y}$, we have\n",
    "\n",
    "\\begin{align*}\n",
    "&\\arg\\min_{h\\in\\mathcal H} \\sum_{i=1}^n\\bigl(L_{\\hat y}(y_i,\\hat f_{k-1}(x_i))+h(x_i)\\bigr)^2=\\arg\\min_{h\\in\\mathcal H}\\sum_{i=1}^n\\bigl(-y_i e^{-y_i f_{k-1}(x_i)}  +h(x_i)\\bigr)^2\\\\\n",
    "&=\\arg\\min_{h\\in\\mathcal H}\\sum_{i=1}^n(-2 y_i h(x_i) e^{-y_i f_{k-1}(x_i)}+h(x_i)^2)=\\arg\\max_{h\\in\\mathcal H}\\sum_{i=1}^n y_i h(x_i) e^{-y_i f_{k-1}(x_i)}\\\\\n",
    "&=\\arg\\max_{h\\in\\mathcal H}\\left(\\sum_{h(x_i)=y_i}e^{-y_i f_{k-1}(x_i)}-\\sum_{h(x_i)\\neq y_i}e^{-y_i f_{k-1}(x_i)}\\right)=\\arg\\max_{h\\in\\mathcal H}\\left(\\sum_{i=1}^ne^{-y_i f_{k-1}(x_i)}-2\\sum_{h(x_i)\\neq y_i}e^{-y_i f_{k-1}(x_i)}\\right)\\\\\n",
    "&=\\arg\\min_{h\\in\\mathscr H}\\sum_{h(x_i)\\neq y_i}e^{-y_i f_{k-1}(x_i)}=\\arg\\min_{h\\in\\mathscr H}\\sum_{i=1}^n w_i I(h(x_i)\\neq y_i),\\qquad w_i:=\\frac{e^{-y_i f_{k-1}(x_i)}}{\\sum_{j=1}^n e^{-y_j f_{k-1}(x_j)}}.\n",
    "\\end{align*}\n",
    "\n",
    "The optimal classifier tries to correctly classify the points with large weights $e^{-y_i f_{k-1}(x_i)}$. In fact those which were incorrectly classified by $f_{k-1}$."
   ]
  },
  {
   "cell_type": "markdown",
   "id": "62d48ba6",
   "metadata": {},
   "source": [
    "*Optimal stepsize*"
   ]
  },
  {
   "cell_type": "markdown",
   "id": "0e9af2a7",
   "metadata": {},
   "source": [
    "$$ \\hat\\alpha_k\\in\\arg\\min_{\\alpha\\ge 0}\\sum_{i=1}^n L(y_i,\\hat f_{k-1}(x_i)+\\alpha \\hat h_k(x_i))=\\min_{\\alpha\\ge 0}\\sum_{i=1}^n e^{-y_i(f_k(x_i)+\\alpha h_k(x_i))}.$$\n",
    "\n",
    "Derivative with respect to $\\alpha$:\n",
    "\n",
    "$$-\\sum_{i=1}^n y_i h_k(x_i) e^{-y_i(f_{k-1}(x_i)+\\alpha h_k(x_i))}=-\\sum_{h_k(x_i)=y_i}e^{-y_if_{k-1}(x_i)} e^{-\\alpha}+\\sum_{h_k(x_i)\\neq y_i}e^{-y_i f_{k-1}(x_i)} e^{\\alpha}=0.$$\n",
    "\n",
    "Eqiivalently, \n",
    "\n",
    "$$\\sum_{h_k(x_i)=y_i} w_i e^{-\\alpha}-\\sum_{h_k(x_i)\\neq y_i} w_i e^{\\alpha}=(1-\\varepsilon_k) e^{-\\alpha}-\\varepsilon_k e^\\alpha=0,\\qquad \\varepsilon_k=\\sum_{h_k(x_i)\\neq y_i} w_i.$$\n",
    "\n",
    "Thus,\n",
    "\n",
    "$$ \\hat\\alpha_k=\\frac{1}{2}\\ln\\frac{1-\\varepsilon_{k}}{\\varepsilon_{k}}.  $$"
   ]
  },
  {
   "cell_type": "markdown",
   "id": "54d6f698",
   "metadata": {},
   "source": [
    "*Weight update*"
   ]
  },
  {
   "cell_type": "markdown",
   "id": "a3513c05",
   "metadata": {},
   "source": [
    "Let us give the weights additional time index:\n",
    "\n",
    "$$w_{k-1,i}:=\\frac{e^{-y_i f_{k-1}(x_i)}}{\\sum_{j=1}^n e^{-y_j f_{k-1}(x_j)}}$$\n",
    "    \n",
    "Unnormalized weights update:\n",
    "\n",
    "$$ \\widetilde w_{k,i}=e^{-y_i f_k (x_i)}=e^{-y_i f_{k-1} (x_i)}e^{-\\alpha_k y_i h_k (x_i)}=\\widetilde w_{k-1,i}e^{-\\alpha_k y_i h_k (x_i)}. $$\n",
    "\n",
    "Furthermore, put\n",
    "\n",
    "$$ Z_k=\\sum_{j=1}^n \\widetilde w_{k,j}=\\sum_{j=1}^n e^{-y_j f_k (x_j)}. $$\n",
    "\n",
    "We have\n",
    "\n",
    "\\begin{align*}\n",
    "\\frac{Z_k}{Z_{k-1}} &=\\frac{\\sum_{i=1}^n e^{-y_i(f_{k-1}(x_i)+\\alpha_k h_k(x_i))}}{\\sum_{j=1}^n e^{-y_j f_{k-1}(x_j)}}=\\sum_{i=1}^n w_{k-1,i} e^{-\\alpha_k y_i h_k(x_i)}\\\\\n",
    "&=e^{-\\alpha_k}\\sum_{y_i=h_k(x_i)} w_{k-1,i}+e^{\\alpha_k}\\sum_{y_i\\neq h_k(x_i)} w_{k-1,i}=e^{-\\alpha_k} (1-\\varepsilon_k)+e^{\\alpha_k}\\varepsilon_k\n",
    "\\end{align*}\n",
    "\n",
    "Substituting $\\alpha_k$:\n",
    "\n",
    "$$ e^{-\\alpha_k}=\\sqrt\\frac{\\varepsilon_k}{1-\\varepsilon_k}, \\quad e^{\\alpha_k}=\\sqrt\\frac{1-\\varepsilon_k}{\\varepsilon_k},$$\n",
    "\n",
    "we get \n",
    "\n",
    "$$\\frac{Z_k}{Z_{k-1}}=2\\sqrt{\\varepsilon_k(1-\\varepsilon_k)},$$ \n",
    "\n",
    "$$ w_{k,i}=\\frac{\\widetilde w_{k,i}}{Z_k}=\\frac{\\widetilde w_{k-1,i}e^{-\\alpha_k y_i h_k (x_i)}}{Z_{k-1} 2\\sqrt{\\varepsilon_k(1-\\varepsilon_k)}}=w_{k-1,i}\\frac{e^{-\\alpha_k y_i h_k (x_i)}}{2\\sqrt{\\varepsilon_k(1-\\varepsilon_k)}} $$\n",
    "\n"
   ]
  },
  {
   "cell_type": "markdown",
   "id": "36f68072",
   "metadata": {},
   "source": [
    "*AdaBoost algorithm:*"
   ]
  },
  {
   "cell_type": "markdown",
   "id": "6f451863",
   "metadata": {},
   "source": [
    "Starting from zero classifier $f_0=0$, and the corresponding uniform weights $w_{0,i}=1$,\n",
    "\n",
    "* Approximate current anti-gradient: that is, find the classifier\n",
    "\n",
    "$$h_k=\\arg\\min_{h\\in\\mathscr H}\\sum_{i=1}^n w_{k-1,i} I(h(x_i)\\neq y_i),\\qquad w_{k-1,i}:=\\frac{e^{-y_i f_{k-1}(x_i)}}{\\sum_{j=1}^n e^{-y_j f_{k-1}(x_j)}}$$\n",
    "\n",
    "* Compute the step size\n",
    "\n",
    "$$ \\hat\\alpha_k=\\frac{1}{2}\\ln\\frac{1-\\varepsilon_{k}}{\\varepsilon_{k}}, \\qquad \\varepsilon_k=\\sum_{h_k(x_i)\\neq y_i} w_{k,i}.  $$\n",
    "\n",
    "* Make the step:\n",
    "\n",
    "$$ f_k:=f_{k-1}+ \\alpha_k  h_k $$\n",
    "\n",
    "and update the weights:\n",
    "\n",
    "$$ w_{k,i}=w_{k-1,i}\\frac{e^{-\\alpha_k y_i h_k (x_i)}}{2\\sqrt{\\varepsilon_k(1-\\varepsilon_k)}}. $$\n"
   ]
  },
  {
   "cell_type": "markdown",
   "id": "8d582c2d",
   "metadata": {},
   "source": [
    "**Theorem**. Assume that at each iteration of AdaBoost, the weak learner returns a hypothesis for which $\\varepsilon_t\\le 1/2-\\gamma$. Then, the training error of the output hypothesis of AdaBoost is at most\n",
    "\n",
    "$$ L_S(f_m)=\\frac{1}{n}\\sum_{i=1}^n I_{\\{f_m(x_i)\\neq y_i\\}}\\le e^{-2\\gamma^2 m} $$\n",
    "\n",
    "(see Shalev-Schwartz, Ben-David, 2014)."
   ]
  },
  {
   "cell_type": "markdown",
   "id": "4402f589",
   "metadata": {},
   "source": [
    "*Proof.*\n",
    "\n",
    "\\begin{align*}\n",
    " L_S(f_m) &=\\frac{1}{n}\\sum_{i=1}^n I_{\\{f_m(x_i)\\neq y_i\\}}\\le \\frac{1}{n}\\sum_{i=1}^n e^{-y_i f_m(x_i)}\\\\\n",
    " &=\\frac{1}{n} Z_m=\\frac{Z_0}{n}\\prod_{k=1}^m 2 \\sqrt{\\varepsilon_k(1-\\varepsilon_k)}=2^m\\prod_{k=1}^m \\sqrt{\\varepsilon_k(1-\\varepsilon_k)}.\n",
    "\\end{align*}\n",
    "\n",
    "The function $g(c)=c(1-c)$ increases at $[0,1/2]$. By our assumption, $\\varepsilon_k\\le 1/2-\\gamma$. Thus,\n",
    "\n",
    "$$ L_S(f_m)\\le 2^m\\prod_{k=1}^m \\sqrt{(1/2-\\gamma)(1/2+\\gamma)}=\\left(1- 4\\gamma^2\\right)^{m/2}. $$\n",
    "\n",
    "From the inequality $1-a\\le e^{-a}$ it follows that\n",
    "\n",
    "$$ \\sqrt{1-4\\gamma^2}\\le e^{-2\\gamma^2}.\\qquad \\square$$\n",
    "\n"
   ]
  },
  {
   "cell_type": "markdown",
   "id": "bb527e46",
   "metadata": {},
   "source": [
    "#### TreeBoost"
   ]
  },
  {
   "cell_type": "markdown",
   "id": "56d7a208",
   "metadata": {},
   "source": [
    "[Friedman, 2001]\n",
    "\n",
    "Basic class $\\mathscr H$ consists of tree classifiers\n",
    "\n",
    "$$ f(x)=\\sum_{j=1}^J b_j I(x\\in R_j). $$\n",
    "\n",
    "In general optimal step size is obtained as\n",
    "\n",
    "$$ \\alpha_k\\in\\arg\\min_{\\alpha\\ge 0}\\sum_{i=1}^n L(y_i,\\hat f_{k-1}(x_i)+\\alpha \\hat h_k(x_i)). $$\n",
    "\n",
    "The update rule:\n",
    "\n",
    "$$ f_k(x)=f_{k-1}(x)+\\alpha_k \\sum_{j=1}^J b_{k,j} I(x\\in R_{k,j})=f_{k-1}(x)+\\sum_{j=1}^J \\gamma_{k,j} I(x\\in R_{k,j})$$\n",
    "\n",
    "In TreeBoost instead of one optimal $\\alpha_k$ for each classifier one looks for optimal $\\gamma_{k,j}$ separately at each $R_{k,j}$:\n",
    "\n",
    "$$ \\gamma_{kj}=\\arg\\min_{\\gamma_{kj}}\\sum_{i=1}^n L(y_i,\\hat f_{k-1}(x_i)+\\gamma_{kj}).\n",
    "$$"
   ]
  },
  {
   "cell_type": "markdown",
   "id": "334232f9",
   "metadata": {},
   "source": [
    "#### XGBoost"
   ]
  },
  {
   "cell_type": "markdown",
   "id": "b818e9c8",
   "metadata": {},
   "source": [
    "[Chen, Guestrin 2016]\n",
    "\n",
    "* Take trees as a basic class $\\mathscr H$:\n",
    "\n",
    "$$ f(x)=\\sum_{j=1}^J w_j I(x\\in R_j). $$\n",
    "\n",
    "* Add a regularization:\n",
    "\n",
    "$$\\sum_{i=1}^n L(y_i,f_m(x_i))+\\sum_{k=1}^m \\Omega(h_k),\\qquad \\Omega(h)= \\gamma |J|+\\frac{\\lambda}{2}\\sum_{j=1}^J w_j^2,$$\n",
    "\n",
    "where $f_m=h_1+\\dots+h_m$.\n",
    "\n",
    "* Use second order approximation (Newton method instead of gradient descent) for the approximate solution of the problem\n",
    "\n",
    "\\begin{align*}\n",
    "\\hat h_k &\\in\\arg\\min_{h\\in\\mathscr H}\\left(\\sum_{i=1}^n L(y_i,\\hat f_{k-1}(x_i)+h(x_i))+\\Omega(h)\\right)\\\\\n",
    "&\\approx \\arg\\min_{h\\in\\mathscr H}\\left(\\sum_{i=1}^n \\alpha_i h(x_i)+\\frac{1}{2}\\beta_i h^2(x_i)+\\gamma |J|+\\frac{\\lambda}{2}\\sum_{j=1}^J w_j^2 \\right)\\\\\n",
    "&\\approx \\arg\\min_{h\\in\\mathscr H}\\left\\{\\sum_{j=1}^J \\left(\\left[\\sum_{i:x_i\\in R_j}\\alpha_i\\right] w_j+\\frac{1}{2}\\left[\\lambda+\\sum_{i:x_i\\in R_j}\\beta_i \\right]w_j^2 \\right)+\\gamma |J|\\right\\}\n",
    "\\end{align*}\n",
    "\n",
    "Minimize over $w$:\n",
    "   \n",
    "$$ w_j^*=-\\frac{\\sum_{i:x_i\\in R_j}\\alpha_i}{\\lambda+\\sum_{i:x_i\\in R_j}\\beta_i }$$\n",
    "\n",
    "The corresponding optimal value:\n",
    "\n",
    "$$ \\tilde {\\mathcal L}_k(h)=-\\frac{1}{2}\\sum_{j=1}^J \\frac{\\left(\\sum_{i:x_i\\in R_j}\\alpha_i\\right)^2}{\\lambda+\\sum_{i:x_i\\in R_j}\\beta_i }+\\gamma |J|$$\n",
    "\n",
    "is used as an impurity measure for approximate solution of the problem\n",
    "\n",
    "$$ \\hat h_k \\in\\arg\\min_{h\\in\\mathscr H} \\tilde {\\mathcal L}_k(h).$$"
   ]
  },
  {
   "cell_type": "markdown",
   "id": "83729651",
   "metadata": {},
   "source": [
    "In scikit-learn `GradientBoostingClassifier` and `GradientBoostingRegressor` use trees as the basic class (TreeBoost)."
   ]
  },
  {
   "cell_type": "code",
   "execution_count": 1,
   "id": "5681a370",
   "metadata": {},
   "outputs": [],
   "source": [
    "import numpy as np\n",
    "import matplotlib.pyplot as plt\n",
    "%matplotlib inline\n",
    "plt.rcParams[\"savefig.dpi\"] = 300\n",
    "plt.rcParams[\"savefig.bbox\"] = \"tight\"\n",
    "\n",
    "np.set_printoptions(precision=3)\n",
    "import pandas as pd\n",
    "from sklearn.model_selection import train_test_split\n",
    "from sklearn.pipeline import make_pipeline\n",
    "from sklearn.preprocessing import scale, StandardScaler"
   ]
  },
  {
   "cell_type": "markdown",
   "id": "e12b81e3",
   "metadata": {},
   "source": [
    "#### Iris data set"
   ]
  },
  {
   "cell_type": "code",
   "execution_count": 2,
   "id": "723b1c3b",
   "metadata": {},
   "outputs": [],
   "source": [
    "from sklearn.datasets import load_iris\n",
    "iris = load_iris()"
   ]
  },
  {
   "cell_type": "code",
   "execution_count": 3,
   "id": "827872bb",
   "metadata": {},
   "outputs": [
    {
     "data": {
      "text/plain": [
       "0.9736842105263158"
      ]
     },
     "execution_count": 3,
     "metadata": {},
     "output_type": "execute_result"
    }
   ],
   "source": [
    "from sklearn.ensemble import GradientBoostingClassifier\n",
    "X_train, X_test, y_train, y_test = train_test_split(\n",
    "    iris.data, iris.target, stratify=iris.target, random_state=0)\n",
    "gbrt = GradientBoostingClassifier().fit(X_train, y_train)\n",
    "gbrt.score(X_test, y_test)"
   ]
  },
  {
   "cell_type": "markdown",
   "id": "a4eb0d5b",
   "metadata": {},
   "source": [
    "#### Regression: synthetic dataset"
   ]
  },
  {
   "cell_type": "code",
   "execution_count": 4,
   "id": "3583e7a2",
   "metadata": {},
   "outputs": [],
   "source": [
    "from sklearn.ensemble import GradientBoostingRegressor\n",
    "\n",
    "def make_wave(n_samples=100):\n",
    "    rnd = np.random.RandomState(42)\n",
    "    x = rnd.uniform(-3, 3, size=n_samples)\n",
    "    y_no_noise = (np.sin(4 * x))\n",
    "    y = (y_no_noise + rnd.normal(scale=0.2, size=len(x))) / 2\n",
    "    return x.reshape(-1, 1), y\n",
    "X, y = make_wave(100)\n",
    "\n",
    "def make_poly(n_samples=100):\n",
    "    rnd = np.random.RandomState(42)\n",
    "    x = rnd.uniform(-3, 3, size=n_samples)\n",
    "    y_no_noise = (x) ** 3\n",
    "    y = (y_no_noise + rnd.normal(scale=3, size=len(x))) / 2\n",
    "    return x.reshape(-1, 1), y\n",
    "\n",
    "X, y = make_poly()\n",
    "X_train, X_test, y_train, y_test = train_test_split(X, y, random_state=0)"
   ]
  },
  {
   "cell_type": "code",
   "execution_count": 5,
   "id": "6be6d9df",
   "metadata": {},
   "outputs": [
    {
     "data": {
      "text/plain": [
       "0.8117763334371787"
      ]
     },
     "execution_count": 5,
     "metadata": {},
     "output_type": "execute_result"
    }
   ],
   "source": [
    "gbrt = GradientBoostingRegressor(max_depth=2, n_estimators=10, learning_rate=.3, random_state=0).fit(X_train, y_train)\n",
    "gbrt.score(X_test, y_test)"
   ]
  },
  {
   "cell_type": "markdown",
   "id": "f0ade69e",
   "metadata": {},
   "source": [
    "The default loss function is the least squares regression: `ls`\n",
    "\n",
    "`n_estimators`: the same as $m$  \n",
    "The number of boosting stages to perform. Gradient boosting is fairly robust to over-fitting so a large number usually results in better performance (`scikit-learn`).\n",
    "\n",
    "`staged_predict(X)`: Predict regression target at each stage for X\n",
    "\n",
    "`estimators_`: ndarray of DecisionTreeRegressor of shape (n_estimators, 1). The collection of fitted sub-estimators"
   ]
  },
  {
   "cell_type": "code",
   "execution_count": 6,
   "id": "9a123e24",
   "metadata": {},
   "outputs": [
    {
     "data": {
      "text/plain": [
       "<matplotlib.legend.Legend at 0x14a15f43fd0>"
      ]
     },
     "execution_count": 6,
     "metadata": {},
     "output_type": "execute_result"
    },
    {
     "data": {
      "image/png": "[encoded data removed]",
      "text/plain": [
       "<Figure size 432x288 with 1 Axes>"
      ]
     },
     "metadata": {
      "needs_background": "light"
     },
     "output_type": "display_data"
    }
   ],
   "source": [
    "line = np.linspace(X.min(), X.max(), 1000)\n",
    "preds = list(gbrt.staged_predict(line[:, np.newaxis]))\n",
    "plt.plot(X_train[:, 0], y_train, 'o', label=\"training data\")\n",
    "for i in range(1, 10, 2):\n",
    "    plt.plot(line, preds[i], label=\"n_estimators={}\".format(i + 1))\n",
    "\n",
    "plt.legend()"
   ]
  },
  {
   "cell_type": "code",
   "execution_count": 7,
   "id": "c8f087a2",
   "metadata": {},
   "outputs": [
    {
     "data": {
      "image/png": "[encoded data removed]",
      "text/plain": [
       "<Figure size 432x432 with 8 Axes>"
      ]
     },
     "metadata": {},
     "output_type": "display_data"
    }
   ],
   "source": [
    "preds_train = [np.zeros(len(y_train))] + list(gbrt.staged_predict(X_train))\n",
    "\n",
    "fig, axes = plt.subplots(4, 2, subplot_kw={'xticks': (()), 'yticks': (())}, figsize=(6, 6))\n",
    "#fig, axes = plt.subplots(4, 2, figsize=(12, 12))\n",
    "\n",
    "n_estimators = [0, 1, 4, 8]\n",
    "for i in range(4):\n",
    "    k = n_estimators[i]\n",
    "    axes[i, 0].plot(X_train[:, 0], y_train - preds_train[k], 'o')\n",
    "    axes[i, 0].plot(line, gbrt.estimators_[k, 0].predict(line[:, np.newaxis]))\n",
    "    axes[i, 1].plot(X_train[:, 0], y_train, 'o')\n",
    "    axes[i, 1].plot(line, preds[k])\n",
    "    axes[i, 0].set_title(\"Residual prediction step {}\".format(k + 1))\n",
    "    axes[i, 1].set_title(\"Total prediction step {}\".format(k + 1))\n",
    "\n",
    "for ax in axes.ravel():\n",
    "    ax.set_ylim(y.min(), y.max())\n",
    "plt.tight_layout()\n",
    "plt.savefig(\"images/grad_boost_regression_steps.png\")"
   ]
  },
  {
   "cell_type": "code",
   "execution_count": 8,
   "id": "53128bc1",
   "metadata": {},
   "outputs": [
    {
     "data": {
      "text/plain": [
       "DecisionTreeRegressor(criterion='friedman_mse', max_depth=2,\n",
       "                      random_state=RandomState(MT19937) at 0x14A15E65E40)"
      ]
     },
     "execution_count": 8,
     "metadata": {},
     "output_type": "execute_result"
    }
   ],
   "source": [
    "gbrt.estimators_[k, 0]"
   ]
  },
  {
   "cell_type": "markdown",
   "id": "c73620fb",
   "metadata": {},
   "source": [
    "#### Classification: synthetic moon data"
   ]
  },
  {
   "cell_type": "code",
   "execution_count": 9,
   "id": "07a4ef23",
   "metadata": {},
   "outputs": [
    {
     "data": {
      "text/plain": [
       "1.0"
      ]
     },
     "execution_count": 9,
     "metadata": {},
     "output_type": "execute_result"
    }
   ],
   "source": [
    "from sklearn.datasets import make_moons\n",
    "X, y = make_moons(noise=.2, random_state=1)\n",
    "X_train, X_test, y_train, y_test = train_test_split(X, y, stratify=y, random_state=0)\n",
    "gbrt = GradientBoostingClassifier(max_depth=2, n_estimators=10, learning_rate=.2, random_state=0).fit(X_train, y_train)\n",
    "gbrt.score(X_test, y_test)"
   ]
  },
  {
   "cell_type": "markdown",
   "id": "e92bd9a9",
   "metadata": {},
   "source": [
    "The default loss function is the logistic regression: `deviance`.  For loss `exponential` gradient boosting recovers the AdaBoost algorithm. "
   ]
  },
  {
   "cell_type": "code",
   "execution_count": 10,
   "id": "b7c60f70",
   "metadata": {},
   "outputs": [],
   "source": [
    "# create a grid for plotting decision functions...\n",
    "x_lin = np.linspace(X_train[:, 0].min() - .5, X_train[:, 0].max() + .5, 100)\n",
    "y_lin = np.linspace(X_train[:, 1].min() - .5, X_train[:, 1].max() + .5, 100)\n",
    "x_grid, y_grid = np.meshgrid(x_lin, y_lin)\n",
    "# all points in the Cartesian product\n",
    "X_grid = np.c_[x_grid.ravel(), y_grid.ravel()]\n",
    "probs = list(gbrt.staged_predict_proba(X_grid))"
   ]
  },
  {
   "cell_type": "code",
   "execution_count": 11,
   "id": "cd39254f",
   "metadata": {},
   "outputs": [
    {
     "data": {
      "text/plain": [
       "array([[1, 4],\n",
       "       [2, 5],\n",
       "       [3, 6]])"
      ]
     },
     "execution_count": 11,
     "metadata": {},
     "output_type": "execute_result"
    }
   ],
   "source": [
    "np.c_[np.array([1,2,3]), np.array([4,5,6])]"
   ]
  },
  {
   "cell_type": "code",
   "execution_count": 12,
   "id": "1f048048",
   "metadata": {},
   "outputs": [
    {
     "data": {
      "image/png": "[encoded data removed]",
      "text/plain": [
       "<Figure size 864x432 with 8 Axes>"
      ]
     },
     "metadata": {},
     "output_type": "display_data"
    }
   ],
   "source": [
    "fig, axes = plt.subplots(2, 4, subplot_kw={'xticks': (()), 'yticks': (())}, figsize=(12, 6))\n",
    "for i, (prob, ax) in enumerate(zip(probs, axes.ravel())):\n",
    "    ax.set_title(\"n_estimators={}\".format(i + 1))\n",
    "    ax.contourf(x_grid, y_grid, prob[:, 1].reshape(x_grid.shape), alpha=.4, cmap='bwr')\n",
    "    ax.scatter(X_train[:, 0], X_train[:, 1], c=y_train, cmap='bwr', s=10)\n",
    "fig.suptitle(\"GradientBostingClassifier(max_depth=2)\")\n",
    "plt.savefig(\"images/grad_boost_depth2.png\")"
   ]
  },
  {
   "cell_type": "code",
   "execution_count": 13,
   "id": "2ec93cbf",
   "metadata": {},
   "outputs": [
    {
     "data": {
      "text/plain": [
       "GridSearchCV(cv=10, estimator=GradientBoostingClassifier(),\n",
       "             param_grid={'learning_rate': [0.2, 0.1, 0.05, 0.02, 0.01, 0.001]},\n",
       "             return_train_score=True)"
      ]
     },
     "execution_count": 13,
     "metadata": {},
     "output_type": "execute_result"
    }
   ],
   "source": [
    "from sklearn.model_selection import GridSearchCV\n",
    "\n",
    "param_grid = {'learning_rate': [.2, .1, .05, .02, .01, .001]}\n",
    "grid = GridSearchCV(GradientBoostingClassifier(),\n",
    "                    param_grid=param_grid, cv=10,\n",
    "                    return_train_score=True)\n",
    "grid.fit(X_train, y_train)"
   ]
  },
  {
   "cell_type": "code",
   "execution_count": 14,
   "id": "0ae9f080",
   "metadata": {},
   "outputs": [
    {
     "data": {
      "text/plain": [
       "<AxesSubplot:xlabel='param_learning_rate'>"
      ]
     },
     "execution_count": 14,
     "metadata": {},
     "output_type": "execute_result"
    },
    {
     "data": {
      "image/png": "[encoded data removed]",
      "text/plain": [
       "<Figure size 432x288 with 1 Axes>"
      ]
     },
     "metadata": {
      "needs_background": "light"
     },
     "output_type": "display_data"
    }
   ],
   "source": [
    "scores = pd.DataFrame(grid.cv_results_)\n",
    "scores.plot(x='param_learning_rate', y='mean_train_score', yerr='std_train_score', ax=plt.gca())\n",
    "scores.plot(x='param_learning_rate', y='mean_test_score', yerr='std_test_score', ax=plt.gca())"
   ]
  },
  {
   "cell_type": "markdown",
   "id": "28405618",
   "metadata": {},
   "source": [
    "#### Regression: Boston dataset"
   ]
  },
  {
   "cell_type": "code",
   "execution_count": 15,
   "id": "79fbbcb8",
   "metadata": {},
   "outputs": [
    {
     "data": {
      "text/plain": [
       "0.8178289312547996"
      ]
     },
     "execution_count": 15,
     "metadata": {},
     "output_type": "execute_result"
    }
   ],
   "source": [
    "from sklearn.datasets import load_boston\n",
    "from sklearn.ensemble import GradientBoostingRegressor\n",
    "boston = load_boston()\n",
    "X_train, X_test, y_train, y_test = train_test_split(\n",
    "    boston.data, boston.target, random_state=0)\n",
    "\n",
    "gbrt = GradientBoostingRegressor().fit(X_train, y_train)\n",
    "gbrt.score(X_test, y_test)"
   ]
  },
  {
   "cell_type": "code",
   "execution_count": 16,
   "id": "7bb775c0",
   "metadata": {},
   "outputs": [],
   "source": [
    "param_grid = {'learning_rate': [.5, .2, .1, .05, .02, .01, .001]}\n",
    "grid = GridSearchCV(GradientBoostingRegressor(), param_grid=param_grid, cv=10,\n",
    "                   return_train_score=True)\n",
    "grid.fit(X_train, y_train);"
   ]
  },
  {
   "cell_type": "code",
   "execution_count": 17,
   "id": "b4282a22",
   "metadata": {},
   "outputs": [
    {
     "data": {
      "text/plain": [
       "<AxesSubplot:xlabel='param_learning_rate'>"
      ]
     },
     "execution_count": 17,
     "metadata": {},
     "output_type": "execute_result"
    },
    {
     "data": {
      "image/png": "[encoded data removed]",
      "text/plain": [
       "<Figure size 432x288 with 1 Axes>"
      ]
     },
     "metadata": {
      "needs_background": "light"
     },
     "output_type": "display_data"
    }
   ],
   "source": [
    "scores = pd.DataFrame(grid.cv_results_)\n",
    "\n",
    "scores.plot(x='param_learning_rate', y='mean_train_score', yerr='std_train_score', ax=plt.gca())\n",
    "scores.plot(x='param_learning_rate', y='mean_test_score', yerr='std_test_score', ax=plt.gca())"
   ]
  },
  {
   "cell_type": "code",
   "execution_count": 18,
   "id": "e47aff52",
   "metadata": {},
   "outputs": [
    {
     "data": {
      "text/plain": [
       "({'learning_rate': 0.1}, 0.8589595750186513)"
      ]
     },
     "execution_count": 18,
     "metadata": {},
     "output_type": "execute_result"
    }
   ],
   "source": [
    "grid.best_params_, grid.best_score_"
   ]
  },
  {
   "cell_type": "code",
   "execution_count": 19,
   "id": "39d4f47b",
   "metadata": {},
   "outputs": [
    {
     "data": {
      "text/plain": [
       "array([0.033, 0.   , 0.003, 0.001, 0.025, 0.309, 0.006, 0.055, 0.002,\n",
       "       0.015, 0.045, 0.006, 0.501])"
      ]
     },
     "execution_count": 19,
     "metadata": {},
     "output_type": "execute_result"
    }
   ],
   "source": [
    "gbrt.feature_importances_"
   ]
  },
  {
   "cell_type": "markdown",
   "id": "70fe7480",
   "metadata": {},
   "source": [
    "`feature_importances_` The impurity-based feature importances.\n",
    "\n",
    "The higher, the more important the feature. The importance of a feature is computed as the (normalized) total reduction of the criterion brought by that feature. It is also known as the Gini importance."
   ]
  },
  {
   "cell_type": "code",
   "execution_count": 20,
   "id": "536244b0",
   "metadata": {},
   "outputs": [
    {
     "data": {
      "text/plain": [
       "array([12,  5,  7, 10,  0], dtype=int64)"
      ]
     },
     "execution_count": 20,
     "metadata": {},
     "output_type": "execute_result"
    }
   ],
   "source": [
    "# 5 features with highest importances\n",
    "np.flip(np.argsort(gbrt.feature_importances_)[-5:])"
   ]
  },
  {
   "cell_type": "markdown",
   "id": "aeeefc08",
   "metadata": {},
   "source": [
    "#### XGBoost: Boston dataset\n",
    "\n",
    "https://www.datacamp.com/community/tutorials/xgboost-in-python"
   ]
  },
  {
   "cell_type": "code",
   "execution_count": 21,
   "id": "3a3175cb",
   "metadata": {},
   "outputs": [],
   "source": [
    "# conda install -c conda-forge xgboost"
   ]
  },
  {
   "cell_type": "code",
   "execution_count": 52,
   "id": "a4f7bc4a",
   "metadata": {},
   "outputs": [
    {
     "data": {
      "text/html": [
       "<div>\n",
       "<style scoped>\n",
       "    .dataframe tbody tr th:only-of-type {\n",
       "        vertical-align: middle;\n",
       "    }\n",
       "\n",
       "    .dataframe tbody tr th {\n",
       "        vertical-align: top;\n",
       "    }\n",
       "\n",
       "    .dataframe thead th {\n",
       "        text-align: right;\n",
       "    }\n",
       "</style>\n",
       "<table border=\"1\" class=\"dataframe\">\n",
       "  <thead>\n",
       "    <tr style=\"text-align: right;\">\n",
       "      <th></th>\n",
       "      <th>CRIM</th>\n",
       "      <th>ZN</th>\n",
       "      <th>INDUS</th>\n",
       "      <th>CHAS</th>\n",
       "      <th>NOX</th>\n",
       "      <th>RM</th>\n",
       "      <th>AGE</th>\n",
       "      <th>DIS</th>\n",
       "      <th>RAD</th>\n",
       "      <th>TAX</th>\n",
       "      <th>PTRATIO</th>\n",
       "      <th>B</th>\n",
       "      <th>LSTAT</th>\n",
       "    </tr>\n",
       "  </thead>\n",
       "  <tbody>\n",
       "    <tr>\n",
       "      <th>count</th>\n",
       "      <td>506.000000</td>\n",
       "      <td>506.000000</td>\n",
       "      <td>506.000000</td>\n",
       "      <td>506.000000</td>\n",
       "      <td>506.000000</td>\n",
       "      <td>506.000000</td>\n",
       "      <td>506.000000</td>\n",
       "      <td>506.000000</td>\n",
       "      <td>506.000000</td>\n",
       "      <td>506.000000</td>\n",
       "      <td>506.000000</td>\n",
       "      <td>506.000000</td>\n",
       "      <td>506.000000</td>\n",
       "    </tr>\n",
       "    <tr>\n",
       "      <th>mean</th>\n",
       "      <td>3.613524</td>\n",
       "      <td>11.363636</td>\n",
       "      <td>11.136779</td>\n",
       "      <td>0.069170</td>\n",
       "      <td>0.554695</td>\n",
       "      <td>6.284634</td>\n",
       "      <td>68.574901</td>\n",
       "      <td>3.795043</td>\n",
       "      <td>9.549407</td>\n",
       "      <td>408.237154</td>\n",
       "      <td>18.455534</td>\n",
       "      <td>356.674032</td>\n",
       "      <td>12.653063</td>\n",
       "    </tr>\n",
       "    <tr>\n",
       "      <th>std</th>\n",
       "      <td>8.601545</td>\n",
       "      <td>23.322453</td>\n",
       "      <td>6.860353</td>\n",
       "      <td>0.253994</td>\n",
       "      <td>0.115878</td>\n",
       "      <td>0.702617</td>\n",
       "      <td>28.148861</td>\n",
       "      <td>2.105710</td>\n",
       "      <td>8.707259</td>\n",
       "      <td>168.537116</td>\n",
       "      <td>2.164946</td>\n",
       "      <td>91.294864</td>\n",
       "      <td>7.141062</td>\n",
       "    </tr>\n",
       "    <tr>\n",
       "      <th>min</th>\n",
       "      <td>0.006320</td>\n",
       "      <td>0.000000</td>\n",
       "      <td>0.460000</td>\n",
       "      <td>0.000000</td>\n",
       "      <td>0.385000</td>\n",
       "      <td>3.561000</td>\n",
       "      <td>2.900000</td>\n",
       "      <td>1.129600</td>\n",
       "      <td>1.000000</td>\n",
       "      <td>187.000000</td>\n",
       "      <td>12.600000</td>\n",
       "      <td>0.320000</td>\n",
       "      <td>1.730000</td>\n",
       "    </tr>\n",
       "    <tr>\n",
       "      <th>25%</th>\n",
       "      <td>0.082045</td>\n",
       "      <td>0.000000</td>\n",
       "      <td>5.190000</td>\n",
       "      <td>0.000000</td>\n",
       "      <td>0.449000</td>\n",
       "      <td>5.885500</td>\n",
       "      <td>45.025000</td>\n",
       "      <td>2.100175</td>\n",
       "      <td>4.000000</td>\n",
       "      <td>279.000000</td>\n",
       "      <td>17.400000</td>\n",
       "      <td>375.377500</td>\n",
       "      <td>6.950000</td>\n",
       "    </tr>\n",
       "    <tr>\n",
       "      <th>50%</th>\n",
       "      <td>0.256510</td>\n",
       "      <td>0.000000</td>\n",
       "      <td>9.690000</td>\n",
       "      <td>0.000000</td>\n",
       "      <td>0.538000</td>\n",
       "      <td>6.208500</td>\n",
       "      <td>77.500000</td>\n",
       "      <td>3.207450</td>\n",
       "      <td>5.000000</td>\n",
       "      <td>330.000000</td>\n",
       "      <td>19.050000</td>\n",
       "      <td>391.440000</td>\n",
       "      <td>11.360000</td>\n",
       "    </tr>\n",
       "    <tr>\n",
       "      <th>75%</th>\n",
       "      <td>3.677083</td>\n",
       "      <td>12.500000</td>\n",
       "      <td>18.100000</td>\n",
       "      <td>0.000000</td>\n",
       "      <td>0.624000</td>\n",
       "      <td>6.623500</td>\n",
       "      <td>94.075000</td>\n",
       "      <td>5.188425</td>\n",
       "      <td>24.000000</td>\n",
       "      <td>666.000000</td>\n",
       "      <td>20.200000</td>\n",
       "      <td>396.225000</td>\n",
       "      <td>16.955000</td>\n",
       "    </tr>\n",
       "    <tr>\n",
       "      <th>max</th>\n",
       "      <td>88.976200</td>\n",
       "      <td>100.000000</td>\n",
       "      <td>27.740000</td>\n",
       "      <td>1.000000</td>\n",
       "      <td>0.871000</td>\n",
       "      <td>8.780000</td>\n",
       "      <td>100.000000</td>\n",
       "      <td>12.126500</td>\n",
       "      <td>24.000000</td>\n",
       "      <td>711.000000</td>\n",
       "      <td>22.000000</td>\n",
       "      <td>396.900000</td>\n",
       "      <td>37.970000</td>\n",
       "    </tr>\n",
       "  </tbody>\n",
       "</table>\n",
       "</div>"
      ],
      "text/plain": [
       "             CRIM          ZN       INDUS        CHAS         NOX          RM  \\\n",
       "count  506.000000  506.000000  506.000000  506.000000  506.000000  506.000000   \n",
       "mean     3.613524   11.363636   11.136779    0.069170    0.554695    6.284634   \n",
       "std      8.601545   23.322453    6.860353    0.253994    0.115878    0.702617   \n",
       "min      0.006320    0.000000    0.460000    0.000000    0.385000    3.561000   \n",
       "25%      0.082045    0.000000    5.190000    0.000000    0.449000    5.885500   \n",
       "50%      0.256510    0.000000    9.690000    0.000000    0.538000    6.208500   \n",
       "75%      3.677083   12.500000   18.100000    0.000000    0.624000    6.623500   \n",
       "max     88.976200  100.000000   27.740000    1.000000    0.871000    8.780000   \n",
       "\n",
       "              AGE         DIS         RAD         TAX     PTRATIO           B  \\\n",
       "count  506.000000  506.000000  506.000000  506.000000  506.000000  506.000000   \n",
       "mean    68.574901    3.795043    9.549407  408.237154   18.455534  356.674032   \n",
       "std     28.148861    2.105710    8.707259  168.537116    2.164946   91.294864   \n",
       "min      2.900000    1.129600    1.000000  187.000000   12.600000    0.320000   \n",
       "25%     45.025000    2.100175    4.000000  279.000000   17.400000  375.377500   \n",
       "50%     77.500000    3.207450    5.000000  330.000000   19.050000  391.440000   \n",
       "75%     94.075000    5.188425   24.000000  666.000000   20.200000  396.225000   \n",
       "max    100.000000   12.126500   24.000000  711.000000   22.000000  396.900000   \n",
       "\n",
       "            LSTAT  \n",
       "count  506.000000  \n",
       "mean    12.653063  \n",
       "std      7.141062  \n",
       "min      1.730000  \n",
       "25%      6.950000  \n",
       "50%     11.360000  \n",
       "75%     16.955000  \n",
       "max     37.970000  "
      ]
     },
     "execution_count": 52,
     "metadata": {},
     "output_type": "execute_result"
    }
   ],
   "source": [
    "from sklearn.datasets import load_boston\n",
    "boston = load_boston()\n",
    "import pandas as pd\n",
    "data = pd.DataFrame(boston.data)\n",
    "data.columns = boston.feature_names\n",
    "data.describe()"
   ]
  },
  {
   "cell_type": "code",
   "execution_count": 53,
   "id": "ca76894a",
   "metadata": {},
   "outputs": [],
   "source": [
    "import xgboost as xgb\n",
    "from sklearn.metrics import mean_squared_error"
   ]
  },
  {
   "cell_type": "code",
   "execution_count": 54,
   "id": "ae28ac7a",
   "metadata": {},
   "outputs": [],
   "source": [
    "X, y = data.iloc[:,:-1],data.iloc[:,-1]\n",
    "# Convert the dataset into an optimized data structure called Dmatrix that XGBoost supports \n",
    "# and gives it acclaimed performance and efficiency gains.\n",
    "data_dmatrix = xgb.DMatrix(data=X,label=y)"
   ]
  },
  {
   "cell_type": "code",
   "execution_count": 55,
   "id": "33b12756",
   "metadata": {},
   "outputs": [],
   "source": [
    "from sklearn.model_selection import train_test_split\n",
    "X_train, X_test, y_train, y_test = train_test_split(X, y, test_size=0.2, random_state=123)"
   ]
  },
  {
   "cell_type": "markdown",
   "id": "472986f5",
   "metadata": {},
   "source": [
    "#### XGBoost's hyperparameters\n",
    "\n",
    "* `learning_rate`: step size shrinkage used to prevent overfitting. Range is [0,1]\n",
    "* `max_depth`: determines how deeply each tree is allowed to grow during any boosting round.\n",
    "* `subsample`: percentage of samples used per tree. Low value can lead to underfitting.\n",
    "* `colsample_bytree`: percentage of features used per tree. High value can lead to overfitting.\n",
    "* `n_estimators`: number of trees you want to build.\n",
    "* `objective`: determines the loss function to be used like `reg:linear` for regression problems, `reg:logistic` for classification problems with only decision, `binary:logistic` for classification problems with probability\n",
    "* `gamma`: controls whether a given node will split based on the expected reduction in loss after the split. A higher value leads to fewer splits. Supported only for tree-based learners.\n",
    "* `alpha`: L1 regularization on leaf weights. A large value leads to more regularization.\n",
    "* `lambda`: L2 regularization on leaf weights and is smoother than L1 regularization."
   ]
  },
  {
   "cell_type": "code",
   "execution_count": 57,
   "id": "e014d3f6",
   "metadata": {},
   "outputs": [],
   "source": [
    "xg_reg = xgb.XGBRegressor(objective ='reg:squarederror', colsample_bytree = 0.3, learning_rate = 0.1,\n",
    "                max_depth = 5, alpha = 10, n_estimators = 10)"
   ]
  },
  {
   "cell_type": "code",
   "execution_count": 58,
   "id": "ff75e320",
   "metadata": {},
   "outputs": [
    {
     "name": "stderr",
     "output_type": "stream",
     "text": [
      "C:\\Users\\rokhl\\anaconda3\\lib\\site-packages\\xgboost\\data.py:112: UserWarning: Use subset (sliced data) of np.ndarray is not recommended because it will generate extra copies and increase memory consumption\n",
      "  warnings.warn(\n"
     ]
    }
   ],
   "source": [
    "xg_reg.fit(X_train,y_train)\n",
    "preds = xg_reg.predict(X_test)"
   ]
  },
  {
   "cell_type": "code",
   "execution_count": 44,
   "id": "b097bb4d",
   "metadata": {},
   "outputs": [
    {
     "name": "stdout",
     "output_type": "stream",
     "text": [
      "RMSE: 6.455243\n"
     ]
    }
   ],
   "source": [
    "rmse = np.sqrt(mean_squared_error(y_test, preds))\n",
    "print(\"RMSE: %f\" % (rmse))"
   ]
  },
  {
   "cell_type": "markdown",
   "id": "735d6332",
   "metadata": {},
   "source": [
    "Cross-validation\n",
    "\n",
    "* `num_boost_round`: denotes the number of trees you build (analogous to `n_estimators`)\n",
    "* `metrics`: tells the evaluation metrics to be watched during CV\n",
    "* `as_pandas`: to return the results in a pandas DataFrame.\n",
    "* `early_stopping_rounds`: finishes training of the model early if the hold-out metric (\"rmse\" in our case) does not improve for a given number of rounds.\n",
    "* `seed`: for reproducibility of results."
   ]
  },
  {
   "cell_type": "code",
   "execution_count": 59,
   "id": "59a4100d",
   "metadata": {},
   "outputs": [],
   "source": [
    "params = {\"objective\":\"reg:squarederror\",'colsample_bytree': 0.3,'learning_rate': 0.1,\n",
    "                'max_depth': 5, 'alpha': 10}\n",
    "\n",
    "cv_results = xgb.cv(dtrain=data_dmatrix, params=params, nfold=3,\n",
    "                    num_boost_round=50,early_stopping_rounds=10,metrics=\"rmse\", as_pandas=True, seed=123)"
   ]
  },
  {
   "cell_type": "markdown",
   "id": "778e641d",
   "metadata": {},
   "source": [
    "cv_results contains train and test RMSE metrics for each boosting round"
   ]
  },
  {
   "cell_type": "code",
   "execution_count": 60,
   "id": "7b852238",
   "metadata": {},
   "outputs": [
    {
     "data": {
      "text/html": [
       "<div>\n",
       "<style scoped>\n",
       "    .dataframe tbody tr th:only-of-type {\n",
       "        vertical-align: middle;\n",
       "    }\n",
       "\n",
       "    .dataframe tbody tr th {\n",
       "        vertical-align: top;\n",
       "    }\n",
       "\n",
       "    .dataframe thead th {\n",
       "        text-align: right;\n",
       "    }\n",
       "</style>\n",
       "<table border=\"1\" class=\"dataframe\">\n",
       "  <thead>\n",
       "    <tr style=\"text-align: right;\">\n",
       "      <th></th>\n",
       "      <th>train-rmse-mean</th>\n",
       "      <th>train-rmse-std</th>\n",
       "      <th>test-rmse-mean</th>\n",
       "      <th>test-rmse-std</th>\n",
       "    </tr>\n",
       "  </thead>\n",
       "  <tbody>\n",
       "    <tr>\n",
       "      <th>0</th>\n",
       "      <td>12.902118</td>\n",
       "      <td>0.156682</td>\n",
       "      <td>12.933148</td>\n",
       "      <td>0.346260</td>\n",
       "    </tr>\n",
       "    <tr>\n",
       "      <th>1</th>\n",
       "      <td>11.845931</td>\n",
       "      <td>0.142842</td>\n",
       "      <td>11.874341</td>\n",
       "      <td>0.345186</td>\n",
       "    </tr>\n",
       "    <tr>\n",
       "      <th>2</th>\n",
       "      <td>10.888719</td>\n",
       "      <td>0.098074</td>\n",
       "      <td>10.928369</td>\n",
       "      <td>0.355489</td>\n",
       "    </tr>\n",
       "    <tr>\n",
       "      <th>3</th>\n",
       "      <td>10.036862</td>\n",
       "      <td>0.102325</td>\n",
       "      <td>10.106069</td>\n",
       "      <td>0.328625</td>\n",
       "    </tr>\n",
       "    <tr>\n",
       "      <th>4</th>\n",
       "      <td>9.282298</td>\n",
       "      <td>0.088875</td>\n",
       "      <td>9.368852</td>\n",
       "      <td>0.309637</td>\n",
       "    </tr>\n",
       "  </tbody>\n",
       "</table>\n",
       "</div>"
      ],
      "text/plain": [
       "   train-rmse-mean  train-rmse-std  test-rmse-mean  test-rmse-std\n",
       "0        12.902118        0.156682       12.933148       0.346260\n",
       "1        11.845931        0.142842       11.874341       0.345186\n",
       "2        10.888719        0.098074       10.928369       0.355489\n",
       "3        10.036862        0.102325       10.106069       0.328625\n",
       "4         9.282298        0.088875        9.368852       0.309637"
      ]
     },
     "execution_count": 60,
     "metadata": {},
     "output_type": "execute_result"
    }
   ],
   "source": [
    "cv_results.head()"
   ]
  },
  {
   "cell_type": "markdown",
   "id": "9999ddb7",
   "metadata": {},
   "source": [
    "Extract and print the final boosting round metric."
   ]
  },
  {
   "cell_type": "code",
   "execution_count": 66,
   "id": "6dcfce71",
   "metadata": {},
   "outputs": [
    {
     "name": "stdout",
     "output_type": "stream",
     "text": [
      "49    3.995269\n",
      "Name: test-rmse-mean, dtype: float64\n"
     ]
    }
   ],
   "source": [
    "print((cv_results[\"test-rmse-mean\"]).tail(1))"
   ]
  },
  {
   "cell_type": "code",
   "execution_count": 62,
   "id": "61ca6b69",
   "metadata": {},
   "outputs": [],
   "source": [
    "xg_reg = xgb.train(params=params, dtrain=data_dmatrix, num_boost_round=10)"
   ]
  },
  {
   "cell_type": "code",
   "execution_count": 63,
   "id": "bcab84b1",
   "metadata": {},
   "outputs": [],
   "source": [
    "# pip install graphviz"
   ]
  },
  {
   "cell_type": "code",
   "execution_count": 64,
   "id": "1c5903a8",
   "metadata": {},
   "outputs": [],
   "source": [
    "#import matplotlib.pyplot as plt\n",
    "\n",
    "#xgb.plot_tree(xg_reg,num_trees=0)\n",
    "#plt.rcParams['figure.figsize'] = [50, 10]\n",
    "#plt.show()"
   ]
  },
  {
   "cell_type": "markdown",
   "id": "71913912",
   "metadata": {},
   "source": [
    "Count the number of times each feature is split on across all boosting rounds (trees) in the model, and then visualizing the result as a bar graph, with the features ordered according to how many times they appear. XGBoost has a plot_importance() function that allows you to do exactly this."
   ]
  },
  {
   "cell_type": "code",
   "execution_count": 67,
   "id": "022d28dc",
   "metadata": {},
   "outputs": [
    {
     "data": {
      "image/png": "[encoded data removed]",
      "text/plain": [
       "<Figure size 360x360 with 1 Axes>"
      ]
     },
     "metadata": {
      "needs_background": "light"
     },
     "output_type": "display_data"
    }
   ],
   "source": [
    "xgb.plot_importance(xg_reg)\n",
    "plt.rcParams['figure.figsize'] = [5, 5]\n",
    "plt.show()"
   ]
  },
  {
   "cell_type": "markdown",
   "id": "72a3f920",
   "metadata": {},
   "source": [
    "AdaBoost classifier example from scikit-learn\n",
    "\n",
    "https://scikit-learn.org/stable/auto_examples/ensemble/plot_adaboost_twoclass.html?highlight=adaboost"
   ]
  },
  {
   "cell_type": "code",
   "execution_count": 69,
   "id": "ee395b45",
   "metadata": {},
   "outputs": [
    {
     "name": "stdout",
     "output_type": "stream",
     "text": [
      "Automatically created module for IPython interactive environment\n"
     ]
    },
    {
     "data": {
      "image/png": "[encoded data removed]",
      "text/plain": [
       "<Figure size 720x360 with 2 Axes>"
      ]
     },
     "metadata": {
      "needs_background": "light"
     },
     "output_type": "display_data"
    }
   ],
   "source": [
    "print(__doc__)\n",
    "\n",
    "# Author: Noel Dawe <noel.dawe@gmail.com>\n",
    "#\n",
    "# License: BSD 3 clause\n",
    "\n",
    "import numpy as np\n",
    "import matplotlib.pyplot as plt\n",
    "\n",
    "from sklearn.ensemble import AdaBoostClassifier\n",
    "from sklearn.tree import DecisionTreeClassifier\n",
    "from sklearn.datasets import make_gaussian_quantiles\n",
    "\n",
    "\n",
    "# Construct dataset\n",
    "X1, y1 = make_gaussian_quantiles(cov=2.,\n",
    "                                 n_samples=200, n_features=2,\n",
    "                                 n_classes=2, random_state=1)\n",
    "X2, y2 = make_gaussian_quantiles(mean=(3, 3), cov=1.5,\n",
    "                                 n_samples=300, n_features=2,\n",
    "                                 n_classes=2, random_state=1)\n",
    "X = np.concatenate((X1, X2))\n",
    "y = np.concatenate((y1, - y2 + 1))\n",
    "\n",
    "# Create and fit an AdaBoosted decision tree\n",
    "bdt = AdaBoostClassifier(DecisionTreeClassifier(max_depth=1),\n",
    "                         algorithm=\"SAMME\",\n",
    "                         n_estimators=200)\n",
    "\n",
    "bdt.fit(X, y)\n",
    "\n",
    "plot_colors = \"br\"\n",
    "plot_step = 0.02\n",
    "class_names = \"AB\"\n",
    "\n",
    "plt.figure(figsize=(10, 5))\n",
    "\n",
    "# Plot the decision boundaries\n",
    "plt.subplot(121)\n",
    "x_min, x_max = X[:, 0].min() - 1, X[:, 0].max() + 1\n",
    "y_min, y_max = X[:, 1].min() - 1, X[:, 1].max() + 1\n",
    "xx, yy = np.meshgrid(np.arange(x_min, x_max, plot_step),\n",
    "                     np.arange(y_min, y_max, plot_step))\n",
    "\n",
    "Z = bdt.predict(np.c_[xx.ravel(), yy.ravel()])\n",
    "Z = Z.reshape(xx.shape)\n",
    "cs = plt.contourf(xx, yy, Z, cmap=plt.cm.Paired)\n",
    "plt.axis(\"tight\")\n",
    "\n",
    "# Plot the training points\n",
    "for i, n, c in zip(range(2), class_names, plot_colors):\n",
    "    idx = np.where(y == i)\n",
    "    plt.scatter(X[idx, 0], X[idx, 1],\n",
    "                c=c, cmap=plt.cm.Paired,\n",
    "                s=20, edgecolor='k',\n",
    "                label=\"Class %s\" % n)\n",
    "plt.xlim(x_min, x_max)\n",
    "plt.ylim(y_min, y_max)\n",
    "plt.legend(loc='upper right')\n",
    "plt.xlabel('x')\n",
    "plt.ylabel('y')\n",
    "plt.title('Decision Boundary')\n",
    "\n",
    "# Plot the two-class decision scores\n",
    "twoclass_output = bdt.decision_function(X)\n",
    "plot_range = (twoclass_output.min(), twoclass_output.max())\n",
    "plt.subplot(122)\n",
    "for i, n, c in zip(range(2), class_names, plot_colors):\n",
    "    plt.hist(twoclass_output[y == i],\n",
    "             bins=10,\n",
    "             range=plot_range,\n",
    "             facecolor=c,\n",
    "             label='Class %s' % n,\n",
    "             alpha=.5,\n",
    "             edgecolor='k')\n",
    "x1, x2, y1, y2 = plt.axis()\n",
    "plt.axis((x1, x2, y1, y2 * 1.2))\n",
    "plt.legend(loc='upper right')\n",
    "plt.ylabel('Samples')\n",
    "plt.xlabel('Score')\n",
    "plt.title('Decision Scores')\n",
    "\n",
    "plt.tight_layout()\n",
    "plt.subplots_adjust(wspace=0.35)\n",
    "plt.show()"
   ]
  },
  {
   "cell_type": "code",
   "execution_count": 70,
   "id": "e95f6ae5",
   "metadata": {},
   "outputs": [
    {
     "ename": "NameError",
     "evalue": "name 'visualize_2d' is not defined",
     "output_type": "error",
     "traceback": [
      "\u001b[1;31m---------------------------------------------------------------------------\u001b[0m",
      "\u001b[1;31mNameError\u001b[0m                                 Traceback (most recent call last)",
      "\u001b[1;32m<ipython-input-70-7946601ac342>\u001b[0m in \u001b[0;36m<module>\u001b[1;34m\u001b[0m\n\u001b[0;32m      5\u001b[0m \u001b[0mX1\u001b[0m \u001b[1;33m=\u001b[0m \u001b[0mpd\u001b[0m\u001b[1;33m.\u001b[0m\u001b[0mDataFrame\u001b[0m\u001b[1;33m(\u001b[0m\u001b[0mX1\u001b[0m\u001b[1;33m,\u001b[0m\u001b[0mcolumns\u001b[0m\u001b[1;33m=\u001b[0m\u001b[1;33m[\u001b[0m\u001b[1;34m'x'\u001b[0m\u001b[1;33m,\u001b[0m\u001b[1;34m'y'\u001b[0m\u001b[1;33m]\u001b[0m\u001b[1;33m)\u001b[0m\u001b[1;33m\u001b[0m\u001b[1;33m\u001b[0m\u001b[0m\n\u001b[0;32m      6\u001b[0m \u001b[0my1\u001b[0m \u001b[1;33m=\u001b[0m \u001b[0mpd\u001b[0m\u001b[1;33m.\u001b[0m\u001b[0mSeries\u001b[0m\u001b[1;33m(\u001b[0m\u001b[0my1\u001b[0m\u001b[1;33m)\u001b[0m\u001b[1;33m\u001b[0m\u001b[1;33m\u001b[0m\u001b[0m\n\u001b[1;32m----> 7\u001b[1;33m \u001b[0mvisualize_2d\u001b[0m\u001b[1;33m(\u001b[0m\u001b[0mX1\u001b[0m\u001b[1;33m,\u001b[0m\u001b[0my1\u001b[0m\u001b[1;33m)\u001b[0m\u001b[1;33m\u001b[0m\u001b[1;33m\u001b[0m\u001b[0m\n\u001b[0m",
      "\u001b[1;31mNameError\u001b[0m: name 'visualize_2d' is not defined"
     ]
    }
   ],
   "source": [
    "from sklearn.datasets import make_gaussian_quantiles# Construct dataset\n",
    "X1, y1 = make_gaussian_quantiles(cov=3.,\n",
    "                                 n_samples=10000, n_features=2,\n",
    "                                 n_classes=2, random_state=1)\n",
    "X1 = pd.DataFrame(X1,columns=['x','y'])\n",
    "y1 = pd.Series(y1)\n",
    "visualize_2d(X1,y1)"
   ]
  },
  {
   "cell_type": "code",
   "execution_count": null,
   "id": "5507a622",
   "metadata": {},
   "outputs": [],
   "source": []
  }
 ],
 "metadata": {
  "kernelspec": {
   "display_name": "Python 3",
   "language": "python",
   "name": "python3"
  },
  "language_info": {
   "codemirror_mode": {
    "name": "ipython",
    "version": 3
   },
   "file_extension": ".py",
   "mimetype": "text/x-python",
   "name": "python",
   "nbconvert_exporter": "python",
   "pygments_lexer": "ipython3",
   "version": "3.8.8"
  }
 },
 "nbformat": 4,
 "nbformat_minor": 5
}
