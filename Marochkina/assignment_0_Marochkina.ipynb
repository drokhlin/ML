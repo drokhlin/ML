{
 "cells": [
  {
   "cell_type": "markdown",
   "source": [
    "**Split this string:**\r\n",
    "\r\n",
    "s = \"Curiosity killed the cat.\"\r\n",
    "\r\n",
    "**into a list.**"
   ],
   "metadata": {}
  },
  {
   "cell_type": "code",
   "execution_count": 2,
   "source": [
    "s = \"Curiosity killed the cat.\"\r\n",
    "print(s.split())\r\n"
   ],
   "outputs": [
    {
     "output_type": "stream",
     "name": "stdout",
     "text": [
      "['Curiosity', 'killed', 'the', 'cat.']\n"
     ]
    }
   ],
   "metadata": {}
  },
  {
   "cell_type": "markdown",
   "source": [
    "**Given the variables:**\r\n",
    "\r\n",
    "    country = \"Russia\"\r\n",
    "    population = 147\r\n",
    "\r\n",
    "**Use .format() to print the following string:**\r\n",
    "\r\n",
    "    The number of citizen in Russia is approximately 147 millions."
   ],
   "metadata": {}
  },
  {
   "cell_type": "code",
   "execution_count": 7,
   "source": [
    "country = \"Russia\"\r\n",
    "population = 147\r\n",
    "print(\"The number of citizen in {0} is approximately {1} millions.\".format(country, population))\r\n",
    "print(\"The number of citizen in {} is approximately {} millions.\".format(country, population))"
   ],
   "outputs": [
    {
     "output_type": "stream",
     "name": "stdout",
     "text": [
      "The number of citizen in Russia is approximately 147 millions.\n",
      "The number of citizen in Russia is approximately 147 millions.\n"
     ]
    }
   ],
   "metadata": {}
  },
  {
   "cell_type": "markdown",
   "source": [
    "**Given this nested list, use indexing to get the word \"hidden\"**"
   ],
   "metadata": {}
  },
  {
   "cell_type": "code",
   "execution_count": null,
   "source": [
    "lst = [1,2,[3,4],[5,[100,200,['hidden']],23,11],1,7]"
   ],
   "outputs": [],
   "metadata": {}
  },
  {
   "cell_type": "code",
   "execution_count": null,
   "source": [
    "lst[3][1][2][0]"
   ],
   "outputs": [
    {
     "output_type": "execute_result",
     "data": {
      "text/plain": [
       "'hidden'"
      ]
     },
     "metadata": {},
     "execution_count": 15
    }
   ],
   "metadata": {}
  },
  {
   "cell_type": "markdown",
   "source": [
    "**Create a function that grabs the domain name from a string in the form:**\r\n",
    "\r\n",
    "    nobody@sfedu.ru\r\n",
    "    \r\n",
    "**So for example, passing \"nobody@sfedu.ru\" would return: sfedu.ru**"
   ],
   "metadata": {}
  },
  {
   "cell_type": "code",
   "execution_count": 9,
   "source": [
    "def GrabDomainName(s: str)->str:\r\n",
    "    return s[s.rfind('@')+1:]\r\n",
    "\r\n",
    "print(GrabDomainName('nobody@sfedu.ru'))"
   ],
   "outputs": [
    {
     "output_type": "stream",
     "name": "stdout",
     "text": [
      "sfedu.ru\n"
     ]
    }
   ],
   "metadata": {}
  },
  {
   "cell_type": "markdown",
   "source": [
    "**Create a function that returns `True` if the word 'cat' (lowercase) is contained in the input string.**"
   ],
   "metadata": {}
  },
  {
   "cell_type": "code",
   "execution_count": 11,
   "source": [
    "def TFC_IsCat(s: str)->bool:\r\n",
    "    if s.find('cat')!=-1:\r\n",
    "        return True\r\n",
    "    return False"
   ],
   "outputs": [],
   "metadata": {}
  },
  {
   "cell_type": "code",
   "execution_count": 13,
   "source": [
    "print(TFC_IsCat('fwefwefw'))\r\n",
    "print(TFC_IsCat('adkfcatdgg.'))\r\n",
    "print(TFC_IsCat('casdfedsyt'))\r\n",
    "print(TFC_IsCat('CATfsdgasfg'))\r\n",
    "\r\n"
   ],
   "outputs": [
    {
     "output_type": "stream",
     "name": "stdout",
     "text": [
      "False\n",
      "True\n",
      "False\n",
      "False\n"
     ]
    }
   ],
   "metadata": {}
  },
  {
   "cell_type": "markdown",
   "source": [
    "**Create a function that counts the number of times the word \"cat\" occurs in a string. You can use text without punctuation.**"
   ],
   "metadata": {}
  },
  {
   "cell_type": "code",
   "execution_count": 16,
   "source": [
    "def CountSubstring(s: str)->int:\r\n",
    "    return s.count('cat')\r\n"
   ],
   "outputs": [],
   "metadata": {}
  },
  {
   "cell_type": "code",
   "execution_count": 17,
   "source": [
    "print(CountSubstring('fhjfv cat dfkdjfcat skcasdc cat cat cat'))"
   ],
   "outputs": [
    {
     "output_type": "stream",
     "name": "stdout",
     "text": [
      "5\n"
     ]
    }
   ],
   "metadata": {}
  },
  {
   "cell_type": "markdown",
   "source": [
    "**Given a list `a`, containing integers, transform it to a new list `b`, containing all elements, that are lower, than 5.** Try to do it in one line, using the *list comprehension*. A list comprehension behaves like this: \r\n",
    "\r\n",
    "`[[output] for [item] in [list] if [filter]]`."
   ],
   "metadata": {}
  },
  {
   "cell_type": "code",
   "execution_count": 21,
   "source": [
    "a = [16, 3, 1, -3, 5, 8, 13, 21, 4, 55, 89]\r\n",
    "\r\n",
    "b = [el for el in a if el<5]\r\n",
    "\r\n",
    "print(b)"
   ],
   "outputs": [
    {
     "output_type": "stream",
     "name": "stdout",
     "text": [
      "[3, 1, -3, 4]\n"
     ]
    }
   ],
   "metadata": {}
  },
  {
   "cell_type": "markdown",
   "source": [
    "**Generate a string (password), containing 3 digits and 3 lower case letters in random order (the symbols need not be different).** Hint:\r\n",
    "1. Import `random` and `string modules`.\r\n",
    "2. Use `random.sample` to generate 3 digits from the string `string.digits` and write them to the list `password`.\r\n",
    "3. Use `random.sample` to generate 3 letters from the string `string.ascii_lowercase` and extend the list `password`.\r\n",
    "4. Shuffle `password` with `random.shuffle`.\r\n",
    "5. Use `join` to convert `password` to a string."
   ],
   "metadata": {}
  },
  {
   "cell_type": "code",
   "execution_count": 38,
   "source": [
    "import random\r\n",
    "import string\r\n",
    "\r\n",
    "random_digits = random.sample(string.digits, 3)\r\n",
    "random_letters = random.sample(string.ascii_lowercase,3)\r\n",
    "password = random_digits + random_letters\r\n",
    "random.shuffle(password)\r\n",
    "print(''.join(password))\r\n"
   ],
   "outputs": [
    {
     "output_type": "stream",
     "name": "stdout",
     "text": [
      "3gj64b\n"
     ]
    }
   ],
   "metadata": {}
  },
  {
   "cell_type": "markdown",
   "source": [
    "**In one experiment 6-sided dice is rolled $r$ times.  Use `random.sample` to obtain the sum of points. Write the related function which has one keyword argument - the number of rolls: `def dice_sum(r=3)`.**"
   ],
   "metadata": {}
  },
  {
   "cell_type": "code",
   "execution_count": 39,
   "source": [
    "import random\r\n",
    "\r\n",
    "def dice_sum(r: int)->int:\r\n",
    "    sum_points = 0\r\n",
    "    for i in range(r):\r\n",
    "        sum_points += random.sample(range(1,7),1)[0]\r\n",
    "    return sum_points\r\n"
   ],
   "outputs": [],
   "metadata": {}
  },
  {
   "cell_type": "code",
   "execution_count": 41,
   "source": [
    "print(dice_sum(4))\r\n",
    "print(dice_sum(10))"
   ],
   "outputs": [
    {
     "output_type": "stream",
     "name": "stdout",
     "text": [
      "14\n",
      "41\n"
     ]
    }
   ],
   "metadata": {}
  },
  {
   "cell_type": "markdown",
   "source": [
    "**For $r=3$ let $s$ be the number of points in one experiment. Consider a very large number of experiments. Obtain the frequences of the events $s=11$ and $s=12$. Which value is larger?**"
   ],
   "metadata": {}
  },
  {
   "cell_type": "code",
   "execution_count": null,
   "source": [
    "n=100000\r\n",
    "\r\n",
    "res = [dice_sum(3) for i in range(n)]\r\n",
    "n_11 = res.count(11)\r\n",
    "n_12 = res.count(12)\r\n",
    "\r\n",
    "\r\n",
    "print('n_11={a:5.4f}; n_12={b:5.4f}'.format(a=n_11/n,b=n_12/n))  "
   ],
   "outputs": [
    {
     "output_type": "stream",
     "name": "stdout",
     "text": [
      "n_11=0.1232; n_12=0.1165\n"
     ]
    }
   ],
   "metadata": {}
  },
  {
   "cell_type": "markdown",
   "source": [
    "**Write the class point, which should have two attributes: x and y coordinates and two methods:** \r\n",
    "1. `move`, which get a tuple or a list $z$ and shifts the point: $(x,y)\\mapsto (x,y)+(z[0],z[1])$. \r\n",
    "2. `distance`, which computes the Euclidian distance from the point $(x,y)$ to a given point $z=(z[0],z[1])$.\r\n",
    "Make two instance of thic class, move one of them to $(3,4)$, and another to $(1,2)$ and compute the distance between them, using the methods `move` and `distance`."
   ],
   "metadata": {}
  },
  {
   "cell_type": "code",
   "execution_count": 42,
   "source": [
    "import math\r\n",
    "class point():\r\n",
    "    def __init__(self):\r\n",
    "        self.x = 0\r\n",
    "        self.y = 0\r\n",
    "\r\n",
    "    def move(self, xy):\r\n",
    "        self.x = xy[0]\r\n",
    "        self.y = xy[1]\r\n",
    "\r\n",
    "    def distance(self, xy):\r\n",
    "        return math.sqrt(math.pow(self.x-xy[0],2)+math.pow(self.y-xy[1],2))"
   ],
   "outputs": [],
   "metadata": {}
  },
  {
   "cell_type": "code",
   "execution_count": 43,
   "source": [
    "Y=point()\r\n",
    "Z=point()\r\n",
    "Y.move([3,4])\r\n",
    "Z.move([1,2])\r\n",
    "import math\r\n",
    "Y.distance([Z.x,Z.y])"
   ],
   "outputs": [
    {
     "output_type": "execute_result",
     "data": {
      "text/plain": [
       "2.8284271247461903"
      ]
     },
     "metadata": {},
     "execution_count": 43
    }
   ],
   "metadata": {}
  }
 ],
 "metadata": {
  "kernelspec": {
   "name": "python3",
   "display_name": "Python 3.9.0 64-bit"
  },
  "language_info": {
   "codemirror_mode": {
    "name": "ipython",
    "version": 3
   },
   "file_extension": ".py",
   "mimetype": "text/x-python",
   "name": "python",
   "nbconvert_exporter": "python",
   "pygments_lexer": "ipython3",
   "version": "3.9.0"
  },
  "interpreter": {
   "hash": "63fd5069d213b44bf678585dea6b12cceca9941eaf7f819626cde1f2670de90d"
  }
 },
 "nbformat": 4,
 "nbformat_minor": 2
}