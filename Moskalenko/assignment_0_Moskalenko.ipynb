{
 "cells": [
  {
   "cell_type": "markdown",
   "metadata": {},
   "source": [
    "**Split this string:**\n",
    "\n",
    "s = \"Curiosity killed the cat.\"\n",
    "\n",
    "**into a list.**"
   ]
  },
  {
   "cell_type": "code",
   "execution_count": 24,
   "metadata": {},
   "outputs": [],
   "source": [
    "s = \"Curiosity killed the cat.\""
   ]
  },
  {
   "cell_type": "code",
   "execution_count": 25,
   "metadata": {},
   "outputs": [
    {
     "name": "stdout",
     "output_type": "stream",
     "text": [
      "['Curiosity', 'killed', 'the', 'cat.']\n"
     ]
    }
   ],
   "source": [
    "print(s.split())"
   ]
  },
  {
   "cell_type": "markdown",
   "metadata": {},
   "source": [
    "**Given the variables:**\n",
    "\n",
    "    country = \"Russia\"\n",
    "    population = 147\n",
    "\n",
    "**Use .format() to print the following string:**\n",
    "\n",
    "    The number of citizen in Russia is approximately 147 millions."
   ]
  },
  {
   "cell_type": "code",
   "execution_count": 58,
   "metadata": {},
   "outputs": [
    {
     "name": "stdout",
     "output_type": "stream",
     "text": [
      "The number of citizen in Russia is approximately 147 millions.\n"
     ]
    }
   ],
   "source": [
    "country = 'Russia'\n",
    "population = 147\n",
    "print(\"The number of citizen in {} is approximately {} millions.\".format(country,population))"
   ]
  },
  {
   "cell_type": "markdown",
   "metadata": {},
   "source": [
    "**Given this nested list, use indexing to get the word \"hidden\"**"
   ]
  },
  {
   "cell_type": "code",
   "execution_count": 22,
   "metadata": {},
   "outputs": [],
   "source": [
    "lst = [1,2,[3,4],[5,[100,200,['hidden']],23,11],1,7]"
   ]
  },
  {
   "cell_type": "code",
   "execution_count": 23,
   "metadata": {},
   "outputs": [
    {
     "name": "stdout",
     "output_type": "stream",
     "text": [
      "hidden\n"
     ]
    }
   ],
   "source": [
    "print(*lst[3][1][2])"
   ]
  },
  {
   "cell_type": "markdown",
   "metadata": {},
   "source": [
    "**Create a function that grabs the domain name from a string in the form:**\n",
    "\n",
    "    nobody@sfedu.ru\n",
    "    \n",
    "**So for example, passing \"nobody@sfedu.ru\" would return: sfedu.ru**"
   ]
  },
  {
   "cell_type": "code",
   "execution_count": 30,
   "metadata": {},
   "outputs": [
    {
     "data": {
      "text/plain": [
       "'sfedu.ru'"
      ]
     },
     "execution_count": 30,
     "metadata": {},
     "output_type": "execute_result"
    }
   ],
   "source": [
    "def domainGet(x):\n",
    "    return(x.split('@')[1])\n",
    "\n",
    "domainGet('nobody@sfedu.ru')"
   ]
  },
  {
   "cell_type": "markdown",
   "metadata": {},
   "source": [
    "**Create a function that returns `True` if the word 'cat' (lowercase) is contained in the input string.**"
   ]
  },
  {
   "cell_type": "code",
   "execution_count": 8,
   "metadata": {},
   "outputs": [],
   "source": [
    "def find_cat(x):\n",
    "    return ('cat' in x.lower())"
   ]
  },
  {
   "cell_type": "code",
   "execution_count": 9,
   "metadata": {},
   "outputs": [
    {
     "name": "stdout",
     "output_type": "stream",
     "text": [
      "True\n",
      "False\n",
      "False\n"
     ]
    }
   ],
   "source": [
    "print(find_cat('fCat'))\n",
    "print(find_cat('fDog'))\n",
    "print(find_cat('Black_dog.'))"
   ]
  },
  {
   "cell_type": "markdown",
   "metadata": {},
   "source": [
    "**Create a function that counts the number of times the word \"cat\" occurs in a string. You can use text without punctuation.**"
   ]
  },
  {
   "cell_type": "code",
   "execution_count": 10,
   "metadata": {},
   "outputs": [],
   "source": [
    "def count_cat(x):\n",
    "    return(x.count('cat'))\n",
    "\n",
    "\n"
   ]
  },
  {
   "cell_type": "code",
   "execution_count": 11,
   "metadata": {},
   "outputs": [
    {
     "data": {
      "text/plain": [
       "2"
      ]
     },
     "execution_count": 11,
     "metadata": {},
     "output_type": "execute_result"
    }
   ],
   "source": [
    "count_cat('Black cat runs faster than the white cat')"
   ]
  },
  {
   "cell_type": "markdown",
   "metadata": {},
   "source": [
    "**Given a list `a`, containing integers, transform it to a new list `b`, containing all elements, that are lower, than 5.** Try to do it in one line, using the *list comprehension*. A list comprehension behaves like this: \n",
    "\n",
    "`[[output] for [item] in [list] if [filter]]`."
   ]
  },
  {
   "cell_type": "code",
   "execution_count": 17,
   "metadata": {},
   "outputs": [
    {
     "name": "stdout",
     "output_type": "stream",
     "text": [
      "[3, 1, -3, 4]\n"
     ]
    }
   ],
   "source": [
    "a = [16, 3, 1, -3, 5, 8, 13, 21, 4, 55, 89]\n",
    "b = [i for i in a if i <5]\n",
    "print(b)\n",
    "\n"
   ]
  },
  {
   "cell_type": "markdown",
   "metadata": {},
   "source": [
    "**Generate a string (password), containing 3 digits and 3 lower case letters in random order (the symbols need not be different).** Hint:\n",
    "1. Import `random` and `string modules`.\n",
    "2. Use `random.sample` to generate 3 digits from the string `string.digits` and write them to the list `password`.\n",
    "3. Use `random.sample` to generate 3 letters from the string `string.ascii_lowercase` and extend the list `password`.\n",
    "4. Shuffle `password` with `random.shuffle`.\n",
    "5. Use `join` to convert `password` to a string."
   ]
  },
  {
   "cell_type": "code",
   "execution_count": 18,
   "metadata": {},
   "outputs": [
    {
     "name": "stdout",
     "output_type": "stream",
     "text": [
      "j243sn\n"
     ]
    }
   ],
   "source": [
    "import random\n",
    "import string\n",
    "password = (random.sample(string.digits,3))\n",
    "password += (random.sample(string.ascii_lowercase,3))\n",
    "random.shuffle(password)\n",
    "print(''.join(password))\n",
    "\n",
    "\n",
    "\n",
    "\n",
    "\n"
   ]
  },
  {
   "cell_type": "markdown",
   "metadata": {},
   "source": [
    "**In one experiment 6-sided dice is rolled $r$ times.  Use `random.sample` to obtain the sum of points. Write the related function which has one keyword argument - the number of rolls: `def dice_sum(r=3)`.**"
   ]
  },
  {
   "cell_type": "code",
   "execution_count": 19,
   "metadata": {},
   "outputs": [
    {
     "data": {
      "text/plain": [
       "7"
      ]
     },
     "execution_count": 19,
     "metadata": {},
     "output_type": "execute_result"
    }
   ],
   "source": [
    "import random\n",
    "def dice_sum(r=3):\n",
    "    sum = 0\n",
    "    for i in range(r):\n",
    "        point = random.sample([1,2,3,4,5,6],1)\n",
    "        sum = sum + point[0]\n",
    "    return sum\n",
    "\n",
    "dice_sum()\n",
    "\n"
   ]
  },
  {
   "cell_type": "code",
   "execution_count": 20,
   "metadata": {},
   "outputs": [
    {
     "data": {
      "text/plain": [
       "3442"
      ]
     },
     "execution_count": 20,
     "metadata": {},
     "output_type": "execute_result"
    }
   ],
   "source": [
    "dice_sum(1000)"
   ]
  },
  {
   "cell_type": "markdown",
   "metadata": {},
   "source": [
    "**For $r=3$ let $s$ be the nuber of points in one experiment. Consider a very large number of experiments. Obtain the frequences of the events $s=11$ and $s=12$. Which value is larger?**"
   ]
  },
  {
   "cell_type": "code",
   "execution_count": 21,
   "metadata": {},
   "outputs": [
    {
     "name": "stdout",
     "output_type": "stream",
     "text": [
      "n_11=0.1240; n_12=0.1144\n"
     ]
    }
   ],
   "source": [
    "n=100000\n",
    "n_11 = 0\n",
    "n_12 = 0\n",
    "for i in range(n):\n",
    "    a = dice_sum()\n",
    "    if a == 11:\n",
    "        n_11 = n_11+1\n",
    "    if a == 12:\n",
    "        n_12 = n_12+1\n",
    "    \n",
    "print('n_11={a:5.4f}; n_12={b:5.4f}'.format(a=n_11/n,b=n_12/n))  "
   ]
  },
  {
   "cell_type": "markdown",
   "metadata": {},
   "source": [
    "**Write the class point, which should have two attributes: x and y coordinates and two methods:** \n",
    "1. `move`, which get a tuple or a list $z$ and shifts the point: $(x,y)\\mapsto (x,y)+(z[0],z[1])$. \n",
    "2. `distance`, which computes the Euclidian distance from the point $(x,y)$ to a given point $z=(z[0],z[1])$.\n",
    "Make two instance of thic class, move one of them to $(3,4)$, and another to $(1,2)$ and compute the distance between them, using the methods `move` and `distance`."
   ]
  },
  {
   "cell_type": "code",
   "execution_count": 15,
   "metadata": {},
   "outputs": [],
   "source": [
    "class point():\n",
    "    def __init__(self):\n",
    "        self.x = 0\n",
    "        self.y = 0\n",
    "        \n",
    "    def move(self,z):\n",
    "        self.x = self.x+z[0]\n",
    "        self.y = self.y+z[1]\n",
    "    \n",
    "    def distance(self,z):\n",
    "        return ((self.x-z[0])**2+(self.y-z[1])**2)**(1/2)\n",
    "\n"
   ]
  },
  {
   "cell_type": "code",
   "execution_count": 16,
   "metadata": {},
   "outputs": [
    {
     "data": {
      "text/plain": [
       "2.8284271247461903"
      ]
     },
     "execution_count": 16,
     "metadata": {},
     "output_type": "execute_result"
    }
   ],
   "source": [
    "Y=point()\n",
    "Z=point()\n",
    "Y.move([3,4])\n",
    "Z.move([1,2])\n",
    "import math\n",
    "Y.distance([Z.x,Z.y])"
   ]
  },
  {
   "cell_type": "code",
   "execution_count": null,
   "metadata": {},
   "outputs": [],
   "source": []
  }
 ],
 "metadata": {
  "kernelspec": {
   "display_name": "Python 3",
   "language": "python",
   "name": "python3"
  },
  "language_info": {
   "codemirror_mode": {
    "name": "ipython",
    "version": 3
   },
   "file_extension": ".py",
   "mimetype": "text/x-python",
   "name": "python",
   "nbconvert_exporter": "python",
   "pygments_lexer": "ipython3",
   "version": "3.8.8"
  }
 },
 "nbformat": 4,
 "nbformat_minor": 4
}
