{
 "cells": [
  {
   "cell_type": "code",
   "execution_count": 228,
   "metadata": {},
   "outputs": [],
   "source": [
    "import numpy as np"
   ]
  },
  {
   "cell_type": "markdown",
   "metadata": {},
   "source": [
    "1. Put $m=5$ and create an $m\\times m$-marix $A$ and $m$-dimensional vector $b$ with random entries. Use standard normal distribution and random seed 42: `np.random.seed(42)`. Print $A$ and $b$."
   ]
  },
  {
   "cell_type": "code",
   "execution_count": 229,
   "metadata": {},
   "outputs": [
    {
     "name": "stdout",
     "output_type": "stream",
     "text": [
      "A =  [[0.37454012 0.95071431 0.73199394 0.59865848 0.15601864]\n",
      " [0.15599452 0.05808361 0.86617615 0.60111501 0.70807258]\n",
      " [0.02058449 0.96990985 0.83244264 0.21233911 0.18182497]\n",
      " [0.18340451 0.30424224 0.52475643 0.43194502 0.29122914]\n",
      " [0.61185289 0.13949386 0.29214465 0.36636184 0.45606998]]\n",
      "b =  [0.78517596 0.19967378 0.51423444 0.59241457 0.04645041]\n"
     ]
    }
   ],
   "source": [
    "# CODE HERE\n",
    "m = 5\n",
    "np.random.seed(42)\n",
    "A = np.random.rand(m,m)\n",
    "b = np.random.rand(m)\n",
    "print('A = ',A)\n",
    "print('b = ',b)"
   ]
  },
  {
   "cell_type": "code",
   "execution_count": 39,
   "metadata": {},
   "outputs": [],
   "source": [
    "# DON'T WRITE HERE\n",
    "np.random.seed(42)\n"
   ]
  },
  {
   "cell_type": "markdown",
   "metadata": {},
   "source": [
    "2. Print the dimensions of $A$, $b$, using `np.shape`."
   ]
  },
  {
   "cell_type": "code",
   "execution_count": 230,
   "metadata": {},
   "outputs": [
    {
     "name": "stdout",
     "output_type": "stream",
     "text": [
      "(5, 5)\n",
      "(5,)\n"
     ]
    }
   ],
   "source": [
    "# CODE HERE\n",
    "print(np.shape(A))\n",
    "print(np.shape(b))"
   ]
  },
  {
   "cell_type": "code",
   "execution_count": 5,
   "metadata": {},
   "outputs": [
    {
     "name": "stdout",
     "output_type": "stream",
     "text": [
      "(5, 5) (5,)\n"
     ]
    }
   ],
   "source": [
    "# DON'T WRITE HERE\n"
   ]
  },
  {
   "cell_type": "markdown",
   "metadata": {},
   "source": [
    "3. Solve the linear system of equations $Ax=b$ and print the result. Use `np.linalg.solve`."
   ]
  },
  {
   "cell_type": "code",
   "execution_count": 231,
   "metadata": {},
   "outputs": [
    {
     "name": "stdout",
     "output_type": "stream",
     "text": [
      "[-226.17808981  218.48756735 -362.56506531  147.90541493  350.14590691]\n"
     ]
    }
   ],
   "source": [
    "# CODE HERE\n",
    "x = np.linalg.solve(A,b)\n",
    "print(x)"
   ]
  },
  {
   "cell_type": "code",
   "execution_count": 7,
   "metadata": {},
   "outputs": [
    {
     "data": {
      "text/plain": [
       "array([ 0.33950798,  1.86215687, -2.9397798 ,  1.01930545, -2.35479429])"
      ]
     },
     "execution_count": 7,
     "metadata": {},
     "output_type": "execute_result"
    }
   ],
   "source": [
    "# DON'T WRITE HERE\n"
   ]
  },
  {
   "cell_type": "markdown",
   "metadata": {},
   "source": [
    "4. Find the transpose matrix $A^T$ and the inverse matrix $A^{-1}$."
   ]
  },
  {
   "cell_type": "code",
   "execution_count": 232,
   "metadata": {},
   "outputs": [
    {
     "name": "stdout",
     "output_type": "stream",
     "text": [
      "A_transpose = \n",
      "[[0.37454012 0.15599452 0.02058449 0.18340451 0.61185289]\n",
      " [0.95071431 0.05808361 0.96990985 0.30424224 0.13949386]\n",
      " [0.73199394 0.86617615 0.83244264 0.52475643 0.29214465]\n",
      " [0.59865848 0.60111501 0.21233911 0.43194502 0.36636184]\n",
      " [0.15601864 0.70807258 0.18182497 0.29122914 0.45606998]]\n"
     ]
    }
   ],
   "source": [
    "# CODE HERE\n",
    "A1 = np.transpose(A)\n",
    "print('A_transpose = ')\n",
    "print(A1)"
   ]
  },
  {
   "cell_type": "code",
   "execution_count": 9,
   "metadata": {},
   "outputs": [
    {
     "data": {
      "text/plain": [
       "array([[ 0.49671415, -0.23413696, -0.46341769, -0.56228753,  1.46564877],\n",
       "       [-0.1382643 ,  1.57921282, -0.46572975, -1.01283112, -0.2257763 ],\n",
       "       [ 0.64768854,  0.76743473,  0.24196227,  0.31424733,  0.0675282 ],\n",
       "       [ 1.52302986, -0.46947439, -1.91328024, -0.90802408, -1.42474819],\n",
       "       [-0.23415337,  0.54256004, -1.72491783, -1.4123037 , -0.54438272]])"
      ]
     },
     "execution_count": 9,
     "metadata": {},
     "output_type": "execute_result"
    }
   ],
   "source": [
    "# DON'T WRITE HERE\n"
   ]
  },
  {
   "cell_type": "code",
   "execution_count": 233,
   "metadata": {},
   "outputs": [
    {
     "name": "stdout",
     "output_type": "stream",
     "text": [
      "A_inverse = \n",
      "[[  364.60350483   334.16789204   -91.41631021  -895.54602541\n",
      "    -35.23406016]\n",
      " [ -351.86538626  -323.93604372    89.07808984   864.20754679\n",
      "     35.93471989]\n",
      " [  584.80763977   538.00659297  -146.16417479 -1436.8998493\n",
      "    -59.51982157]\n",
      " [ -234.80558669  -217.08098236    57.15090649   582.66687482\n",
      "     22.50116178]\n",
      " [ -567.51216365  -519.48181002   143.11544206  1389.49392418\n",
      "     58.52220068]]\n"
     ]
    }
   ],
   "source": [
    "# CODE HERE\n",
    "A2 = np.linalg.inv(A)\n",
    "print('A_inverse = ')\n",
    "print(A2)"
   ]
  },
  {
   "cell_type": "code",
   "execution_count": 11,
   "metadata": {},
   "outputs": [
    {
     "data": {
      "text/plain": [
       "array([[ 0.27160427, -0.13802315,  0.1068986 , -0.40131296,  0.44803328],\n",
       "       [ 0.43517254, -0.07793672,  1.47897661, -1.76590496, -0.36977934],\n",
       "       [ 0.00734044,  0.90858841, -1.49597684,  2.00568236,  0.43912026],\n",
       "       [ 0.49145763, -0.27331144,  0.46849253, -0.64008524, -0.30765249],\n",
       "       [-0.734562  ,  0.48873361, -1.7372825 ,  1.57594284,  0.38231772]])"
      ]
     },
     "execution_count": 11,
     "metadata": {},
     "output_type": "execute_result"
    }
   ],
   "source": [
    "# DON'T WRITE HERE\n"
   ]
  },
  {
   "cell_type": "markdown",
   "metadata": {},
   "source": [
    "5. Choose an elementary function ($exp$, $sin$, etc.), apply it elementwise to $A$ and print the result."
   ]
  },
  {
   "cell_type": "code",
   "execution_count": 234,
   "metadata": {},
   "outputs": [
    {
     "name": "stdout",
     "output_type": "stream",
     "text": [
      "[[1.45432245 2.58755731 2.07922233 1.81967604 1.16884799]\n",
      " [1.1688198  1.0598036  2.37780108 1.82415162 2.03007467]\n",
      " [1.02079782 2.63770667 2.29892734 1.23656715 1.19940424]\n",
      " [1.20130025 1.3555974  1.69004716 1.54025043 1.33807115]\n",
      " [1.84384469 1.14969175 1.33929673 1.4424771  1.57786077]]\n",
      "\n",
      "[[0.36584457 0.8138308  0.66835414 0.56353476 0.15538645]\n",
      " [0.15536262 0.05805096 0.76185763 0.56556238 0.65037088]\n",
      " [0.02058304 0.82483475 0.73957765 0.21074705 0.18082476]\n",
      " [0.18237803 0.2995703  0.50100222 0.41863797 0.28712982]\n",
      " [0.5743852  0.13904191 0.28800666 0.35822109 0.44042319]]\n"
     ]
    }
   ],
   "source": [
    "# CODE HERE\n",
    "print(np.exp(A))\n",
    "print()\n",
    "print(np.sin(A))"
   ]
  },
  {
   "cell_type": "code",
   "execution_count": 13,
   "metadata": {},
   "outputs": [
    {
     "data": {
      "text/plain": [
       "array([[1.64331272, 0.87086849, 1.91111824, 4.58609939, 0.79124045],\n",
       "       [0.79125344, 4.85113557, 2.15423297, 0.62533086, 1.72040554],\n",
       "       [0.62912979, 0.62767689, 1.27374614, 0.14759544, 0.17818769],\n",
       "       [0.5699039 , 0.36318929, 1.36922835, 0.40332037, 0.2435815 ],\n",
       "       [4.33035173, 0.79789657, 1.06986043, 0.24056903, 0.58019982]])"
      ]
     },
     "execution_count": 13,
     "metadata": {},
     "output_type": "execute_result"
    }
   ],
   "source": [
    "# DON'T WRITE HERE\n"
   ]
  },
  {
   "cell_type": "markdown",
   "metadata": {},
   "source": [
    "6. Find $A+b$, using the broadcating."
   ]
  },
  {
   "cell_type": "code",
   "execution_count": 235,
   "metadata": {},
   "outputs": [
    {
     "name": "stdout",
     "output_type": "stream",
     "text": [
      "[[1.15971608 1.15038809 1.24622838 1.19107305 0.20246905]\n",
      " [0.94117048 0.25775739 1.38041058 1.19352958 0.75452299]\n",
      " [0.80576046 1.16958363 1.34667708 0.80475368 0.22827538]\n",
      " [0.96858047 0.50391603 1.03899087 1.02435959 0.33767955]\n",
      " [1.39702886 0.33916764 0.80637909 0.95877641 0.5025204 ]]\n"
     ]
    }
   ],
   "source": [
    "# CODE HERE\n",
    "print(A+b)"
   ]
  },
  {
   "cell_type": "code",
   "execution_count": 15,
   "metadata": {},
   "outputs": [
    {
     "data": {
      "text/plain": [
       "array([[ 0.60763674, -1.28925788,  1.02338656,  0.92239117, -0.52584712],\n",
       "       [-0.12321437,  0.42821924,  1.14313275, -1.07011308,  0.25086629],\n",
       "       [-0.3524951 , -1.61672333,  0.61766029, -2.51391893, -2.01661158],\n",
       "       [-0.45136494, -2.1638247 ,  0.68994535, -1.50866277, -1.70399745],\n",
       "       [ 1.57657136, -1.37676988,  0.44322622, -2.02538688, -0.83607647]])"
      ]
     },
     "execution_count": 15,
     "metadata": {},
     "output_type": "execute_result"
    }
   ],
   "source": [
    "# DON'T WRITE HERE\n"
   ]
  },
  {
   "cell_type": "markdown",
   "metadata": {},
   "source": [
    "7. Find the sum of all rows of $A$."
   ]
  },
  {
   "cell_type": "code",
   "execution_count": 236,
   "metadata": {},
   "outputs": [
    {
     "name": "stdout",
     "output_type": "stream",
     "text": [
      "[2.81192549 2.38944187 2.21710107 1.73557734 1.86592323]\n"
     ]
    }
   ],
   "source": [
    "# CODE HERE\n",
    "print(np.sum(A,axis = 1))"
   ]
  },
  {
   "cell_type": "code",
   "execution_count": 17,
   "metadata": {},
   "outputs": [
    {
     "name": "stdout",
     "output_type": "stream",
     "text": [
      "[ 2.29501487  2.18559625 -4.32538325 -3.58119909 -0.66173024]\n"
     ]
    }
   ],
   "source": [
    "# DON'T WRITE HERE\n"
   ]
  },
  {
   "cell_type": "markdown",
   "metadata": {},
   "source": [
    "8. Find the sum of all columns of $A$."
   ]
  },
  {
   "cell_type": "code",
   "execution_count": 237,
   "metadata": {},
   "outputs": [
    {
     "name": "stdout",
     "output_type": "stream",
     "text": [
      "[1.34637654 2.42244387 3.24751381 2.21041947 1.79321531]\n"
     ]
    }
   ],
   "source": [
    "# CODE HERE\n",
    "print(np.sum(A,axis = 0))"
   ]
  },
  {
   "cell_type": "code",
   "execution_count": 19,
   "metadata": {},
   "outputs": [
    {
     "name": "stdout",
     "output_type": "stream",
     "text": [
      "[ 0.70252074 -0.26338866  2.03886108 -3.19249704 -3.37319759]\n"
     ]
    }
   ],
   "source": [
    "# DON'T WRITE HERE\n"
   ]
  },
  {
   "cell_type": "markdown",
   "metadata": {},
   "source": [
    "9. Create a vector $v=(10,11,\\dots,10+m)$. Use `np.arange`."
   ]
  },
  {
   "cell_type": "code",
   "execution_count": 238,
   "metadata": {},
   "outputs": [
    {
     "name": "stdout",
     "output_type": "stream",
     "text": [
      "[10 11 12 13 14 15]\n"
     ]
    }
   ],
   "source": [
    "# CODE HERE\n",
    "m = 5\n",
    "v = np.arange(10,10+m+1,1)\n",
    "print(v)"
   ]
  },
  {
   "cell_type": "code",
   "execution_count": 21,
   "metadata": {},
   "outputs": [
    {
     "data": {
      "text/plain": [
       "array([10, 11, 12, 13, 14, 15])"
      ]
     },
     "execution_count": 21,
     "metadata": {},
     "output_type": "execute_result"
    }
   ],
   "source": [
    "# DON'T WRITE HERE\n"
   ]
  },
  {
   "cell_type": "markdown",
   "metadata": {},
   "source": [
    "10. Create a vector $v=(0,0.1,\\dots,1)\\in\\mathbb R^{11}$. Use `np.linspace`."
   ]
  },
  {
   "cell_type": "code",
   "execution_count": 239,
   "metadata": {},
   "outputs": [
    {
     "name": "stdout",
     "output_type": "stream",
     "text": [
      "[0.  0.1 0.2 0.3 0.4 0.5 0.6 0.7 0.8 0.9 1. ]\n"
     ]
    }
   ],
   "source": [
    "# CODE HERE\n",
    "v = np.linspace(0,1,11)\n",
    "print(v)"
   ]
  },
  {
   "cell_type": "code",
   "execution_count": 23,
   "metadata": {},
   "outputs": [
    {
     "data": {
      "text/plain": [
       "array([0. , 0.1, 0.2, 0.3, 0.4, 0.5, 0.6, 0.7, 0.8, 0.9, 1. ])"
      ]
     },
     "execution_count": 23,
     "metadata": {},
     "output_type": "execute_result"
    }
   ],
   "source": [
    "# DON'T WRITE HERE\n"
   ]
  },
  {
   "cell_type": "markdown",
   "metadata": {},
   "source": [
    "11. Create a vector $v\\in\\mathbb R^{100}$ with random elements sampled from the uniform distribution on $\\{0,1,2\\}$. Use `np.random.seed(42)`."
   ]
  },
  {
   "cell_type": "code",
   "execution_count": 240,
   "metadata": {},
   "outputs": [
    {
     "name": "stdout",
     "output_type": "stream",
     "text": [
      "[2 0 2 2 0 0 2 1 2 2 2 2 0 2 1 0 1 1 1 1 0 0 1 1 0 0 0 2 2 2 1 2 1 1 2 1 2\n",
      " 2 0 2 0 2 2 0 0 2 1 0 1 1 1 0 1 0 1 2 2 0 2 2 1 0 1 1 1 1 1 1 1 0 2 1 1 1\n",
      " 1 1 1 2 2 1 2 0 1 0 0 1 2 0 1 0 0 0 0 2 0 0 0 2 0 0]\n"
     ]
    }
   ],
   "source": [
    "# CODE HERE\n",
    "v = np.random.seed(42)\n",
    "v = np.random.randint(0,3,100)\n",
    "print(v)"
   ]
  },
  {
   "cell_type": "code",
   "execution_count": 25,
   "metadata": {},
   "outputs": [
    {
     "data": {
      "text/plain": [
       "array([2, 0, 2, 2, 0, 0, 2, 1, 2, 2, 2, 2, 0, 2, 1, 0, 1, 1, 1, 1, 0, 0,\n",
       "       1, 1, 0, 0, 0, 2, 2, 2, 1, 2, 1, 1, 2, 1, 2, 2, 0, 2, 0, 2, 2, 0,\n",
       "       0, 2, 1, 0, 1, 1, 1, 0, 1, 0, 1, 2, 2, 0, 2, 2, 1, 0, 1, 1, 1, 1,\n",
       "       1, 1, 1, 0, 2, 1, 1, 1, 1, 1, 1, 2, 2, 1, 2, 0, 1, 0, 0, 1, 2, 0,\n",
       "       1, 0, 0, 0, 0, 2, 0, 0, 0, 2, 0, 0])"
      ]
     },
     "execution_count": 25,
     "metadata": {},
     "output_type": "execute_result"
    }
   ],
   "source": [
    "# DON'T WRITE HERE\n"
   ]
  },
  {
   "cell_type": "markdown",
   "metadata": {},
   "source": [
    "12. Find the number of appearence of each element $0,1,2$ in $v$. Use `np.bincount`."
   ]
  },
  {
   "cell_type": "code",
   "execution_count": 241,
   "metadata": {},
   "outputs": [
    {
     "name": "stdout",
     "output_type": "stream",
     "text": [
      "[33 36 31]\n"
     ]
    }
   ],
   "source": [
    "# CODE HERE\n",
    "u = np.bincount(v)\n",
    "print(u)"
   ]
  },
  {
   "cell_type": "code",
   "execution_count": 27,
   "metadata": {},
   "outputs": [
    {
     "data": {
      "text/plain": [
       "array([33, 36, 31], dtype=int64)"
      ]
     },
     "execution_count": 27,
     "metadata": {},
     "output_type": "execute_result"
    }
   ],
   "source": [
    "# DON'T WRITE HERE\n"
   ]
  },
  {
   "cell_type": "markdown",
   "metadata": {},
   "source": [
    "13. Fix $\\mu$, $\\sigma$. Create a vector $v\\in\\mathbb R^{100}$ with random elements sampled from the normal random distribution with parameters $(\\mu,\\sigma^2)$. Use `np.random.randn` and `np.random.seed(42)`."
   ]
  },
  {
   "cell_type": "code",
   "execution_count": 242,
   "metadata": {},
   "outputs": [
    {
     "name": "stdout",
     "output_type": "stream",
     "text": [
      "[ 2.49671415  1.8617357   2.64768854  3.52302986  1.76584663  1.76586304\n",
      "  3.57921282  2.76743473  1.53052561  2.54256004  1.53658231  1.53427025\n",
      "  2.24196227  0.08671976  0.27508217  1.43771247  0.98716888  2.31424733\n",
      "  1.09197592  0.5876963   3.46564877  1.7742237   2.0675282   0.57525181\n",
      "  1.45561728  2.11092259  0.84900642  2.37569802  1.39936131  1.70830625\n",
      "  1.39829339  3.85227818  1.98650278  0.94228907  2.82254491  0.77915635\n",
      "  2.2088636   0.04032988  0.67181395  2.19686124  2.73846658  2.17136828\n",
      "  1.88435172  1.6988963   0.52147801  1.28015579  1.53936123  3.05712223\n",
      "  2.34361829  0.23695984  2.32408397  1.61491772  1.323078    2.61167629\n",
      "  3.03099952  2.93128012  1.16078248  1.69078762  2.33126343  2.97554513\n",
      "  1.52082576  1.81434102  0.89366503  0.80379338  2.81252582  3.35624003\n",
      "  1.92798988  3.0035329   2.36163603  1.35488025  2.36139561  3.53803657\n",
      "  1.96417396  3.56464366 -0.6197451   2.8219025   2.08704707  1.70099265\n",
      "  2.09176078  0.01243109  1.78032811  2.35711257  3.47789404  1.48172978\n",
      "  1.1915064   1.49824296  2.91540212  2.32875111  1.4702398   2.51326743\n",
      "  2.09707755  2.96864499  1.29794691  1.67233785  1.60789185  0.53648505\n",
      "  2.29612028  2.26105527  2.00511346  1.76541287]\n"
     ]
    }
   ],
   "source": [
    "# CODE HERE\n",
    "sigma = 1\n",
    "mu = 2\n",
    "v = np.random.seed(42)\n",
    "v = sigma*np.random.randn(100)+mu\n",
    "print(v)"
   ]
  },
  {
   "cell_type": "code",
   "execution_count": 135,
   "metadata": {},
   "outputs": [],
   "source": [
    "# DON'T WRITE HERE\n"
   ]
  },
  {
   "cell_type": "markdown",
   "metadata": {},
   "source": [
    "14. Find all elements that are larger than $1$ and collect them to another array $u$. "
   ]
  },
  {
   "cell_type": "code",
   "execution_count": 243,
   "metadata": {
    "scrolled": true
   },
   "outputs": [
    {
     "name": "stdout",
     "output_type": "stream",
     "text": [
      "[2.49671415 1.8617357  2.64768854 3.52302986 1.76584663 1.76586304\n",
      " 3.57921282 2.76743473 1.53052561 2.54256004 1.53658231 1.53427025\n",
      " 2.24196227 1.43771247 2.31424733 1.09197592 3.46564877 1.7742237\n",
      " 2.0675282  1.45561728 2.11092259 2.37569802 1.39936131 1.70830625\n",
      " 1.39829339 3.85227818 1.98650278 2.82254491 2.2088636  2.19686124\n",
      " 2.73846658 2.17136828 1.88435172 1.6988963  1.28015579 1.53936123\n",
      " 3.05712223 2.34361829 2.32408397 1.61491772 1.323078   2.61167629\n",
      " 3.03099952 2.93128012 1.16078248 1.69078762 2.33126343 2.97554513\n",
      " 1.52082576 1.81434102 2.81252582 3.35624003 1.92798988 3.0035329\n",
      " 2.36163603 1.35488025 2.36139561 3.53803657 1.96417396 3.56464366\n",
      " 2.8219025  2.08704707 1.70099265 2.09176078 1.78032811 2.35711257\n",
      " 3.47789404 1.48172978 1.1915064  1.49824296 2.91540212 2.32875111\n",
      " 1.4702398  2.51326743 2.09707755 2.96864499 1.29794691 1.67233785\n",
      " 1.60789185 2.29612028 2.26105527 2.00511346 1.76541287]\n"
     ]
    }
   ],
   "source": [
    "# CODE HERE\n",
    "u = v[v>1]\n",
    "print(u)"
   ]
  },
  {
   "cell_type": "code",
   "execution_count": 31,
   "metadata": {},
   "outputs": [
    {
     "name": "stdout",
     "output_type": "stream",
     "text": [
      "[1.99342831 2.29537708 4.04605971 4.15842563 2.53486946 2.08512009\n",
      " 1.48392454 1.62849467 3.93129754 1.13505641 1.22184518 1.75139604\n",
      " 4.70455637 2.64508982 1.41772719 1.39372247 2.47693316 1.34273656\n",
      " 3.11424445 1.68723658 1.64816794 2.22335258 3.06199904 2.86256024\n",
      " 1.66252686 2.95109025 2.62505164 3.71248006 3.0070658  1.72327205\n",
      " 1.72279121 4.07607313 4.12928731 2.64380501 1.17409414 1.18352155\n",
      " 1.71422514 3.95578809 2.83080424 1.65750222 2.02653487 1.1941551\n",
      " 2.93728998 1.59224055 1.52211054 1.01022691]\n"
     ]
    }
   ],
   "source": [
    "# DON'T WRITE HERE\n"
   ]
  },
  {
   "cell_type": "markdown",
   "metadata": {},
   "source": [
    "15. Find and print the positions of the mentioned elements in $v$. Use `np.where`."
   ]
  },
  {
   "cell_type": "code",
   "execution_count": 244,
   "metadata": {},
   "outputs": [
    {
     "name": "stdout",
     "output_type": "stream",
     "text": [
      "(array([ 0,  1,  2,  3,  4,  5,  6,  7,  8,  9, 10, 11, 12, 15, 17, 18, 20,\n",
      "       21, 22, 24, 25, 27, 28, 29, 30, 31, 32, 34, 36, 39, 40, 41, 42, 43,\n",
      "       45, 46, 47, 48, 50, 51, 52, 53, 54, 55, 56, 57, 58, 59, 60, 61, 64,\n",
      "       65, 66, 67, 68, 69, 70, 71, 72, 73, 75, 76, 77, 78, 80, 81, 82, 83,\n",
      "       84, 85, 86, 87, 88, 89, 90, 91, 92, 93, 94, 96, 97, 98, 99],\n",
      "      dtype=int64),)\n"
     ]
    }
   ],
   "source": [
    "# CODE HERE\n",
    "u1 = np.where(v>1)\n",
    "print(u1)"
   ]
  },
  {
   "cell_type": "code",
   "execution_count": 33,
   "metadata": {},
   "outputs": [
    {
     "data": {
      "text/plain": [
       "(array([ 0,  2,  3,  6,  7,  9, 12, 17, 20, 22, 25, 27, 31, 34, 36, 39, 40,\n",
       "        41, 47, 48, 50, 53, 54, 55, 58, 59, 64, 65, 67, 68, 70, 71, 73, 75,\n",
       "        76, 78, 81, 82, 86, 87, 89, 90, 91, 96, 97, 98], dtype=int64),)"
      ]
     },
     "execution_count": 33,
     "metadata": {},
     "output_type": "execute_result"
    }
   ],
   "source": [
    "# DON'T WRITE HERE\n"
   ]
  },
  {
   "cell_type": "markdown",
   "metadata": {},
   "source": [
    "16. Find the mean, minimum, maximum, standard deviation for the sample $v$. "
   ]
  },
  {
   "cell_type": "code",
   "execution_count": 245,
   "metadata": {},
   "outputs": [
    {
     "name": "stdout",
     "output_type": "stream",
     "text": [
      "1.8961534826059059\n",
      "-0.6197451040897444\n",
      "3.852278184508938\n",
      "0.9036161766446296\n"
     ]
    }
   ],
   "source": [
    "# CODE HERE\n",
    "print(np.mean(v))\n",
    "print(np.min(v))\n",
    "print(np.max(v))\n",
    "print(np.std(v))"
   ]
  },
  {
   "cell_type": "code",
   "execution_count": 35,
   "metadata": {},
   "outputs": [
    {
     "name": "stdout",
     "output_type": "stream",
     "text": [
      "0.7923069652118122 -4.239490208179489 4.704556369017876 1.8072323532892594\n"
     ]
    }
   ],
   "source": [
    "# DON'T WRITE HERE\n"
   ]
  },
  {
   "cell_type": "markdown",
   "metadata": {},
   "source": [
    "17. Create the following matrix:"
   ]
  },
  {
   "cell_type": "code",
   "execution_count": 246,
   "metadata": {},
   "outputs": [
    {
     "name": "stdout",
     "output_type": "stream",
     "text": [
      "[[0.01 0.02 0.03 0.04 0.05 0.06 0.07 0.08 0.09 0.1 ]\n",
      " [0.11 0.12 0.13 0.14 0.15 0.16 0.17 0.18 0.19 0.2 ]\n",
      " [0.21 0.22 0.23 0.24 0.25 0.26 0.27 0.28 0.29 0.3 ]\n",
      " [0.31 0.32 0.33 0.34 0.35 0.36 0.37 0.38 0.39 0.4 ]\n",
      " [0.41 0.42 0.43 0.44 0.45 0.46 0.47 0.48 0.49 0.5 ]\n",
      " [0.51 0.52 0.53 0.54 0.55 0.56 0.57 0.58 0.59 0.6 ]\n",
      " [0.61 0.62 0.63 0.64 0.65 0.66 0.67 0.68 0.69 0.7 ]\n",
      " [0.71 0.72 0.73 0.74 0.75 0.76 0.77 0.78 0.79 0.8 ]\n",
      " [0.81 0.82 0.83 0.84 0.85 0.86 0.87 0.88 0.89 0.9 ]\n",
      " [0.91 0.92 0.93 0.94 0.95 0.96 0.97 0.98 0.99 1.  ]]\n"
     ]
    }
   ],
   "source": [
    "# CODE HERE\n",
    "A = np.arange(0.01,1.01,0.01).reshape(10,10)\n",
    "print(A)"
   ]
  },
  {
   "cell_type": "code",
   "execution_count": 37,
   "metadata": {},
   "outputs": [
    {
     "data": {
      "text/plain": [
       "array([[0.01, 0.02, 0.03, 0.04, 0.05, 0.06, 0.07, 0.08, 0.09, 0.1 ],\n",
       "       [0.11, 0.12, 0.13, 0.14, 0.15, 0.16, 0.17, 0.18, 0.19, 0.2 ],\n",
       "       [0.21, 0.22, 0.23, 0.24, 0.25, 0.26, 0.27, 0.28, 0.29, 0.3 ],\n",
       "       [0.31, 0.32, 0.33, 0.34, 0.35, 0.36, 0.37, 0.38, 0.39, 0.4 ],\n",
       "       [0.41, 0.42, 0.43, 0.44, 0.45, 0.46, 0.47, 0.48, 0.49, 0.5 ],\n",
       "       [0.51, 0.52, 0.53, 0.54, 0.55, 0.56, 0.57, 0.58, 0.59, 0.6 ],\n",
       "       [0.61, 0.62, 0.63, 0.64, 0.65, 0.66, 0.67, 0.68, 0.69, 0.7 ],\n",
       "       [0.71, 0.72, 0.73, 0.74, 0.75, 0.76, 0.77, 0.78, 0.79, 0.8 ],\n",
       "       [0.81, 0.82, 0.83, 0.84, 0.85, 0.86, 0.87, 0.88, 0.89, 0.9 ],\n",
       "       [0.91, 0.92, 0.93, 0.94, 0.95, 0.96, 0.97, 0.98, 0.99, 1.  ]])"
      ]
     },
     "execution_count": 37,
     "metadata": {},
     "output_type": "execute_result"
    }
   ],
   "source": [
    "# DON'T WRITE HERE\n"
   ]
  },
  {
   "cell_type": "markdown",
   "metadata": {},
   "source": [
    "18. Run this cell - this is our starting matrix"
   ]
  },
  {
   "cell_type": "code",
   "execution_count": 247,
   "metadata": {},
   "outputs": [
    {
     "data": {
      "text/plain": [
       "array([[ 1,  2,  3,  4,  5],\n",
       "       [ 6,  7,  8,  9, 10],\n",
       "       [11, 12, 13, 14, 15],\n",
       "       [16, 17, 18, 19, 20],\n",
       "       [21, 22, 23, 24, 25]])"
      ]
     },
     "execution_count": 247,
     "metadata": {},
     "output_type": "execute_result"
    }
   ],
   "source": [
    "M = np.arange(1,26).reshape(5,5)\n",
    "M"
   ]
  },
  {
   "cell_type": "markdown",
   "metadata": {},
   "source": [
    "18.1. Write code that reproduces the output shown below"
   ]
  },
  {
   "cell_type": "code",
   "execution_count": 248,
   "metadata": {},
   "outputs": [
    {
     "name": "stdout",
     "output_type": "stream",
     "text": [
      "[[12 13 14 15]\n",
      " [17 18 19 20]\n",
      " [22 23 24 25]]\n"
     ]
    }
   ],
   "source": [
    "# CODE HERE\n",
    "print(M[2:5,1:5])"
   ]
  },
  {
   "cell_type": "code",
   "execution_count": 40,
   "metadata": {},
   "outputs": [
    {
     "data": {
      "text/plain": [
       "array([[12, 13, 14, 15],\n",
       "       [17, 18, 19, 20],\n",
       "       [22, 23, 24, 25]])"
      ]
     },
     "execution_count": 40,
     "metadata": {},
     "output_type": "execute_result"
    }
   ],
   "source": [
    "# DON'T WRITE HERE\n"
   ]
  },
  {
   "cell_type": "markdown",
   "metadata": {},
   "source": [
    "18.2. Write code that reproduces the output shown below"
   ]
  },
  {
   "cell_type": "code",
   "execution_count": 249,
   "metadata": {},
   "outputs": [
    {
     "name": "stdout",
     "output_type": "stream",
     "text": [
      "[[ 2]\n",
      " [ 7]\n",
      " [12]]\n"
     ]
    }
   ],
   "source": [
    "# CODE HERE\n",
    "print(M[:3,1:2])"
   ]
  },
  {
   "cell_type": "code",
   "execution_count": 42,
   "metadata": {},
   "outputs": [
    {
     "data": {
      "text/plain": [
       "array([[ 2],\n",
       "       [ 7],\n",
       "       [12]])"
      ]
     },
     "execution_count": 42,
     "metadata": {},
     "output_type": "execute_result"
    }
   ],
   "source": [
    "# DON'T WRITE HERE\n"
   ]
  },
  {
   "cell_type": "markdown",
   "metadata": {},
   "source": [
    "19. Use `np.genfromtxt` to read the data from the file PopulationWorld.txt. Print this data."
   ]
  },
  {
   "cell_type": "code",
   "execution_count": 250,
   "metadata": {},
   "outputs": [
    {
     "name": "stdout",
     "output_type": "stream",
     "text": [
      "[[        nan         nan]\n",
      " [1950.       2556.518868]\n",
      " [1951.       2594.286218]\n",
      " [1952.       2636.327569]\n",
      " [1953.       2681.6453  ]\n",
      " [1954.       2729.59137 ]\n",
      " [1955.       2781.022728]\n",
      " [1956.       2833.96217 ]\n",
      " [1957.       2889.768544]\n",
      " [1958.       2946.25365 ]\n",
      " [1959.       2998.566597]\n",
      " [1960.       3040.617096]\n",
      " [1961.       3081.357914]\n",
      " [1962.       3137.310049]\n",
      " [1963.       3206.784546]\n",
      " [1964.       3277.857333]\n",
      " [1965.       3346.78614 ]\n",
      " [1966.       3416.915657]\n",
      " [1967.       3486.554554]\n",
      " [1968.       3558.296344]\n",
      " [1969.       3632.820863]\n",
      " [1970.       3707.918808]\n",
      " [1971.       3785.251387]\n",
      " [1972.       3861.303852]\n",
      " [1973.       3936.832808]\n",
      " [1974.       4011.259221]\n",
      " [1975.       4083.741137]\n",
      " [1976.       4154.714573]\n",
      " [1977.       4226.260173]\n",
      " [1978.       4297.721618]\n",
      " [1979.       4371.992258]\n",
      " [1980.       4447.081447]\n",
      " [1981.       4522.496861]\n",
      " [1982.       4601.642622]\n",
      " [1983.       4682.718718]\n",
      " [1984.       4762.510938]\n",
      " [1985.       4843.719785]\n",
      " [1986.       4926.769119]\n",
      " [1987.       5012.704927]\n",
      " [1988.       5099.256557]\n",
      " [1989.       5185.74304 ]\n",
      " [1990.       5273.414884]\n",
      " [1991.       5357.220459]\n",
      " [1992.       5440.496027]\n",
      " [1993.       5521.312756]\n",
      " [1994.       5601.033178]\n",
      " [1995.       5681.678196]\n",
      " [1996.       5761.608971]\n",
      " [1997.       5840.574905]\n",
      " [1998.       5918.716088]\n",
      " [1999.       5995.599889]\n",
      " [2000.       6071.710896]\n",
      " [2001.       6147.535997]\n",
      " [2002.       6222.551715]\n",
      " [2003.       6297.4459  ]\n",
      " [2004.       6372.929801]\n",
      " [2005.       6449.137123]\n",
      " [2006.       6525.55921 ]\n",
      " [2007.       6602.274812]\n",
      " [2008.       6679.532264]\n",
      " [2009.       6757.06276 ]\n",
      " [2010.       6834.934808]\n",
      " [2011.       6913.263561]\n",
      " [2012.       6991.796293]\n",
      " [2013.       7070.248599]\n",
      " [2014.       7148.361369]\n",
      " [2015.       7225.918656]\n",
      " [2016.       7302.863077]\n",
      " [2017.       7379.190049]\n",
      " [2018.       7454.795039]]\n"
     ]
    }
   ],
   "source": [
    "# CODE HERE\n",
    "print(np.genfromtxt('PopulationWorld.txt'))"
   ]
  },
  {
   "cell_type": "code",
   "execution_count": 44,
   "metadata": {},
   "outputs": [
    {
     "data": {
      "text/plain": [
       "array([(1950., 2556.518868), (1951., 2594.286218), (1952., 2636.327569),\n",
       "       (1953., 2681.6453  ), (1954., 2729.59137 ), (1955., 2781.022728),\n",
       "       (1956., 2833.96217 ), (1957., 2889.768544), (1958., 2946.25365 ),\n",
       "       (1959., 2998.566597), (1960., 3040.617096), (1961., 3081.357914),\n",
       "       (1962., 3137.310049), (1963., 3206.784546), (1964., 3277.857333),\n",
       "       (1965., 3346.78614 ), (1966., 3416.915657), (1967., 3486.554554),\n",
       "       (1968., 3558.296344), (1969., 3632.820863), (1970., 3707.918808),\n",
       "       (1971., 3785.251387), (1972., 3861.303852), (1973., 3936.832808),\n",
       "       (1974., 4011.259221), (1975., 4083.741137), (1976., 4154.714573),\n",
       "       (1977., 4226.260173), (1978., 4297.721618), (1979., 4371.992258),\n",
       "       (1980., 4447.081447), (1981., 4522.496861), (1982., 4601.642622),\n",
       "       (1983., 4682.718718), (1984., 4762.510938), (1985., 4843.719785),\n",
       "       (1986., 4926.769119), (1987., 5012.704927), (1988., 5099.256557),\n",
       "       (1989., 5185.74304 ), (1990., 5273.414884), (1991., 5357.220459),\n",
       "       (1992., 5440.496027), (1993., 5521.312756), (1994., 5601.033178),\n",
       "       (1995., 5681.678196), (1996., 5761.608971), (1997., 5840.574905),\n",
       "       (1998., 5918.716088), (1999., 5995.599889), (2000., 6071.710896),\n",
       "       (2001., 6147.535997), (2002., 6222.551715), (2003., 6297.4459  ),\n",
       "       (2004., 6372.929801), (2005., 6449.137123), (2006., 6525.55921 ),\n",
       "       (2007., 6602.274812), (2008., 6679.532264), (2009., 6757.06276 ),\n",
       "       (2010., 6834.934808), (2011., 6913.263561), (2012., 6991.796293),\n",
       "       (2013., 7070.248599), (2014., 7148.361369), (2015., 7225.918656),\n",
       "       (2016., 7302.863077), (2017., 7379.190049), (2018., 7454.795039)],\n",
       "      dtype=[('Year', '<f8'), ('Population', '<f8')])"
      ]
     },
     "execution_count": 44,
     "metadata": {},
     "output_type": "execute_result"
    }
   ],
   "source": [
    "# DON'T WRITE HERE\n"
   ]
  }
 ],
 "metadata": {
  "kernelspec": {
   "display_name": "Python 3",
   "language": "python",
   "name": "python3"
  },
  "language_info": {
   "codemirror_mode": {
    "name": "ipython",
    "version": 3
   },
   "file_extension": ".py",
   "mimetype": "text/x-python",
   "name": "python",
   "nbconvert_exporter": "python",
   "pygments_lexer": "ipython3",
   "version": "3.8.8"
  }
 },
 "nbformat": 4,
 "nbformat_minor": 2
}
