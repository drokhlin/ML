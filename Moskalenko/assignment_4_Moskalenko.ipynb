{
  "nbformat": 4,
  "nbformat_minor": 5,
  "metadata": {
    "kernelspec": {
      "display_name": "Python 3",
      "language": "python",
      "name": "python3"
    },
    "language_info": {
      "codemirror_mode": {
        "name": "ipython",
        "version": 3
      },
      "file_extension": ".py",
      "mimetype": "text/x-python",
      "name": "python",
      "nbconvert_exporter": "python",
      "pygments_lexer": "ipython3",
      "version": "3.8.8"
    },
    "colab": {
      "name": "assignment_4.ipynb",
      "provenance": [],
      "collapsed_sections": []
    }
  },
  "cells": [
    {
      "cell_type": "markdown",
      "metadata": {
        "id": "bfa7a9fa"
      },
      "source": [
        "1. Sample $10^4$ points uniformly over the hypercube $[0,1]^d$ (denote this set by $\\mathcal X$).\n",
        "2. For $d\\in\\{1,2,3,5,10,20,50,100,500\\}$ and for the Euclidean distance $\\rho$ find\n",
        "- $\\min d(x,\\tilde x)$: minimum over $x,\\tilde x\\in \\mathcal X$\n",
        "- $\\overline{d(x,\\tilde x)}$: average over $x,\\tilde x\\in \\mathcal X$\n",
        "- $\\max d(x,\\tilde x)$: maximum over $x,\\tilde x\\in \\mathcal X$\n",
        "- $\\overline{d_{NN1}(x)}$: average distance to the nearest neighbor\n",
        "- $ \\max d_{NN1}(x)$: maximal distance to the nearest neigbor \n",
        "\n",
        "Collect the results in a table"
      ],
      "id": "bfa7a9fa"
    },
    {
      "cell_type": "code",
      "metadata": {
        "id": "1uFYLOW8v4or"
      },
      "source": [
        "import numpy as np\n",
        "from sklearn.metrics.pairwise import euclidean_distances\n",
        "import pandas as pd\n",
        "from IPython.display import display, HTML\n",
        "\n",
        "def remove_diag(x):\n",
        "    x_no_diag = np.ndarray.flatten(x)\n",
        "    x_no_diag = np.delete(x_no_diag, range(0, len(x_no_diag), len(x) + 1), 0)\n",
        "    x_no_diag = x_no_diag.reshape(len(x), len(x) - 1)\n",
        "    return x_no_diag"
      ],
      "id": "1uFYLOW8v4or",
      "execution_count": 2,
      "outputs": []
    },
    {
      "cell_type": "code",
      "metadata": {
        "colab": {
          "base_uri": "https://localhost:8080/",
          "height": 328
        },
        "id": "ff1f3995",
        "outputId": "39c9f590-4193-4a2b-f51b-db4b2ffef0f1"
      },
      "source": [
        "amount = 10**4\n",
        "d = [1,2,3,5,10,20,50,100,500]\n",
        "table = pd.DataFrame(columns = ['p','min','mean','max','mean_nn1','max_nn1'])\n",
        "\n",
        "for p in d:\n",
        "    x =np.random.uniform(0,1,(amount,p))\n",
        "    e_d = euclidean_distances(x,x)\n",
        "    e_d = remove_diag(e_d)\n",
        "    e_d = np.sort(e_d)\n",
        "\n",
        "    min_d = e_d.min()\n",
        "    mean_d = e_d.mean()\n",
        "    max_d = e_d.max()\n",
        "    nn1 = np.amin(e_d,axis = 1)\n",
        "    mean_nn1 = nn1.mean()\n",
        "    max_nn1 = nn1.max()\n",
        "\n",
        "    table = table.append({'p':p,'min':min_d,'mean':mean_d,'max':max_d,'mean_nn1':mean_nn1,'max_nn1':max_nn1}, ignore_index = True)\n",
        "\n",
        "table = table.astype({'p': 'int32'})\n",
        "display(HTML(table.to_html(index=False)))"
      ],
      "id": "ff1f3995",
      "execution_count": 14,
      "outputs": [
        {
          "output_type": "display_data",
          "data": {
            "text/html": [
              "<table border=\"1\" class=\"dataframe\">\n",
              "  <thead>\n",
              "    <tr style=\"text-align: right;\">\n",
              "      <th>p</th>\n",
              "      <th>min</th>\n",
              "      <th>mean</th>\n",
              "      <th>max</th>\n",
              "      <th>mean_nn1</th>\n",
              "      <th>max_nn1</th>\n",
              "    </tr>\n",
              "  </thead>\n",
              "  <tbody>\n",
              "    <tr>\n",
              "      <td>1</td>\n",
              "      <td>1.645044e-08</td>\n",
              "      <td>0.334518</td>\n",
              "      <td>0.999700</td>\n",
              "      <td>0.000050</td>\n",
              "      <td>0.000407</td>\n",
              "    </tr>\n",
              "    <tr>\n",
              "      <td>2</td>\n",
              "      <td>1.029971e-04</td>\n",
              "      <td>0.522197</td>\n",
              "      <td>1.406013</td>\n",
              "      <td>0.005059</td>\n",
              "      <td>0.016694</td>\n",
              "    </tr>\n",
              "    <tr>\n",
              "      <td>3</td>\n",
              "      <td>1.449901e-03</td>\n",
              "      <td>0.662018</td>\n",
              "      <td>1.663718</td>\n",
              "      <td>0.026087</td>\n",
              "      <td>0.068571</td>\n",
              "    </tr>\n",
              "    <tr>\n",
              "      <td>5</td>\n",
              "      <td>1.780097e-02</td>\n",
              "      <td>0.880825</td>\n",
              "      <td>1.947127</td>\n",
              "      <td>0.109458</td>\n",
              "      <td>0.220282</td>\n",
              "    </tr>\n",
              "    <tr>\n",
              "      <td>10</td>\n",
              "      <td>1.592570e-01</td>\n",
              "      <td>1.266034</td>\n",
              "      <td>2.458332</td>\n",
              "      <td>0.386745</td>\n",
              "      <td>0.623311</td>\n",
              "    </tr>\n",
              "    <tr>\n",
              "      <td>20</td>\n",
              "      <td>5.597433e-01</td>\n",
              "      <td>1.810173</td>\n",
              "      <td>3.150028</td>\n",
              "      <td>0.897181</td>\n",
              "      <td>1.201163</td>\n",
              "    </tr>\n",
              "    <tr>\n",
              "      <td>50</td>\n",
              "      <td>1.560166e+00</td>\n",
              "      <td>2.877202</td>\n",
              "      <td>4.117182</td>\n",
              "      <td>1.972453</td>\n",
              "      <td>2.325672</td>\n",
              "    </tr>\n",
              "    <tr>\n",
              "      <td>100</td>\n",
              "      <td>2.721942e+00</td>\n",
              "      <td>4.073865</td>\n",
              "      <td>5.344809</td>\n",
              "      <td>3.181006</td>\n",
              "      <td>3.573877</td>\n",
              "    </tr>\n",
              "    <tr>\n",
              "      <td>500</td>\n",
              "      <td>7.848454e+00</td>\n",
              "      <td>9.124060</td>\n",
              "      <td>10.465203</td>\n",
              "      <td>8.248836</td>\n",
              "      <td>8.651028</td>\n",
              "    </tr>\n",
              "  </tbody>\n",
              "</table>"
            ],
            "text/plain": [
              "<IPython.core.display.HTML object>"
            ]
          },
          "metadata": {}
        }
      ]
    },
    {
      "cell_type": "markdown",
      "metadata": {
        "id": "1e249e9d"
      },
      "source": [
        "3. Generate $10^4$ point such that each point with probability $1/2$\n",
        "- is sampled from $N(\\mu,I)$, $\\mu=(a,\\dots,a)\\in\\mathbb R^d$ and gets label $0$\n",
        "- is sampled from $N(\\mu,I)$, $\\mu=(-a,\\dots,-a)\\in\\mathbb R^d$ and gets label $1$\n",
        "\n",
        "Put $a=\\frac{2}{\\sqrt{d}}$ (the Bayes error will be $\\approx 0.023$ for all $d$). \n",
        "\n",
        "For $k = 3, 7, 15$  train a $k$-NN classifier for increasing dimensions $1\\le d\\le 500$ and monitor its performance evaluated by 10 times repeated 10-fold CV. For each $k$ draw the graphs of the mean  missclassification error as a function of $d$."
      ],
      "id": "1e249e9d"
    },
    {
      "cell_type": "code",
      "metadata": {
        "id": "544AozWfxLrV"
      },
      "source": [
        "from sklearn.neighbors import KNeighborsClassifier\n",
        "from sklearn.model_selection import cross_val_score\n",
        "from matplotlib import pyplot"
      ],
      "id": "544AozWfxLrV",
      "execution_count": 4,
      "outputs": []
    },
    {
      "cell_type": "code",
      "metadata": {
        "colab": {
          "base_uri": "https://localhost:8080/",
          "height": 623
        },
        "id": "Jce_Ki07awZ9",
        "outputId": "39327ca0-ccce-4459-a8d7-e9d7d481dfe7"
      },
      "source": [
        "np.random.seed(42)\n",
        "amount = 10**4\n",
        "\n",
        "\n",
        "fig, axes = pyplot.subplots(1,1, figsize=(10, 10))\n",
        "axes.set_xlabel('p')\n",
        "axes.set_ylabel('Mean Missclassification Error')\n",
        "\n",
        "\n",
        "k = [3,7,15]\n",
        "d = [100,200,300,400,500]\n",
        "for n in k:\n",
        "    result = []\n",
        "    for p in d:\n",
        "\n",
        "        a = 2/np.sqrt(p)\n",
        "        X=np.random.randn(amount, p)\n",
        "        Y = np.random.randint(0,2,(amount,1))\n",
        "\n",
        "        for i in range(len(X)):\n",
        "          if Y[i] == 0:\n",
        "            X[i] = X[i] - a\n",
        "          else:\n",
        "            X[i] = X[i] + a\n",
        "        Y = np.zeros((amount, p)) + Y\n",
        "        \n",
        "        neigh = KNeighborsClassifier(n)\n",
        "        scores = cross_val_score(neigh, X, Y, cv=10)\n",
        "        result.append(np.mean(1 - scores))\n",
        "    axes.plot(d, result, label='k = '+str(n))\n",
        "\n",
        "axes.plot(d, [0.023 for i in range(len(d))], label='Bayes Error')\n",
        "axes.legend(loc = 0)"
      ],
      "id": "Jce_Ki07awZ9",
      "execution_count": 16,
      "outputs": [
        {
          "output_type": "execute_result",
          "data": {
            "text/plain": [
              "<matplotlib.legend.Legend at 0x7fb6f2d40cd0>"
            ]
          },
          "metadata": {},
          "execution_count": 16
        },
        {
          "output_type": "display_data",
          "data": {
            "image/png": "[encoded data removed]",
            "text/plain": [
              "<Figure size 720x720 with 1 Axes>"
            ]
          },
          "metadata": {
            "needs_background": "light"
          }
        }
      ]
    }
  ]
}