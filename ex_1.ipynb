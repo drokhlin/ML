{
 "cells": [
  {
   "cell_type": "markdown",
   "metadata": {},
   "source": [
    "Import `numpy as np`. Fix $m$ and create an $m\\times m$-marix $A$ and $m$-dimensional vector $b$ with random entries (use arbitrary distribution). Print $A$ and $b$."
   ]
  },
  {
   "cell_type": "code",
   "execution_count": 1,
   "metadata": {},
   "outputs": [
    {
     "name": "stdout",
     "output_type": "stream",
     "text": [
      "[[ 1.05253569 -0.51867918 -0.00446636 -1.24064955  0.84396424]\n",
      " [-1.02806978  0.27702043 -0.62251593  1.57708785  0.53992994]\n",
      " [-0.16684517  1.47928114  0.68692736 -1.63118696 -0.88425929]\n",
      " [ 2.11670534  0.51656794  1.35270102  1.9395807   0.78133397]\n",
      " [-0.65935941  0.38973643 -0.1495927  -0.45224725 -0.66359025]]\n",
      "[-1.149024   -1.16728888 -0.4366425   1.60833637 -0.28877503]\n"
     ]
    }
   ],
   "source": [
    "import numpy as np\n",
    "m=5\n",
    "#A=np.zeros((m,m))\n",
    "#b=np.zeros(m)\n",
    "A=np.random.randn(5,5)\n",
    "b=np.random.randn(5)\n",
    "print(A)\n",
    "print(b)"
   ]
  },
  {
   "cell_type": "markdown",
   "metadata": {},
   "source": [
    "Print the dimensions of $A$, $b$, using `np.shape`."
   ]
  },
  {
   "cell_type": "code",
   "execution_count": 37,
   "metadata": {},
   "outputs": [
    {
     "name": "stdout",
     "output_type": "stream",
     "text": [
      "(5, 5) (5,)\n"
     ]
    }
   ],
   "source": [
    "print(A.shape,b.shape)"
   ]
  },
  {
   "cell_type": "markdown",
   "metadata": {},
   "source": [
    "Solve the linear system of equations $Ax=b$ and print the result. Use `np.linalg.solve`."
   ]
  },
  {
   "cell_type": "code",
   "execution_count": 2,
   "metadata": {},
   "outputs": [
    {
     "data": {
      "text/plain": [
       "array([-0.90662315, -1.76253684,  3.06793374,  0.42155948, -0.67805227])"
      ]
     },
     "execution_count": 2,
     "metadata": {},
     "output_type": "execute_result"
    }
   ],
   "source": [
    "np.linalg.solve(A,b)"
   ]
  },
  {
   "cell_type": "markdown",
   "metadata": {},
   "source": [
    "Find the transpose matrix $A^T$ and the inverse matrix $A^{-1}$."
   ]
  },
  {
   "cell_type": "code",
   "execution_count": 3,
   "metadata": {},
   "outputs": [
    {
     "data": {
      "text/plain": [
       "array([[ 1.05253569, -1.02806978, -0.16684517,  2.11670534, -0.65935941],\n",
       "       [-0.51867918,  0.27702043,  1.47928114,  0.51656794,  0.38973643],\n",
       "       [-0.00446636, -0.62251593,  0.68692736,  1.35270102, -0.1495927 ],\n",
       "       [-1.24064955,  1.57708785, -1.63118696,  1.9395807 , -0.45224725],\n",
       "       [ 0.84396424,  0.53992994, -0.88425929,  0.78133397, -0.66359025]])"
      ]
     },
     "execution_count": 3,
     "metadata": {},
     "output_type": "execute_result"
    }
   ],
   "source": [
    "np.transpose(A)"
   ]
  },
  {
   "cell_type": "code",
   "execution_count": 4,
   "metadata": {},
   "outputs": [
    {
     "data": {
      "text/plain": [
       "array([[ 1.56552978,  0.03510484, -1.151311  ,  1.14854142,  4.90612575],\n",
       "       [ 1.10663557,  0.7204814 , -0.11460178,  0.72521055,  3.00025455],\n",
       "       [-2.57660221, -0.72423191,  1.79763228, -1.38869739, -7.89674674],\n",
       "       [-0.10397117,  0.0726711 , -0.32697276,  0.27505776,  0.68646281],\n",
       "       [-0.25390526,  0.50200503,  0.89426138, -0.58969485, -3.30738282]])"
      ]
     },
     "execution_count": 4,
     "metadata": {},
     "output_type": "execute_result"
    }
   ],
   "source": [
    "np.linalg.inv(A)"
   ]
  },
  {
   "cell_type": "markdown",
   "metadata": {},
   "source": [
    "Choose an elementary function ($exp$, $sin$, etc.), apply it elementwise to $A$ and print the result."
   ]
  },
  {
   "cell_type": "code",
   "execution_count": 5,
   "metadata": {},
   "outputs": [
    {
     "data": {
      "text/plain": [
       "array([[2.86490644, 0.59530632, 0.9955436 , 0.28919631, 2.32556784],\n",
       "       [0.35769673, 1.31919333, 0.53659271, 4.84083803, 1.71588665],\n",
       "       [0.84633064, 4.3897889 , 1.98759896, 0.19569715, 0.41301999],\n",
       "       [8.30373437, 1.67626472, 3.86785858, 6.95583379, 2.18438423],\n",
       "       [0.51718253, 1.47659155, 0.86105862, 0.63619685, 0.51499904]])"
      ]
     },
     "execution_count": 5,
     "metadata": {},
     "output_type": "execute_result"
    }
   ],
   "source": [
    "np.exp(A)"
   ]
  },
  {
   "cell_type": "markdown",
   "metadata": {},
   "source": [
    "Find $A+b$, using the broadcating."
   ]
  },
  {
   "cell_type": "code",
   "execution_count": 15,
   "metadata": {},
   "outputs": [
    {
     "data": {
      "text/plain": [
       "array([[-0.09648831, -1.68596806, -0.44110886,  0.36768682,  0.55518921],\n",
       "       [-2.17709378, -0.89026844, -1.05915843,  3.18542422,  0.25115491],\n",
       "       [-1.31586917,  0.31199226,  0.25028486, -0.02285059, -1.17303432],\n",
       "       [ 0.96768134, -0.65072094,  0.91605852,  3.54791707,  0.49255894],\n",
       "       [-1.80838341, -0.77755245, -0.58623519,  1.15608912, -0.95236527]])"
      ]
     },
     "execution_count": 15,
     "metadata": {},
     "output_type": "execute_result"
    }
   ],
   "source": [
    "A+b"
   ]
  },
  {
   "cell_type": "markdown",
   "metadata": {},
   "source": [
    "Find the sum of all rows of $A$."
   ]
  },
  {
   "cell_type": "code",
   "execution_count": 18,
   "metadata": {},
   "outputs": [
    {
     "name": "stdout",
     "output_type": "stream",
     "text": [
      "[ 0.13270485  0.74345251 -0.51608293  6.70688896 -1.53505317] 0.13270484564036777\n"
     ]
    }
   ],
   "source": [
    "print(np.sum(A,axis=1))"
   ]
  },
  {
   "cell_type": "markdown",
   "metadata": {},
   "source": [
    "Find the sum of all columns of $A$."
   ]
  },
  {
   "cell_type": "code",
   "execution_count": 20,
   "metadata": {},
   "outputs": [
    {
     "name": "stdout",
     "output_type": "stream",
     "text": [
      "[1.31496667 2.14392676 1.26305339 0.1925848  0.61737861]\n"
     ]
    }
   ],
   "source": [
    "print(np.sum(A,axis=0))"
   ]
  },
  {
   "cell_type": "markdown",
   "metadata": {},
   "source": [
    "Create a vector $v=(10,11,\\dots,10+m)$. Use `np.arange`."
   ]
  },
  {
   "cell_type": "code",
   "execution_count": 6,
   "metadata": {},
   "outputs": [
    {
     "data": {
      "text/plain": [
       "array([10, 11, 12, 13, 14, 15])"
      ]
     },
     "execution_count": 6,
     "metadata": {},
     "output_type": "execute_result"
    }
   ],
   "source": [
    "v=np.arange(10,10+m+1)\n",
    "v"
   ]
  },
  {
   "cell_type": "markdown",
   "metadata": {},
   "source": [
    "Create a vector $v=(0,0.1,\\dots,1)\\in\\mathbb R^{11}$. Use `np.linspace`."
   ]
  },
  {
   "cell_type": "code",
   "execution_count": 29,
   "metadata": {},
   "outputs": [
    {
     "data": {
      "text/plain": [
       "array([0. , 0.1, 0.2, 0.3, 0.4, 0.5, 0.6, 0.7, 0.8, 0.9, 1. ])"
      ]
     },
     "execution_count": 29,
     "metadata": {},
     "output_type": "execute_result"
    }
   ],
   "source": [
    "v=np.linspace(0,1,11)\n",
    "v"
   ]
  },
  {
   "cell_type": "markdown",
   "metadata": {},
   "source": [
    "Create a vector $v\\in\\mathbb R^{100}$ with random elements sampled from the uniform distribution on $\\{0,1,2\\}$."
   ]
  },
  {
   "cell_type": "code",
   "execution_count": 7,
   "metadata": {},
   "outputs": [
    {
     "data": {
      "text/plain": [
       "array([2, 1, 0, 1, 2, 0, 0, 1, 2, 1, 1, 2, 1, 1, 1, 1, 2, 0, 2, 2, 0, 1,\n",
       "       0, 1, 0, 1, 1, 0, 1, 0, 0, 2, 1, 1, 1, 0, 1, 2, 1, 0, 2, 1, 1, 1,\n",
       "       2, 0, 0, 0, 0, 2, 0, 1, 1, 0, 0, 2, 0, 1, 0, 1, 0, 0, 1, 0, 2, 0,\n",
       "       2, 1, 2, 0, 2, 0, 1, 1, 2, 2, 2, 2, 0, 2, 0, 0, 2, 2, 2, 1, 1, 0,\n",
       "       1, 2, 1, 0, 1, 0, 2, 0, 0, 1, 1, 1])"
      ]
     },
     "execution_count": 7,
     "metadata": {},
     "output_type": "execute_result"
    }
   ],
   "source": [
    "v=np.random.randint(0,3,100)\n",
    "v"
   ]
  },
  {
   "cell_type": "markdown",
   "metadata": {},
   "source": [
    "Find the number of appearence of each element $0,1,2$ in $v$. Use `np.bincount`."
   ]
  },
  {
   "cell_type": "code",
   "execution_count": 8,
   "metadata": {},
   "outputs": [
    {
     "data": {
      "text/plain": [
       "array([35, 38, 27], dtype=int64)"
      ]
     },
     "execution_count": 8,
     "metadata": {},
     "output_type": "execute_result"
    }
   ],
   "source": [
    "np.bincount(v)"
   ]
  },
  {
   "cell_type": "markdown",
   "metadata": {},
   "source": [
    "Fix $\\mu$, $\\sigma$. Create a vector $v\\in\\mathbb R^{100}$ with random elements sampled from the normal random distribution with parameters $(\\mu,\\sigma^2)$. Use `np.random.randn`."
   ]
  },
  {
   "cell_type": "code",
   "execution_count": 9,
   "metadata": {},
   "outputs": [
    {
     "data": {
      "text/plain": [
       "array([-0.46726682,  1.87707299, -3.93273579,  1.43725966,  2.6407585 ,\n",
       "        2.20176639,  5.13493893,  0.45786828, -0.57355449,  1.08415068,\n",
       "        1.97536161,  1.53783185, -2.29244098, -2.3953253 ,  1.51758042,\n",
       "        1.68725251,  3.83091563, -4.0920654 ,  3.70546619,  2.49585024,\n",
       "       -1.6575813 ,  0.96804551,  1.40886135,  5.17917593, -2.28039068,\n",
       "        1.74515872, -2.68047908,  1.07557811,  3.78876154,  2.00399345,\n",
       "        0.71458718,  2.87404299, -0.7040708 , -0.05129488, -0.20636595,\n",
       "       -0.66396351, -0.13321034,  1.07701535, -0.72642764,  0.63819233,\n",
       "       -3.47991034,  1.3607941 ,  3.26325565, -0.14014329,  1.05249266,\n",
       "        2.3713144 , -1.13225992,  2.08548111,  1.64162766, -0.22495859,\n",
       "        0.03704211,  3.56155838,  1.53707784, -1.12925683,  2.23563589,\n",
       "        0.27871908, -1.18136527,  3.46920833,  4.91750583,  6.53827458,\n",
       "       -1.70142234,  3.38326943, -0.25593197,  3.65075859,  3.26955496,\n",
       "        0.35234242,  1.59536796,  4.85686838,  0.9152688 ,  1.64538139,\n",
       "       -0.75073264,  1.01337775,  0.96968721, -1.23160857,  5.55423356,\n",
       "       -0.49085284, -1.35117017,  0.894625  ,  3.45228826, -0.13114868,\n",
       "        1.71167433,  0.14009095, -1.66878199,  2.05068747,  2.57532257,\n",
       "        2.1171227 ,  0.50458558, -0.89562546,  2.77576777,  2.7571069 ,\n",
       "        2.78164852,  3.94225078,  2.47472529, -0.16517487, -4.31547439,\n",
       "        3.0508268 ,  0.83708484,  2.01715536,  1.76823733,  0.73475308])"
      ]
     },
     "execution_count": 9,
     "metadata": {},
     "output_type": "execute_result"
    }
   ],
   "source": [
    "mu=1\n",
    "sigma=2\n",
    "v=mu+sigma*np.random.randn(100)\n",
    "v"
   ]
  },
  {
   "cell_type": "markdown",
   "metadata": {},
   "source": [
    "Find all elements that are larger than $1$ and collect them to another array $u$. Find and print the positions of the mentioned elements in $v$. Use `np.where`."
   ]
  },
  {
   "cell_type": "code",
   "execution_count": 28,
   "metadata": {},
   "outputs": [
    {
     "data": {
      "text/plain": [
       "(array([ 1,  3,  4,  5,  6,  9, 10, 11, 14, 15, 16, 18, 19, 22, 23, 25, 27,\n",
       "        28, 29, 31, 37, 41, 42, 44, 45, 47, 48, 51, 52, 54, 57, 58, 59, 61,\n",
       "        63, 64, 66, 67, 69, 71, 74, 78, 80, 83, 84, 85, 88, 89, 90, 91, 92,\n",
       "        95, 97, 98], dtype=int64),)"
      ]
     },
     "execution_count": 28,
     "metadata": {},
     "output_type": "execute_result"
    }
   ],
   "source": [
    "u=v[v>1]\n",
    "np.where(v>1)"
   ]
  },
  {
   "cell_type": "markdown",
   "metadata": {},
   "source": [
    "Find the mean, minimum, maximum, standard deviation for the sample $v$. "
   ]
  },
  {
   "cell_type": "code",
   "execution_count": 11,
   "metadata": {},
   "outputs": [
    {
     "name": "stdout",
     "output_type": "stream",
     "text": [
      "1.08096546849002 -4.3154743854759925 6.5382745842836565 2.144942199228067\n"
     ]
    }
   ],
   "source": [
    "print(np.mean(v),np.min(v),np.max(v),np.std(v))"
   ]
  },
  {
   "cell_type": "markdown",
   "metadata": {},
   "source": [
    "Import `matplotlib.pyplot as plt`. For $v$ construct the histogram with 8 bins. Give it the title \"Histogram for $N(\\mu,\\sigma)$ distribution\"."
   ]
  },
  {
   "cell_type": "code",
   "execution_count": 12,
   "metadata": {},
   "outputs": [
    {
     "data": {
      "text/plain": [
       "(array([ 4,  7, 14, 26, 23, 18,  6,  2], dtype=int64),\n",
       " array([-4.31547439, -2.95875576, -1.60203714, -0.24531852,  1.1114001 ,\n",
       "         2.46811872,  3.82483734,  5.18155596,  6.53827458]))"
      ]
     },
     "execution_count": 12,
     "metadata": {},
     "output_type": "execute_result"
    }
   ],
   "source": [
    "np.histogram(v,bins=8)"
   ]
  },
  {
   "cell_type": "code",
   "execution_count": 14,
   "metadata": {},
   "outputs": [
    {
     "data": {
      "text/plain": [
       "Text(0.5, 1.0, 'Histogram for $N(\\\\mu,\\\\sigma)$ distribution')"
      ]
     },
     "execution_count": 14,
     "metadata": {},
     "output_type": "execute_result"
    },
    {
     "data": {
      "image/png": "[encoded data removed]",
      "text/plain": [
       "<Figure size 432x288 with 1 Axes>"
      ]
     },
     "metadata": {
      "needs_background": "light"
     },
     "output_type": "display_data"
    }
   ],
   "source": [
    "import matplotlib.pyplot as plt\n",
    "plt.hist(v,bins=8)\n",
    "plt.title('Histogram for $N(\\mu,\\sigma)$ distribution')"
   ]
  },
  {
   "cell_type": "markdown",
   "metadata": {},
   "source": [
    "Write the function `boot_res`, which takes a one-dimensional array $v$ (sample) and returns the bootstraped resample: the sample of the same size (array $u$) drawn with replacement from $v$. \n",
    "\n",
    "Provide for the possibility to return the number of unused samples along with $v$. What typical portion of unused elements gives your function (for large arrays $v$)?"
   ]
  },
  {
   "cell_type": "code",
   "execution_count": 108,
   "metadata": {},
   "outputs": [],
   "source": [
    "def boot_res_template(v,unused=False):\n",
    "    \"\"\"\n",
    "    The function should take a one dimensional array v and return the reample u of the same size. \n",
    "    If unused=True it should return also the number of elements n of v, which were not used in the resample.\n",
    "    You may use transform arrays to the class `set` to find n. \n",
    "    \"\"\"\n",
    "    if unused:\n",
    "        return u, n\n",
    "    else:\n",
    "        return u    "
   ]
  },
  {
   "cell_type": "code",
   "execution_count": 109,
   "metadata": {},
   "outputs": [
    {
     "name": "stdout",
     "output_type": "stream",
     "text": [
      "0.371\n"
     ]
    }
   ],
   "source": [
    "def boot_res(v,unused=False):\n",
    "    l=v.shape[0]\n",
    "    n=np.zeros(l,dtype=np.int)\n",
    "    u=np.zeros(l)\n",
    "    for i in range(l):\n",
    "        n[i]=np.random.randint(0,high=l)\n",
    "        u[i]=v[n[i]]\n",
    "    if unused:\n",
    "        return u, len(set(np.arange(l))-set(np.unique(n)))\n",
    "    else:\n",
    "        return u\n",
    "v=mu+sigma*np.random.randn(1000)\n",
    "u, unused = boot_res(v,unused=True)\n",
    "#print(v)\n",
    "#print(u)\n",
    "print(unused/v.shape[0])"
   ]
  }
 ],
 "metadata": {
  "kernelspec": {
   "display_name": "Python 3",
   "language": "python",
   "name": "python3"
  },
  "language_info": {
   "codemirror_mode": {
    "name": "ipython",
    "version": 3
   },
   "file_extension": ".py",
   "mimetype": "text/x-python",
   "name": "python",
   "nbconvert_exporter": "python",
   "pygments_lexer": "ipython3",
   "version": "3.7.3"
  }
 },
 "nbformat": 4,
 "nbformat_minor": 2
}
